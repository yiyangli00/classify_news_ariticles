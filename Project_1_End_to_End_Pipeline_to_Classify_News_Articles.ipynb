{
  "cells": [
    {
      "cell_type": "markdown",
      "metadata": {
        "id": "view-in-github",
        "colab_type": "text"
      },
      "source": [
        "<a href=\"https://colab.research.google.com/github/yiyangli00/classify_news_ariticles/blob/main/Project_1_End_to_End_Pipeline_to_Classify_News_Articles.ipynb\" target=\"_parent\"><img src=\"https://colab.research.google.com/assets/colab-badge.svg\" alt=\"Open In Colab\"/></a>"
      ]
    },
    {
      "cell_type": "markdown",
      "metadata": {
        "id": "MRrAalf6cL6b"
      },
      "source": [
        "## Team Members:\n",
        "#### Shihao Yang, Elena Li, Yuning Sun\n"
      ]
    },
    {
      "cell_type": "code",
      "execution_count": null,
      "metadata": {
        "colab": {
          "base_uri": "https://localhost:8080/"
        },
        "id": "pRQAviFvb3p5",
        "outputId": "f8fd6a8d-e0db-4ef2-b564-f132c6831358"
      },
      "outputs": [
        {
          "output_type": "stream",
          "name": "stderr",
          "text": [
            "[nltk_data] Downloading package averaged_perceptron_tagger to\n",
            "[nltk_data]     /root/nltk_data...\n",
            "[nltk_data]   Package averaged_perceptron_tagger is already up-to-\n",
            "[nltk_data]       date!\n",
            "[nltk_data] Downloading package wordnet to /root/nltk_data...\n",
            "[nltk_data]   Package wordnet is already up-to-date!\n",
            "[nltk_data] Downloading package omw-1.4 to /root/nltk_data...\n",
            "[nltk_data]   Package omw-1.4 is already up-to-date!\n",
            "[nltk_data] Downloading package averaged_perceptron_tagger to\n",
            "[nltk_data]     /root/nltk_data...\n",
            "[nltk_data]   Package averaged_perceptron_tagger is already up-to-\n",
            "[nltk_data]       date!\n",
            "[nltk_data] Downloading package wordnet to /root/nltk_data...\n",
            "[nltk_data]   Package wordnet is already up-to-date!\n",
            "[nltk_data] Downloading package omw-1.4 to /root/nltk_data...\n",
            "[nltk_data]   Package omw-1.4 is already up-to-date!\n",
            "[nltk_data] Downloading package punkt to /root/nltk_data...\n",
            "[nltk_data]   Package punkt is already up-to-date!\n"
          ]
        }
      ],
      "source": [
        "#Import needed packages\n",
        "import numpy as np\n",
        "import pandas as pd\n",
        "import scipy\n",
        "import matplotlib\n",
        "import matplotlib.pyplot as plt\n",
        "import nltk\n",
        "from nltk import pos_tag\n",
        "from pickle import dump\n",
        "from sklearn.linear_model import Perceptron\n",
        "from sklearn.metrics import accuracy_score\n",
        "\n",
        "from sklearn import datasets\n",
        "from sklearn.linear_model import Perceptron\n",
        "from sklearn.linear_model import LinearRegression\n",
        "from sklearn import metrics\n",
        "from sklearn.metrics import mean_squared_error\n",
        "import random\n",
        "#Q2:Feature Extraction\n",
        "from sklearn.model_selection import train_test_split\n",
        "\n",
        "#Q3\n",
        "import re\n",
        "\n",
        "from sklearn.feature_extraction.text import CountVectorizer\n",
        "import nltk\n",
        "nltk.download('averaged_perceptron_tagger')\n",
        "nltk.download('wordnet')\n",
        "nltk.download('omw-1.4')\n",
        "\n",
        "from sklearn.feature_extraction.text import TfidfTransformer\n",
        "\n",
        "#Q4:Dimensionality Reduction\n",
        "from sklearn.decomposition import TruncatedSVD\n",
        "from sklearn.decomposition import NMF\n",
        "from sklearn.utils.extmath import randomized_svd\n",
        "\n",
        "#Q5:SVM\n",
        "from sklearn.svm import SVC, LinearSVC\n",
        "import itertools\n",
        "import sklearn as sklearn\n",
        "from sklearn.svm import LinearSVC\n",
        "from sklearn.metrics import confusion_matrix\n",
        "from sklearn.metrics import roc_curve\n",
        "from sklearn.metrics import accuracy_score\n",
        "from sklearn.metrics import precision_score\n",
        "from sklearn.metrics import recall_score\n",
        "from sklearn.metrics import f1_score\n",
        "from sklearn.metrics import auc\n",
        "\n",
        "from sklearn.model_selection import GridSearchCV\n",
        "\n",
        "#Q6:Logistic Regression\n",
        "from sklearn.linear_model import LogisticRegression\n",
        "\n",
        "#Q7:Naive Bayes Model\n",
        "from sklearn.naive_bayes import GaussianNB\n",
        "\n",
        "#Q8:Gridsearch \n",
        "from sklearn.pipeline import Pipeline\n",
        "from sklearn.model_selection import GridSearchCV\n",
        "from tempfile import mkdtemp\n",
        "from shutil import rmtree\n",
        "from joblib import Memory\n",
        "\n",
        "#for stemming\n",
        "from sklearn.feature_extraction.text import CountVectorizer\n",
        "import nltk\n",
        "from nltk import pos_tag\n",
        "from pickle import dump\n",
        "from nltk.stem import PorterStemmer\n",
        "porter = PorterStemmer()\n",
        "\n",
        "nltk.download('averaged_perceptron_tagger')\n",
        "nltk.download('wordnet')\n",
        "nltk.download('omw-1.4')\n",
        "nltk.download('punkt')\n",
        "from nltk.tokenize import word_tokenize"
      ]
    },
    {
      "cell_type": "code",
      "execution_count": null,
      "metadata": {
        "colab": {
          "base_uri": "https://localhost:8080/"
        },
        "id": "s6ZhTDW5cfas",
        "outputId": "97f9f0df-a09e-41a6-e055-82ac6e61f686"
      },
      "outputs": [
        {
          "output_type": "stream",
          "name": "stdout",
          "text": [
            "Drive already mounted at /content/drive; to attempt to forcibly remount, call drive.mount(\"/content/drive\", force_remount=True).\n",
            "/content/drive/MyDrive/ECE 219 Projects/Projecct1\n"
          ]
        }
      ],
      "source": [
        "from google.colab import drive\n",
        "drive.mount('/content/drive')\n",
        "import sys\n",
        "%cd /content/drive/MyDrive/ECE 219 Projects/Projecct1"
      ]
    },
    {
      "cell_type": "code",
      "execution_count": null,
      "metadata": {
        "colab": {
          "base_uri": "https://localhost:8080/",
          "height": 327
        },
        "id": "rwjxuVLNJMJ-",
        "outputId": "db8a19f3-49ec-4027-8c38-49615b96732a"
      },
      "outputs": [
        {
          "output_type": "execute_result",
          "data": {
            "text/plain": [
              "                                           full_text  \\\n",
              "0  'Pure Hockey, the largest hockey retailer in t...   \n",
              "1  'HKO Hockey Canada Sponsorship 20221006\\n\\nHoc...   \n",
              "2  'Canadian Prime Minister Justin Trudeau said W...   \n",
              "3  'Hockey Canada paid a crisis communications fi...   \n",
              "4  'The Denver Broncos are looking for a new head...   \n",
              "\n",
              "                                             summary  \\\n",
              "0  'Pure Hockey, the largest hockey retailer in t...   \n",
              "1  'The tally of Hockey Canada’s sponsorship loss...   \n",
              "2  'Canadian Prime Minister Justin Trudeau said W...   \n",
              "3  'Nicholson says that Hockey Canada did not go ...   \n",
              "4  'The Denver Broncos are looking for a new head...   \n",
              "\n",
              "                                            keywords  \\\n",
              "0  ['acquire', 'agrees', 'nevada', 'retail', 'hoc...   \n",
              "1  ['sexual', 'exclusive', 'settlement', 'million...   \n",
              "2  ['québec', 'surprise', 'trust', 'sexual', 'org...   \n",
              "3  ['sexual', 'organization', 'million', 'ceo', '...   \n",
              "4  ['beats', 'force', 'season', 'teams', 'anchora...   \n",
              "\n",
              "                publish_date  \\\n",
              "0  2022-10-21 17:11:22+00:00   \n",
              "1                        NaN   \n",
              "2        2022-10-05 00:00:00   \n",
              "3        2022-11-15 00:00:00   \n",
              "4                        NaN   \n",
              "\n",
              "                                             authors  \\\n",
              "0                                       ['Ein News']   \n",
              "1                                ['Barbara Shecter']   \n",
              "2                             ['The Athletic Staff']   \n",
              "3                                     ['Dan Robson']   \n",
              "4  ['Parker Seibold', 'The Gazette', 'Gazette File']   \n",
              "\n",
              "                                                 url leaf_label root_label  \n",
              "0  https://www.einnews.com/pr_news/597148062/pure...     hockey     sports  \n",
              "1  https://ca.finance.yahoo.com/news/exclusive-ho...     hockey     sports  \n",
              "2  https://theathletic.com/3659888/2022/10/05/hoc...     hockey     sports  \n",
              "3  https://theathletic.com/3900630/2022/11/15/hoc...     hockey     sports  \n",
              "4  https://gazette.com/multimedia/photo-air-force...     hockey     sports  "
            ],
            "text/html": [
              "\n",
              "  <div id=\"df-a31b748f-1fb1-4298-9421-732f7d007155\">\n",
              "    <div class=\"colab-df-container\">\n",
              "      <div>\n",
              "<style scoped>\n",
              "    .dataframe tbody tr th:only-of-type {\n",
              "        vertical-align: middle;\n",
              "    }\n",
              "\n",
              "    .dataframe tbody tr th {\n",
              "        vertical-align: top;\n",
              "    }\n",
              "\n",
              "    .dataframe thead th {\n",
              "        text-align: right;\n",
              "    }\n",
              "</style>\n",
              "<table border=\"1\" class=\"dataframe\">\n",
              "  <thead>\n",
              "    <tr style=\"text-align: right;\">\n",
              "      <th></th>\n",
              "      <th>full_text</th>\n",
              "      <th>summary</th>\n",
              "      <th>keywords</th>\n",
              "      <th>publish_date</th>\n",
              "      <th>authors</th>\n",
              "      <th>url</th>\n",
              "      <th>leaf_label</th>\n",
              "      <th>root_label</th>\n",
              "    </tr>\n",
              "  </thead>\n",
              "  <tbody>\n",
              "    <tr>\n",
              "      <th>0</th>\n",
              "      <td>'Pure Hockey, the largest hockey retailer in t...</td>\n",
              "      <td>'Pure Hockey, the largest hockey retailer in t...</td>\n",
              "      <td>['acquire', 'agrees', 'nevada', 'retail', 'hoc...</td>\n",
              "      <td>2022-10-21 17:11:22+00:00</td>\n",
              "      <td>['Ein News']</td>\n",
              "      <td>https://www.einnews.com/pr_news/597148062/pure...</td>\n",
              "      <td>hockey</td>\n",
              "      <td>sports</td>\n",
              "    </tr>\n",
              "    <tr>\n",
              "      <th>1</th>\n",
              "      <td>'HKO Hockey Canada Sponsorship 20221006\\n\\nHoc...</td>\n",
              "      <td>'The tally of Hockey Canada’s sponsorship loss...</td>\n",
              "      <td>['sexual', 'exclusive', 'settlement', 'million...</td>\n",
              "      <td>NaN</td>\n",
              "      <td>['Barbara Shecter']</td>\n",
              "      <td>https://ca.finance.yahoo.com/news/exclusive-ho...</td>\n",
              "      <td>hockey</td>\n",
              "      <td>sports</td>\n",
              "    </tr>\n",
              "    <tr>\n",
              "      <th>2</th>\n",
              "      <td>'Canadian Prime Minister Justin Trudeau said W...</td>\n",
              "      <td>'Canadian Prime Minister Justin Trudeau said W...</td>\n",
              "      <td>['québec', 'surprise', 'trust', 'sexual', 'org...</td>\n",
              "      <td>2022-10-05 00:00:00</td>\n",
              "      <td>['The Athletic Staff']</td>\n",
              "      <td>https://theathletic.com/3659888/2022/10/05/hoc...</td>\n",
              "      <td>hockey</td>\n",
              "      <td>sports</td>\n",
              "    </tr>\n",
              "    <tr>\n",
              "      <th>3</th>\n",
              "      <td>'Hockey Canada paid a crisis communications fi...</td>\n",
              "      <td>'Nicholson says that Hockey Canada did not go ...</td>\n",
              "      <td>['sexual', 'organization', 'million', 'ceo', '...</td>\n",
              "      <td>2022-11-15 00:00:00</td>\n",
              "      <td>['Dan Robson']</td>\n",
              "      <td>https://theathletic.com/3900630/2022/11/15/hoc...</td>\n",
              "      <td>hockey</td>\n",
              "      <td>sports</td>\n",
              "    </tr>\n",
              "    <tr>\n",
              "      <th>4</th>\n",
              "      <td>'The Denver Broncos are looking for a new head...</td>\n",
              "      <td>'The Denver Broncos are looking for a new head...</td>\n",
              "      <td>['beats', 'force', 'season', 'teams', 'anchora...</td>\n",
              "      <td>NaN</td>\n",
              "      <td>['Parker Seibold', 'The Gazette', 'Gazette File']</td>\n",
              "      <td>https://gazette.com/multimedia/photo-air-force...</td>\n",
              "      <td>hockey</td>\n",
              "      <td>sports</td>\n",
              "    </tr>\n",
              "  </tbody>\n",
              "</table>\n",
              "</div>\n",
              "      <button class=\"colab-df-convert\" onclick=\"convertToInteractive('df-a31b748f-1fb1-4298-9421-732f7d007155')\"\n",
              "              title=\"Convert this dataframe to an interactive table.\"\n",
              "              style=\"display:none;\">\n",
              "        \n",
              "  <svg xmlns=\"http://www.w3.org/2000/svg\" height=\"24px\"viewBox=\"0 0 24 24\"\n",
              "       width=\"24px\">\n",
              "    <path d=\"M0 0h24v24H0V0z\" fill=\"none\"/>\n",
              "    <path d=\"M18.56 5.44l.94 2.06.94-2.06 2.06-.94-2.06-.94-.94-2.06-.94 2.06-2.06.94zm-11 1L8.5 8.5l.94-2.06 2.06-.94-2.06-.94L8.5 2.5l-.94 2.06-2.06.94zm10 10l.94 2.06.94-2.06 2.06-.94-2.06-.94-.94-2.06-.94 2.06-2.06.94z\"/><path d=\"M17.41 7.96l-1.37-1.37c-.4-.4-.92-.59-1.43-.59-.52 0-1.04.2-1.43.59L10.3 9.45l-7.72 7.72c-.78.78-.78 2.05 0 2.83L4 21.41c.39.39.9.59 1.41.59.51 0 1.02-.2 1.41-.59l7.78-7.78 2.81-2.81c.8-.78.8-2.07 0-2.86zM5.41 20L4 18.59l7.72-7.72 1.47 1.35L5.41 20z\"/>\n",
              "  </svg>\n",
              "      </button>\n",
              "      \n",
              "  <style>\n",
              "    .colab-df-container {\n",
              "      display:flex;\n",
              "      flex-wrap:wrap;\n",
              "      gap: 12px;\n",
              "    }\n",
              "\n",
              "    .colab-df-convert {\n",
              "      background-color: #E8F0FE;\n",
              "      border: none;\n",
              "      border-radius: 50%;\n",
              "      cursor: pointer;\n",
              "      display: none;\n",
              "      fill: #1967D2;\n",
              "      height: 32px;\n",
              "      padding: 0 0 0 0;\n",
              "      width: 32px;\n",
              "    }\n",
              "\n",
              "    .colab-df-convert:hover {\n",
              "      background-color: #E2EBFA;\n",
              "      box-shadow: 0px 1px 2px rgba(60, 64, 67, 0.3), 0px 1px 3px 1px rgba(60, 64, 67, 0.15);\n",
              "      fill: #174EA6;\n",
              "    }\n",
              "\n",
              "    [theme=dark] .colab-df-convert {\n",
              "      background-color: #3B4455;\n",
              "      fill: #D2E3FC;\n",
              "    }\n",
              "\n",
              "    [theme=dark] .colab-df-convert:hover {\n",
              "      background-color: #434B5C;\n",
              "      box-shadow: 0px 1px 3px 1px rgba(0, 0, 0, 0.15);\n",
              "      filter: drop-shadow(0px 1px 2px rgba(0, 0, 0, 0.3));\n",
              "      fill: #FFFFFF;\n",
              "    }\n",
              "  </style>\n",
              "\n",
              "      <script>\n",
              "        const buttonEl =\n",
              "          document.querySelector('#df-a31b748f-1fb1-4298-9421-732f7d007155 button.colab-df-convert');\n",
              "        buttonEl.style.display =\n",
              "          google.colab.kernel.accessAllowed ? 'block' : 'none';\n",
              "\n",
              "        async function convertToInteractive(key) {\n",
              "          const element = document.querySelector('#df-a31b748f-1fb1-4298-9421-732f7d007155');\n",
              "          const dataTable =\n",
              "            await google.colab.kernel.invokeFunction('convertToInteractive',\n",
              "                                                     [key], {});\n",
              "          if (!dataTable) return;\n",
              "\n",
              "          const docLinkHtml = 'Like what you see? Visit the ' +\n",
              "            '<a target=\"_blank\" href=https://colab.research.google.com/notebooks/data_table.ipynb>data table notebook</a>'\n",
              "            + ' to learn more about interactive tables.';\n",
              "          element.innerHTML = '';\n",
              "          dataTable['output_type'] = 'display_data';\n",
              "          await google.colab.output.renderOutput(dataTable, element);\n",
              "          const docLink = document.createElement('div');\n",
              "          docLink.innerHTML = docLinkHtml;\n",
              "          element.appendChild(docLink);\n",
              "        }\n",
              "      </script>\n",
              "    </div>\n",
              "  </div>\n",
              "  "
            ]
          },
          "metadata": {},
          "execution_count": 3
        }
      ],
      "source": [
        "# Read in the dataset\n",
        "data = pd.read_csv('/content/drive/MyDrive/ECE 219 Projects/Projecct1/Project1-Classification.csv')\n",
        "data.head()"
      ]
    },
    {
      "cell_type": "markdown",
      "metadata": {
        "id": "ATNCvZ6OJkiG"
      },
      "source": [
        "### Question 1\n",
        "#### Overview: How many rows (samples) and columns (features) are present in the dataset?\n",
        "#### Histograms: Plot 3 histograms on : (a) The total number of alpha-numeric characters per data point (row) in the feature full text: i.e count on the x-axis and frequency on the y-axis; (b) The column leaf label – class on the x-axis; (c) The column root label – class on the x-axis.\n",
        "#### Interpret Plots: Provide qualitative interpretations of the histograms."
      ]
    },
    {
      "cell_type": "code",
      "execution_count": null,
      "metadata": {
        "colab": {
          "base_uri": "https://localhost:8080/"
        },
        "id": "YZneC-ozJVBn",
        "outputId": "ec65db30-da25-4d60-b7e2-39fa2c31c1c3"
      },
      "outputs": [
        {
          "output_type": "execute_result",
          "data": {
            "text/plain": [
              "(3150, 8)"
            ]
          },
          "metadata": {},
          "execution_count": 4
        }
      ],
      "source": [
        "#Overview\n",
        "data.shape\n",
        "#ANS: We have 3150 rows and 8 columns in the dataset"
      ]
    },
    {
      "cell_type": "code",
      "execution_count": null,
      "metadata": {
        "colab": {
          "base_uri": "https://localhost:8080/"
        },
        "id": "IGjZvSBbNjc_",
        "outputId": "f92c33dd-71ea-4971-d516-26ada2a79134"
      },
      "outputs": [
        {
          "output_type": "execute_result",
          "data": {
            "text/plain": [
              "count      3150.000000\n",
              "mean       3353.305079\n",
              "std        4123.449663\n",
              "min          53.000000\n",
              "25%        1288.000000\n",
              "50%        2631.000000\n",
              "75%        4281.000000\n",
              "max      100002.000000\n",
              "Name: char_len, dtype: float64"
            ]
          },
          "metadata": {},
          "execution_count": 5
        }
      ],
      "source": [
        "data['char_len']=data.full_text.str.len()\n",
        "data['char_len'].describe()"
      ]
    },
    {
      "cell_type": "code",
      "execution_count": null,
      "metadata": {
        "colab": {
          "base_uri": "https://localhost:8080/",
          "height": 402
        },
        "id": "nYtRmtqhJtnA",
        "outputId": "e4b8dfd1-e5e8-4644-a99c-0a4abed947e7"
      },
      "outputs": [
        {
          "output_type": "display_data",
          "data": {
            "text/plain": [
              "<Figure size 864x432 with 1 Axes>"
            ],
            "image/png": "[encoded data removed]"
          },
          "metadata": {
            "needs_background": "light"
          }
        }
      ],
      "source": [
        "#Histograms\n",
        "# print(data['char_len'][1])\n",
        "# print(data['char_len'].max())\n",
        "# print(data['char_len'].min())\n",
        "# print(data['char_len'].mean())\n",
        "# data['char_len'].describe()\n",
        "#(a)\n",
        "plt.figure(figsize=(12,6))\n",
        "plt.hist(data.char_len,bins=90,edgecolor='black')\n",
        "plt.xlabel('Count of alpha-numeric characters')\n",
        "plt.ylabel('Frequency')\n",
        "plt.title(\"a: Count of alpha-numeric characters per data point\")\n",
        "plt.show()"
      ]
    },
    {
      "cell_type": "markdown",
      "metadata": {
        "id": "zifbYgfIvOtR"
      },
      "source": [
        "#### Quantitative Interpretion\n",
        "1. Based on the basic statistic data description, the min value is 53 and the max is 10,002; the mean is 3353 which gives us the right skewed distriburion.\n",
        "2. 50% of the data points have less than 1,288 alpha_numeric characters."
      ]
    },
    {
      "cell_type": "code",
      "execution_count": null,
      "metadata": {
        "colab": {
          "base_uri": "https://localhost:8080/",
          "height": 441
        },
        "id": "j7TLi8MSNfQz",
        "outputId": "3fe3f473-26c7-4d41-ad32-c25399621856"
      },
      "outputs": [
        {
          "output_type": "display_data",
          "data": {
            "text/plain": [
              "<Figure size 864x432 with 1 Axes>"
            ],
            "image/png": "[encoded data removed]"
          },
          "metadata": {
            "needs_background": "light"
          }
        }
      ],
      "source": [
        "#(b)\n",
        "plt.figure(figsize=(12,6))\n",
        "plt.hist(data.leaf_label,bins=18,edgecolor='black')\n",
        "plt.xticks(rotation =20)\n",
        "plt.xlabel('column leaf labels')\n",
        "plt.ylabel('Frequency')\n",
        "plt.title(\"b: Count of The column leaf label\")\n",
        "plt.show()"
      ]
    },
    {
      "cell_type": "markdown",
      "metadata": {
        "id": "ik23tO4qypQX"
      },
      "source": [
        "#### Quantitative Intepretion\n",
        "1. There are 9 classes of leaf_label in total.\n",
        "2. Each has the equal number of the data points: 350"
      ]
    },
    {
      "cell_type": "code",
      "execution_count": null,
      "metadata": {
        "colab": {
          "base_uri": "https://localhost:8080/",
          "height": 415
        },
        "id": "gTHski6CRpu9",
        "outputId": "645354dd-b680-48ac-8460-4689318a6e56"
      },
      "outputs": [
        {
          "output_type": "display_data",
          "data": {
            "text/plain": [
              "<Figure size 432x432 with 1 Axes>"
            ],
            "image/png": "[encoded data removed]"
          },
          "metadata": {
            "needs_background": "light"
          }
        }
      ],
      "source": [
        "#(c)\n",
        "plt.figure(figsize=(6,6))\n",
        "plt.hist(data.root_label,bins=4,edgecolor='black')\n",
        "plt.xticks(rotation =20)\n",
        "plt.xlabel('column root labels')\n",
        "plt.ylabel('Frequency')\n",
        "plt.title(\"c: Count of The column root label\")\n",
        "plt.show()"
      ]
    },
    {
      "cell_type": "markdown",
      "metadata": {
        "id": "g1lr24jPzG77"
      },
      "source": [
        "####Quantitative Interpretion\n",
        "1. There are in total 2 classes in root_label: Sports and Climate\n",
        "2. Sports have 1750 data points while Climate have 1400."
      ]
    },
    {
      "cell_type": "code",
      "execution_count": null,
      "metadata": {
        "id": "VBegRFU7SrtB"
      },
      "outputs": [],
      "source": [
        "#set the random seed as follows to ensure consistency\n",
        "import random\n",
        "np.random.seed(42)\n",
        "random.seed(42)"
      ]
    },
    {
      "cell_type": "markdown",
      "metadata": {
        "id": "PZhr7W-uzwcm"
      },
      "source": [
        "##Binary Classification"
      ]
    },
    {
      "cell_type": "code",
      "execution_count": null,
      "metadata": {
        "id": "UDsQ59_rz6WK"
      },
      "outputs": [],
      "source": [
        "#Splitting the entire dataset into training and testing data\n",
        "train, test = train_test_split(data[[\"full_text\",\"root_label\"]], test_size=0.2)"
      ]
    },
    {
      "cell_type": "markdown",
      "metadata": {
        "id": "Rip7T2ll0ZZx"
      },
      "source": [
        "##Question 2\n",
        "Report the number of training and testing samples."
      ]
    },
    {
      "cell_type": "code",
      "execution_count": null,
      "metadata": {
        "colab": {
          "base_uri": "https://localhost:8080/"
        },
        "id": "goyYK_SF0VuW",
        "outputId": "41fc25bf-42bb-4817-bd31-70ca0c7f44ad"
      },
      "outputs": [
        {
          "output_type": "execute_result",
          "data": {
            "text/plain": [
              "(2520, 2)"
            ]
          },
          "metadata": {},
          "execution_count": 11
        }
      ],
      "source": [
        "# Training set\n",
        "train.shape\n",
        "#ANS: We have 2520 rows and 2 columns in the training dataset"
      ]
    },
    {
      "cell_type": "code",
      "execution_count": null,
      "metadata": {
        "colab": {
          "base_uri": "https://localhost:8080/"
        },
        "id": "ZeURe_130izN",
        "outputId": "3c05b70b-da3c-4527-ff58-8e49d418b6e9"
      },
      "outputs": [
        {
          "output_type": "execute_result",
          "data": {
            "text/plain": [
              "(630, 2)"
            ]
          },
          "metadata": {},
          "execution_count": 12
        }
      ],
      "source": [
        "# Testing set\n",
        "test.shape\n",
        "#ANS: We have 630 rows and 2 columns in the testing dataset"
      ]
    },
    {
      "cell_type": "markdown",
      "metadata": {
        "id": "fodpyjSU3BKn"
      },
      "source": [
        "##Feature Extraction"
      ]
    },
    {
      "cell_type": "code",
      "execution_count": null,
      "metadata": {
        "id": "ZX-xPjG90n0k"
      },
      "outputs": [],
      "source": [
        "#paste the clean alg here:\n",
        "def clean(text):\n",
        "    text = re.sub(r\"http\\S+\", '', text, flags=re.MULTILINE)\n",
        "    texter = re.sub(r\"<br />\", \" \", text)\n",
        "    texter = re.sub(r\"&quot;\", \"\\\"\",texter)\n",
        "    texter = re.sub('&#39;', \"\\\"\", texter)\n",
        "    texter = re.sub('\\n', \" \", texter)\n",
        "    texter = re.sub(' u ',\" you \", texter)\n",
        "    texter = re.sub('`',\"\", texter)\n",
        "    texter = re.sub(' +', ' ', texter)\n",
        "    texter = re.sub(r\"(!)\\1+\", r\"!\", texter)\n",
        "    texter = re.sub(r\"(\\?)\\1+\", r\"?\", texter)\n",
        "    texter = re.sub('&amp;', 'and', texter)\n",
        "    texter = re.sub('\\r', ' ',texter)\n",
        "    texter = re.sub(r\"[0-9]\",\"\", texter)\n",
        "    texter = re.sub('[^a-zA-Z0-9\\n]', ' ', texter)\n",
        "    texter = re.sub('\\s+',' ', texter)\n",
        "    texter = texter.lower()\n",
        "    clean = re.compile('<.*?>')\n",
        "    texter = texter.encode('ascii', 'ignore').decode('ascii')\n",
        "    texter = re.sub(clean, '', texter)\n",
        "    if texter == \"\":\n",
        "        texter = \"\"\n",
        "    return texter"
      ]
    },
    {
      "cell_type": "code",
      "execution_count": null,
      "metadata": {
        "id": "n4FtsUGo3C_k"
      },
      "outputs": [],
      "source": [
        "#clean each data sample using the code block provided above.\n",
        "train_clean = train['full_text'].apply(clean)"
      ]
    },
    {
      "cell_type": "code",
      "execution_count": null,
      "metadata": {
        "id": "OkI5iYkrFoTH"
      },
      "outputs": [],
      "source": [
        "train['full_text']= train['full_text'].apply(clean)"
      ]
    },
    {
      "cell_type": "code",
      "execution_count": null,
      "metadata": {
        "colab": {
          "base_uri": "https://localhost:8080/",
          "height": 116
        },
        "id": "k5aW5SlfJnfb",
        "outputId": "cd26938c-43c9-4f01-9cca-f381dbd45a4e"
      },
      "outputs": [
        {
          "output_type": "execute_result",
          "data": {
            "text/plain": [
              "' hko hockey canada sponsorship hockey canada has lost million in sponsorships that have been either suspended or cancelled since revelations emerged this summer that the organization that oversees amateur hockey paid millions of dollars in settlements for sexual misconduct claims going back to the s the loss of hockey canada s sponsor support has been significant the organization said in a statement to the financial post confirming the figures which have not been previously reported as the headlines grew progressively negative sponsors such as bank of nova scotia telus corp and restaurant brands international inc s tim hortons put their financial relationships with hockey canada on pause or insisted that their contributions be used only for women s hockey in october canadian tire corp ltd cut all ties with hockey canada saying that the organization was resisting meaningful change and therefore we can no longer confidently move forward together a canadian tire store in toronto the tally of hockey canada s sponsorship losses come from the organization s business development partnerships department which accounted for per cent of hockey canada s sources of funds in the fiscal year according to the most recent annual report hockey canada said in its statement to the financial post that the percentage of corporate sponsorship funding lost following the revelations surrounding the settlement of sexual misconduct claims won t be calculated until the current fiscal year ends on june last year s annual report lists more than two dozen corporate sponsors of hockey canada which also receives funding from the federal government and member fees the organization said corporate contributions represented a higher than usual share in due to sporting activities put on hold by the covid pandemic it was per cent in and per cent in demands have been heeded hockey canada s statement added that a number of recent steps have been taken to respond to the concerns raised by sponsors including changes to the organization s leadership story continues on oct the organization announced that chief executive officer scott smith would be leaving immediately and that the entire board of directors had agreed to step down to make room for a new set of directors the board overhaul is scheduled to be completed dec when members select the new slate during a virtual election the demands of canadians echoed by sponsors for leadership change have been heeded hockey canada s statement said in june bank of nova scotia chief executive brian porter published on open letter saying the bank would be pausing its sponsorship of hockey canada until it was confident the right steps are being taken to improve the culture within the sport both on and off the ice other sponsors followed with pauses and cancellations now up to a dozen according a list compiled by the canadian press on oct hockey canada faced renewed criticism as recently as a month ago from sponsors as well as prime minister justin trudeau who said that not enough was being done to address concerns the renewed condemnation followed an appearance by interim board chair andrea skinner at the standing committee on canadian heritage where she resisted the argument that smith and the hockey canada board should be replaced on the basis of what we consider to be substantial misinformation and unduly cynical attacks skinner resigned less than a week later hockey canada officials are scheduled to appear before the heritage committee again on nov costs pile up in addition to the management and board changes announced since the october committee appearance hockey canada earlier this month released the final version of an independent governance review completed by supreme court of canada justice thomas cromwell and borden ladner gervais llp the independent governance review found that hockey canada s national equity fund nef was used as permitted to pay out some claims linked to sexual misconduct but that members did not receive adequate information about the funds and their use for example according to the report hockey canada s members and participants may not have been fully aware of the scope of claims that would be funded by the nef namely claims linked to sexual misconduct beyond the name perpetrators specifically excluded from liability insurance coverage the cromwell report recommended that hockey canada take steps to provide timely disclosure to its members regarding ongoing and potential claims once a settlement is reached the report recommended that hockey canada disclose all publicly available information if there is a non disclosure agreement in force precluding the release of the settlement amount hockey canada should still inform its members of the nature of the claim the fact that a settlement was reached and how the settlement would be funded the nef was used to pay out million related to sexual assault claims since according to hockey canada which said sponsorship funds are not used to fund the nef hockey canada has racked up about million in additional costs to manage fallout from the crisis that began in may when tsn reported that a woman had alleged in a civil court filing that she had been sexually assaulted in by eight players including members of canada s world junior team following a hockey canada foundation gala costs associated with the external governance review which hockey canada made public on nov exceeded million in addition hockey canada has paid more than million to navigator ltd for communications stakeholder management and research assistance and nearly million for other legal and communications costs including retaining the services of longview communications inc email bshecter nationalpost com twitter '"
            ],
            "application/vnd.google.colaboratory.intrinsic+json": {
              "type": "string"
            }
          },
          "metadata": {},
          "execution_count": 16
        }
      ],
      "source": [
        "train['full_text'][1]"
      ]
    },
    {
      "cell_type": "code",
      "execution_count": null,
      "metadata": {
        "colab": {
          "base_uri": "https://localhost:8080/"
        },
        "id": "SwUxykeDeZH-",
        "outputId": "3553ab95-0cc9-4c67-f9ca-e3113d73bb3c"
      },
      "outputs": [
        {
          "output_type": "stream",
          "name": "stderr",
          "text": [
            "[nltk_data] Downloading package averaged_perceptron_tagger to\n",
            "[nltk_data]     /root/nltk_data...\n",
            "[nltk_data]   Package averaged_perceptron_tagger is already up-to-\n",
            "[nltk_data]       date!\n",
            "[nltk_data] Downloading package wordnet to /root/nltk_data...\n",
            "[nltk_data]   Package wordnet is already up-to-date!\n",
            "[nltk_data] Downloading package omw-1.4 to /root/nltk_data...\n",
            "[nltk_data]   Package omw-1.4 is already up-to-date!\n"
          ]
        },
        {
          "output_type": "stream",
          "name": "stdout",
          "text": [
            "Shape of train lemmatized matrix:  (2520, 16995)\n",
            "Shape of test lemmatized matrix:   (630, 16995)\n",
            "Shape of train TF-IDF matrix:  (2520, 16995)\n",
            "Shape of test TF-IDF matrix:   (630, 16995)\n"
          ]
        }
      ],
      "source": [
        "#Vectorizing\n",
        "from sklearn.feature_extraction.text import CountVectorizer\n",
        "\n",
        "import nltk\n",
        "nltk.download('averaged_perceptron_tagger')\n",
        "nltk.download('wordnet')\n",
        "nltk.download('omw-1.4')\n",
        "lem = nltk.wordnet.WordNetLemmatizer()\n",
        "analyzer = CountVectorizer().build_analyzer()\n",
        "counts = []\n",
        "\n",
        "def penn2morphy(penntag):\n",
        "    \"\"\" Converts Penn Treebank tags to WordNet. \"\"\"\n",
        "    morphy_tag = {'NN':'n', 'JJ':'a',\n",
        "                  'VB':'v', 'RB':'r'}\n",
        "    try:\n",
        "        return morphy_tag[penntag[:2]]\n",
        "    except:\n",
        "        return 'n'\n",
        "\n",
        "def lemmatize_sent(list_word):\n",
        "    return [lem.lemmatize(word.lower(), pos=penn2morphy(tag)) \n",
        "            for word, tag in pos_tag(list_word)]\n",
        "\n",
        "\n",
        "def rmv_nums(doc):\n",
        "    return (word for word in lemmatize_sent(analyzer(doc)) \n",
        "            if not word.isdigit())\n",
        "    \n",
        "\n",
        "vectorizer = CountVectorizer(min_df=3,stop_words='english')\n",
        "\n",
        "X_train_counts=vectorizer.fit_transform(train['full_text']) \n",
        "print('Shape of train lemmatized matrix: ', X_train_counts.shape) \n",
        "X_test_counts=vectorizer.transform(test[\"full_text\"]) \n",
        "print('Shape of test lemmatized matrix:  ', X_test_counts.shape) \n",
        "\n",
        "from sklearn.feature_extraction.text import TfidfTransformer\n",
        "tfidf_transformer = TfidfTransformer()\n",
        "X_train_tfidf = tfidf_transformer.fit_transform(X_train_counts)\n",
        "print('Shape of train TF-IDF matrix: ',X_train_tfidf.shape)\n",
        "X_test_tfidf = tfidf_transformer.transform(X_test_counts)\n",
        "print('Shape of test TF-IDF matrix:  ',X_test_tfidf.shape)"
      ]
    },
    {
      "cell_type": "code",
      "execution_count": null,
      "metadata": {
        "colab": {
          "base_uri": "https://localhost:8080/"
        },
        "id": "QD7Gg1tNGcCB",
        "outputId": "79d04ec1-ab48-411e-9a08-f8450446f179"
      },
      "outputs": [
        {
          "output_type": "execute_result",
          "data": {
            "text/plain": [
              "CountVectorizer(min_df=3, stop_words='english')"
            ]
          },
          "metadata": {},
          "execution_count": 18
        }
      ],
      "source": [
        "vectorizer"
      ]
    },
    {
      "cell_type": "markdown",
      "metadata": {
        "id": "GYgUq4zYepcN"
      },
      "source": [
        "# Q4 - Dimensionality Reduction"
      ]
    },
    {
      "cell_type": "code",
      "execution_count": null,
      "metadata": {
        "colab": {
          "base_uri": "https://localhost:8080/",
          "height": 716
        },
        "id": "dI1LdWvy8VpW",
        "outputId": "ad617486-5623-485e-96d1-0fd667ae6389"
      },
      "outputs": [
        {
          "output_type": "stream",
          "name": "stdout",
          "text": [
            "The MSE of using LSI: 1724.166107441703\n",
            "The MSE of using NMF: 1749.4681565165015\n"
          ]
        },
        {
          "output_type": "display_data",
          "data": {
            "text/plain": [
              "<Figure size 960x800 with 1 Axes>"
            ],
            "image/png": "[encoded data removed]"
          },
          "metadata": {
            "needs_background": "light"
          }
        }
      ],
      "source": [
        "#plot\n",
        "k = [1, 10, 50, 100, 200, 500, 1000, 2000]\n",
        "evr=[]\n",
        "\n",
        "for i in range(len(k)):\n",
        "  lsi = TruncatedSVD(n_components=k[i], random_state=42)\n",
        "  X_train_lsi=lsi.fit_transform(X_train_tfidf)\n",
        "  X_test_lsi=lsi.transform(X_test_tfidf)\n",
        "  evr.append(sum(lsi.explained_variance_ratio_))\n",
        "\n",
        "plt.figure(figsize=(12, 10), dpi=80)\n",
        "plt.plot(k,evr)\n",
        "#plot format\n",
        "plt.xticks(ticks=[1,10,50,100,200,500,1000,2000],labels=[\"1\",\"10\",\"50\",\"100\",\"200\",\"500\",\"1000\",\"2000\"])\n",
        "plt.title(\"Explained Variance Ratio across different value of Ks\")\n",
        "plt.xlabel(\"Value of K\")\n",
        "plt.ylabel(\"Explained Variance Ratio\")\n",
        "\n",
        "#Latent Semantic Indexing (LSI) k=50\n",
        "#LSI MSE\n",
        "u,sigma,vt = randomized_svd(X_train_tfidf,n_components=50,random_state=42)\n",
        "MSE_lsi=np.sum(np.square((np.dot(np.dot(u,np.diag(sigma)),vt))-X_train_tfidf))\n",
        "print(\"The MSE of using LSI: \"+str(MSE_lsi))\n",
        "\n",
        "#Non-negative Matrix Factorization (NMF) k=50\n",
        "nmf = NMF(n_components=50, init='random', random_state=42, max_iter=500) #to remove limitation warning\n",
        "X_train_nmf = nmf.fit_transform(X_train_tfidf)\n",
        "X_test_nmf = nmf.transform(X_test_tfidf)\n",
        "#NMF MSE\n",
        "MSE_nmf=(np.sum(np.square(np.dot(X_train_nmf, nmf.components_)-X_train_tfidf)))\n",
        "print(\"The MSE of using NMF: \"+str(MSE_nmf))\n",
        "\n"
      ]
    },
    {
      "cell_type": "markdown",
      "metadata": {
        "id": "f8jLxHxDSDxJ"
      },
      "source": [
        "# Classification Algorithm\n",
        "## Map Labels to Binary\n"
      ]
    },
    {
      "cell_type": "code",
      "execution_count": null,
      "metadata": {
        "colab": {
          "base_uri": "https://localhost:8080/"
        },
        "id": "PAZoWUvvSM1J",
        "outputId": "b27cb1f1-3254-4e05-e150-96e3390ceba0"
      },
      "outputs": [
        {
          "output_type": "stream",
          "name": "stdout",
          "text": [
            "(2520,)\n",
            "(630,)\n"
          ]
        }
      ],
      "source": [
        "# Construct lsi data with k=50 for svm\n",
        "lsi = TruncatedSVD(n_components = 50,n_iter = 10, random_state = 42)\n",
        "lsi_train_svm = lsi.fit_transform(X_train_tfidf)\n",
        "lsi_test_svm = lsi.transform(X_test_tfidf)\n",
        "\n",
        "# Construct labels\n",
        "mapping = {'sports': 1, 'climate': 0}\n",
        "train_svm = train\n",
        "train_svm = train_svm.replace({'root_label': mapping})\n",
        "train_svm_label = train_svm['root_label'].to_numpy()\n",
        "print(train_svm_label.shape)\n",
        "\n",
        "test_svm = test\n",
        "test_svm = test_svm.replace({'root_label': mapping})\n",
        "test_svm_label = test_svm['root_label'].to_numpy()\n",
        "print(test_svm_label.shape)"
      ]
    },
    {
      "cell_type": "code",
      "execution_count": null,
      "metadata": {
        "colab": {
          "base_uri": "https://localhost:8080/"
        },
        "id": "MxsXCKV8tcxL",
        "outputId": "aa12488b-683b-4345-ed3d-07e4acb3e78f"
      },
      "outputs": [
        {
          "output_type": "execute_result",
          "data": {
            "text/plain": [
              "(2520, 50)"
            ]
          },
          "metadata": {},
          "execution_count": 21
        }
      ],
      "source": [
        "lsi_train_svm.shape"
      ]
    },
    {
      "cell_type": "markdown",
      "metadata": {
        "id": "V6GxgY8gk-oW"
      },
      "source": [
        "# Q5 - Support Vector Machines (SVM)"
      ]
    },
    {
      "cell_type": "markdown",
      "metadata": {
        "id": "EQQNEENbSDG4"
      },
      "source": [
        "## Train two linear SVMs:"
      ]
    },
    {
      "cell_type": "code",
      "execution_count": null,
      "metadata": {
        "id": "by1IXOiNFd_y"
      },
      "outputs": [],
      "source": [
        "from sklearn.svm import SVC, LinearSVC\n",
        "import itertools\n",
        "import sklearn as sklearn\n",
        "from sklearn.svm import LinearSVC\n",
        "from sklearn.metrics import confusion_matrix\n",
        "from sklearn.metrics import roc_curve\n",
        "from sklearn.metrics import accuracy_score\n",
        "from sklearn.metrics import precision_score\n",
        "from sklearn.metrics import recall_score\n",
        "from sklearn.metrics import f1_score\n",
        "from sklearn.metrics import auc\n"
      ]
    },
    {
      "cell_type": "code",
      "execution_count": null,
      "metadata": {
        "id": "b4gRLM5oF9dA"
      },
      "outputs": [],
      "source": [
        "def plot_confusion_matrix(cm,\n",
        "                          normalize=False,\n",
        "                          title='Confusion matrix',\n",
        "                          cmap=plt.cm.Greens,\n",
        "                          classes = ['sports', 'climate']\n",
        "):\n",
        "    \"\"\"\n",
        "    This function prints and plots the confusion matrix.\n",
        "    Normalization can be applied by setting `normalize=True`.\n",
        "    \"\"\"\n",
        "    if normalize:\n",
        "        cm = cm.astype('float') / cm.sum(axis=1)[:, np.newaxis]\n",
        "        print(\"Normalized confusion matrix\")\n",
        "    else:\n",
        "        print('Confusion matrix, without normalization')\n",
        "\n",
        "    print(cm)\n",
        "\n",
        "    plt.imshow(cm, interpolation='nearest', cmap=cmap)\n",
        "    plt.title(title)\n",
        "    plt.colorbar()\n",
        "    tick_marks = np.arange(len(classes))\n",
        "    plt.xticks(tick_marks, classes, rotation=45)\n",
        "    plt.yticks(tick_marks, classes)\n",
        "\n",
        "    fmt = '.2f' if normalize else 'd'\n",
        "    thresh = cm.max() / 2.\n",
        "    for i, j in itertools.product(range(cm.shape[0]), range(cm.shape[1])):\n",
        "        plt.text(j, i, format(cm[i, j], fmt),\n",
        "                 horizontalalignment=\"center\",\n",
        "                 color=\"white\" if cm[i, j] > thresh else \"black\")\n",
        "\n",
        "    plt.tight_layout()\n",
        "    plt.ylabel('True label')\n",
        "    plt.xlabel('Predicted label')\n",
        "    plt.show()"
      ]
    },
    {
      "cell_type": "code",
      "execution_count": null,
      "metadata": {
        "id": "FqV0Dh87oZeu"
      },
      "outputs": [],
      "source": [
        "def implement_svm(Gamma):\n",
        "\n",
        "    svc = SVC(C = Gamma, probability=True, kernel='linear')\n",
        "    svc.fit(lsi_train_svm, train_svm_label)\n",
        "    svc_predict = svc.predict(lsi_test_svm)\n",
        "\n",
        "    accuracy = sklearn.metrics.accuracy_score(test_svm_label, svc_predict)\n",
        "    recall = sklearn.metrics.recall_score(test_svm_label, svc_predict)\n",
        "    precision = sklearn.metrics.precision_score(test_svm_label, svc_predict)\n",
        "    f1 = sklearn.metrics.f1_score(test_svm_label, svc_predict)\n",
        "\n",
        "    print('Accuracy:'+str(accuracy))\n",
        "    print('Recall:'+str(recall))\n",
        "    print('Precision:'+str(precision))\n",
        "    print('F1 score:'+str(f1))\n",
        "\n",
        "    fpr, tpr, thresholds = roc_curve(test_svm_label, svc.decision_function(lsi_test_svm))\n",
        "    plt.plot(fpr,tpr,'forestgreen')\n",
        "    plt.ylabel('True Positive Rate')\n",
        "    plt.xlabel('False Positive Rate')\n",
        "    plt.show()\n",
        "    \n",
        "    return svc_predict, fpr, tpr\n",
        "\n",
        "def plot_roc_cnfmatrix(y_pred):\n",
        "    #report confusion matrix\n",
        "    cnf_matrix = sklearn.metrics.confusion_matrix(test_svm_label, y_pred)\n",
        "    np.set_printoptions(precision=2)\n",
        "\n",
        "    # Plot confusion matrix\n",
        "    plt.figure()\n",
        "    plot_confusion_matrix(cnf_matrix,\n",
        "                      title='Confusion matrix, without normalization')\n",
        "    plt.show()\n",
        "    return"
      ]
    },
    {
      "cell_type": "code",
      "execution_count": null,
      "metadata": {
        "colab": {
          "base_uri": "https://localhost:8080/",
          "height": 702
        },
        "id": "0i730pQA2mZe",
        "outputId": "706e2d8a-6b2e-46d0-a6d7-9d4a3c12f32e"
      },
      "outputs": [
        {
          "output_type": "stream",
          "name": "stdout",
          "text": [
            "Gamma:1000\n",
            "Accuracy:0.9634920634920635\n",
            "Recall:0.9509536784741145\n",
            "Precision:0.9858757062146892\n",
            "F1 score:0.9680998613037448\n"
          ]
        },
        {
          "output_type": "display_data",
          "data": {
            "text/plain": [
              "<Figure size 432x288 with 1 Axes>"
            ],
            "image/png": "[encoded data removed]"
          },
          "metadata": {
            "needs_background": "light"
          }
        },
        {
          "output_type": "stream",
          "name": "stdout",
          "text": [
            "Confusion matrix, without normalization\n",
            "[[258   5]\n",
            " [ 18 349]]\n"
          ]
        },
        {
          "output_type": "display_data",
          "data": {
            "text/plain": [
              "<Figure size 432x288 with 2 Axes>"
            ],
            "image/png": "[encoded data removed]"
          },
          "metadata": {
            "needs_background": "light"
          }
        }
      ],
      "source": [
        "#Gamma = 1000 (Hard margin)\n",
        "Gamma = 1000\n",
        "print('Gamma:'+ str(Gamma))\n",
        "y_pred, fpr_hard, tpr_hard = implement_svm(Gamma)\n",
        "plot_roc_cnfmatrix(y_pred)"
      ]
    },
    {
      "cell_type": "code",
      "execution_count": null,
      "metadata": {
        "colab": {
          "base_uri": "https://localhost:8080/",
          "height": 718
        },
        "id": "vnZC0bkBJJ-z",
        "outputId": "55a8a495-16a7-40ba-d66d-20ba15c30632"
      },
      "outputs": [
        {
          "output_type": "stream",
          "name": "stdout",
          "text": [
            "C value: 0.0001\n",
            "Gamma:0.0001\n",
            "Accuracy:0.5825396825396826\n",
            "Recall:1.0\n",
            "Precision:0.5825396825396826\n",
            "F1 score:0.7362086258776329\n"
          ]
        },
        {
          "output_type": "display_data",
          "data": {
            "text/plain": [
              "<Figure size 432x288 with 1 Axes>"
            ],
            "image/png": "[encoded data removed]"
          },
          "metadata": {
            "needs_background": "light"
          }
        },
        {
          "output_type": "stream",
          "name": "stdout",
          "text": [
            "Confusion matrix, without normalization\n",
            "[[  0 263]\n",
            " [  0 367]]\n"
          ]
        },
        {
          "output_type": "display_data",
          "data": {
            "text/plain": [
              "<Figure size 432x288 with 2 Axes>"
            ],
            "image/png": "[encoded data removed]"
          },
          "metadata": {
            "needs_background": "light"
          }
        }
      ],
      "source": [
        "#Gamma = 0.0001 (Soft margin)\n",
        "Gamma = 0.0001\n",
        "print('C value: '+str(Gamma))\n",
        "print('Gamma:'+ str(Gamma))\n",
        "y_pred, fpr_soft, tpr_soft = implement_svm(Gamma)\n",
        "plot_roc_cnfmatrix(y_pred)"
      ]
    },
    {
      "cell_type": "markdown",
      "metadata": {
        "id": "zLmN20EIbZ6p"
      },
      "source": [
        "## Use cross-validation to choose Gamma"
      ]
    },
    {
      "cell_type": "code",
      "execution_count": null,
      "metadata": {
        "colab": {
          "base_uri": "https://localhost:8080/"
        },
        "id": "4G6t05YBbZc4",
        "outputId": "1eb9a258-1a5b-434c-fec7-05e7bd940c9f"
      },
      "outputs": [
        {
          "output_type": "stream",
          "name": "stdout",
          "text": [
            "Fitting 5 folds for each of 10 candidates, totalling 50 fits\n",
            "[CV 1/5] END ...........................C=0.001;, score=0.548 total time=   0.6s\n",
            "[CV 2/5] END ...........................C=0.001;, score=0.548 total time=   0.6s\n",
            "[CV 3/5] END ...........................C=0.001;, score=0.550 total time=   0.6s\n",
            "[CV 4/5] END ...........................C=0.001;, score=0.550 total time=   0.6s\n",
            "[CV 5/5] END ...........................C=0.001;, score=0.550 total time=   0.6s\n",
            "[CV 1/5] END ............................C=0.01;, score=0.548 total time=   0.6s\n",
            "[CV 2/5] END ............................C=0.01;, score=0.548 total time=   0.6s\n",
            "[CV 3/5] END ............................C=0.01;, score=0.550 total time=   0.6s\n",
            "[CV 4/5] END ............................C=0.01;, score=0.550 total time=   0.6s\n",
            "[CV 5/5] END ............................C=0.01;, score=0.550 total time=   0.6s\n",
            "[CV 1/5] END .............................C=0.1;, score=0.925 total time=   0.4s\n",
            "[CV 2/5] END .............................C=0.1;, score=0.948 total time=   0.4s\n",
            "[CV 3/5] END .............................C=0.1;, score=0.944 total time=   0.4s\n",
            "[CV 4/5] END .............................C=0.1;, score=0.937 total time=   0.4s\n",
            "[CV 5/5] END .............................C=0.1;, score=0.921 total time=   0.4s\n",
            "[CV 1/5] END ...............................C=1;, score=0.952 total time=   0.2s\n",
            "[CV 2/5] END ...............................C=1;, score=0.956 total time=   0.2s\n",
            "[CV 3/5] END ...............................C=1;, score=0.956 total time=   0.2s\n",
            "[CV 4/5] END ...............................C=1;, score=0.938 total time=   0.2s\n",
            "[CV 5/5] END ...............................C=1;, score=0.937 total time=   0.2s\n",
            "[CV 1/5] END ..............................C=10;, score=0.952 total time=   0.1s\n",
            "[CV 2/5] END ..............................C=10;, score=0.960 total time=   0.1s\n",
            "[CV 3/5] END ..............................C=10;, score=0.952 total time=   0.1s\n",
            "[CV 4/5] END ..............................C=10;, score=0.946 total time=   0.1s\n",
            "[CV 5/5] END ..............................C=10;, score=0.940 total time=   0.1s\n",
            "[CV 1/5] END .............................C=100;, score=0.950 total time=   0.2s\n",
            "[CV 2/5] END .............................C=100;, score=0.962 total time=   0.1s\n",
            "[CV 3/5] END .............................C=100;, score=0.952 total time=   0.1s\n",
            "[CV 4/5] END .............................C=100;, score=0.950 total time=   0.1s\n",
            "[CV 5/5] END .............................C=100;, score=0.944 total time=   0.1s\n",
            "[CV 1/5] END ............................C=1000;, score=0.950 total time=   0.4s\n",
            "[CV 2/5] END ............................C=1000;, score=0.962 total time=   0.3s\n",
            "[CV 3/5] END ............................C=1000;, score=0.950 total time=   0.3s\n",
            "[CV 4/5] END ............................C=1000;, score=0.946 total time=   0.3s\n",
            "[CV 5/5] END ............................C=1000;, score=0.938 total time=   0.4s\n",
            "[CV 1/5] END ...........................C=10000;, score=0.948 total time=   2.5s\n",
            "[CV 2/5] END ...........................C=10000;, score=0.962 total time=   3.4s\n",
            "[CV 3/5] END ...........................C=10000;, score=0.948 total time=   2.7s\n",
            "[CV 4/5] END ...........................C=10000;, score=0.948 total time=   2.5s\n",
            "[CV 5/5] END ...........................C=10000;, score=0.935 total time=   2.7s\n",
            "[CV 1/5] END ..........................C=100000;, score=0.950 total time=  26.5s\n",
            "[CV 2/5] END ..........................C=100000;, score=0.962 total time=  20.7s\n",
            "[CV 3/5] END ..........................C=100000;, score=0.948 total time=  26.8s\n",
            "[CV 4/5] END ..........................C=100000;, score=0.948 total time=  26.3s\n",
            "[CV 5/5] END ..........................C=100000;, score=0.935 total time=  26.0s\n",
            "[CV 1/5] END .........................C=1000000;, score=0.950 total time= 4.2min\n",
            "[CV 2/5] END .........................C=1000000;, score=0.964 total time= 3.6min\n",
            "[CV 3/5] END .........................C=1000000;, score=0.948 total time= 3.9min\n",
            "[CV 4/5] END .........................C=1000000;, score=0.948 total time= 4.9min\n",
            "[CV 5/5] END .........................C=1000000;, score=0.933 total time= 3.5min\n"
          ]
        },
        {
          "output_type": "execute_result",
          "data": {
            "text/plain": [
              "GridSearchCV(cv=5, estimator=SVC(kernel='linear', probability=True), n_jobs=1,\n",
              "             param_grid={'C': [0.001, 0.01, 0.1, 1, 10, 100, 1000, 10000,\n",
              "                               100000, 1000000]},\n",
              "             verbose=3)"
            ]
          },
          "metadata": {},
          "execution_count": 27
        }
      ],
      "source": [
        "from sklearn.model_selection import GridSearchCV\n",
        "\n",
        "parameters = {'C': [10**k for k in range(-3,7,1)]}\n",
        "svm_cv = SVC(probability = True, kernel = 'linear')\n",
        "svm_cv_grid = GridSearchCV(svm_cv, parameters, cv=5, n_jobs = 1, verbose = 3)\n",
        "svm_cv_grid.fit(lsi_train_svm, train_svm_label)"
      ]
    },
    {
      "cell_type": "code",
      "execution_count": null,
      "metadata": {
        "id": "NNenRhUiN_OL",
        "colab": {
          "base_uri": "https://localhost:8080/"
        },
        "outputId": "6ea248d4-67b0-43f3-e45e-13d5b92b20f6"
      },
      "outputs": [
        {
          "output_type": "stream",
          "name": "stdout",
          "text": [
            "   param_C  mean_test_score\n",
            "5      100         0.951984\n",
            "4       10         0.950397\n",
            "6     1000         0.949603\n",
            "9  1000000         0.948810\n",
            "8   100000         0.948810\n",
            "7    10000         0.948413\n",
            "3        1         0.948016\n",
            "2      0.1         0.934921\n",
            "0    0.001         0.548810\n",
            "1     0.01         0.548810\n"
          ]
        }
      ],
      "source": [
        "#Result of CV\n",
        "print(pd.DataFrame(svm_cv_grid.cv_results_)[['param_C','mean_test_score']].sort_values(by=['mean_test_score'], ascending=False))"
      ]
    },
    {
      "cell_type": "code",
      "execution_count": null,
      "metadata": {
        "id": "E_utTGHnOJmE",
        "colab": {
          "base_uri": "https://localhost:8080/",
          "height": 702
        },
        "outputId": "a636cccf-65ee-4190-df4a-d175d1f68b18"
      },
      "outputs": [
        {
          "output_type": "stream",
          "name": "stdout",
          "text": [
            "C value: 10\n",
            "Accuracy:0.9666666666666667\n",
            "Recall:0.9591280653950953\n",
            "Precision:0.9832402234636871\n",
            "F1 score:0.9710344827586207\n"
          ]
        },
        {
          "output_type": "display_data",
          "data": {
            "text/plain": [
              "<Figure size 432x288 with 1 Axes>"
            ],
            "image/png": "[encoded data removed]"
          },
          "metadata": {
            "needs_background": "light"
          }
        },
        {
          "output_type": "stream",
          "name": "stdout",
          "text": [
            "Confusion matrix, without normalization\n",
            "[[257   6]\n",
            " [ 15 352]]\n"
          ]
        },
        {
          "output_type": "display_data",
          "data": {
            "text/plain": [
              "<Figure size 432x288 with 2 Axes>"
            ],
            "image/png": "[encoded data removed]"
          },
          "metadata": {
            "needs_background": "light"
          }
        }
      ],
      "source": [
        "# Report of the best SVM\n",
        "\n",
        "#Gamma = svm_cv_grid.best_params_['C']\n",
        "Gamma = 10\n",
        "\n",
        "svc_best = SVC(C = Gamma, probability=True, kernel = 'linear')\n",
        "svc_best.fit(lsi_train_svm, train_svm_label)\n",
        "svc_best_predict = svc_best.predict(lsi_test_svm)\n",
        "\n",
        "accuracy = sklearn.metrics.accuracy_score(test_svm_label, svc_best_predict)\n",
        "recall = sklearn.metrics.recall_score(test_svm_label, svc_best_predict)\n",
        "precision = sklearn.metrics.precision_score(test_svm_label, svc_best_predict)\n",
        "f1 = sklearn.metrics.f1_score(test_svm_label, svc_best_predict)\n",
        "\n",
        "print('C value: '+str(Gamma))\n",
        "print('Accuracy:'+str(accuracy))\n",
        "print('Recall:'+str(recall))\n",
        "print('Precision:'+str(precision))\n",
        "print('F1 score:'+str(f1))\n",
        "\n",
        "# Plot ROC curve\n",
        "fpr_best, tpr_best, thresholds = roc_curve(test_svm_label, svc_best.decision_function(lsi_test_svm))\n",
        "plt.plot(fpr_best,tpr_best,'forestgreen')\n",
        "plt.ylabel('True Positive Rate')\n",
        "plt.xlabel('False Positive Rate')\n",
        "plt.show()\n",
        "\n",
        "# Report confusion matrix\n",
        "cnf_matrix_best = sklearn.metrics.confusion_matrix(test_svm_label, svc_best_predict)\n",
        "np.set_printoptions(precision=2)\n",
        "\n",
        "# Plot confusion matrix\n",
        "plt.figure()\n",
        "plot_confusion_matrix(cnf_matrix_best,\n",
        "                  title='Confusion matrix, without normalization')\n",
        "plt.show()"
      ]
    },
    {
      "cell_type": "code",
      "execution_count": null,
      "metadata": {
        "id": "Wm-A9hmgj-ef",
        "colab": {
          "base_uri": "https://localhost:8080/",
          "height": 623
        },
        "outputId": "cfcab15b-0204-4ed8-9c95-12dd1032da4a"
      },
      "outputs": [
        {
          "output_type": "display_data",
          "data": {
            "text/plain": [
              "<Figure size 864x648 with 1 Axes>"
            ],
            "image/png": "[encoded data removed]"
          },
          "metadata": {
            "needs_background": "light"
          }
        },
        {
          "output_type": "stream",
          "name": "stdout",
          "text": [
            "area under hard margin 0.9948923032293491\n",
            "area under soft margin 0.9932657141969105\n",
            "area under best SVM (C=10) 0.9951616746614727\n"
          ]
        }
      ],
      "source": [
        "plt.figure(figsize=(12,9))\n",
        "plt.plot([0, 1], [0, 1], color='navy', lw=1, linestyle='--')\n",
        "plt.xlim([0.0, 1.0])\n",
        "plt.ylim([0.0, 1.05])\n",
        "plt.xlabel('False Positive Rate', fontsize=18)\n",
        "plt.ylabel('True Positive Rate', fontsize=18)\n",
        "plt.title('ROC Curve', fontsize=23)\n",
        "\n",
        "plt.plot(fpr_hard,tpr_hard, 'r', label='Hard margin')\n",
        "plt.plot(fpr_soft,tpr_soft, label='Soft margin')\n",
        "plt.plot(fpr_best,tpr_best,'g',label = 'C = 10 (best C value)')\n",
        "plt.legend()\n",
        "plt.title('Support Vector Machine')\n",
        "plt.xlabel('false postive rate')\n",
        "plt.ylabel('true positive rate')\n",
        "plt.show()\n",
        "\n",
        "# area under the curve:\n",
        "roc_auc_hard = auc(fpr_hard,tpr_hard)\n",
        "roc_auc_soft = auc(fpr_soft,tpr_soft)\n",
        "roc_auc_best = auc(fpr_best,tpr_best)\n",
        "print(\"area under hard margin\", roc_auc_hard)\n",
        "print(\"area under soft margin\", roc_auc_soft)\n",
        "print(\"area under best SVM (C=10)\", roc_auc_best)"
      ]
    },
    {
      "cell_type": "markdown",
      "metadata": {
        "id": "3fPM-hn3lDVs"
      },
      "source": [
        "# Q6 - Logistic Regression"
      ]
    },
    {
      "cell_type": "code",
      "execution_count": null,
      "metadata": {
        "id": "vAZbAyj-ek4x"
      },
      "outputs": [],
      "source": [
        "from sklearn.linear_model import LogisticRegression"
      ]
    },
    {
      "cell_type": "code",
      "execution_count": null,
      "metadata": {
        "id": "-bL0MbJIfG73"
      },
      "outputs": [],
      "source": [
        "#construct lsi data with k=50 for Logistic Regression\n",
        "lsi = TruncatedSVD(n_components = 50,n_iter = 10, random_state = 42)\n",
        "lsi_train_lr = lsi.fit_transform(X_train_tfidf)\n",
        "lsi_test_lr = lsi.transform(X_test_tfidf)"
      ]
    },
    {
      "cell_type": "code",
      "execution_count": null,
      "metadata": {
        "id": "iUM7sp-Dda5T",
        "colab": {
          "base_uri": "https://localhost:8080/"
        },
        "outputId": "2cea131f-9b19-4d98-bed3-62e1a3635e67"
      },
      "outputs": [
        {
          "output_type": "stream",
          "name": "stdout",
          "text": [
            "L1\n",
            "  param_C  mean_test_score\n",
            "5      10         0.951984\n",
            "6     100         0.951587\n",
            "7    1000         0.951190\n",
            "8   10000         0.951190\n",
            "4       1         0.946825\n",
            "3     0.1         0.923016\n",
            "0  0.0001         0.451190\n",
            "1   0.001         0.451190\n",
            "2    0.01         0.451190\n",
            "\n",
            "\n",
            "L2\n",
            "  param_C  mean_test_score\n",
            "6     100         0.952381\n",
            "7    1000         0.951984\n",
            "8   10000         0.951190\n",
            "5      10         0.950794\n",
            "4       1         0.942063\n",
            "3     0.1         0.921429\n",
            "2    0.01         0.689286\n",
            "0  0.0001         0.548810\n",
            "1   0.001         0.548810\n"
          ]
        }
      ],
      "source": [
        "from sklearn.model_selection import GridSearchCV\n",
        "#without regularization\n",
        "lr_no_regularization = LogisticRegression(penalty = 'none', max_iter=10000)\n",
        "lr_no_regularization.fit(lsi_train_lr, train_svm_label)\n",
        "lr_no_regularization_predicted = lr_no_regularization.predict(lsi_test_lr)\n",
        "\n",
        "parameters = {'C':[10**k for k in range(-4,5,1)]}\n",
        "\n",
        "#L1\n",
        "lr_L1 = LogisticRegression(solver='liblinear', penalty = 'l1', max_iter=10000)\n",
        "lr_L1_grid = GridSearchCV(lr_L1, parameters, cv=5, n_jobs=1)\n",
        "lr_L1_grid.fit( lsi_train_lr, train_svm_label)\n",
        "#Result of CV\n",
        "print('L1')\n",
        "print(pd.DataFrame(lr_L1_grid.cv_results_)[['param_C','mean_test_score']].sort_values(by=['mean_test_score'], ascending=False))\n",
        "print('\\n')\n",
        "\n",
        "#L2\n",
        "lr_L2 = LogisticRegression(solver='liblinear', penalty = 'l2', max_iter=10000)\n",
        "lr_L2_grid = GridSearchCV(lr_L2, parameters, cv=5, n_jobs=1)\n",
        "lr_L2_grid.fit(lsi_train_lr, train_svm_label)\n",
        "#Result of CV\n",
        "print('L2')\n",
        "print(pd.DataFrame(lr_L2_grid.cv_results_)[['param_C','mean_test_score']].sort_values(by=['mean_test_score'], ascending=False))"
      ]
    },
    {
      "cell_type": "code",
      "execution_count": null,
      "metadata": {
        "id": "TzOGOXMenV1Y"
      },
      "outputs": [],
      "source": [
        "def report_lr(penalty, C):\n",
        "\n",
        "  if penalty != 'none':\n",
        "    solver = 'liblinear'\n",
        "  else:\n",
        "    solver = 'lbfgs'\n",
        "\n",
        "  lr = LogisticRegression(penalty=penalty, max_iter=10000, solver=solver)\n",
        "  lr.fit(lsi_train_lr, train_svm_label)\n",
        "  lr_pred = lr.predict(lsi_test_lr)\n",
        "\n",
        "  print('Accuracy: ' + str(accuracy_score(test_svm_label.ravel(), lr_pred)))\n",
        "  print('Precision: ' + str(precision_score(test_svm_label.ravel(), lr_pred)))\n",
        "  print('Recall: ' + str(recall_score(test_svm_label.ravel(), lr_pred)))\n",
        "  print('F-1 Score: ' + str(f1_score(test_svm_label.ravel(), lr_pred)))\n",
        "\n",
        "  #compute confusion matrix\n",
        "  cnf_lr_matrix = confusion_matrix(test_svm_label, lr_pred)\n",
        "  np.set_printoptions(precision=2)\n",
        "\n",
        "  #Plot confusion matrix\n",
        "  plt.figure()\n",
        "  plot_confusion_matrix(cnf_lr_matrix, \n",
        "                        title='Confusion matrix for Linear Regression, without normalization'\n",
        "                        )\n",
        "  plt.show() \n",
        "\n",
        "  #ROC Curve\n",
        "  fpr_lr, tpr_lr, thresholds = roc_curve(test_svm_label, lr.decision_function(lsi_test_lr))\n",
        "  plt.plot(fpr_lr, tpr_lr, color = 'forestgreen')\n",
        "  plt.xlabel('False Positive Rate')\n",
        "  plt.ylabel('True Positive Rate')\n",
        "  plt.title(\"ROC Curve for Linear Regression, without normalization\")\n",
        "  plt.show()\n",
        "\n",
        "  return fpr_lr, tpr_lr"
      ]
    },
    {
      "cell_type": "code",
      "execution_count": null,
      "metadata": {
        "id": "aF4p78v8nemO",
        "colab": {
          "base_uri": "https://localhost:8080/",
          "height": 1000
        },
        "outputId": "0ecbeeb2-d1b4-47c6-e569-0554df01db85"
      },
      "outputs": [
        {
          "output_type": "stream",
          "name": "stdout",
          "text": [
            "------Report of Linear Regression model without regularizaiton------\n",
            "\n",
            "Accuracy: 0.9634920634920635\n",
            "Precision: 0.9886363636363636\n",
            "Recall: 0.9482288828337875\n",
            "F-1 Score: 0.9680111265646733\n",
            "Confusion matrix, without normalization\n",
            "[[259   4]\n",
            " [ 19 348]]\n"
          ]
        },
        {
          "output_type": "display_data",
          "data": {
            "text/plain": [
              "<Figure size 432x288 with 2 Axes>"
            ],
            "image/png": "[encoded data removed]"
          },
          "metadata": {
            "needs_background": "light"
          }
        },
        {
          "output_type": "display_data",
          "data": {
            "text/plain": [
              "<Figure size 432x288 with 1 Axes>"
            ],
            "image/png": "[encoded data removed]"
          },
          "metadata": {
            "needs_background": "light"
          }
        },
        {
          "output_type": "stream",
          "name": "stdout",
          "text": [
            "------Report of Linear Regression model with L1 regularizaiton------\n",
            "\n",
            "C value : 10\n",
            "Accuracy: 0.9571428571428572\n",
            "Precision: 0.9696132596685083\n",
            "Recall: 0.9564032697547684\n",
            "F-1 Score: 0.9629629629629629\n",
            "Confusion matrix, without normalization\n",
            "[[252  11]\n",
            " [ 16 351]]\n"
          ]
        },
        {
          "output_type": "display_data",
          "data": {
            "text/plain": [
              "<Figure size 432x288 with 2 Axes>"
            ],
            "image/png": "[encoded data removed]"
          },
          "metadata": {
            "needs_background": "light"
          }
        },
        {
          "output_type": "display_data",
          "data": {
            "text/plain": [
              "<Figure size 432x288 with 1 Axes>"
            ],
            "image/png": "[encoded data removed]"
          },
          "metadata": {
            "needs_background": "light"
          }
        },
        {
          "output_type": "stream",
          "name": "stdout",
          "text": [
            "\n",
            "\n",
            "------Report of Linear Regression model with L2 regularizaiton------\n",
            "\n",
            "C value: 100\n",
            "Accuracy: 0.9603174603174603\n",
            "Precision: 0.9672131147540983\n",
            "Recall: 0.9645776566757494\n",
            "F-1 Score: 0.965893587994543\n",
            "Confusion matrix, without normalization\n",
            "[[251  12]\n",
            " [ 13 354]]\n"
          ]
        },
        {
          "output_type": "display_data",
          "data": {
            "text/plain": [
              "<Figure size 432x288 with 2 Axes>"
            ],
            "image/png": "[encoded data removed]"
          },
          "metadata": {
            "needs_background": "light"
          }
        },
        {
          "output_type": "display_data",
          "data": {
            "text/plain": [
              "<Figure size 432x288 with 1 Axes>"
            ],
            "image/png": "[encoded data removed]"
          },
          "metadata": {
            "needs_background": "light"
          }
        }
      ],
      "source": [
        "#No regularization\n",
        "print('------Report of Linear Regression model without regularizaiton------\\n')\n",
        "penalty = 'none'\n",
        "C = 1\n",
        "fpr_L0, tpr_L0 = report_lr(penalty, C)\n",
        "\n",
        "\n",
        "#L1\n",
        "print('------Report of Linear Regression model with L1 regularizaiton------\\n')\n",
        "penalty = 'l1'\n",
        "C = lr_L1_grid.best_params_['C']\n",
        "print('C value : '+str(C))\n",
        "fpr_L1, tpr_L1 = report_lr(penalty, C)\n",
        "print('\\n')\n",
        "\n",
        "#L2\n",
        "print('------Report of Linear Regression model with L2 regularizaiton------\\n')\n",
        "penalty = 'l2'\n",
        "C = lr_L2_grid.best_params_['C']\n",
        "print('C value: '+str(C))\n",
        "fpr_L2, tpr_L2 = report_lr(penalty, C)\n"
      ]
    },
    {
      "cell_type": "code",
      "execution_count": null,
      "metadata": {
        "id": "BxJoa66TYAt7",
        "colab": {
          "base_uri": "https://localhost:8080/",
          "height": 623
        },
        "outputId": "f53b38c9-9096-4569-f226-4a4598ae8f6f"
      },
      "outputs": [
        {
          "output_type": "display_data",
          "data": {
            "text/plain": [
              "<Figure size 864x648 with 1 Axes>"
            ],
            "image/png": "[encoded data removed]"
          },
          "metadata": {
            "needs_background": "light"
          }
        },
        {
          "output_type": "stream",
          "name": "stdout",
          "text": [
            "area under no regularization 0.9961355559929963\n",
            "area under L1 regularization 0.9944053625635872\n",
            "area under L2 regularization 0.9946022109178314\n"
          ]
        }
      ],
      "source": [
        "plt.figure(figsize=(12,9))\n",
        "plt.plot([0, 1], [0, 1], color='navy', lw=1, linestyle='--')\n",
        "plt.xlim([0.0, 1.0])\n",
        "plt.ylim([0.0, 1.05])\n",
        "plt.xlabel('False Positive Rate', fontsize=18)\n",
        "plt.ylabel('True Positive Rate', fontsize=18)\n",
        "plt.title('ROC Curve', fontsize=23)\n",
        "\n",
        "plt.plot(fpr_L0,tpr_L0, 'r', label='No regularization')\n",
        "plt.plot(fpr_L1,tpr_L1, label='L1 regularization')\n",
        "plt.plot(fpr_L2,tpr_L2,'g',label = 'L2 regularization')\n",
        "plt.legend()\n",
        "plt.title('Logistic Regression')\n",
        "plt.xlabel('false postive rate')\n",
        "plt.ylabel('true positive rate')\n",
        "plt.show()\n",
        "\n",
        "# area under the curve:\n",
        "roc_auc_none = auc(fpr_L0,tpr_L0)\n",
        "roc_auc_l1 = auc(fpr_L1,tpr_L1)\n",
        "roc_auc_l2 = auc(fpr_L2,tpr_L2)\n",
        "print(\"area under no regularization\", roc_auc_none)\n",
        "print(\"area under L1 regularization\", roc_auc_l1)\n",
        "print(\"area under L2 regularization\", roc_auc_l2)"
      ]
    },
    {
      "cell_type": "markdown",
      "metadata": {
        "id": "M-zNvOdafMWE"
      },
      "source": [
        "#Q7 - Naive Bayes Model"
      ]
    },
    {
      "cell_type": "code",
      "execution_count": null,
      "metadata": {
        "id": "VCN_49dBfRMg",
        "colab": {
          "base_uri": "https://localhost:8080/",
          "height": 718
        },
        "outputId": "c2d3bb38-e4ae-497e-ca8f-768ad5b9a9cb"
      },
      "outputs": [
        {
          "output_type": "stream",
          "name": "stdout",
          "text": [
            "Confusion matrix, without normalization\n",
            "[[182  81]\n",
            " [106 261]]\n"
          ]
        },
        {
          "output_type": "display_data",
          "data": {
            "text/plain": [
              "<Figure size 432x288 with 0 Axes>"
            ]
          },
          "metadata": {}
        },
        {
          "output_type": "display_data",
          "data": {
            "text/plain": [
              "<Figure size 432x288 with 2 Axes>"
            ],
            "image/png": "[encoded data removed]"
          },
          "metadata": {
            "needs_background": "light"
          }
        },
        {
          "output_type": "display_data",
          "data": {
            "text/plain": [
              "<Figure size 432x288 with 1 Axes>"
            ],
            "image/png": "[encoded data removed]"
          },
          "metadata": {
            "needs_background": "light"
          }
        },
        {
          "output_type": "stream",
          "name": "stdout",
          "text": [
            "Accuracy: 0.7031746031746032\n",
            "Precision: 0.7631578947368421\n",
            "Recall: 0.7111716621253406\n",
            "F-1 Score: 0.7362482369534556\n"
          ]
        }
      ],
      "source": [
        "#Train a GaussianNB classifier\n",
        "plt.gcf().clear()\n",
        "gnb = GaussianNB()\n",
        "gnb.fit(X_train_lsi, train_svm_label)\n",
        "pred = gnb.predict(X_test_lsi)\n",
        "\n",
        "#compute confusion matrix\n",
        "cnf_matrix = metrics.confusion_matrix(test_svm_label, pred)\n",
        "np.set_printoptions(precision=2)\n",
        "\n",
        "# Plot confusion matrix\n",
        "plt.figure()\n",
        "plot_confusion_matrix(cnf_matrix,title=\"Confusion Matrix\")\n",
        "plt.show() \n",
        "\n",
        "#Plot the ROC curve\n",
        "#fpr_best, tpr_best, thresholds = roc_curve(test_svm_label, svc_best.decision_function(lsi_test_svm))\n",
        "fpr, tpr,_ = roc_curve(test_svm_label.ravel(), gnb.predict_proba(X_test_lsi)[:,1])\n",
        "plt.plot(fpr, tpr)\n",
        "plt.xlabel('False Positive Rate')\n",
        "plt.ylabel('True Positive Rate')\n",
        "plt.title(\"ROC Curve for Naive Bayes\")\n",
        "plt.show()\n",
        "\n",
        "#Calculate the accuracy, recall, precision and F-1 score of this classifier on the testing set.\n",
        "print('Accuracy: ' + str(metrics.accuracy_score(test_svm_label.ravel(), pred)))\n",
        "print('Precision: ' + str(metrics.precision_score(test_svm_label.ravel(), pred)))\n",
        "print('Recall: ' + str(metrics.recall_score(test_svm_label.ravel(), pred)))\n",
        "print('F-1 Score: ' + str(metrics.f1_score(test_svm_label.ravel(), pred)))\n"
      ]
    },
    {
      "cell_type": "markdown",
      "metadata": {
        "id": "aioekpVqo1bT"
      },
      "source": [
        "# Q8 - Grid Search of Parameters"
      ]
    },
    {
      "cell_type": "code",
      "execution_count": null,
      "metadata": {
        "id": "pXtGe9deo863"
      },
      "outputs": [],
      "source": [
        "# Create a temporary folder to store the transformers of the pipeline\n",
        "location = \"cachedir\"\n",
        "memory = Memory(location=location, verbose=10)\n",
        "\n",
        "# Delete the temporary cache before exiting\n",
        "memory.clear(warn=False)\n",
        "rmtree(location)"
      ]
    },
    {
      "cell_type": "code",
      "execution_count": null,
      "metadata": {
        "id": "W-I6rA1E6roE"
      },
      "outputs": [],
      "source": [
        "####################################################\n",
        "#              Pipeline and options                #\n",
        "# 1. cleaning                                      #\n",
        "# 2. Feature Extraction (min_df = 3 vs. 5)         #\n",
        "# 3. LSI vs. NMF (k = [5, 30, 80])                 #\n",
        "# 4. Best SVM vs. Best Logistic vs. GaussianNB     #\n",
        "####################################################\n",
        "pipe = Pipeline(steps=[\n",
        "  (\"vect\", CountVectorizer(stop_words='english',)),\n",
        "  (\"tfidf\", TfidfTransformer()),\n",
        "  (\"dim_reduction\", TruncatedSVD()),\n",
        "  (\"classifier\", SVC(kernel='linear'))\n",
        "], memory = memory)"
      ]
    },
    {
      "cell_type": "code",
      "execution_count": null,
      "metadata": {
        "id": "3LJ8SpM6_nu-"
      },
      "outputs": [],
      "source": [
        "#for k = 5, 30\n",
        "param_grid = {\n",
        "    \"vect__min_df\": [3, 5],\n",
        "    \"dim_reduction\": [TruncatedSVD(n_components=5,random_state=42), \n",
        "                      TruncatedSVD(n_components=30,random_state=42),\n",
        "                      #TruncatedSVD(n_components=500,random_state=42),\n",
        "                      NMF(n_components=5,init='random', random_state=42),\n",
        "                      NMF(n_components=30,init='random', random_state=42)],\n",
        "                      #NMF(n_components=500,init='random', random_state=42),\n",
        "    \"classifier\": [SVC(C=svm_cv_grid.best_params_['C'],random_state=42), \n",
        "                   LogisticRegression(penalty='l2',C=lr_L2_grid.best_params_['C'],random_state=42),\n",
        "                   LogisticRegression(penalty='l1',C=lr_L1_grid.best_params_['C'],random_state=42,solver = 'liblinear'), \n",
        "                   GaussianNB()]\n",
        "}\n",
        "\n",
        "#for k= 80\n",
        "param_grid_80 = {\n",
        "    \"vect__min_df\": [3, 5],\n",
        "    \"dim_reduction\": [TruncatedSVD(n_components=80,random_state=42),\n",
        "                      NMF(n_components=80,init='random', random_state=42)],\n",
        "    \"classifier\": [SVC(C=svm_cv_grid.best_params_['C'],random_state=42), \n",
        "                   LogisticRegression(penalty='l2',C=lr_L2_grid.best_params_['C'],random_state=42),\n",
        "                   LogisticRegression(penalty='l1',C=lr_L1_grid.best_params_['C'],random_state=42,solver = 'liblinear'), \n",
        "                   GaussianNB()]\n",
        "}"
      ]
    },
    {
      "cell_type": "markdown",
      "metadata": {
        "id": "dI4Y47cQBWJe"
      },
      "source": [
        "## With Lemmatization\n",
        "\n"
      ]
    },
    {
      "cell_type": "code",
      "execution_count": null,
      "metadata": {
        "id": "LWne-L9bAUji",
        "colab": {
          "base_uri": "https://localhost:8080/"
        },
        "outputId": "85512b39-d03f-41a4-8229-09ed35247ce9"
      },
      "outputs": [
        {
          "output_type": "stream",
          "name": "stdout",
          "text": [
            "________________________________________________________________________________\n",
            "[Memory] Calling sklearn.pipeline._fit_transform_one...\n",
            "_fit_transform_one(CountVectorizer(min_df=3, stop_words='english'), 406      islamabad ap top order batter fakhar zaman is...\n",
            "1518     chessboxing jpg international chessboxing tou...\n",
            "1268     the tennessee state football team won t be ab...\n",
            "497      by pawan atri min read former pakistan cricke...\n",
            "342      in appliance conglomerate bosch created a sta...\n",
            "                              ...                        \n",
            "3092     some coachella valley homeowners and communit...\n",
            "1095     about photo gerard pique retired from soccer ...\n",
            "1130     how much of your donated clothing finds a new...\n",
            "1294     the tennessee state football team fell out of...\n",
            "860      wilmington starnews this feature is sponsored...\n",
            "Name: full_text, Length: 2016, dtype: object, \n",
            "array([1, ..., 1]), None, message_clsname='Pipeline', message=None)\n",
            "________________________________________________fit_transform_one - 0.7s, 0.0min\n",
            "________________________________________________________________________________\n",
            "[Memory] Calling sklearn.pipeline._fit_transform_one...\n",
            "_fit_transform_one(TfidfTransformer(), <2016x15086 sparse matrix of type '<class 'numpy.int64'>'\n",
            "\twith 336110 stored elements in Compressed Sparse Row format>, \n",
            "array([1, ..., 1]), None, message_clsname='Pipeline', message=None)\n",
            "________________________________________________fit_transform_one - 0.1s, 0.0min\n",
            "________________________________________________________________________________\n",
            "[Memory] Calling sklearn.pipeline._fit_transform_one...\n",
            "_fit_transform_one(TruncatedSVD(n_components=5, random_state=42), <2016x15086 sparse matrix of type '<class 'numpy.float64'>'\n",
            "\twith 336110 stored elements in Compressed Sparse Row format>, \n",
            "array([1, ..., 1]), None, message_clsname='Pipeline', message=None)\n",
            "________________________________________________fit_transform_one - 0.2s, 0.0min\n",
            "________________________________________________________________________________\n",
            "[Memory] Calling sklearn.pipeline._fit_transform_one...\n",
            "_fit_transform_one(CountVectorizer(min_df=3, stop_words='english'), 2310     as of sunday night a lopsided area of low pre...\n",
            "2189     the u n children s agency says some million c...\n",
            "2304     wicked winds and heavy rains battered the sta...\n",
            "2988     i live in a community with a homeowners assoc...\n",
            "221      the special olympics team took home the hard ...\n",
            "                              ...                        \n",
            "3092     some coachella valley homeowners and communit...\n",
            "1095     about photo gerard pique retired from soccer ...\n",
            "1130     how much of your donated clothing finds a new...\n",
            "1294     the tennessee state football team fell out of...\n",
            "860      wilmington starnews this feature is sponsored...\n",
            "Name: full_text, Length: 2016, dtype: object, \n",
            "array([0, ..., 1]), None, message_clsname='Pipeline', message=None)\n",
            "________________________________________________fit_transform_one - 0.7s, 0.0min\n",
            "________________________________________________________________________________\n",
            "[Memory] Calling sklearn.pipeline._fit_transform_one...\n",
            "_fit_transform_one(TfidfTransformer(), <2016x14834 sparse matrix of type '<class 'numpy.int64'>'\n",
            "\twith 332014 stored elements in Compressed Sparse Row format>, \n",
            "array([0, ..., 1]), None, message_clsname='Pipeline', message=None)\n",
            "________________________________________________fit_transform_one - 0.1s, 0.0min\n",
            "________________________________________________________________________________\n",
            "[Memory] Calling sklearn.pipeline._fit_transform_one...\n",
            "_fit_transform_one(TruncatedSVD(n_components=5, random_state=42), <2016x14834 sparse matrix of type '<class 'numpy.float64'>'\n",
            "\twith 332014 stored elements in Compressed Sparse Row format>, \n",
            "array([0, ..., 1]), None, message_clsname='Pipeline', message=None)\n",
            "________________________________________________fit_transform_one - 0.1s, 0.0min\n",
            "________________________________________________________________________________\n",
            "[Memory] Calling sklearn.pipeline._fit_transform_one...\n",
            "_fit_transform_one(CountVectorizer(min_df=3, stop_words='english'), 2310     as of sunday night a lopsided area of low pre...\n",
            "2189     the u n children s agency says some million c...\n",
            "2304     wicked winds and heavy rains battered the sta...\n",
            "2988     i live in a community with a homeowners assoc...\n",
            "221      the special olympics team took home the hard ...\n",
            "                              ...                        \n",
            "3092     some coachella valley homeowners and communit...\n",
            "1095     about photo gerard pique retired from soccer ...\n",
            "1130     how much of your donated clothing finds a new...\n",
            "1294     the tennessee state football team fell out of...\n",
            "860      wilmington starnews this feature is sponsored...\n",
            "Name: full_text, Length: 2016, dtype: object, \n",
            "array([0, ..., 1]), None, message_clsname='Pipeline', message=None)\n",
            "________________________________________________fit_transform_one - 0.7s, 0.0min\n",
            "________________________________________________________________________________\n",
            "[Memory] Calling sklearn.pipeline._fit_transform_one...\n",
            "_fit_transform_one(TfidfTransformer(), <2016x14865 sparse matrix of type '<class 'numpy.int64'>'\n",
            "\twith 331430 stored elements in Compressed Sparse Row format>, \n",
            "array([0, ..., 1]), None, message_clsname='Pipeline', message=None)\n",
            "________________________________________________fit_transform_one - 0.0s, 0.0min\n",
            "________________________________________________________________________________\n",
            "[Memory] Calling sklearn.pipeline._fit_transform_one...\n",
            "_fit_transform_one(TruncatedSVD(n_components=5, random_state=42), <2016x14865 sparse matrix of type '<class 'numpy.float64'>'\n",
            "\twith 331430 stored elements in Compressed Sparse Row format>, \n",
            "array([0, ..., 1]), None, message_clsname='Pipeline', message=None)\n",
            "________________________________________________fit_transform_one - 0.1s, 0.0min\n",
            "________________________________________________________________________________\n",
            "[Memory] Calling sklearn.pipeline._fit_transform_one...\n",
            "_fit_transform_one(CountVectorizer(min_df=3, stop_words='english'), 2310     as of sunday night a lopsided area of low pre...\n",
            "2189     the u n children s agency says some million c...\n",
            "2304     wicked winds and heavy rains battered the sta...\n",
            "2988     i live in a community with a homeowners assoc...\n",
            "221      the special olympics team took home the hard ...\n",
            "                              ...                        \n",
            "3092     some coachella valley homeowners and communit...\n",
            "1095     about photo gerard pique retired from soccer ...\n",
            "1130     how much of your donated clothing finds a new...\n",
            "1294     the tennessee state football team fell out of...\n",
            "860      wilmington starnews this feature is sponsored...\n",
            "Name: full_text, Length: 2016, dtype: object, \n",
            "array([0, ..., 1]), None, message_clsname='Pipeline', message=None)\n",
            "________________________________________________fit_transform_one - 0.7s, 0.0min\n",
            "________________________________________________________________________________\n",
            "[Memory] Calling sklearn.pipeline._fit_transform_one...\n",
            "_fit_transform_one(TfidfTransformer(), <2016x15292 sparse matrix of type '<class 'numpy.int64'>'\n",
            "\twith 338962 stored elements in Compressed Sparse Row format>, \n",
            "array([0, ..., 1]), None, message_clsname='Pipeline', message=None)\n",
            "________________________________________________fit_transform_one - 0.1s, 0.0min\n",
            "________________________________________________________________________________\n",
            "[Memory] Calling sklearn.pipeline._fit_transform_one...\n",
            "_fit_transform_one(TruncatedSVD(n_components=5, random_state=42), <2016x15292 sparse matrix of type '<class 'numpy.float64'>'\n",
            "\twith 338962 stored elements in Compressed Sparse Row format>, \n",
            "array([0, ..., 1]), None, message_clsname='Pipeline', message=None)\n",
            "________________________________________________fit_transform_one - 0.1s, 0.0min\n",
            "________________________________________________________________________________\n",
            "[Memory] Calling sklearn.pipeline._fit_transform_one...\n",
            "_fit_transform_one(CountVectorizer(min_df=3, stop_words='english'), 2310     as of sunday night a lopsided area of low pre...\n",
            "2189     the u n children s agency says some million c...\n",
            "2304     wicked winds and heavy rains battered the sta...\n",
            "2988     i live in a community with a homeowners assoc...\n",
            "221      the special olympics team took home the hard ...\n",
            "                              ...                        \n",
            "753      oklahoma vs iowa state schedule game time how...\n",
            "1630     a listener wrote into bobby bones mailbag say...\n",
            "11       canada s national sport is embroiled in scand...\n",
            "284      how are you feeling about potentially becomin...\n",
            "1066     some of the globe s greatest soccer stars are...\n",
            "Name: full_text, Length: 2016, dtype: object, \n",
            "array([0, ..., 1]), None, message_clsname='Pipeline', message=None)\n",
            "________________________________________________fit_transform_one - 0.8s, 0.0min\n",
            "________________________________________________________________________________\n",
            "[Memory] Calling sklearn.pipeline._fit_transform_one...\n",
            "_fit_transform_one(TfidfTransformer(), <2016x15153 sparse matrix of type '<class 'numpy.int64'>'\n",
            "\twith 330020 stored elements in Compressed Sparse Row format>, \n",
            "array([0, ..., 1]), None, message_clsname='Pipeline', message=None)\n",
            "________________________________________________fit_transform_one - 0.1s, 0.0min\n",
            "________________________________________________________________________________\n",
            "[Memory] Calling sklearn.pipeline._fit_transform_one...\n",
            "_fit_transform_one(TruncatedSVD(n_components=5, random_state=42), <2016x15153 sparse matrix of type '<class 'numpy.float64'>'\n",
            "\twith 330020 stored elements in Compressed Sparse Row format>, \n",
            "array([0, ..., 1]), None, message_clsname='Pipeline', message=None)\n",
            "________________________________________________fit_transform_one - 0.1s, 0.0min\n",
            "________________________________________________________________________________\n",
            "[Memory] Calling sklearn.pipeline._fit_transform_one...\n",
            "_fit_transform_one(CountVectorizer(min_df=5, stop_words='english'), 406      islamabad ap top order batter fakhar zaman is...\n",
            "1518     chessboxing jpg international chessboxing tou...\n",
            "1268     the tennessee state football team won t be ab...\n",
            "497      by pawan atri min read former pakistan cricke...\n",
            "342      in appliance conglomerate bosch created a sta...\n",
            "                              ...                        \n",
            "3092     some coachella valley homeowners and communit...\n",
            "1095     about photo gerard pique retired from soccer ...\n",
            "1130     how much of your donated clothing finds a new...\n",
            "1294     the tennessee state football team fell out of...\n",
            "860      wilmington starnews this feature is sponsored...\n",
            "Name: full_text, Length: 2016, dtype: object, \n",
            "array([1, ..., 1]), None, message_clsname='Pipeline', message=None)\n",
            "________________________________________________fit_transform_one - 0.9s, 0.0min\n",
            "________________________________________________________________________________\n",
            "[Memory] Calling sklearn.pipeline._fit_transform_one...\n",
            "_fit_transform_one(TfidfTransformer(), <2016x10584 sparse matrix of type '<class 'numpy.int64'>'\n",
            "\twith 320928 stored elements in Compressed Sparse Row format>, \n",
            "array([1, ..., 1]), None, message_clsname='Pipeline', message=None)\n",
            "________________________________________________fit_transform_one - 0.1s, 0.0min\n",
            "________________________________________________________________________________\n",
            "[Memory] Calling sklearn.pipeline._fit_transform_one...\n",
            "_fit_transform_one(TruncatedSVD(n_components=5, random_state=42), <2016x10584 sparse matrix of type '<class 'numpy.float64'>'\n",
            "\twith 320928 stored elements in Compressed Sparse Row format>, \n",
            "array([1, ..., 1]), None, message_clsname='Pipeline', message=None)\n",
            "________________________________________________fit_transform_one - 0.1s, 0.0min\n",
            "________________________________________________________________________________\n",
            "[Memory] Calling sklearn.pipeline._fit_transform_one...\n",
            "_fit_transform_one(CountVectorizer(min_df=5, stop_words='english'), 2310     as of sunday night a lopsided area of low pre...\n",
            "2189     the u n children s agency says some million c...\n",
            "2304     wicked winds and heavy rains battered the sta...\n",
            "2988     i live in a community with a homeowners assoc...\n",
            "221      the special olympics team took home the hard ...\n",
            "                              ...                        \n",
            "3092     some coachella valley homeowners and communit...\n",
            "1095     about photo gerard pique retired from soccer ...\n",
            "1130     how much of your donated clothing finds a new...\n",
            "1294     the tennessee state football team fell out of...\n",
            "860      wilmington starnews this feature is sponsored...\n",
            "Name: full_text, Length: 2016, dtype: object, \n",
            "array([0, ..., 1]), None, message_clsname='Pipeline', message=None)\n",
            "________________________________________________fit_transform_one - 0.7s, 0.0min\n",
            "________________________________________________________________________________\n",
            "[Memory] Calling sklearn.pipeline._fit_transform_one...\n",
            "_fit_transform_one(TfidfTransformer(), <2016x10120 sparse matrix of type '<class 'numpy.int64'>'\n",
            "\twith 315833 stored elements in Compressed Sparse Row format>, \n",
            "array([0, ..., 1]), None, message_clsname='Pipeline', message=None)\n",
            "________________________________________________fit_transform_one - 0.1s, 0.0min\n",
            "________________________________________________________________________________\n",
            "[Memory] Calling sklearn.pipeline._fit_transform_one...\n",
            "_fit_transform_one(TruncatedSVD(n_components=5, random_state=42), <2016x10120 sparse matrix of type '<class 'numpy.float64'>'\n",
            "\twith 315833 stored elements in Compressed Sparse Row format>, \n",
            "array([0, ..., 1]), None, message_clsname='Pipeline', message=None)\n",
            "________________________________________________fit_transform_one - 0.1s, 0.0min\n",
            "________________________________________________________________________________\n",
            "[Memory] Calling sklearn.pipeline._fit_transform_one...\n",
            "_fit_transform_one(CountVectorizer(min_df=5, stop_words='english'), 2310     as of sunday night a lopsided area of low pre...\n",
            "2189     the u n children s agency says some million c...\n",
            "2304     wicked winds and heavy rains battered the sta...\n",
            "2988     i live in a community with a homeowners assoc...\n",
            "221      the special olympics team took home the hard ...\n",
            "                              ...                        \n",
            "3092     some coachella valley homeowners and communit...\n",
            "1095     about photo gerard pique retired from soccer ...\n",
            "1130     how much of your donated clothing finds a new...\n",
            "1294     the tennessee state football team fell out of...\n",
            "860      wilmington starnews this feature is sponsored...\n",
            "Name: full_text, Length: 2016, dtype: object, \n",
            "array([0, ..., 1]), None, message_clsname='Pipeline', message=None)\n",
            "________________________________________________fit_transform_one - 0.7s, 0.0min\n",
            "________________________________________________________________________________\n",
            "[Memory] Calling sklearn.pipeline._fit_transform_one...\n",
            "_fit_transform_one(TfidfTransformer(), <2016x10534 sparse matrix of type '<class 'numpy.int64'>'\n",
            "\twith 316755 stored elements in Compressed Sparse Row format>, \n",
            "array([0, ..., 1]), None, message_clsname='Pipeline', message=None)\n",
            "________________________________________________fit_transform_one - 0.1s, 0.0min\n",
            "________________________________________________________________________________\n",
            "[Memory] Calling sklearn.pipeline._fit_transform_one...\n",
            "_fit_transform_one(TruncatedSVD(n_components=5, random_state=42), <2016x10534 sparse matrix of type '<class 'numpy.float64'>'\n",
            "\twith 316755 stored elements in Compressed Sparse Row format>, \n",
            "array([0, ..., 1]), None, message_clsname='Pipeline', message=None)\n",
            "________________________________________________fit_transform_one - 0.1s, 0.0min\n",
            "________________________________________________________________________________\n",
            "[Memory] Calling sklearn.pipeline._fit_transform_one...\n",
            "_fit_transform_one(CountVectorizer(min_df=5, stop_words='english'), 2310     as of sunday night a lopsided area of low pre...\n",
            "2189     the u n children s agency says some million c...\n",
            "2304     wicked winds and heavy rains battered the sta...\n",
            "2988     i live in a community with a homeowners assoc...\n",
            "221      the special olympics team took home the hard ...\n",
            "                              ...                        \n",
            "3092     some coachella valley homeowners and communit...\n",
            "1095     about photo gerard pique retired from soccer ...\n",
            "1130     how much of your donated clothing finds a new...\n",
            "1294     the tennessee state football team fell out of...\n",
            "860      wilmington starnews this feature is sponsored...\n",
            "Name: full_text, Length: 2016, dtype: object, \n",
            "array([0, ..., 1]), None, message_clsname='Pipeline', message=None)\n",
            "________________________________________________fit_transform_one - 0.7s, 0.0min\n",
            "________________________________________________________________________________\n",
            "[Memory] Calling sklearn.pipeline._fit_transform_one...\n",
            "_fit_transform_one(TfidfTransformer(), <2016x10580 sparse matrix of type '<class 'numpy.int64'>'\n",
            "\twith 323013 stored elements in Compressed Sparse Row format>, \n",
            "array([0, ..., 1]), None, message_clsname='Pipeline', message=None)\n",
            "________________________________________________fit_transform_one - 0.1s, 0.0min\n",
            "________________________________________________________________________________\n",
            "[Memory] Calling sklearn.pipeline._fit_transform_one...\n",
            "_fit_transform_one(TruncatedSVD(n_components=5, random_state=42), <2016x10580 sparse matrix of type '<class 'numpy.float64'>'\n",
            "\twith 323013 stored elements in Compressed Sparse Row format>, \n",
            "array([0, ..., 1]), None, message_clsname='Pipeline', message=None)\n",
            "________________________________________________fit_transform_one - 0.1s, 0.0min\n",
            "________________________________________________________________________________\n",
            "[Memory] Calling sklearn.pipeline._fit_transform_one...\n",
            "_fit_transform_one(CountVectorizer(min_df=5, stop_words='english'), 2310     as of sunday night a lopsided area of low pre...\n",
            "2189     the u n children s agency says some million c...\n",
            "2304     wicked winds and heavy rains battered the sta...\n",
            "2988     i live in a community with a homeowners assoc...\n",
            "221      the special olympics team took home the hard ...\n",
            "                              ...                        \n",
            "753      oklahoma vs iowa state schedule game time how...\n",
            "1630     a listener wrote into bobby bones mailbag say...\n",
            "11       canada s national sport is embroiled in scand...\n",
            "284      how are you feeling about potentially becomin...\n",
            "1066     some of the globe s greatest soccer stars are...\n",
            "Name: full_text, Length: 2016, dtype: object, \n",
            "array([0, ..., 1]), None, message_clsname='Pipeline', message=None)\n",
            "________________________________________________fit_transform_one - 0.7s, 0.0min\n",
            "________________________________________________________________________________\n",
            "[Memory] Calling sklearn.pipeline._fit_transform_one...\n",
            "_fit_transform_one(TfidfTransformer(), <2016x10098 sparse matrix of type '<class 'numpy.int64'>'\n",
            "\twith 313043 stored elements in Compressed Sparse Row format>, \n",
            "array([0, ..., 1]), None, message_clsname='Pipeline', message=None)\n",
            "________________________________________________fit_transform_one - 0.1s, 0.0min\n",
            "________________________________________________________________________________\n",
            "[Memory] Calling sklearn.pipeline._fit_transform_one...\n",
            "_fit_transform_one(TruncatedSVD(n_components=5, random_state=42), <2016x10098 sparse matrix of type '<class 'numpy.float64'>'\n",
            "\twith 313043 stored elements in Compressed Sparse Row format>, \n",
            "array([0, ..., 1]), None, message_clsname='Pipeline', message=None)\n",
            "________________________________________________fit_transform_one - 0.2s, 0.0min\n",
            "[Memory]0.0s, 0.0min    : Loading _fit_transform_one from cachedir/joblib/sklearn/pipeline/_fit_transform_one/66f096df1795da5c84f23408103d22b2\n",
            "___________________________________fit_transform_one cache loaded - 0.1s, 0.0min\n",
            "[Memory]0.1s, 0.0min    : Loading _fit_transform_one from cachedir/joblib/sklearn/pipeline/_fit_transform_one/f49d59f3d080bc113431ab88078b1af2\n",
            "___________________________________fit_transform_one cache loaded - 0.0s, 0.0min\n",
            "________________________________________________________________________________\n",
            "[Memory] Calling sklearn.pipeline._fit_transform_one...\n",
            "_fit_transform_one(TruncatedSVD(n_components=30, random_state=42), <2016x15086 sparse matrix of type '<class 'numpy.float64'>'\n",
            "\twith 336110 stored elements in Compressed Sparse Row format>, \n",
            "array([1, ..., 1]), None, message_clsname='Pipeline', message=None)\n",
            "________________________________________________fit_transform_one - 0.3s, 0.0min\n",
            "[Memory]0.0s, 0.0min    : Loading _fit_transform_one from cachedir/joblib/sklearn/pipeline/_fit_transform_one/b787281904d5d8d4253ddedc7ccc1bfd\n",
            "___________________________________fit_transform_one cache loaded - 0.1s, 0.0min\n",
            "[Memory]0.1s, 0.0min    : Loading _fit_transform_one from cachedir/joblib/sklearn/pipeline/_fit_transform_one/6c56d117e2b97c3985d4dbd757d0141d\n",
            "___________________________________fit_transform_one cache loaded - 0.0s, 0.0min\n",
            "________________________________________________________________________________\n",
            "[Memory] Calling sklearn.pipeline._fit_transform_one...\n",
            "_fit_transform_one(TruncatedSVD(n_components=30, random_state=42), <2016x14834 sparse matrix of type '<class 'numpy.float64'>'\n",
            "\twith 332014 stored elements in Compressed Sparse Row format>, \n",
            "array([0, ..., 1]), None, message_clsname='Pipeline', message=None)\n",
            "________________________________________________fit_transform_one - 0.3s, 0.0min\n",
            "[Memory]0.0s, 0.0min    : Loading _fit_transform_one from cachedir/joblib/sklearn/pipeline/_fit_transform_one/85ba9e6fc1acbb83c404f3e410efebe9\n",
            "___________________________________fit_transform_one cache loaded - 0.1s, 0.0min\n",
            "[Memory]0.1s, 0.0min    : Loading _fit_transform_one from cachedir/joblib/sklearn/pipeline/_fit_transform_one/256bcc8ea871397960db1e07d1f71d57\n",
            "___________________________________fit_transform_one cache loaded - 0.0s, 0.0min\n",
            "________________________________________________________________________________\n",
            "[Memory] Calling sklearn.pipeline._fit_transform_one...\n",
            "_fit_transform_one(TruncatedSVD(n_components=30, random_state=42), <2016x14865 sparse matrix of type '<class 'numpy.float64'>'\n",
            "\twith 331430 stored elements in Compressed Sparse Row format>, \n",
            "array([0, ..., 1]), None, message_clsname='Pipeline', message=None)\n",
            "________________________________________________fit_transform_one - 0.3s, 0.0min\n",
            "[Memory]0.0s, 0.0min    : Loading _fit_transform_one from cachedir/joblib/sklearn/pipeline/_fit_transform_one/e1b82fe716df21d74b2c38215e1a5eaa\n",
            "___________________________________fit_transform_one cache loaded - 0.1s, 0.0min\n",
            "[Memory]0.1s, 0.0min    : Loading _fit_transform_one from cachedir/joblib/sklearn/pipeline/_fit_transform_one/7c6407b59d3e089b9b110924ff137c62\n",
            "___________________________________fit_transform_one cache loaded - 0.0s, 0.0min\n",
            "________________________________________________________________________________\n",
            "[Memory] Calling sklearn.pipeline._fit_transform_one...\n",
            "_fit_transform_one(TruncatedSVD(n_components=30, random_state=42), <2016x15292 sparse matrix of type '<class 'numpy.float64'>'\n",
            "\twith 338962 stored elements in Compressed Sparse Row format>, \n",
            "array([0, ..., 1]), None, message_clsname='Pipeline', message=None)\n",
            "________________________________________________fit_transform_one - 0.2s, 0.0min\n",
            "[Memory]0.0s, 0.0min    : Loading _fit_transform_one from cachedir/joblib/sklearn/pipeline/_fit_transform_one/86d2f04be2a9d6e659f99d3e9a62574f\n",
            "___________________________________fit_transform_one cache loaded - 0.1s, 0.0min\n",
            "[Memory]0.1s, 0.0min    : Loading _fit_transform_one from cachedir/joblib/sklearn/pipeline/_fit_transform_one/3cbc1101fa820b5ef39c46f85167cf2e\n",
            "___________________________________fit_transform_one cache loaded - 0.0s, 0.0min\n",
            "________________________________________________________________________________\n",
            "[Memory] Calling sklearn.pipeline._fit_transform_one...\n",
            "_fit_transform_one(TruncatedSVD(n_components=30, random_state=42), <2016x15153 sparse matrix of type '<class 'numpy.float64'>'\n",
            "\twith 330020 stored elements in Compressed Sparse Row format>, \n",
            "array([0, ..., 1]), None, message_clsname='Pipeline', message=None)\n",
            "________________________________________________fit_transform_one - 0.3s, 0.0min\n",
            "[Memory]0.0s, 0.0min    : Loading _fit_transform_one from cachedir/joblib/sklearn/pipeline/_fit_transform_one/fb9c4da1f35b2ed5493daee9385c47fa\n",
            "___________________________________fit_transform_one cache loaded - 0.1s, 0.0min\n",
            "[Memory]0.1s, 0.0min    : Loading _fit_transform_one from cachedir/joblib/sklearn/pipeline/_fit_transform_one/7a8272ea6c3f30c674947a15e247bbf7\n",
            "___________________________________fit_transform_one cache loaded - 0.0s, 0.0min\n",
            "________________________________________________________________________________\n",
            "[Memory] Calling sklearn.pipeline._fit_transform_one...\n",
            "_fit_transform_one(TruncatedSVD(n_components=30, random_state=42), <2016x10584 sparse matrix of type '<class 'numpy.float64'>'\n",
            "\twith 320928 stored elements in Compressed Sparse Row format>, \n",
            "array([1, ..., 1]), None, message_clsname='Pipeline', message=None)\n",
            "________________________________________________fit_transform_one - 0.2s, 0.0min\n",
            "[Memory]0.0s, 0.0min    : Loading _fit_transform_one from cachedir/joblib/sklearn/pipeline/_fit_transform_one/e17e003cefe0e28f8272b0d74d85b835\n",
            "___________________________________fit_transform_one cache loaded - 0.1s, 0.0min\n",
            "[Memory]0.1s, 0.0min    : Loading _fit_transform_one from cachedir/joblib/sklearn/pipeline/_fit_transform_one/ed24d4f44ef18c864477d77ce8f73fbe\n",
            "___________________________________fit_transform_one cache loaded - 0.0s, 0.0min\n",
            "________________________________________________________________________________\n",
            "[Memory] Calling sklearn.pipeline._fit_transform_one...\n",
            "_fit_transform_one(TruncatedSVD(n_components=30, random_state=42), <2016x10120 sparse matrix of type '<class 'numpy.float64'>'\n",
            "\twith 315833 stored elements in Compressed Sparse Row format>, \n",
            "array([0, ..., 1]), None, message_clsname='Pipeline', message=None)\n",
            "________________________________________________fit_transform_one - 0.4s, 0.0min\n",
            "[Memory]0.0s, 0.0min    : Loading _fit_transform_one from cachedir/joblib/sklearn/pipeline/_fit_transform_one/5dc41e6435ac102ca6477e2691e1379a\n",
            "___________________________________fit_transform_one cache loaded - 0.1s, 0.0min\n",
            "[Memory]0.2s, 0.0min    : Loading _fit_transform_one from cachedir/joblib/sklearn/pipeline/_fit_transform_one/94faa314b6e9f5da187cb66d0b1d6f33\n",
            "___________________________________fit_transform_one cache loaded - 0.0s, 0.0min\n",
            "________________________________________________________________________________\n",
            "[Memory] Calling sklearn.pipeline._fit_transform_one...\n",
            "_fit_transform_one(TruncatedSVD(n_components=30, random_state=42), <2016x10534 sparse matrix of type '<class 'numpy.float64'>'\n",
            "\twith 316755 stored elements in Compressed Sparse Row format>, \n",
            "array([0, ..., 1]), None, message_clsname='Pipeline', message=None)\n",
            "________________________________________________fit_transform_one - 0.2s, 0.0min\n",
            "[Memory]0.0s, 0.0min    : Loading _fit_transform_one from cachedir/joblib/sklearn/pipeline/_fit_transform_one/e8dc13eb0efcf1c2a8bdaa0cebf3c9ff\n",
            "___________________________________fit_transform_one cache loaded - 0.1s, 0.0min\n",
            "[Memory]0.1s, 0.0min    : Loading _fit_transform_one from cachedir/joblib/sklearn/pipeline/_fit_transform_one/88fc7ec26c8a39c3195d2e241ab582d8\n",
            "___________________________________fit_transform_one cache loaded - 0.0s, 0.0min\n",
            "________________________________________________________________________________\n",
            "[Memory] Calling sklearn.pipeline._fit_transform_one...\n",
            "_fit_transform_one(TruncatedSVD(n_components=30, random_state=42), <2016x10580 sparse matrix of type '<class 'numpy.float64'>'\n",
            "\twith 323013 stored elements in Compressed Sparse Row format>, \n",
            "array([0, ..., 1]), None, message_clsname='Pipeline', message=None)\n",
            "________________________________________________fit_transform_one - 0.3s, 0.0min\n",
            "[Memory]0.0s, 0.0min    : Loading _fit_transform_one from cachedir/joblib/sklearn/pipeline/_fit_transform_one/98dec079fcfa8cc20e0a0f6ad2e7e625\n",
            "___________________________________fit_transform_one cache loaded - 0.1s, 0.0min\n",
            "[Memory]0.1s, 0.0min    : Loading _fit_transform_one from cachedir/joblib/sklearn/pipeline/_fit_transform_one/fc9fc46c182a07822e91ba269ec9093c\n",
            "___________________________________fit_transform_one cache loaded - 0.0s, 0.0min\n",
            "________________________________________________________________________________\n",
            "[Memory] Calling sklearn.pipeline._fit_transform_one...\n",
            "_fit_transform_one(TruncatedSVD(n_components=30, random_state=42), <2016x10098 sparse matrix of type '<class 'numpy.float64'>'\n",
            "\twith 313043 stored elements in Compressed Sparse Row format>, \n",
            "array([0, ..., 1]), None, message_clsname='Pipeline', message=None)\n",
            "________________________________________________fit_transform_one - 0.2s, 0.0min\n",
            "[Memory]0.0s, 0.0min    : Loading _fit_transform_one from cachedir/joblib/sklearn/pipeline/_fit_transform_one/66f096df1795da5c84f23408103d22b2\n",
            "___________________________________fit_transform_one cache loaded - 0.1s, 0.0min\n",
            "[Memory]0.1s, 0.0min    : Loading _fit_transform_one from cachedir/joblib/sklearn/pipeline/_fit_transform_one/f49d59f3d080bc113431ab88078b1af2\n",
            "___________________________________fit_transform_one cache loaded - 0.0s, 0.0min\n",
            "________________________________________________________________________________\n",
            "[Memory] Calling sklearn.pipeline._fit_transform_one...\n",
            "_fit_transform_one(NMF(init='random', n_components=5, random_state=42), <2016x15086 sparse matrix of type '<class 'numpy.float64'>'\n",
            "\twith 336110 stored elements in Compressed Sparse Row format>, \n",
            "array([1, ..., 1]), None, message_clsname='Pipeline', message=None)\n",
            "________________________________________________fit_transform_one - 0.7s, 0.0min\n",
            "[Memory]0.0s, 0.0min    : Loading _fit_transform_one from cachedir/joblib/sklearn/pipeline/_fit_transform_one/b787281904d5d8d4253ddedc7ccc1bfd\n",
            "___________________________________fit_transform_one cache loaded - 0.1s, 0.0min\n",
            "[Memory]0.1s, 0.0min    : Loading _fit_transform_one from cachedir/joblib/sklearn/pipeline/_fit_transform_one/6c56d117e2b97c3985d4dbd757d0141d\n",
            "___________________________________fit_transform_one cache loaded - 0.0s, 0.0min\n",
            "________________________________________________________________________________\n",
            "[Memory] Calling sklearn.pipeline._fit_transform_one...\n",
            "_fit_transform_one(NMF(init='random', n_components=5, random_state=42), <2016x14834 sparse matrix of type '<class 'numpy.float64'>'\n",
            "\twith 332014 stored elements in Compressed Sparse Row format>, \n",
            "array([0, ..., 1]), None, message_clsname='Pipeline', message=None)\n",
            "________________________________________________fit_transform_one - 0.4s, 0.0min\n",
            "[Memory]0.0s, 0.0min    : Loading _fit_transform_one from cachedir/joblib/sklearn/pipeline/_fit_transform_one/85ba9e6fc1acbb83c404f3e410efebe9\n",
            "___________________________________fit_transform_one cache loaded - 0.1s, 0.0min\n",
            "[Memory]0.1s, 0.0min    : Loading _fit_transform_one from cachedir/joblib/sklearn/pipeline/_fit_transform_one/256bcc8ea871397960db1e07d1f71d57\n",
            "___________________________________fit_transform_one cache loaded - 0.0s, 0.0min\n",
            "________________________________________________________________________________\n",
            "[Memory] Calling sklearn.pipeline._fit_transform_one...\n",
            "_fit_transform_one(NMF(init='random', n_components=5, random_state=42), <2016x14865 sparse matrix of type '<class 'numpy.float64'>'\n",
            "\twith 331430 stored elements in Compressed Sparse Row format>, \n",
            "array([0, ..., 1]), None, message_clsname='Pipeline', message=None)\n",
            "________________________________________________fit_transform_one - 0.5s, 0.0min\n",
            "[Memory]0.0s, 0.0min    : Loading _fit_transform_one from cachedir/joblib/sklearn/pipeline/_fit_transform_one/e1b82fe716df21d74b2c38215e1a5eaa\n",
            "___________________________________fit_transform_one cache loaded - 0.1s, 0.0min\n",
            "[Memory]0.1s, 0.0min    : Loading _fit_transform_one from cachedir/joblib/sklearn/pipeline/_fit_transform_one/7c6407b59d3e089b9b110924ff137c62\n",
            "___________________________________fit_transform_one cache loaded - 0.0s, 0.0min\n",
            "________________________________________________________________________________\n",
            "[Memory] Calling sklearn.pipeline._fit_transform_one...\n",
            "_fit_transform_one(NMF(init='random', n_components=5, random_state=42), <2016x15292 sparse matrix of type '<class 'numpy.float64'>'\n",
            "\twith 338962 stored elements in Compressed Sparse Row format>, \n",
            "array([0, ..., 1]), None, message_clsname='Pipeline', message=None)\n",
            "________________________________________________fit_transform_one - 0.3s, 0.0min\n",
            "[Memory]0.0s, 0.0min    : Loading _fit_transform_one from cachedir/joblib/sklearn/pipeline/_fit_transform_one/86d2f04be2a9d6e659f99d3e9a62574f\n",
            "___________________________________fit_transform_one cache loaded - 0.1s, 0.0min\n",
            "[Memory]0.1s, 0.0min    : Loading _fit_transform_one from cachedir/joblib/sklearn/pipeline/_fit_transform_one/3cbc1101fa820b5ef39c46f85167cf2e\n",
            "___________________________________fit_transform_one cache loaded - 0.0s, 0.0min\n",
            "________________________________________________________________________________\n",
            "[Memory] Calling sklearn.pipeline._fit_transform_one...\n",
            "_fit_transform_one(NMF(init='random', n_components=5, random_state=42), <2016x15153 sparse matrix of type '<class 'numpy.float64'>'\n",
            "\twith 330020 stored elements in Compressed Sparse Row format>, \n",
            "array([0, ..., 1]), None, message_clsname='Pipeline', message=None)\n",
            "________________________________________________fit_transform_one - 0.6s, 0.0min\n",
            "[Memory]0.0s, 0.0min    : Loading _fit_transform_one from cachedir/joblib/sklearn/pipeline/_fit_transform_one/fb9c4da1f35b2ed5493daee9385c47fa\n",
            "___________________________________fit_transform_one cache loaded - 0.1s, 0.0min\n",
            "[Memory]0.1s, 0.0min    : Loading _fit_transform_one from cachedir/joblib/sklearn/pipeline/_fit_transform_one/7a8272ea6c3f30c674947a15e247bbf7\n",
            "___________________________________fit_transform_one cache loaded - 0.0s, 0.0min\n",
            "________________________________________________________________________________\n",
            "[Memory] Calling sklearn.pipeline._fit_transform_one...\n",
            "_fit_transform_one(NMF(init='random', n_components=5, random_state=42), <2016x10584 sparse matrix of type '<class 'numpy.float64'>'\n",
            "\twith 320928 stored elements in Compressed Sparse Row format>, \n",
            "array([1, ..., 1]), None, message_clsname='Pipeline', message=None)\n",
            "________________________________________________fit_transform_one - 0.3s, 0.0min\n",
            "[Memory]0.0s, 0.0min    : Loading _fit_transform_one from cachedir/joblib/sklearn/pipeline/_fit_transform_one/e17e003cefe0e28f8272b0d74d85b835\n",
            "___________________________________fit_transform_one cache loaded - 0.1s, 0.0min\n",
            "[Memory]0.1s, 0.0min    : Loading _fit_transform_one from cachedir/joblib/sklearn/pipeline/_fit_transform_one/ed24d4f44ef18c864477d77ce8f73fbe\n",
            "___________________________________fit_transform_one cache loaded - 0.0s, 0.0min\n",
            "________________________________________________________________________________\n",
            "[Memory] Calling sklearn.pipeline._fit_transform_one...\n",
            "_fit_transform_one(NMF(init='random', n_components=5, random_state=42), <2016x10120 sparse matrix of type '<class 'numpy.float64'>'\n",
            "\twith 315833 stored elements in Compressed Sparse Row format>, \n",
            "array([0, ..., 1]), None, message_clsname='Pipeline', message=None)\n",
            "________________________________________________fit_transform_one - 0.2s, 0.0min\n",
            "[Memory]0.0s, 0.0min    : Loading _fit_transform_one from cachedir/joblib/sklearn/pipeline/_fit_transform_one/5dc41e6435ac102ca6477e2691e1379a\n",
            "___________________________________fit_transform_one cache loaded - 0.1s, 0.0min\n",
            "[Memory]0.1s, 0.0min    : Loading _fit_transform_one from cachedir/joblib/sklearn/pipeline/_fit_transform_one/94faa314b6e9f5da187cb66d0b1d6f33\n",
            "___________________________________fit_transform_one cache loaded - 0.0s, 0.0min\n",
            "________________________________________________________________________________\n",
            "[Memory] Calling sklearn.pipeline._fit_transform_one...\n",
            "_fit_transform_one(NMF(init='random', n_components=5, random_state=42), <2016x10534 sparse matrix of type '<class 'numpy.float64'>'\n",
            "\twith 316755 stored elements in Compressed Sparse Row format>, \n",
            "array([0, ..., 1]), None, message_clsname='Pipeline', message=None)\n",
            "________________________________________________fit_transform_one - 0.5s, 0.0min\n",
            "[Memory]0.0s, 0.0min    : Loading _fit_transform_one from cachedir/joblib/sklearn/pipeline/_fit_transform_one/e8dc13eb0efcf1c2a8bdaa0cebf3c9ff\n",
            "___________________________________fit_transform_one cache loaded - 0.1s, 0.0min\n",
            "[Memory]0.1s, 0.0min    : Loading _fit_transform_one from cachedir/joblib/sklearn/pipeline/_fit_transform_one/88fc7ec26c8a39c3195d2e241ab582d8\n",
            "___________________________________fit_transform_one cache loaded - 0.0s, 0.0min\n",
            "________________________________________________________________________________\n",
            "[Memory] Calling sklearn.pipeline._fit_transform_one...\n",
            "_fit_transform_one(NMF(init='random', n_components=5, random_state=42), <2016x10580 sparse matrix of type '<class 'numpy.float64'>'\n",
            "\twith 323013 stored elements in Compressed Sparse Row format>, \n",
            "array([0, ..., 1]), None, message_clsname='Pipeline', message=None)\n",
            "________________________________________________fit_transform_one - 0.3s, 0.0min\n",
            "[Memory]0.0s, 0.0min    : Loading _fit_transform_one from cachedir/joblib/sklearn/pipeline/_fit_transform_one/98dec079fcfa8cc20e0a0f6ad2e7e625\n",
            "___________________________________fit_transform_one cache loaded - 0.1s, 0.0min\n",
            "[Memory]0.1s, 0.0min    : Loading _fit_transform_one from cachedir/joblib/sklearn/pipeline/_fit_transform_one/fc9fc46c182a07822e91ba269ec9093c\n",
            "___________________________________fit_transform_one cache loaded - 0.0s, 0.0min\n",
            "________________________________________________________________________________\n",
            "[Memory] Calling sklearn.pipeline._fit_transform_one...\n",
            "_fit_transform_one(NMF(init='random', n_components=5, random_state=42), <2016x10098 sparse matrix of type '<class 'numpy.float64'>'\n",
            "\twith 313043 stored elements in Compressed Sparse Row format>, \n",
            "array([0, ..., 1]), None, message_clsname='Pipeline', message=None)\n",
            "________________________________________________fit_transform_one - 0.4s, 0.0min\n",
            "[Memory]0.0s, 0.0min    : Loading _fit_transform_one from cachedir/joblib/sklearn/pipeline/_fit_transform_one/66f096df1795da5c84f23408103d22b2\n",
            "___________________________________fit_transform_one cache loaded - 0.1s, 0.0min\n",
            "[Memory]0.1s, 0.0min    : Loading _fit_transform_one from cachedir/joblib/sklearn/pipeline/_fit_transform_one/f49d59f3d080bc113431ab88078b1af2\n",
            "___________________________________fit_transform_one cache loaded - 0.0s, 0.0min\n",
            "________________________________________________________________________________\n",
            "[Memory] Calling sklearn.pipeline._fit_transform_one...\n",
            "_fit_transform_one(NMF(init='random', n_components=30, random_state=42), <2016x15086 sparse matrix of type '<class 'numpy.float64'>'\n",
            "\twith 336110 stored elements in Compressed Sparse Row format>, \n",
            "array([1, ..., 1]), None, message_clsname='Pipeline', message=None)\n",
            "________________________________________________fit_transform_one - 2.1s, 0.0min\n",
            "[Memory]0.0s, 0.0min    : Loading _fit_transform_one from cachedir/joblib/sklearn/pipeline/_fit_transform_one/b787281904d5d8d4253ddedc7ccc1bfd\n",
            "___________________________________fit_transform_one cache loaded - 0.1s, 0.0min\n",
            "[Memory]0.1s, 0.0min    : Loading _fit_transform_one from cachedir/joblib/sklearn/pipeline/_fit_transform_one/6c56d117e2b97c3985d4dbd757d0141d\n",
            "___________________________________fit_transform_one cache loaded - 0.0s, 0.0min\n",
            "________________________________________________________________________________\n",
            "[Memory] Calling sklearn.pipeline._fit_transform_one...\n",
            "_fit_transform_one(NMF(init='random', n_components=30, random_state=42), <2016x14834 sparse matrix of type '<class 'numpy.float64'>'\n",
            "\twith 332014 stored elements in Compressed Sparse Row format>, \n",
            "array([0, ..., 1]), None, message_clsname='Pipeline', message=None)\n",
            "________________________________________________fit_transform_one - 1.6s, 0.0min\n",
            "[Memory]0.0s, 0.0min    : Loading _fit_transform_one from cachedir/joblib/sklearn/pipeline/_fit_transform_one/85ba9e6fc1acbb83c404f3e410efebe9\n",
            "___________________________________fit_transform_one cache loaded - 0.1s, 0.0min\n",
            "[Memory]0.1s, 0.0min    : Loading _fit_transform_one from cachedir/joblib/sklearn/pipeline/_fit_transform_one/256bcc8ea871397960db1e07d1f71d57\n",
            "___________________________________fit_transform_one cache loaded - 0.0s, 0.0min\n",
            "________________________________________________________________________________\n",
            "[Memory] Calling sklearn.pipeline._fit_transform_one...\n",
            "_fit_transform_one(NMF(init='random', n_components=30, random_state=42), <2016x14865 sparse matrix of type '<class 'numpy.float64'>'\n",
            "\twith 331430 stored elements in Compressed Sparse Row format>, \n",
            "array([0, ..., 1]), None, message_clsname='Pipeline', message=None)\n",
            "________________________________________________fit_transform_one - 3.2s, 0.1min\n",
            "[Memory]0.0s, 0.0min    : Loading _fit_transform_one from cachedir/joblib/sklearn/pipeline/_fit_transform_one/e1b82fe716df21d74b2c38215e1a5eaa\n",
            "___________________________________fit_transform_one cache loaded - 0.1s, 0.0min\n",
            "[Memory]0.1s, 0.0min    : Loading _fit_transform_one from cachedir/joblib/sklearn/pipeline/_fit_transform_one/7c6407b59d3e089b9b110924ff137c62\n",
            "___________________________________fit_transform_one cache loaded - 0.0s, 0.0min\n",
            "________________________________________________________________________________\n",
            "[Memory] Calling sklearn.pipeline._fit_transform_one...\n",
            "_fit_transform_one(NMF(init='random', n_components=30, random_state=42), <2016x15292 sparse matrix of type '<class 'numpy.float64'>'\n",
            "\twith 338962 stored elements in Compressed Sparse Row format>, \n",
            "array([0, ..., 1]), None, message_clsname='Pipeline', message=None)\n",
            "________________________________________________fit_transform_one - 1.8s, 0.0min\n",
            "[Memory]0.0s, 0.0min    : Loading _fit_transform_one from cachedir/joblib/sklearn/pipeline/_fit_transform_one/86d2f04be2a9d6e659f99d3e9a62574f\n",
            "___________________________________fit_transform_one cache loaded - 0.1s, 0.0min\n",
            "[Memory]0.1s, 0.0min    : Loading _fit_transform_one from cachedir/joblib/sklearn/pipeline/_fit_transform_one/3cbc1101fa820b5ef39c46f85167cf2e\n",
            "___________________________________fit_transform_one cache loaded - 0.0s, 0.0min\n",
            "________________________________________________________________________________\n",
            "[Memory] Calling sklearn.pipeline._fit_transform_one...\n",
            "_fit_transform_one(NMF(init='random', n_components=30, random_state=42), <2016x15153 sparse matrix of type '<class 'numpy.float64'>'\n",
            "\twith 330020 stored elements in Compressed Sparse Row format>, \n",
            "array([0, ..., 1]), None, message_clsname='Pipeline', message=None)\n",
            "________________________________________________fit_transform_one - 2.3s, 0.0min\n",
            "[Memory]0.0s, 0.0min    : Loading _fit_transform_one from cachedir/joblib/sklearn/pipeline/_fit_transform_one/fb9c4da1f35b2ed5493daee9385c47fa\n",
            "___________________________________fit_transform_one cache loaded - 0.1s, 0.0min\n",
            "[Memory]0.1s, 0.0min    : Loading _fit_transform_one from cachedir/joblib/sklearn/pipeline/_fit_transform_one/7a8272ea6c3f30c674947a15e247bbf7\n",
            "___________________________________fit_transform_one cache loaded - 0.0s, 0.0min\n",
            "________________________________________________________________________________\n",
            "[Memory] Calling sklearn.pipeline._fit_transform_one...\n",
            "_fit_transform_one(NMF(init='random', n_components=30, random_state=42), <2016x10584 sparse matrix of type '<class 'numpy.float64'>'\n",
            "\twith 320928 stored elements in Compressed Sparse Row format>, \n",
            "array([1, ..., 1]), None, message_clsname='Pipeline', message=None)\n",
            "________________________________________________fit_transform_one - 1.2s, 0.0min\n",
            "[Memory]0.0s, 0.0min    : Loading _fit_transform_one from cachedir/joblib/sklearn/pipeline/_fit_transform_one/e17e003cefe0e28f8272b0d74d85b835\n",
            "___________________________________fit_transform_one cache loaded - 0.1s, 0.0min\n",
            "[Memory]0.1s, 0.0min    : Loading _fit_transform_one from cachedir/joblib/sklearn/pipeline/_fit_transform_one/ed24d4f44ef18c864477d77ce8f73fbe\n",
            "___________________________________fit_transform_one cache loaded - 0.0s, 0.0min\n",
            "________________________________________________________________________________\n",
            "[Memory] Calling sklearn.pipeline._fit_transform_one...\n",
            "_fit_transform_one(NMF(init='random', n_components=30, random_state=42), <2016x10120 sparse matrix of type '<class 'numpy.float64'>'\n",
            "\twith 315833 stored elements in Compressed Sparse Row format>, \n",
            "array([0, ..., 1]), None, message_clsname='Pipeline', message=None)\n",
            "________________________________________________fit_transform_one - 3.1s, 0.1min\n",
            "[Memory]0.0s, 0.0min    : Loading _fit_transform_one from cachedir/joblib/sklearn/pipeline/_fit_transform_one/5dc41e6435ac102ca6477e2691e1379a\n",
            "___________________________________fit_transform_one cache loaded - 0.1s, 0.0min\n",
            "[Memory]0.1s, 0.0min    : Loading _fit_transform_one from cachedir/joblib/sklearn/pipeline/_fit_transform_one/94faa314b6e9f5da187cb66d0b1d6f33\n",
            "___________________________________fit_transform_one cache loaded - 0.0s, 0.0min\n",
            "________________________________________________________________________________\n",
            "[Memory] Calling sklearn.pipeline._fit_transform_one...\n",
            "_fit_transform_one(NMF(init='random', n_components=30, random_state=42), <2016x10534 sparse matrix of type '<class 'numpy.float64'>'\n",
            "\twith 316755 stored elements in Compressed Sparse Row format>, \n",
            "array([0, ..., 1]), None, message_clsname='Pipeline', message=None)\n",
            "________________________________________________fit_transform_one - 1.5s, 0.0min\n",
            "[Memory]0.0s, 0.0min    : Loading _fit_transform_one from cachedir/joblib/sklearn/pipeline/_fit_transform_one/e8dc13eb0efcf1c2a8bdaa0cebf3c9ff\n",
            "___________________________________fit_transform_one cache loaded - 0.1s, 0.0min\n",
            "[Memory]0.1s, 0.0min    : Loading _fit_transform_one from cachedir/joblib/sklearn/pipeline/_fit_transform_one/88fc7ec26c8a39c3195d2e241ab582d8\n",
            "___________________________________fit_transform_one cache loaded - 0.0s, 0.0min\n",
            "________________________________________________________________________________\n",
            "[Memory] Calling sklearn.pipeline._fit_transform_one...\n",
            "_fit_transform_one(NMF(init='random', n_components=30, random_state=42), <2016x10580 sparse matrix of type '<class 'numpy.float64'>'\n",
            "\twith 323013 stored elements in Compressed Sparse Row format>, \n",
            "array([0, ..., 1]), None, message_clsname='Pipeline', message=None)\n",
            "________________________________________________fit_transform_one - 2.3s, 0.0min\n",
            "[Memory]0.0s, 0.0min    : Loading _fit_transform_one from cachedir/joblib/sklearn/pipeline/_fit_transform_one/98dec079fcfa8cc20e0a0f6ad2e7e625\n",
            "___________________________________fit_transform_one cache loaded - 0.1s, 0.0min\n",
            "[Memory]0.1s, 0.0min    : Loading _fit_transform_one from cachedir/joblib/sklearn/pipeline/_fit_transform_one/fc9fc46c182a07822e91ba269ec9093c\n",
            "___________________________________fit_transform_one cache loaded - 0.0s, 0.0min\n",
            "________________________________________________________________________________\n",
            "[Memory] Calling sklearn.pipeline._fit_transform_one...\n",
            "_fit_transform_one(NMF(init='random', n_components=30, random_state=42), <2016x10098 sparse matrix of type '<class 'numpy.float64'>'\n",
            "\twith 313043 stored elements in Compressed Sparse Row format>, \n",
            "array([0, ..., 1]), None, message_clsname='Pipeline', message=None)\n",
            "________________________________________________fit_transform_one - 1.9s, 0.0min\n",
            "[Memory]0.0s, 0.0min    : Loading _fit_transform_one from cachedir/joblib/sklearn/pipeline/_fit_transform_one/66f096df1795da5c84f23408103d22b2\n",
            "___________________________________fit_transform_one cache loaded - 0.1s, 0.0min\n",
            "[Memory]0.1s, 0.0min    : Loading _fit_transform_one from cachedir/joblib/sklearn/pipeline/_fit_transform_one/f49d59f3d080bc113431ab88078b1af2\n",
            "___________________________________fit_transform_one cache loaded - 0.0s, 0.0min\n",
            "[Memory]0.1s, 0.0min    : Loading _fit_transform_one from cachedir/joblib/sklearn/pipeline/_fit_transform_one/7c61f99b4be931b495eba7d0b4a485a3\n",
            "___________________________________fit_transform_one cache loaded - 0.0s, 0.0min\n",
            "[Memory]0.0s, 0.0min    : Loading _fit_transform_one from cachedir/joblib/sklearn/pipeline/_fit_transform_one/b787281904d5d8d4253ddedc7ccc1bfd\n",
            "___________________________________fit_transform_one cache loaded - 0.1s, 0.0min\n",
            "[Memory]0.1s, 0.0min    : Loading _fit_transform_one from cachedir/joblib/sklearn/pipeline/_fit_transform_one/6c56d117e2b97c3985d4dbd757d0141d\n",
            "___________________________________fit_transform_one cache loaded - 0.0s, 0.0min\n",
            "[Memory]0.1s, 0.0min    : Loading _fit_transform_one from cachedir/joblib/sklearn/pipeline/_fit_transform_one/1db50e9eec29846fdfc7bcb5b2b308d7\n",
            "___________________________________fit_transform_one cache loaded - 0.0s, 0.0min\n",
            "[Memory]0.0s, 0.0min    : Loading _fit_transform_one from cachedir/joblib/sklearn/pipeline/_fit_transform_one/85ba9e6fc1acbb83c404f3e410efebe9\n",
            "___________________________________fit_transform_one cache loaded - 0.1s, 0.0min\n",
            "[Memory]0.1s, 0.0min    : Loading _fit_transform_one from cachedir/joblib/sklearn/pipeline/_fit_transform_one/256bcc8ea871397960db1e07d1f71d57\n",
            "___________________________________fit_transform_one cache loaded - 0.0s, 0.0min\n",
            "[Memory]0.1s, 0.0min    : Loading _fit_transform_one from cachedir/joblib/sklearn/pipeline/_fit_transform_one/b27aad79fb7587fa190434898a16aea7\n",
            "___________________________________fit_transform_one cache loaded - 0.0s, 0.0min\n",
            "[Memory]0.0s, 0.0min    : Loading _fit_transform_one from cachedir/joblib/sklearn/pipeline/_fit_transform_one/e1b82fe716df21d74b2c38215e1a5eaa\n",
            "___________________________________fit_transform_one cache loaded - 0.1s, 0.0min\n",
            "[Memory]0.1s, 0.0min    : Loading _fit_transform_one from cachedir/joblib/sklearn/pipeline/_fit_transform_one/7c6407b59d3e089b9b110924ff137c62\n",
            "___________________________________fit_transform_one cache loaded - 0.0s, 0.0min\n",
            "[Memory]0.1s, 0.0min    : Loading _fit_transform_one from cachedir/joblib/sklearn/pipeline/_fit_transform_one/6bacf38bea4abd95f6ff71af73a22ffa\n",
            "___________________________________fit_transform_one cache loaded - 0.0s, 0.0min\n",
            "[Memory]0.0s, 0.0min    : Loading _fit_transform_one from cachedir/joblib/sklearn/pipeline/_fit_transform_one/86d2f04be2a9d6e659f99d3e9a62574f\n",
            "___________________________________fit_transform_one cache loaded - 0.1s, 0.0min\n",
            "[Memory]0.1s, 0.0min    : Loading _fit_transform_one from cachedir/joblib/sklearn/pipeline/_fit_transform_one/3cbc1101fa820b5ef39c46f85167cf2e\n",
            "___________________________________fit_transform_one cache loaded - 0.0s, 0.0min\n",
            "[Memory]0.1s, 0.0min    : Loading _fit_transform_one from cachedir/joblib/sklearn/pipeline/_fit_transform_one/f4d25270933f732d3e36156f21fae575\n",
            "___________________________________fit_transform_one cache loaded - 0.0s, 0.0min\n",
            "[Memory]0.0s, 0.0min    : Loading _fit_transform_one from cachedir/joblib/sklearn/pipeline/_fit_transform_one/fb9c4da1f35b2ed5493daee9385c47fa\n",
            "___________________________________fit_transform_one cache loaded - 0.1s, 0.0min\n",
            "[Memory]0.1s, 0.0min    : Loading _fit_transform_one from cachedir/joblib/sklearn/pipeline/_fit_transform_one/7a8272ea6c3f30c674947a15e247bbf7\n",
            "___________________________________fit_transform_one cache loaded - 0.0s, 0.0min\n",
            "[Memory]0.1s, 0.0min    : Loading _fit_transform_one from cachedir/joblib/sklearn/pipeline/_fit_transform_one/a24b211b8076376faffeebf7b5e546d7\n",
            "___________________________________fit_transform_one cache loaded - 0.0s, 0.0min\n",
            "[Memory]0.0s, 0.0min    : Loading _fit_transform_one from cachedir/joblib/sklearn/pipeline/_fit_transform_one/e17e003cefe0e28f8272b0d74d85b835\n",
            "___________________________________fit_transform_one cache loaded - 0.1s, 0.0min\n",
            "[Memory]0.1s, 0.0min    : Loading _fit_transform_one from cachedir/joblib/sklearn/pipeline/_fit_transform_one/ed24d4f44ef18c864477d77ce8f73fbe\n",
            "___________________________________fit_transform_one cache loaded - 0.0s, 0.0min\n",
            "[Memory]0.1s, 0.0min    : Loading _fit_transform_one from cachedir/joblib/sklearn/pipeline/_fit_transform_one/cc0cd5464e15ad06cf82c24c34d562f2\n",
            "___________________________________fit_transform_one cache loaded - 0.0s, 0.0min\n",
            "[Memory]0.0s, 0.0min    : Loading _fit_transform_one from cachedir/joblib/sklearn/pipeline/_fit_transform_one/5dc41e6435ac102ca6477e2691e1379a\n",
            "___________________________________fit_transform_one cache loaded - 0.1s, 0.0min\n",
            "[Memory]0.1s, 0.0min    : Loading _fit_transform_one from cachedir/joblib/sklearn/pipeline/_fit_transform_one/94faa314b6e9f5da187cb66d0b1d6f33\n",
            "___________________________________fit_transform_one cache loaded - 0.0s, 0.0min\n",
            "[Memory]0.1s, 0.0min    : Loading _fit_transform_one from cachedir/joblib/sklearn/pipeline/_fit_transform_one/775d43c10189ba287dc85f881d052118\n",
            "___________________________________fit_transform_one cache loaded - 0.0s, 0.0min\n",
            "[Memory]0.0s, 0.0min    : Loading _fit_transform_one from cachedir/joblib/sklearn/pipeline/_fit_transform_one/e8dc13eb0efcf1c2a8bdaa0cebf3c9ff\n",
            "___________________________________fit_transform_one cache loaded - 0.1s, 0.0min\n",
            "[Memory]0.1s, 0.0min    : Loading _fit_transform_one from cachedir/joblib/sklearn/pipeline/_fit_transform_one/88fc7ec26c8a39c3195d2e241ab582d8\n",
            "___________________________________fit_transform_one cache loaded - 0.0s, 0.0min\n",
            "[Memory]0.1s, 0.0min    : Loading _fit_transform_one from cachedir/joblib/sklearn/pipeline/_fit_transform_one/e6d02e19a93e6cd6f1196ff18648c12b\n",
            "___________________________________fit_transform_one cache loaded - 0.0s, 0.0min\n",
            "[Memory]0.0s, 0.0min    : Loading _fit_transform_one from cachedir/joblib/sklearn/pipeline/_fit_transform_one/98dec079fcfa8cc20e0a0f6ad2e7e625\n",
            "___________________________________fit_transform_one cache loaded - 0.1s, 0.0min\n",
            "[Memory]0.1s, 0.0min    : Loading _fit_transform_one from cachedir/joblib/sklearn/pipeline/_fit_transform_one/fc9fc46c182a07822e91ba269ec9093c\n",
            "___________________________________fit_transform_one cache loaded - 0.0s, 0.0min\n",
            "[Memory]0.1s, 0.0min    : Loading _fit_transform_one from cachedir/joblib/sklearn/pipeline/_fit_transform_one/d2ffc7b2e898f4b8af4caaeb5806a9a7\n",
            "___________________________________fit_transform_one cache loaded - 0.0s, 0.0min\n",
            "[Memory]0.0s, 0.0min    : Loading _fit_transform_one from cachedir/joblib/sklearn/pipeline/_fit_transform_one/66f096df1795da5c84f23408103d22b2\n",
            "___________________________________fit_transform_one cache loaded - 0.1s, 0.0min\n",
            "[Memory]0.1s, 0.0min    : Loading _fit_transform_one from cachedir/joblib/sklearn/pipeline/_fit_transform_one/f49d59f3d080bc113431ab88078b1af2\n",
            "___________________________________fit_transform_one cache loaded - 0.0s, 0.0min\n",
            "[Memory]0.1s, 0.0min    : Loading _fit_transform_one from cachedir/joblib/sklearn/pipeline/_fit_transform_one/5a4cd09befb83b8b883727fe38475fe2\n",
            "___________________________________fit_transform_one cache loaded - 0.0s, 0.0min\n"
          ]
        },
        {
          "output_type": "stream",
          "name": "stderr",
          "text": [
            "/usr/local/lib/python3.8/dist-packages/sklearn/linear_model/_logistic.py:814: ConvergenceWarning: lbfgs failed to converge (status=1):\n",
            "STOP: TOTAL NO. of ITERATIONS REACHED LIMIT.\n",
            "\n",
            "Increase the number of iterations (max_iter) or scale the data as shown in:\n",
            "    https://scikit-learn.org/stable/modules/preprocessing.html\n",
            "Please also refer to the documentation for alternative solver options:\n",
            "    https://scikit-learn.org/stable/modules/linear_model.html#logistic-regression\n",
            "  n_iter_i = _check_optimize_result(\n"
          ]
        },
        {
          "output_type": "stream",
          "name": "stdout",
          "text": [
            "[Memory]0.0s, 0.0min    : Loading _fit_transform_one from cachedir/joblib/sklearn/pipeline/_fit_transform_one/b787281904d5d8d4253ddedc7ccc1bfd\n",
            "___________________________________fit_transform_one cache loaded - 0.1s, 0.0min\n",
            "[Memory]0.2s, 0.0min    : Loading _fit_transform_one from cachedir/joblib/sklearn/pipeline/_fit_transform_one/6c56d117e2b97c3985d4dbd757d0141d\n",
            "___________________________________fit_transform_one cache loaded - 0.0s, 0.0min\n",
            "[Memory]0.2s, 0.0min    : Loading _fit_transform_one from cachedir/joblib/sklearn/pipeline/_fit_transform_one/1afbeffc94523c0389d1123e01a630e2\n",
            "___________________________________fit_transform_one cache loaded - 0.0s, 0.0min\n"
          ]
        },
        {
          "output_type": "stream",
          "name": "stderr",
          "text": [
            "/usr/local/lib/python3.8/dist-packages/sklearn/linear_model/_logistic.py:814: ConvergenceWarning: lbfgs failed to converge (status=1):\n",
            "STOP: TOTAL NO. of ITERATIONS REACHED LIMIT.\n",
            "\n",
            "Increase the number of iterations (max_iter) or scale the data as shown in:\n",
            "    https://scikit-learn.org/stable/modules/preprocessing.html\n",
            "Please also refer to the documentation for alternative solver options:\n",
            "    https://scikit-learn.org/stable/modules/linear_model.html#logistic-regression\n",
            "  n_iter_i = _check_optimize_result(\n"
          ]
        },
        {
          "output_type": "stream",
          "name": "stdout",
          "text": [
            "[Memory]0.0s, 0.0min    : Loading _fit_transform_one from cachedir/joblib/sklearn/pipeline/_fit_transform_one/85ba9e6fc1acbb83c404f3e410efebe9\n",
            "___________________________________fit_transform_one cache loaded - 0.1s, 0.0min\n",
            "[Memory]0.2s, 0.0min    : Loading _fit_transform_one from cachedir/joblib/sklearn/pipeline/_fit_transform_one/256bcc8ea871397960db1e07d1f71d57\n",
            "___________________________________fit_transform_one cache loaded - 0.0s, 0.0min\n",
            "[Memory]0.2s, 0.0min    : Loading _fit_transform_one from cachedir/joblib/sklearn/pipeline/_fit_transform_one/5e740f9f7b1d20c3be431f73b2396f10\n",
            "___________________________________fit_transform_one cache loaded - 0.0s, 0.0min\n"
          ]
        },
        {
          "output_type": "stream",
          "name": "stderr",
          "text": [
            "/usr/local/lib/python3.8/dist-packages/sklearn/linear_model/_logistic.py:814: ConvergenceWarning: lbfgs failed to converge (status=1):\n",
            "STOP: TOTAL NO. of ITERATIONS REACHED LIMIT.\n",
            "\n",
            "Increase the number of iterations (max_iter) or scale the data as shown in:\n",
            "    https://scikit-learn.org/stable/modules/preprocessing.html\n",
            "Please also refer to the documentation for alternative solver options:\n",
            "    https://scikit-learn.org/stable/modules/linear_model.html#logistic-regression\n",
            "  n_iter_i = _check_optimize_result(\n"
          ]
        },
        {
          "output_type": "stream",
          "name": "stdout",
          "text": [
            "[Memory]0.0s, 0.0min    : Loading _fit_transform_one from cachedir/joblib/sklearn/pipeline/_fit_transform_one/e1b82fe716df21d74b2c38215e1a5eaa\n",
            "___________________________________fit_transform_one cache loaded - 0.1s, 0.0min\n",
            "[Memory]0.2s, 0.0min    : Loading _fit_transform_one from cachedir/joblib/sklearn/pipeline/_fit_transform_one/7c6407b59d3e089b9b110924ff137c62\n",
            "___________________________________fit_transform_one cache loaded - 0.0s, 0.0min\n",
            "[Memory]0.2s, 0.0min    : Loading _fit_transform_one from cachedir/joblib/sklearn/pipeline/_fit_transform_one/014147e35663e5eec916fb9aa11c65f9\n",
            "___________________________________fit_transform_one cache loaded - 0.0s, 0.0min\n"
          ]
        },
        {
          "output_type": "stream",
          "name": "stderr",
          "text": [
            "/usr/local/lib/python3.8/dist-packages/sklearn/linear_model/_logistic.py:814: ConvergenceWarning: lbfgs failed to converge (status=1):\n",
            "STOP: TOTAL NO. of ITERATIONS REACHED LIMIT.\n",
            "\n",
            "Increase the number of iterations (max_iter) or scale the data as shown in:\n",
            "    https://scikit-learn.org/stable/modules/preprocessing.html\n",
            "Please also refer to the documentation for alternative solver options:\n",
            "    https://scikit-learn.org/stable/modules/linear_model.html#logistic-regression\n",
            "  n_iter_i = _check_optimize_result(\n"
          ]
        },
        {
          "output_type": "stream",
          "name": "stdout",
          "text": [
            "[Memory]0.0s, 0.0min    : Loading _fit_transform_one from cachedir/joblib/sklearn/pipeline/_fit_transform_one/86d2f04be2a9d6e659f99d3e9a62574f\n",
            "___________________________________fit_transform_one cache loaded - 0.1s, 0.0min\n",
            "[Memory]0.1s, 0.0min    : Loading _fit_transform_one from cachedir/joblib/sklearn/pipeline/_fit_transform_one/3cbc1101fa820b5ef39c46f85167cf2e\n",
            "___________________________________fit_transform_one cache loaded - 0.0s, 0.0min\n",
            "[Memory]0.2s, 0.0min    : Loading _fit_transform_one from cachedir/joblib/sklearn/pipeline/_fit_transform_one/f0f2f843a795939f126a00973566f718\n",
            "___________________________________fit_transform_one cache loaded - 0.0s, 0.0min\n"
          ]
        },
        {
          "output_type": "stream",
          "name": "stderr",
          "text": [
            "/usr/local/lib/python3.8/dist-packages/sklearn/linear_model/_logistic.py:814: ConvergenceWarning: lbfgs failed to converge (status=1):\n",
            "STOP: TOTAL NO. of ITERATIONS REACHED LIMIT.\n",
            "\n",
            "Increase the number of iterations (max_iter) or scale the data as shown in:\n",
            "    https://scikit-learn.org/stable/modules/preprocessing.html\n",
            "Please also refer to the documentation for alternative solver options:\n",
            "    https://scikit-learn.org/stable/modules/linear_model.html#logistic-regression\n",
            "  n_iter_i = _check_optimize_result(\n"
          ]
        },
        {
          "output_type": "stream",
          "name": "stdout",
          "text": [
            "[Memory]0.0s, 0.0min    : Loading _fit_transform_one from cachedir/joblib/sklearn/pipeline/_fit_transform_one/fb9c4da1f35b2ed5493daee9385c47fa\n",
            "___________________________________fit_transform_one cache loaded - 0.1s, 0.0min\n",
            "[Memory]0.1s, 0.0min    : Loading _fit_transform_one from cachedir/joblib/sklearn/pipeline/_fit_transform_one/7a8272ea6c3f30c674947a15e247bbf7\n",
            "___________________________________fit_transform_one cache loaded - 0.0s, 0.0min\n",
            "[Memory]0.2s, 0.0min    : Loading _fit_transform_one from cachedir/joblib/sklearn/pipeline/_fit_transform_one/5c6ee7ad988ce3b29dfbcc2ea5166cd5\n",
            "___________________________________fit_transform_one cache loaded - 0.0s, 0.0min\n",
            "[Memory]0.0s, 0.0min    : Loading _fit_transform_one from cachedir/joblib/sklearn/pipeline/_fit_transform_one/e17e003cefe0e28f8272b0d74d85b835\n",
            "___________________________________fit_transform_one cache loaded - 0.1s, 0.0min\n",
            "[Memory]0.1s, 0.0min    : Loading _fit_transform_one from cachedir/joblib/sklearn/pipeline/_fit_transform_one/ed24d4f44ef18c864477d77ce8f73fbe\n",
            "___________________________________fit_transform_one cache loaded - 0.0s, 0.0min\n",
            "[Memory]0.2s, 0.0min    : Loading _fit_transform_one from cachedir/joblib/sklearn/pipeline/_fit_transform_one/0367a83eb32ec0851bfd1e20d3fc50e0\n",
            "___________________________________fit_transform_one cache loaded - 0.0s, 0.0min\n"
          ]
        },
        {
          "output_type": "stream",
          "name": "stderr",
          "text": [
            "/usr/local/lib/python3.8/dist-packages/sklearn/linear_model/_logistic.py:814: ConvergenceWarning: lbfgs failed to converge (status=1):\n",
            "STOP: TOTAL NO. of ITERATIONS REACHED LIMIT.\n",
            "\n",
            "Increase the number of iterations (max_iter) or scale the data as shown in:\n",
            "    https://scikit-learn.org/stable/modules/preprocessing.html\n",
            "Please also refer to the documentation for alternative solver options:\n",
            "    https://scikit-learn.org/stable/modules/linear_model.html#logistic-regression\n",
            "  n_iter_i = _check_optimize_result(\n"
          ]
        },
        {
          "output_type": "stream",
          "name": "stdout",
          "text": [
            "[Memory]0.0s, 0.0min    : Loading _fit_transform_one from cachedir/joblib/sklearn/pipeline/_fit_transform_one/5dc41e6435ac102ca6477e2691e1379a\n",
            "___________________________________fit_transform_one cache loaded - 0.1s, 0.0min\n",
            "[Memory]0.2s, 0.0min    : Loading _fit_transform_one from cachedir/joblib/sklearn/pipeline/_fit_transform_one/94faa314b6e9f5da187cb66d0b1d6f33\n",
            "___________________________________fit_transform_one cache loaded - 0.0s, 0.0min\n",
            "[Memory]0.2s, 0.0min    : Loading _fit_transform_one from cachedir/joblib/sklearn/pipeline/_fit_transform_one/422deeba347c092069059bc5737f0127\n",
            "___________________________________fit_transform_one cache loaded - 0.0s, 0.0min\n"
          ]
        },
        {
          "output_type": "stream",
          "name": "stderr",
          "text": [
            "/usr/local/lib/python3.8/dist-packages/sklearn/linear_model/_logistic.py:814: ConvergenceWarning: lbfgs failed to converge (status=1):\n",
            "STOP: TOTAL NO. of ITERATIONS REACHED LIMIT.\n",
            "\n",
            "Increase the number of iterations (max_iter) or scale the data as shown in:\n",
            "    https://scikit-learn.org/stable/modules/preprocessing.html\n",
            "Please also refer to the documentation for alternative solver options:\n",
            "    https://scikit-learn.org/stable/modules/linear_model.html#logistic-regression\n",
            "  n_iter_i = _check_optimize_result(\n"
          ]
        },
        {
          "output_type": "stream",
          "name": "stdout",
          "text": [
            "[Memory]0.0s, 0.0min    : Loading _fit_transform_one from cachedir/joblib/sklearn/pipeline/_fit_transform_one/e8dc13eb0efcf1c2a8bdaa0cebf3c9ff\n",
            "___________________________________fit_transform_one cache loaded - 0.1s, 0.0min\n",
            "[Memory]0.2s, 0.0min    : Loading _fit_transform_one from cachedir/joblib/sklearn/pipeline/_fit_transform_one/88fc7ec26c8a39c3195d2e241ab582d8\n",
            "___________________________________fit_transform_one cache loaded - 0.0s, 0.0min\n",
            "[Memory]0.2s, 0.0min    : Loading _fit_transform_one from cachedir/joblib/sklearn/pipeline/_fit_transform_one/8d346a7f63bf9aacce27ad14e4995280\n",
            "___________________________________fit_transform_one cache loaded - 0.0s, 0.0min\n"
          ]
        },
        {
          "output_type": "stream",
          "name": "stderr",
          "text": [
            "/usr/local/lib/python3.8/dist-packages/sklearn/linear_model/_logistic.py:814: ConvergenceWarning: lbfgs failed to converge (status=1):\n",
            "STOP: TOTAL NO. of ITERATIONS REACHED LIMIT.\n",
            "\n",
            "Increase the number of iterations (max_iter) or scale the data as shown in:\n",
            "    https://scikit-learn.org/stable/modules/preprocessing.html\n",
            "Please also refer to the documentation for alternative solver options:\n",
            "    https://scikit-learn.org/stable/modules/linear_model.html#logistic-regression\n",
            "  n_iter_i = _check_optimize_result(\n"
          ]
        },
        {
          "output_type": "stream",
          "name": "stdout",
          "text": [
            "[Memory]0.0s, 0.0min    : Loading _fit_transform_one from cachedir/joblib/sklearn/pipeline/_fit_transform_one/98dec079fcfa8cc20e0a0f6ad2e7e625\n",
            "___________________________________fit_transform_one cache loaded - 0.1s, 0.0min\n",
            "[Memory]0.1s, 0.0min    : Loading _fit_transform_one from cachedir/joblib/sklearn/pipeline/_fit_transform_one/fc9fc46c182a07822e91ba269ec9093c\n",
            "___________________________________fit_transform_one cache loaded - 0.0s, 0.0min\n",
            "[Memory]0.2s, 0.0min    : Loading _fit_transform_one from cachedir/joblib/sklearn/pipeline/_fit_transform_one/127923865031f9156aaf09d661b1cc29\n",
            "___________________________________fit_transform_one cache loaded - 0.0s, 0.0min\n"
          ]
        },
        {
          "output_type": "stream",
          "name": "stderr",
          "text": [
            "/usr/local/lib/python3.8/dist-packages/sklearn/linear_model/_logistic.py:814: ConvergenceWarning: lbfgs failed to converge (status=1):\n",
            "STOP: TOTAL NO. of ITERATIONS REACHED LIMIT.\n",
            "\n",
            "Increase the number of iterations (max_iter) or scale the data as shown in:\n",
            "    https://scikit-learn.org/stable/modules/preprocessing.html\n",
            "Please also refer to the documentation for alternative solver options:\n",
            "    https://scikit-learn.org/stable/modules/linear_model.html#logistic-regression\n",
            "  n_iter_i = _check_optimize_result(\n"
          ]
        },
        {
          "output_type": "stream",
          "name": "stdout",
          "text": [
            "[Memory]0.0s, 0.0min    : Loading _fit_transform_one from cachedir/joblib/sklearn/pipeline/_fit_transform_one/66f096df1795da5c84f23408103d22b2\n",
            "___________________________________fit_transform_one cache loaded - 0.1s, 0.0min\n",
            "[Memory]0.2s, 0.0min    : Loading _fit_transform_one from cachedir/joblib/sklearn/pipeline/_fit_transform_one/f49d59f3d080bc113431ab88078b1af2\n",
            "___________________________________fit_transform_one cache loaded - 0.0s, 0.0min\n",
            "[Memory]0.2s, 0.0min    : Loading _fit_transform_one from cachedir/joblib/sklearn/pipeline/_fit_transform_one/c0b1138166ba439e546d8f25133831ae\n",
            "___________________________________fit_transform_one cache loaded - 0.0s, 0.0min\n",
            "[Memory]0.0s, 0.0min    : Loading _fit_transform_one from cachedir/joblib/sklearn/pipeline/_fit_transform_one/b787281904d5d8d4253ddedc7ccc1bfd\n",
            "___________________________________fit_transform_one cache loaded - 0.1s, 0.0min\n",
            "[Memory]0.1s, 0.0min    : Loading _fit_transform_one from cachedir/joblib/sklearn/pipeline/_fit_transform_one/6c56d117e2b97c3985d4dbd757d0141d\n",
            "___________________________________fit_transform_one cache loaded - 0.0s, 0.0min\n",
            "[Memory]0.1s, 0.0min    : Loading _fit_transform_one from cachedir/joblib/sklearn/pipeline/_fit_transform_one/c47ebcd9fb0253300fdf90302156c653\n",
            "___________________________________fit_transform_one cache loaded - 0.0s, 0.0min\n",
            "[Memory]0.0s, 0.0min    : Loading _fit_transform_one from cachedir/joblib/sklearn/pipeline/_fit_transform_one/85ba9e6fc1acbb83c404f3e410efebe9\n",
            "___________________________________fit_transform_one cache loaded - 0.1s, 0.0min\n",
            "[Memory]0.1s, 0.0min    : Loading _fit_transform_one from cachedir/joblib/sklearn/pipeline/_fit_transform_one/256bcc8ea871397960db1e07d1f71d57\n",
            "___________________________________fit_transform_one cache loaded - 0.0s, 0.0min\n",
            "[Memory]0.1s, 0.0min    : Loading _fit_transform_one from cachedir/joblib/sklearn/pipeline/_fit_transform_one/84b6060a9b5e6685e6c6de7c735922b9\n",
            "___________________________________fit_transform_one cache loaded - 0.0s, 0.0min\n",
            "[Memory]0.0s, 0.0min    : Loading _fit_transform_one from cachedir/joblib/sklearn/pipeline/_fit_transform_one/e1b82fe716df21d74b2c38215e1a5eaa\n",
            "___________________________________fit_transform_one cache loaded - 0.1s, 0.0min\n",
            "[Memory]0.1s, 0.0min    : Loading _fit_transform_one from cachedir/joblib/sklearn/pipeline/_fit_transform_one/7c6407b59d3e089b9b110924ff137c62\n",
            "___________________________________fit_transform_one cache loaded - 0.0s, 0.0min\n",
            "[Memory]0.2s, 0.0min    : Loading _fit_transform_one from cachedir/joblib/sklearn/pipeline/_fit_transform_one/693b97372d0e358c33c1a04364b20a86\n",
            "___________________________________fit_transform_one cache loaded - 0.0s, 0.0min\n",
            "[Memory]0.0s, 0.0min    : Loading _fit_transform_one from cachedir/joblib/sklearn/pipeline/_fit_transform_one/86d2f04be2a9d6e659f99d3e9a62574f\n",
            "___________________________________fit_transform_one cache loaded - 0.1s, 0.0min\n",
            "[Memory]0.1s, 0.0min    : Loading _fit_transform_one from cachedir/joblib/sklearn/pipeline/_fit_transform_one/3cbc1101fa820b5ef39c46f85167cf2e\n",
            "___________________________________fit_transform_one cache loaded - 0.0s, 0.0min\n",
            "[Memory]0.1s, 0.0min    : Loading _fit_transform_one from cachedir/joblib/sklearn/pipeline/_fit_transform_one/a86f71ab63cd52741163ae4180f73134\n",
            "___________________________________fit_transform_one cache loaded - 0.0s, 0.0min\n",
            "[Memory]0.0s, 0.0min    : Loading _fit_transform_one from cachedir/joblib/sklearn/pipeline/_fit_transform_one/fb9c4da1f35b2ed5493daee9385c47fa\n",
            "___________________________________fit_transform_one cache loaded - 0.1s, 0.0min\n",
            "[Memory]0.1s, 0.0min    : Loading _fit_transform_one from cachedir/joblib/sklearn/pipeline/_fit_transform_one/7a8272ea6c3f30c674947a15e247bbf7\n",
            "___________________________________fit_transform_one cache loaded - 0.0s, 0.0min\n",
            "[Memory]0.1s, 0.0min    : Loading _fit_transform_one from cachedir/joblib/sklearn/pipeline/_fit_transform_one/43f28a8854861aef87b596964de6a007\n",
            "___________________________________fit_transform_one cache loaded - 0.0s, 0.0min\n",
            "[Memory]0.0s, 0.0min    : Loading _fit_transform_one from cachedir/joblib/sklearn/pipeline/_fit_transform_one/e17e003cefe0e28f8272b0d74d85b835\n",
            "___________________________________fit_transform_one cache loaded - 0.1s, 0.0min\n",
            "[Memory]0.1s, 0.0min    : Loading _fit_transform_one from cachedir/joblib/sklearn/pipeline/_fit_transform_one/ed24d4f44ef18c864477d77ce8f73fbe\n",
            "___________________________________fit_transform_one cache loaded - 0.0s, 0.0min\n",
            "[Memory]0.1s, 0.0min    : Loading _fit_transform_one from cachedir/joblib/sklearn/pipeline/_fit_transform_one/236dacf7476be633457081d31b167e69\n",
            "___________________________________fit_transform_one cache loaded - 0.0s, 0.0min\n",
            "[Memory]0.0s, 0.0min    : Loading _fit_transform_one from cachedir/joblib/sklearn/pipeline/_fit_transform_one/5dc41e6435ac102ca6477e2691e1379a\n",
            "___________________________________fit_transform_one cache loaded - 0.1s, 0.0min\n",
            "[Memory]0.1s, 0.0min    : Loading _fit_transform_one from cachedir/joblib/sklearn/pipeline/_fit_transform_one/94faa314b6e9f5da187cb66d0b1d6f33\n",
            "___________________________________fit_transform_one cache loaded - 0.0s, 0.0min\n",
            "[Memory]0.1s, 0.0min    : Loading _fit_transform_one from cachedir/joblib/sklearn/pipeline/_fit_transform_one/fc5f075e9c71a6be6138c6b2bdcec812\n",
            "___________________________________fit_transform_one cache loaded - 0.0s, 0.0min\n",
            "[Memory]0.0s, 0.0min    : Loading _fit_transform_one from cachedir/joblib/sklearn/pipeline/_fit_transform_one/e8dc13eb0efcf1c2a8bdaa0cebf3c9ff\n",
            "___________________________________fit_transform_one cache loaded - 0.1s, 0.0min\n",
            "[Memory]0.1s, 0.0min    : Loading _fit_transform_one from cachedir/joblib/sklearn/pipeline/_fit_transform_one/88fc7ec26c8a39c3195d2e241ab582d8\n",
            "___________________________________fit_transform_one cache loaded - 0.0s, 0.0min\n",
            "[Memory]0.1s, 0.0min    : Loading _fit_transform_one from cachedir/joblib/sklearn/pipeline/_fit_transform_one/3d3da00e96f3d22a07879bf1e11e586f\n",
            "___________________________________fit_transform_one cache loaded - 0.0s, 0.0min\n",
            "[Memory]0.0s, 0.0min    : Loading _fit_transform_one from cachedir/joblib/sklearn/pipeline/_fit_transform_one/98dec079fcfa8cc20e0a0f6ad2e7e625\n",
            "___________________________________fit_transform_one cache loaded - 0.1s, 0.0min\n",
            "[Memory]0.1s, 0.0min    : Loading _fit_transform_one from cachedir/joblib/sklearn/pipeline/_fit_transform_one/fc9fc46c182a07822e91ba269ec9093c\n",
            "___________________________________fit_transform_one cache loaded - 0.0s, 0.0min\n",
            "[Memory]0.1s, 0.0min    : Loading _fit_transform_one from cachedir/joblib/sklearn/pipeline/_fit_transform_one/a051ec46d641a131f6a2d03e929302c7\n",
            "___________________________________fit_transform_one cache loaded - 0.0s, 0.0min\n",
            "[Memory]0.0s, 0.0min    : Loading _fit_transform_one from cachedir/joblib/sklearn/pipeline/_fit_transform_one/66f096df1795da5c84f23408103d22b2\n",
            "___________________________________fit_transform_one cache loaded - 0.1s, 0.0min\n",
            "[Memory]0.1s, 0.0min    : Loading _fit_transform_one from cachedir/joblib/sklearn/pipeline/_fit_transform_one/f49d59f3d080bc113431ab88078b1af2\n",
            "___________________________________fit_transform_one cache loaded - 0.0s, 0.0min\n",
            "[Memory]0.1s, 0.0min    : Loading _fit_transform_one from cachedir/joblib/sklearn/pipeline/_fit_transform_one/fa23f47d95e635515f628a0b1f5d8883\n",
            "___________________________________fit_transform_one cache loaded - 0.0s, 0.0min\n",
            "[Memory]0.0s, 0.0min    : Loading _fit_transform_one from cachedir/joblib/sklearn/pipeline/_fit_transform_one/b787281904d5d8d4253ddedc7ccc1bfd\n",
            "___________________________________fit_transform_one cache loaded - 0.1s, 0.0min\n",
            "[Memory]0.2s, 0.0min    : Loading _fit_transform_one from cachedir/joblib/sklearn/pipeline/_fit_transform_one/6c56d117e2b97c3985d4dbd757d0141d\n",
            "___________________________________fit_transform_one cache loaded - 0.0s, 0.0min\n",
            "[Memory]0.2s, 0.0min    : Loading _fit_transform_one from cachedir/joblib/sklearn/pipeline/_fit_transform_one/f41a1c99b34a015eecb41d61021c6a37\n",
            "___________________________________fit_transform_one cache loaded - 0.0s, 0.0min\n"
          ]
        },
        {
          "output_type": "stream",
          "name": "stderr",
          "text": [
            "/usr/local/lib/python3.8/dist-packages/sklearn/linear_model/_logistic.py:814: ConvergenceWarning: lbfgs failed to converge (status=1):\n",
            "STOP: TOTAL NO. of ITERATIONS REACHED LIMIT.\n",
            "\n",
            "Increase the number of iterations (max_iter) or scale the data as shown in:\n",
            "    https://scikit-learn.org/stable/modules/preprocessing.html\n",
            "Please also refer to the documentation for alternative solver options:\n",
            "    https://scikit-learn.org/stable/modules/linear_model.html#logistic-regression\n",
            "  n_iter_i = _check_optimize_result(\n"
          ]
        },
        {
          "output_type": "stream",
          "name": "stdout",
          "text": [
            "[Memory]0.0s, 0.0min    : Loading _fit_transform_one from cachedir/joblib/sklearn/pipeline/_fit_transform_one/85ba9e6fc1acbb83c404f3e410efebe9\n",
            "___________________________________fit_transform_one cache loaded - 0.1s, 0.0min\n",
            "[Memory]0.2s, 0.0min    : Loading _fit_transform_one from cachedir/joblib/sklearn/pipeline/_fit_transform_one/256bcc8ea871397960db1e07d1f71d57\n",
            "___________________________________fit_transform_one cache loaded - 0.0s, 0.0min\n",
            "[Memory]0.2s, 0.0min    : Loading _fit_transform_one from cachedir/joblib/sklearn/pipeline/_fit_transform_one/99b96bc031c7addadd52c0fb923923d4\n",
            "___________________________________fit_transform_one cache loaded - 0.0s, 0.0min\n"
          ]
        },
        {
          "output_type": "stream",
          "name": "stderr",
          "text": [
            "/usr/local/lib/python3.8/dist-packages/sklearn/linear_model/_logistic.py:814: ConvergenceWarning: lbfgs failed to converge (status=1):\n",
            "STOP: TOTAL NO. of ITERATIONS REACHED LIMIT.\n",
            "\n",
            "Increase the number of iterations (max_iter) or scale the data as shown in:\n",
            "    https://scikit-learn.org/stable/modules/preprocessing.html\n",
            "Please also refer to the documentation for alternative solver options:\n",
            "    https://scikit-learn.org/stable/modules/linear_model.html#logistic-regression\n",
            "  n_iter_i = _check_optimize_result(\n"
          ]
        },
        {
          "output_type": "stream",
          "name": "stdout",
          "text": [
            "[Memory]0.0s, 0.0min    : Loading _fit_transform_one from cachedir/joblib/sklearn/pipeline/_fit_transform_one/e1b82fe716df21d74b2c38215e1a5eaa\n",
            "___________________________________fit_transform_one cache loaded - 0.1s, 0.0min\n",
            "[Memory]0.2s, 0.0min    : Loading _fit_transform_one from cachedir/joblib/sklearn/pipeline/_fit_transform_one/7c6407b59d3e089b9b110924ff137c62\n",
            "___________________________________fit_transform_one cache loaded - 0.0s, 0.0min\n",
            "[Memory]0.2s, 0.0min    : Loading _fit_transform_one from cachedir/joblib/sklearn/pipeline/_fit_transform_one/83de795cb8143e2a41d9ce17063b0097\n",
            "___________________________________fit_transform_one cache loaded - 0.0s, 0.0min\n",
            "[Memory]0.0s, 0.0min    : Loading _fit_transform_one from cachedir/joblib/sklearn/pipeline/_fit_transform_one/86d2f04be2a9d6e659f99d3e9a62574f\n",
            "___________________________________fit_transform_one cache loaded - 0.1s, 0.0min\n",
            "[Memory]0.2s, 0.0min    : Loading _fit_transform_one from cachedir/joblib/sklearn/pipeline/_fit_transform_one/3cbc1101fa820b5ef39c46f85167cf2e\n",
            "___________________________________fit_transform_one cache loaded - 0.0s, 0.0min\n",
            "[Memory]0.2s, 0.0min    : Loading _fit_transform_one from cachedir/joblib/sklearn/pipeline/_fit_transform_one/8c06156ae70d0fc15e54ddb0c83e4097\n",
            "___________________________________fit_transform_one cache loaded - 0.0s, 0.0min\n"
          ]
        },
        {
          "output_type": "stream",
          "name": "stderr",
          "text": [
            "/usr/local/lib/python3.8/dist-packages/sklearn/linear_model/_logistic.py:814: ConvergenceWarning: lbfgs failed to converge (status=1):\n",
            "STOP: TOTAL NO. of ITERATIONS REACHED LIMIT.\n",
            "\n",
            "Increase the number of iterations (max_iter) or scale the data as shown in:\n",
            "    https://scikit-learn.org/stable/modules/preprocessing.html\n",
            "Please also refer to the documentation for alternative solver options:\n",
            "    https://scikit-learn.org/stable/modules/linear_model.html#logistic-regression\n",
            "  n_iter_i = _check_optimize_result(\n"
          ]
        },
        {
          "output_type": "stream",
          "name": "stdout",
          "text": [
            "[Memory]0.0s, 0.0min    : Loading _fit_transform_one from cachedir/joblib/sklearn/pipeline/_fit_transform_one/fb9c4da1f35b2ed5493daee9385c47fa\n",
            "___________________________________fit_transform_one cache loaded - 0.1s, 0.0min\n",
            "[Memory]0.2s, 0.0min    : Loading _fit_transform_one from cachedir/joblib/sklearn/pipeline/_fit_transform_one/7a8272ea6c3f30c674947a15e247bbf7\n",
            "___________________________________fit_transform_one cache loaded - 0.0s, 0.0min\n",
            "[Memory]0.2s, 0.0min    : Loading _fit_transform_one from cachedir/joblib/sklearn/pipeline/_fit_transform_one/56ad3fd0cfd230ffcf054a18c7d71ee1\n",
            "___________________________________fit_transform_one cache loaded - 0.0s, 0.0min\n",
            "[Memory]0.0s, 0.0min    : Loading _fit_transform_one from cachedir/joblib/sklearn/pipeline/_fit_transform_one/e17e003cefe0e28f8272b0d74d85b835\n",
            "___________________________________fit_transform_one cache loaded - 0.1s, 0.0min\n",
            "[Memory]0.1s, 0.0min    : Loading _fit_transform_one from cachedir/joblib/sklearn/pipeline/_fit_transform_one/ed24d4f44ef18c864477d77ce8f73fbe\n",
            "___________________________________fit_transform_one cache loaded - 0.0s, 0.0min\n",
            "[Memory]0.2s, 0.0min    : Loading _fit_transform_one from cachedir/joblib/sklearn/pipeline/_fit_transform_one/23daa94dee07b210b5cb82eb736b0eb5\n",
            "___________________________________fit_transform_one cache loaded - 0.0s, 0.0min\n"
          ]
        },
        {
          "output_type": "stream",
          "name": "stderr",
          "text": [
            "/usr/local/lib/python3.8/dist-packages/sklearn/linear_model/_logistic.py:814: ConvergenceWarning: lbfgs failed to converge (status=1):\n",
            "STOP: TOTAL NO. of ITERATIONS REACHED LIMIT.\n",
            "\n",
            "Increase the number of iterations (max_iter) or scale the data as shown in:\n",
            "    https://scikit-learn.org/stable/modules/preprocessing.html\n",
            "Please also refer to the documentation for alternative solver options:\n",
            "    https://scikit-learn.org/stable/modules/linear_model.html#logistic-regression\n",
            "  n_iter_i = _check_optimize_result(\n"
          ]
        },
        {
          "output_type": "stream",
          "name": "stdout",
          "text": [
            "[Memory]0.0s, 0.0min    : Loading _fit_transform_one from cachedir/joblib/sklearn/pipeline/_fit_transform_one/5dc41e6435ac102ca6477e2691e1379a\n",
            "___________________________________fit_transform_one cache loaded - 0.1s, 0.0min\n",
            "[Memory]0.1s, 0.0min    : Loading _fit_transform_one from cachedir/joblib/sklearn/pipeline/_fit_transform_one/94faa314b6e9f5da187cb66d0b1d6f33\n",
            "___________________________________fit_transform_one cache loaded - 0.0s, 0.0min\n",
            "[Memory]0.2s, 0.0min    : Loading _fit_transform_one from cachedir/joblib/sklearn/pipeline/_fit_transform_one/14307f4f8bcf21d3662ffa4cea09d2c7\n",
            "___________________________________fit_transform_one cache loaded - 0.0s, 0.0min\n",
            "[Memory]0.0s, 0.0min    : Loading _fit_transform_one from cachedir/joblib/sklearn/pipeline/_fit_transform_one/e8dc13eb0efcf1c2a8bdaa0cebf3c9ff\n",
            "___________________________________fit_transform_one cache loaded - 0.1s, 0.0min\n",
            "[Memory]0.1s, 0.0min    : Loading _fit_transform_one from cachedir/joblib/sklearn/pipeline/_fit_transform_one/88fc7ec26c8a39c3195d2e241ab582d8\n",
            "___________________________________fit_transform_one cache loaded - 0.0s, 0.0min\n",
            "[Memory]0.2s, 0.0min    : Loading _fit_transform_one from cachedir/joblib/sklearn/pipeline/_fit_transform_one/25ef2fe6eba428afc2a1dcdf5b926e22\n",
            "___________________________________fit_transform_one cache loaded - 0.0s, 0.0min\n",
            "[Memory]0.0s, 0.0min    : Loading _fit_transform_one from cachedir/joblib/sklearn/pipeline/_fit_transform_one/98dec079fcfa8cc20e0a0f6ad2e7e625\n",
            "___________________________________fit_transform_one cache loaded - 0.1s, 0.0min\n",
            "[Memory]0.2s, 0.0min    : Loading _fit_transform_one from cachedir/joblib/sklearn/pipeline/_fit_transform_one/fc9fc46c182a07822e91ba269ec9093c\n",
            "___________________________________fit_transform_one cache loaded - 0.0s, 0.0min\n",
            "[Memory]0.2s, 0.0min    : Loading _fit_transform_one from cachedir/joblib/sklearn/pipeline/_fit_transform_one/9216169d4f36265be04043a4bf23686a\n",
            "___________________________________fit_transform_one cache loaded - 0.0s, 0.0min\n",
            "[Memory]0.0s, 0.0min    : Loading _fit_transform_one from cachedir/joblib/sklearn/pipeline/_fit_transform_one/66f096df1795da5c84f23408103d22b2\n",
            "___________________________________fit_transform_one cache loaded - 0.1s, 0.0min\n",
            "[Memory]0.2s, 0.0min    : Loading _fit_transform_one from cachedir/joblib/sklearn/pipeline/_fit_transform_one/f49d59f3d080bc113431ab88078b1af2\n",
            "___________________________________fit_transform_one cache loaded - 0.0s, 0.0min\n",
            "[Memory]0.2s, 0.0min    : Loading _fit_transform_one from cachedir/joblib/sklearn/pipeline/_fit_transform_one/7c61f99b4be931b495eba7d0b4a485a3\n",
            "___________________________________fit_transform_one cache loaded - 0.0s, 0.0min\n",
            "[Memory]0.0s, 0.0min    : Loading _fit_transform_one from cachedir/joblib/sklearn/pipeline/_fit_transform_one/b787281904d5d8d4253ddedc7ccc1bfd\n",
            "___________________________________fit_transform_one cache loaded - 0.1s, 0.0min\n",
            "[Memory]0.1s, 0.0min    : Loading _fit_transform_one from cachedir/joblib/sklearn/pipeline/_fit_transform_one/6c56d117e2b97c3985d4dbd757d0141d\n",
            "___________________________________fit_transform_one cache loaded - 0.0s, 0.0min\n",
            "[Memory]0.1s, 0.0min    : Loading _fit_transform_one from cachedir/joblib/sklearn/pipeline/_fit_transform_one/1db50e9eec29846fdfc7bcb5b2b308d7\n",
            "___________________________________fit_transform_one cache loaded - 0.0s, 0.0min\n",
            "[Memory]0.0s, 0.0min    : Loading _fit_transform_one from cachedir/joblib/sklearn/pipeline/_fit_transform_one/85ba9e6fc1acbb83c404f3e410efebe9\n",
            "___________________________________fit_transform_one cache loaded - 0.1s, 0.0min\n",
            "[Memory]0.1s, 0.0min    : Loading _fit_transform_one from cachedir/joblib/sklearn/pipeline/_fit_transform_one/256bcc8ea871397960db1e07d1f71d57\n",
            "___________________________________fit_transform_one cache loaded - 0.0s, 0.0min\n",
            "[Memory]0.1s, 0.0min    : Loading _fit_transform_one from cachedir/joblib/sklearn/pipeline/_fit_transform_one/b27aad79fb7587fa190434898a16aea7\n",
            "___________________________________fit_transform_one cache loaded - 0.0s, 0.0min\n",
            "[Memory]0.0s, 0.0min    : Loading _fit_transform_one from cachedir/joblib/sklearn/pipeline/_fit_transform_one/e1b82fe716df21d74b2c38215e1a5eaa\n",
            "___________________________________fit_transform_one cache loaded - 0.1s, 0.0min\n",
            "[Memory]0.1s, 0.0min    : Loading _fit_transform_one from cachedir/joblib/sklearn/pipeline/_fit_transform_one/7c6407b59d3e089b9b110924ff137c62\n",
            "___________________________________fit_transform_one cache loaded - 0.0s, 0.0min\n",
            "[Memory]0.1s, 0.0min    : Loading _fit_transform_one from cachedir/joblib/sklearn/pipeline/_fit_transform_one/6bacf38bea4abd95f6ff71af73a22ffa\n",
            "___________________________________fit_transform_one cache loaded - 0.0s, 0.0min\n",
            "[Memory]0.0s, 0.0min    : Loading _fit_transform_one from cachedir/joblib/sklearn/pipeline/_fit_transform_one/86d2f04be2a9d6e659f99d3e9a62574f\n",
            "___________________________________fit_transform_one cache loaded - 0.1s, 0.0min\n",
            "[Memory]0.1s, 0.0min    : Loading _fit_transform_one from cachedir/joblib/sklearn/pipeline/_fit_transform_one/3cbc1101fa820b5ef39c46f85167cf2e\n",
            "___________________________________fit_transform_one cache loaded - 0.0s, 0.0min\n",
            "[Memory]0.1s, 0.0min    : Loading _fit_transform_one from cachedir/joblib/sklearn/pipeline/_fit_transform_one/f4d25270933f732d3e36156f21fae575\n",
            "___________________________________fit_transform_one cache loaded - 0.0s, 0.0min\n",
            "[Memory]0.0s, 0.0min    : Loading _fit_transform_one from cachedir/joblib/sklearn/pipeline/_fit_transform_one/fb9c4da1f35b2ed5493daee9385c47fa\n",
            "___________________________________fit_transform_one cache loaded - 0.1s, 0.0min\n",
            "[Memory]0.1s, 0.0min    : Loading _fit_transform_one from cachedir/joblib/sklearn/pipeline/_fit_transform_one/7a8272ea6c3f30c674947a15e247bbf7\n",
            "___________________________________fit_transform_one cache loaded - 0.0s, 0.0min\n",
            "[Memory]0.1s, 0.0min    : Loading _fit_transform_one from cachedir/joblib/sklearn/pipeline/_fit_transform_one/a24b211b8076376faffeebf7b5e546d7\n",
            "___________________________________fit_transform_one cache loaded - 0.0s, 0.0min\n",
            "[Memory]0.0s, 0.0min    : Loading _fit_transform_one from cachedir/joblib/sklearn/pipeline/_fit_transform_one/e17e003cefe0e28f8272b0d74d85b835\n",
            "___________________________________fit_transform_one cache loaded - 0.1s, 0.0min\n",
            "[Memory]0.1s, 0.0min    : Loading _fit_transform_one from cachedir/joblib/sklearn/pipeline/_fit_transform_one/ed24d4f44ef18c864477d77ce8f73fbe\n",
            "___________________________________fit_transform_one cache loaded - 0.0s, 0.0min\n",
            "[Memory]0.1s, 0.0min    : Loading _fit_transform_one from cachedir/joblib/sklearn/pipeline/_fit_transform_one/cc0cd5464e15ad06cf82c24c34d562f2\n",
            "___________________________________fit_transform_one cache loaded - 0.0s, 0.0min\n",
            "[Memory]0.0s, 0.0min    : Loading _fit_transform_one from cachedir/joblib/sklearn/pipeline/_fit_transform_one/5dc41e6435ac102ca6477e2691e1379a\n",
            "___________________________________fit_transform_one cache loaded - 0.1s, 0.0min\n",
            "[Memory]0.1s, 0.0min    : Loading _fit_transform_one from cachedir/joblib/sklearn/pipeline/_fit_transform_one/94faa314b6e9f5da187cb66d0b1d6f33\n",
            "___________________________________fit_transform_one cache loaded - 0.0s, 0.0min\n",
            "[Memory]0.1s, 0.0min    : Loading _fit_transform_one from cachedir/joblib/sklearn/pipeline/_fit_transform_one/775d43c10189ba287dc85f881d052118\n",
            "___________________________________fit_transform_one cache loaded - 0.0s, 0.0min\n",
            "[Memory]0.0s, 0.0min    : Loading _fit_transform_one from cachedir/joblib/sklearn/pipeline/_fit_transform_one/e8dc13eb0efcf1c2a8bdaa0cebf3c9ff\n",
            "___________________________________fit_transform_one cache loaded - 0.1s, 0.0min\n",
            "[Memory]0.1s, 0.0min    : Loading _fit_transform_one from cachedir/joblib/sklearn/pipeline/_fit_transform_one/88fc7ec26c8a39c3195d2e241ab582d8\n",
            "___________________________________fit_transform_one cache loaded - 0.0s, 0.0min\n",
            "[Memory]0.1s, 0.0min    : Loading _fit_transform_one from cachedir/joblib/sklearn/pipeline/_fit_transform_one/e6d02e19a93e6cd6f1196ff18648c12b\n",
            "___________________________________fit_transform_one cache loaded - 0.0s, 0.0min\n",
            "[Memory]0.0s, 0.0min    : Loading _fit_transform_one from cachedir/joblib/sklearn/pipeline/_fit_transform_one/98dec079fcfa8cc20e0a0f6ad2e7e625\n",
            "___________________________________fit_transform_one cache loaded - 0.1s, 0.0min\n",
            "[Memory]0.1s, 0.0min    : Loading _fit_transform_one from cachedir/joblib/sklearn/pipeline/_fit_transform_one/fc9fc46c182a07822e91ba269ec9093c\n",
            "___________________________________fit_transform_one cache loaded - 0.0s, 0.0min\n",
            "[Memory]0.1s, 0.0min    : Loading _fit_transform_one from cachedir/joblib/sklearn/pipeline/_fit_transform_one/d2ffc7b2e898f4b8af4caaeb5806a9a7\n",
            "___________________________________fit_transform_one cache loaded - 0.0s, 0.0min\n",
            "[Memory]0.0s, 0.0min    : Loading _fit_transform_one from cachedir/joblib/sklearn/pipeline/_fit_transform_one/66f096df1795da5c84f23408103d22b2\n",
            "___________________________________fit_transform_one cache loaded - 0.1s, 0.0min\n",
            "[Memory]0.1s, 0.0min    : Loading _fit_transform_one from cachedir/joblib/sklearn/pipeline/_fit_transform_one/f49d59f3d080bc113431ab88078b1af2\n",
            "___________________________________fit_transform_one cache loaded - 0.0s, 0.0min\n",
            "[Memory]0.1s, 0.0min    : Loading _fit_transform_one from cachedir/joblib/sklearn/pipeline/_fit_transform_one/5a4cd09befb83b8b883727fe38475fe2\n",
            "___________________________________fit_transform_one cache loaded - 0.0s, 0.0min\n",
            "[Memory]0.0s, 0.0min    : Loading _fit_transform_one from cachedir/joblib/sklearn/pipeline/_fit_transform_one/b787281904d5d8d4253ddedc7ccc1bfd\n",
            "___________________________________fit_transform_one cache loaded - 0.1s, 0.0min\n",
            "[Memory]0.2s, 0.0min    : Loading _fit_transform_one from cachedir/joblib/sklearn/pipeline/_fit_transform_one/6c56d117e2b97c3985d4dbd757d0141d\n",
            "___________________________________fit_transform_one cache loaded - 0.0s, 0.0min\n",
            "[Memory]0.2s, 0.0min    : Loading _fit_transform_one from cachedir/joblib/sklearn/pipeline/_fit_transform_one/1afbeffc94523c0389d1123e01a630e2\n",
            "___________________________________fit_transform_one cache loaded - 0.0s, 0.0min\n",
            "[Memory]0.0s, 0.0min    : Loading _fit_transform_one from cachedir/joblib/sklearn/pipeline/_fit_transform_one/85ba9e6fc1acbb83c404f3e410efebe9\n",
            "___________________________________fit_transform_one cache loaded - 0.1s, 0.0min\n",
            "[Memory]0.2s, 0.0min    : Loading _fit_transform_one from cachedir/joblib/sklearn/pipeline/_fit_transform_one/256bcc8ea871397960db1e07d1f71d57\n",
            "___________________________________fit_transform_one cache loaded - 0.0s, 0.0min\n",
            "[Memory]0.2s, 0.0min    : Loading _fit_transform_one from cachedir/joblib/sklearn/pipeline/_fit_transform_one/5e740f9f7b1d20c3be431f73b2396f10\n",
            "___________________________________fit_transform_one cache loaded - 0.0s, 0.0min\n",
            "[Memory]0.0s, 0.0min    : Loading _fit_transform_one from cachedir/joblib/sklearn/pipeline/_fit_transform_one/e1b82fe716df21d74b2c38215e1a5eaa\n",
            "___________________________________fit_transform_one cache loaded - 0.1s, 0.0min\n",
            "[Memory]0.2s, 0.0min    : Loading _fit_transform_one from cachedir/joblib/sklearn/pipeline/_fit_transform_one/7c6407b59d3e089b9b110924ff137c62\n",
            "___________________________________fit_transform_one cache loaded - 0.0s, 0.0min\n",
            "[Memory]0.2s, 0.0min    : Loading _fit_transform_one from cachedir/joblib/sklearn/pipeline/_fit_transform_one/014147e35663e5eec916fb9aa11c65f9\n",
            "___________________________________fit_transform_one cache loaded - 0.0s, 0.0min\n",
            "[Memory]0.0s, 0.0min    : Loading _fit_transform_one from cachedir/joblib/sklearn/pipeline/_fit_transform_one/86d2f04be2a9d6e659f99d3e9a62574f\n",
            "___________________________________fit_transform_one cache loaded - 0.1s, 0.0min\n",
            "[Memory]0.2s, 0.0min    : Loading _fit_transform_one from cachedir/joblib/sklearn/pipeline/_fit_transform_one/3cbc1101fa820b5ef39c46f85167cf2e\n",
            "___________________________________fit_transform_one cache loaded - 0.0s, 0.0min\n",
            "[Memory]0.2s, 0.0min    : Loading _fit_transform_one from cachedir/joblib/sklearn/pipeline/_fit_transform_one/f0f2f843a795939f126a00973566f718\n",
            "___________________________________fit_transform_one cache loaded - 0.0s, 0.0min\n",
            "[Memory]0.0s, 0.0min    : Loading _fit_transform_one from cachedir/joblib/sklearn/pipeline/_fit_transform_one/fb9c4da1f35b2ed5493daee9385c47fa\n",
            "___________________________________fit_transform_one cache loaded - 0.1s, 0.0min\n",
            "[Memory]0.1s, 0.0min    : Loading _fit_transform_one from cachedir/joblib/sklearn/pipeline/_fit_transform_one/7a8272ea6c3f30c674947a15e247bbf7\n",
            "___________________________________fit_transform_one cache loaded - 0.0s, 0.0min\n",
            "[Memory]0.2s, 0.0min    : Loading _fit_transform_one from cachedir/joblib/sklearn/pipeline/_fit_transform_one/5c6ee7ad988ce3b29dfbcc2ea5166cd5\n",
            "___________________________________fit_transform_one cache loaded - 0.0s, 0.0min\n",
            "[Memory]0.0s, 0.0min    : Loading _fit_transform_one from cachedir/joblib/sklearn/pipeline/_fit_transform_one/e17e003cefe0e28f8272b0d74d85b835\n",
            "___________________________________fit_transform_one cache loaded - 0.1s, 0.0min\n",
            "[Memory]0.1s, 0.0min    : Loading _fit_transform_one from cachedir/joblib/sklearn/pipeline/_fit_transform_one/ed24d4f44ef18c864477d77ce8f73fbe\n",
            "___________________________________fit_transform_one cache loaded - 0.0s, 0.0min\n",
            "[Memory]0.2s, 0.0min    : Loading _fit_transform_one from cachedir/joblib/sklearn/pipeline/_fit_transform_one/0367a83eb32ec0851bfd1e20d3fc50e0\n",
            "___________________________________fit_transform_one cache loaded - 0.0s, 0.0min\n",
            "[Memory]0.0s, 0.0min    : Loading _fit_transform_one from cachedir/joblib/sklearn/pipeline/_fit_transform_one/5dc41e6435ac102ca6477e2691e1379a\n",
            "___________________________________fit_transform_one cache loaded - 0.1s, 0.0min\n",
            "[Memory]0.1s, 0.0min    : Loading _fit_transform_one from cachedir/joblib/sklearn/pipeline/_fit_transform_one/94faa314b6e9f5da187cb66d0b1d6f33\n",
            "___________________________________fit_transform_one cache loaded - 0.0s, 0.0min\n",
            "[Memory]0.2s, 0.0min    : Loading _fit_transform_one from cachedir/joblib/sklearn/pipeline/_fit_transform_one/422deeba347c092069059bc5737f0127\n",
            "___________________________________fit_transform_one cache loaded - 0.0s, 0.0min\n",
            "[Memory]0.0s, 0.0min    : Loading _fit_transform_one from cachedir/joblib/sklearn/pipeline/_fit_transform_one/e8dc13eb0efcf1c2a8bdaa0cebf3c9ff\n",
            "___________________________________fit_transform_one cache loaded - 0.1s, 0.0min\n",
            "[Memory]0.1s, 0.0min    : Loading _fit_transform_one from cachedir/joblib/sklearn/pipeline/_fit_transform_one/88fc7ec26c8a39c3195d2e241ab582d8\n",
            "___________________________________fit_transform_one cache loaded - 0.0s, 0.0min\n",
            "[Memory]0.2s, 0.0min    : Loading _fit_transform_one from cachedir/joblib/sklearn/pipeline/_fit_transform_one/8d346a7f63bf9aacce27ad14e4995280\n",
            "___________________________________fit_transform_one cache loaded - 0.0s, 0.0min\n",
            "[Memory]0.0s, 0.0min    : Loading _fit_transform_one from cachedir/joblib/sklearn/pipeline/_fit_transform_one/98dec079fcfa8cc20e0a0f6ad2e7e625\n",
            "___________________________________fit_transform_one cache loaded - 0.1s, 0.0min\n",
            "[Memory]0.1s, 0.0min    : Loading _fit_transform_one from cachedir/joblib/sklearn/pipeline/_fit_transform_one/fc9fc46c182a07822e91ba269ec9093c\n",
            "___________________________________fit_transform_one cache loaded - 0.0s, 0.0min\n",
            "[Memory]0.2s, 0.0min    : Loading _fit_transform_one from cachedir/joblib/sklearn/pipeline/_fit_transform_one/127923865031f9156aaf09d661b1cc29\n",
            "___________________________________fit_transform_one cache loaded - 0.0s, 0.0min\n",
            "[Memory]0.0s, 0.0min    : Loading _fit_transform_one from cachedir/joblib/sklearn/pipeline/_fit_transform_one/66f096df1795da5c84f23408103d22b2\n",
            "___________________________________fit_transform_one cache loaded - 0.1s, 0.0min\n",
            "[Memory]0.2s, 0.0min    : Loading _fit_transform_one from cachedir/joblib/sklearn/pipeline/_fit_transform_one/f49d59f3d080bc113431ab88078b1af2\n",
            "___________________________________fit_transform_one cache loaded - 0.0s, 0.0min\n",
            "[Memory]0.2s, 0.0min    : Loading _fit_transform_one from cachedir/joblib/sklearn/pipeline/_fit_transform_one/c0b1138166ba439e546d8f25133831ae\n",
            "___________________________________fit_transform_one cache loaded - 0.0s, 0.0min\n",
            "[Memory]0.0s, 0.0min    : Loading _fit_transform_one from cachedir/joblib/sklearn/pipeline/_fit_transform_one/b787281904d5d8d4253ddedc7ccc1bfd\n",
            "___________________________________fit_transform_one cache loaded - 0.1s, 0.0min\n",
            "[Memory]0.1s, 0.0min    : Loading _fit_transform_one from cachedir/joblib/sklearn/pipeline/_fit_transform_one/6c56d117e2b97c3985d4dbd757d0141d\n",
            "___________________________________fit_transform_one cache loaded - 0.0s, 0.0min\n",
            "[Memory]0.1s, 0.0min    : Loading _fit_transform_one from cachedir/joblib/sklearn/pipeline/_fit_transform_one/c47ebcd9fb0253300fdf90302156c653\n",
            "___________________________________fit_transform_one cache loaded - 0.0s, 0.0min\n",
            "[Memory]0.0s, 0.0min    : Loading _fit_transform_one from cachedir/joblib/sklearn/pipeline/_fit_transform_one/85ba9e6fc1acbb83c404f3e410efebe9\n",
            "___________________________________fit_transform_one cache loaded - 0.1s, 0.0min\n",
            "[Memory]0.1s, 0.0min    : Loading _fit_transform_one from cachedir/joblib/sklearn/pipeline/_fit_transform_one/256bcc8ea871397960db1e07d1f71d57\n",
            "___________________________________fit_transform_one cache loaded - 0.0s, 0.0min\n",
            "[Memory]0.1s, 0.0min    : Loading _fit_transform_one from cachedir/joblib/sklearn/pipeline/_fit_transform_one/84b6060a9b5e6685e6c6de7c735922b9\n",
            "___________________________________fit_transform_one cache loaded - 0.0s, 0.0min\n",
            "[Memory]0.0s, 0.0min    : Loading _fit_transform_one from cachedir/joblib/sklearn/pipeline/_fit_transform_one/e1b82fe716df21d74b2c38215e1a5eaa\n",
            "___________________________________fit_transform_one cache loaded - 0.1s, 0.0min\n",
            "[Memory]0.1s, 0.0min    : Loading _fit_transform_one from cachedir/joblib/sklearn/pipeline/_fit_transform_one/7c6407b59d3e089b9b110924ff137c62\n",
            "___________________________________fit_transform_one cache loaded - 0.0s, 0.0min\n",
            "[Memory]0.1s, 0.0min    : Loading _fit_transform_one from cachedir/joblib/sklearn/pipeline/_fit_transform_one/693b97372d0e358c33c1a04364b20a86\n",
            "___________________________________fit_transform_one cache loaded - 0.0s, 0.0min\n",
            "[Memory]0.0s, 0.0min    : Loading _fit_transform_one from cachedir/joblib/sklearn/pipeline/_fit_transform_one/86d2f04be2a9d6e659f99d3e9a62574f\n",
            "___________________________________fit_transform_one cache loaded - 0.1s, 0.0min\n",
            "[Memory]0.1s, 0.0min    : Loading _fit_transform_one from cachedir/joblib/sklearn/pipeline/_fit_transform_one/3cbc1101fa820b5ef39c46f85167cf2e\n",
            "___________________________________fit_transform_one cache loaded - 0.0s, 0.0min\n",
            "[Memory]0.1s, 0.0min    : Loading _fit_transform_one from cachedir/joblib/sklearn/pipeline/_fit_transform_one/a86f71ab63cd52741163ae4180f73134\n",
            "___________________________________fit_transform_one cache loaded - 0.0s, 0.0min\n",
            "[Memory]0.0s, 0.0min    : Loading _fit_transform_one from cachedir/joblib/sklearn/pipeline/_fit_transform_one/fb9c4da1f35b2ed5493daee9385c47fa\n",
            "___________________________________fit_transform_one cache loaded - 0.1s, 0.0min\n",
            "[Memory]0.1s, 0.0min    : Loading _fit_transform_one from cachedir/joblib/sklearn/pipeline/_fit_transform_one/7a8272ea6c3f30c674947a15e247bbf7\n",
            "___________________________________fit_transform_one cache loaded - 0.0s, 0.0min\n",
            "[Memory]0.1s, 0.0min    : Loading _fit_transform_one from cachedir/joblib/sklearn/pipeline/_fit_transform_one/43f28a8854861aef87b596964de6a007\n",
            "___________________________________fit_transform_one cache loaded - 0.0s, 0.0min\n",
            "[Memory]0.0s, 0.0min    : Loading _fit_transform_one from cachedir/joblib/sklearn/pipeline/_fit_transform_one/e17e003cefe0e28f8272b0d74d85b835\n",
            "___________________________________fit_transform_one cache loaded - 0.1s, 0.0min\n",
            "[Memory]0.1s, 0.0min    : Loading _fit_transform_one from cachedir/joblib/sklearn/pipeline/_fit_transform_one/ed24d4f44ef18c864477d77ce8f73fbe\n",
            "___________________________________fit_transform_one cache loaded - 0.0s, 0.0min\n",
            "[Memory]0.1s, 0.0min    : Loading _fit_transform_one from cachedir/joblib/sklearn/pipeline/_fit_transform_one/236dacf7476be633457081d31b167e69\n",
            "___________________________________fit_transform_one cache loaded - 0.0s, 0.0min\n",
            "[Memory]0.0s, 0.0min    : Loading _fit_transform_one from cachedir/joblib/sklearn/pipeline/_fit_transform_one/5dc41e6435ac102ca6477e2691e1379a\n",
            "___________________________________fit_transform_one cache loaded - 0.1s, 0.0min\n",
            "[Memory]0.1s, 0.0min    : Loading _fit_transform_one from cachedir/joblib/sklearn/pipeline/_fit_transform_one/94faa314b6e9f5da187cb66d0b1d6f33\n",
            "___________________________________fit_transform_one cache loaded - 0.0s, 0.0min\n",
            "[Memory]0.1s, 0.0min    : Loading _fit_transform_one from cachedir/joblib/sklearn/pipeline/_fit_transform_one/fc5f075e9c71a6be6138c6b2bdcec812\n",
            "___________________________________fit_transform_one cache loaded - 0.0s, 0.0min\n",
            "[Memory]0.0s, 0.0min    : Loading _fit_transform_one from cachedir/joblib/sklearn/pipeline/_fit_transform_one/e8dc13eb0efcf1c2a8bdaa0cebf3c9ff\n",
            "___________________________________fit_transform_one cache loaded - 0.1s, 0.0min\n",
            "[Memory]0.1s, 0.0min    : Loading _fit_transform_one from cachedir/joblib/sklearn/pipeline/_fit_transform_one/88fc7ec26c8a39c3195d2e241ab582d8\n",
            "___________________________________fit_transform_one cache loaded - 0.0s, 0.0min\n",
            "[Memory]0.1s, 0.0min    : Loading _fit_transform_one from cachedir/joblib/sklearn/pipeline/_fit_transform_one/3d3da00e96f3d22a07879bf1e11e586f\n",
            "___________________________________fit_transform_one cache loaded - 0.0s, 0.0min\n",
            "[Memory]0.0s, 0.0min    : Loading _fit_transform_one from cachedir/joblib/sklearn/pipeline/_fit_transform_one/98dec079fcfa8cc20e0a0f6ad2e7e625\n",
            "___________________________________fit_transform_one cache loaded - 0.1s, 0.0min\n",
            "[Memory]0.1s, 0.0min    : Loading _fit_transform_one from cachedir/joblib/sklearn/pipeline/_fit_transform_one/fc9fc46c182a07822e91ba269ec9093c\n",
            "___________________________________fit_transform_one cache loaded - 0.0s, 0.0min\n",
            "[Memory]0.1s, 0.0min    : Loading _fit_transform_one from cachedir/joblib/sklearn/pipeline/_fit_transform_one/a051ec46d641a131f6a2d03e929302c7\n",
            "___________________________________fit_transform_one cache loaded - 0.0s, 0.0min\n",
            "[Memory]0.0s, 0.0min    : Loading _fit_transform_one from cachedir/joblib/sklearn/pipeline/_fit_transform_one/66f096df1795da5c84f23408103d22b2\n",
            "___________________________________fit_transform_one cache loaded - 0.1s, 0.0min\n",
            "[Memory]0.1s, 0.0min    : Loading _fit_transform_one from cachedir/joblib/sklearn/pipeline/_fit_transform_one/f49d59f3d080bc113431ab88078b1af2\n",
            "___________________________________fit_transform_one cache loaded - 0.0s, 0.0min\n",
            "[Memory]0.1s, 0.0min    : Loading _fit_transform_one from cachedir/joblib/sklearn/pipeline/_fit_transform_one/fa23f47d95e635515f628a0b1f5d8883\n",
            "___________________________________fit_transform_one cache loaded - 0.0s, 0.0min\n",
            "[Memory]0.0s, 0.0min    : Loading _fit_transform_one from cachedir/joblib/sklearn/pipeline/_fit_transform_one/b787281904d5d8d4253ddedc7ccc1bfd\n",
            "___________________________________fit_transform_one cache loaded - 0.1s, 0.0min\n",
            "[Memory]0.2s, 0.0min    : Loading _fit_transform_one from cachedir/joblib/sklearn/pipeline/_fit_transform_one/6c56d117e2b97c3985d4dbd757d0141d\n",
            "___________________________________fit_transform_one cache loaded - 0.0s, 0.0min\n",
            "[Memory]0.2s, 0.0min    : Loading _fit_transform_one from cachedir/joblib/sklearn/pipeline/_fit_transform_one/f41a1c99b34a015eecb41d61021c6a37\n",
            "___________________________________fit_transform_one cache loaded - 0.0s, 0.0min\n",
            "[Memory]0.0s, 0.0min    : Loading _fit_transform_one from cachedir/joblib/sklearn/pipeline/_fit_transform_one/85ba9e6fc1acbb83c404f3e410efebe9\n",
            "___________________________________fit_transform_one cache loaded - 0.1s, 0.0min\n",
            "[Memory]0.2s, 0.0min    : Loading _fit_transform_one from cachedir/joblib/sklearn/pipeline/_fit_transform_one/256bcc8ea871397960db1e07d1f71d57\n",
            "___________________________________fit_transform_one cache loaded - 0.0s, 0.0min\n",
            "[Memory]0.2s, 0.0min    : Loading _fit_transform_one from cachedir/joblib/sklearn/pipeline/_fit_transform_one/99b96bc031c7addadd52c0fb923923d4\n",
            "___________________________________fit_transform_one cache loaded - 0.0s, 0.0min\n",
            "[Memory]0.0s, 0.0min    : Loading _fit_transform_one from cachedir/joblib/sklearn/pipeline/_fit_transform_one/e1b82fe716df21d74b2c38215e1a5eaa\n",
            "___________________________________fit_transform_one cache loaded - 0.1s, 0.0min\n",
            "[Memory]0.1s, 0.0min    : Loading _fit_transform_one from cachedir/joblib/sklearn/pipeline/_fit_transform_one/7c6407b59d3e089b9b110924ff137c62\n",
            "___________________________________fit_transform_one cache loaded - 0.0s, 0.0min\n",
            "[Memory]0.2s, 0.0min    : Loading _fit_transform_one from cachedir/joblib/sklearn/pipeline/_fit_transform_one/83de795cb8143e2a41d9ce17063b0097\n",
            "___________________________________fit_transform_one cache loaded - 0.0s, 0.0min\n",
            "[Memory]0.0s, 0.0min    : Loading _fit_transform_one from cachedir/joblib/sklearn/pipeline/_fit_transform_one/86d2f04be2a9d6e659f99d3e9a62574f\n",
            "___________________________________fit_transform_one cache loaded - 0.1s, 0.0min\n",
            "[Memory]0.2s, 0.0min    : Loading _fit_transform_one from cachedir/joblib/sklearn/pipeline/_fit_transform_one/3cbc1101fa820b5ef39c46f85167cf2e\n",
            "___________________________________fit_transform_one cache loaded - 0.0s, 0.0min\n",
            "[Memory]0.2s, 0.0min    : Loading _fit_transform_one from cachedir/joblib/sklearn/pipeline/_fit_transform_one/8c06156ae70d0fc15e54ddb0c83e4097\n",
            "___________________________________fit_transform_one cache loaded - 0.0s, 0.0min\n",
            "[Memory]0.0s, 0.0min    : Loading _fit_transform_one from cachedir/joblib/sklearn/pipeline/_fit_transform_one/fb9c4da1f35b2ed5493daee9385c47fa\n",
            "___________________________________fit_transform_one cache loaded - 0.1s, 0.0min\n",
            "[Memory]0.1s, 0.0min    : Loading _fit_transform_one from cachedir/joblib/sklearn/pipeline/_fit_transform_one/7a8272ea6c3f30c674947a15e247bbf7\n",
            "___________________________________fit_transform_one cache loaded - 0.0s, 0.0min\n",
            "[Memory]0.2s, 0.0min    : Loading _fit_transform_one from cachedir/joblib/sklearn/pipeline/_fit_transform_one/56ad3fd0cfd230ffcf054a18c7d71ee1\n",
            "___________________________________fit_transform_one cache loaded - 0.0s, 0.0min\n",
            "[Memory]0.0s, 0.0min    : Loading _fit_transform_one from cachedir/joblib/sklearn/pipeline/_fit_transform_one/e17e003cefe0e28f8272b0d74d85b835\n",
            "___________________________________fit_transform_one cache loaded - 0.1s, 0.0min\n",
            "[Memory]0.1s, 0.0min    : Loading _fit_transform_one from cachedir/joblib/sklearn/pipeline/_fit_transform_one/ed24d4f44ef18c864477d77ce8f73fbe\n",
            "___________________________________fit_transform_one cache loaded - 0.0s, 0.0min\n",
            "[Memory]0.2s, 0.0min    : Loading _fit_transform_one from cachedir/joblib/sklearn/pipeline/_fit_transform_one/23daa94dee07b210b5cb82eb736b0eb5\n",
            "___________________________________fit_transform_one cache loaded - 0.0s, 0.0min\n",
            "[Memory]0.0s, 0.0min    : Loading _fit_transform_one from cachedir/joblib/sklearn/pipeline/_fit_transform_one/5dc41e6435ac102ca6477e2691e1379a\n",
            "___________________________________fit_transform_one cache loaded - 0.1s, 0.0min\n",
            "[Memory]0.1s, 0.0min    : Loading _fit_transform_one from cachedir/joblib/sklearn/pipeline/_fit_transform_one/94faa314b6e9f5da187cb66d0b1d6f33\n",
            "___________________________________fit_transform_one cache loaded - 0.0s, 0.0min\n",
            "[Memory]0.2s, 0.0min    : Loading _fit_transform_one from cachedir/joblib/sklearn/pipeline/_fit_transform_one/14307f4f8bcf21d3662ffa4cea09d2c7\n",
            "___________________________________fit_transform_one cache loaded - 0.0s, 0.0min\n",
            "[Memory]0.0s, 0.0min    : Loading _fit_transform_one from cachedir/joblib/sklearn/pipeline/_fit_transform_one/e8dc13eb0efcf1c2a8bdaa0cebf3c9ff\n",
            "___________________________________fit_transform_one cache loaded - 0.1s, 0.0min\n",
            "[Memory]0.1s, 0.0min    : Loading _fit_transform_one from cachedir/joblib/sklearn/pipeline/_fit_transform_one/88fc7ec26c8a39c3195d2e241ab582d8\n",
            "___________________________________fit_transform_one cache loaded - 0.0s, 0.0min\n",
            "[Memory]0.2s, 0.0min    : Loading _fit_transform_one from cachedir/joblib/sklearn/pipeline/_fit_transform_one/25ef2fe6eba428afc2a1dcdf5b926e22\n",
            "___________________________________fit_transform_one cache loaded - 0.0s, 0.0min\n",
            "[Memory]0.0s, 0.0min    : Loading _fit_transform_one from cachedir/joblib/sklearn/pipeline/_fit_transform_one/98dec079fcfa8cc20e0a0f6ad2e7e625\n",
            "___________________________________fit_transform_one cache loaded - 0.1s, 0.0min\n",
            "[Memory]0.1s, 0.0min    : Loading _fit_transform_one from cachedir/joblib/sklearn/pipeline/_fit_transform_one/fc9fc46c182a07822e91ba269ec9093c\n",
            "___________________________________fit_transform_one cache loaded - 0.0s, 0.0min\n",
            "[Memory]0.2s, 0.0min    : Loading _fit_transform_one from cachedir/joblib/sklearn/pipeline/_fit_transform_one/9216169d4f36265be04043a4bf23686a\n",
            "___________________________________fit_transform_one cache loaded - 0.0s, 0.0min\n",
            "[Memory]0.0s, 0.0min    : Loading _fit_transform_one from cachedir/joblib/sklearn/pipeline/_fit_transform_one/66f096df1795da5c84f23408103d22b2\n",
            "___________________________________fit_transform_one cache loaded - 0.1s, 0.0min\n",
            "[Memory]0.2s, 0.0min    : Loading _fit_transform_one from cachedir/joblib/sklearn/pipeline/_fit_transform_one/f49d59f3d080bc113431ab88078b1af2\n",
            "___________________________________fit_transform_one cache loaded - 0.0s, 0.0min\n",
            "[Memory]0.2s, 0.0min    : Loading _fit_transform_one from cachedir/joblib/sklearn/pipeline/_fit_transform_one/7c61f99b4be931b495eba7d0b4a485a3\n",
            "___________________________________fit_transform_one cache loaded - 0.0s, 0.0min\n",
            "[Memory]0.0s, 0.0min    : Loading _fit_transform_one from cachedir/joblib/sklearn/pipeline/_fit_transform_one/b787281904d5d8d4253ddedc7ccc1bfd\n",
            "___________________________________fit_transform_one cache loaded - 0.1s, 0.0min\n",
            "[Memory]0.1s, 0.0min    : Loading _fit_transform_one from cachedir/joblib/sklearn/pipeline/_fit_transform_one/6c56d117e2b97c3985d4dbd757d0141d\n",
            "___________________________________fit_transform_one cache loaded - 0.0s, 0.0min\n",
            "[Memory]0.1s, 0.0min    : Loading _fit_transform_one from cachedir/joblib/sklearn/pipeline/_fit_transform_one/1db50e9eec29846fdfc7bcb5b2b308d7\n",
            "___________________________________fit_transform_one cache loaded - 0.0s, 0.0min\n",
            "[Memory]0.0s, 0.0min    : Loading _fit_transform_one from cachedir/joblib/sklearn/pipeline/_fit_transform_one/85ba9e6fc1acbb83c404f3e410efebe9\n",
            "___________________________________fit_transform_one cache loaded - 0.1s, 0.0min\n",
            "[Memory]0.1s, 0.0min    : Loading _fit_transform_one from cachedir/joblib/sklearn/pipeline/_fit_transform_one/256bcc8ea871397960db1e07d1f71d57\n",
            "___________________________________fit_transform_one cache loaded - 0.0s, 0.0min\n",
            "[Memory]0.1s, 0.0min    : Loading _fit_transform_one from cachedir/joblib/sklearn/pipeline/_fit_transform_one/b27aad79fb7587fa190434898a16aea7\n",
            "___________________________________fit_transform_one cache loaded - 0.0s, 0.0min\n",
            "[Memory]0.0s, 0.0min    : Loading _fit_transform_one from cachedir/joblib/sklearn/pipeline/_fit_transform_one/e1b82fe716df21d74b2c38215e1a5eaa\n",
            "___________________________________fit_transform_one cache loaded - 0.1s, 0.0min\n",
            "[Memory]0.1s, 0.0min    : Loading _fit_transform_one from cachedir/joblib/sklearn/pipeline/_fit_transform_one/7c6407b59d3e089b9b110924ff137c62\n",
            "___________________________________fit_transform_one cache loaded - 0.0s, 0.0min\n",
            "[Memory]0.1s, 0.0min    : Loading _fit_transform_one from cachedir/joblib/sklearn/pipeline/_fit_transform_one/6bacf38bea4abd95f6ff71af73a22ffa\n",
            "___________________________________fit_transform_one cache loaded - 0.0s, 0.0min\n",
            "[Memory]0.0s, 0.0min    : Loading _fit_transform_one from cachedir/joblib/sklearn/pipeline/_fit_transform_one/86d2f04be2a9d6e659f99d3e9a62574f\n",
            "___________________________________fit_transform_one cache loaded - 0.1s, 0.0min\n",
            "[Memory]0.1s, 0.0min    : Loading _fit_transform_one from cachedir/joblib/sklearn/pipeline/_fit_transform_one/3cbc1101fa820b5ef39c46f85167cf2e\n",
            "___________________________________fit_transform_one cache loaded - 0.0s, 0.0min\n",
            "[Memory]0.1s, 0.0min    : Loading _fit_transform_one from cachedir/joblib/sklearn/pipeline/_fit_transform_one/f4d25270933f732d3e36156f21fae575\n",
            "___________________________________fit_transform_one cache loaded - 0.0s, 0.0min\n",
            "[Memory]0.0s, 0.0min    : Loading _fit_transform_one from cachedir/joblib/sklearn/pipeline/_fit_transform_one/fb9c4da1f35b2ed5493daee9385c47fa\n",
            "___________________________________fit_transform_one cache loaded - 0.1s, 0.0min\n",
            "[Memory]0.1s, 0.0min    : Loading _fit_transform_one from cachedir/joblib/sklearn/pipeline/_fit_transform_one/7a8272ea6c3f30c674947a15e247bbf7\n",
            "___________________________________fit_transform_one cache loaded - 0.0s, 0.0min\n",
            "[Memory]0.1s, 0.0min    : Loading _fit_transform_one from cachedir/joblib/sklearn/pipeline/_fit_transform_one/a24b211b8076376faffeebf7b5e546d7\n",
            "___________________________________fit_transform_one cache loaded - 0.0s, 0.0min\n",
            "[Memory]0.0s, 0.0min    : Loading _fit_transform_one from cachedir/joblib/sklearn/pipeline/_fit_transform_one/e17e003cefe0e28f8272b0d74d85b835\n",
            "___________________________________fit_transform_one cache loaded - 0.1s, 0.0min\n",
            "[Memory]0.1s, 0.0min    : Loading _fit_transform_one from cachedir/joblib/sklearn/pipeline/_fit_transform_one/ed24d4f44ef18c864477d77ce8f73fbe\n",
            "___________________________________fit_transform_one cache loaded - 0.0s, 0.0min\n",
            "[Memory]0.1s, 0.0min    : Loading _fit_transform_one from cachedir/joblib/sklearn/pipeline/_fit_transform_one/cc0cd5464e15ad06cf82c24c34d562f2\n",
            "___________________________________fit_transform_one cache loaded - 0.0s, 0.0min\n",
            "[Memory]0.0s, 0.0min    : Loading _fit_transform_one from cachedir/joblib/sklearn/pipeline/_fit_transform_one/5dc41e6435ac102ca6477e2691e1379a\n",
            "___________________________________fit_transform_one cache loaded - 0.1s, 0.0min\n",
            "[Memory]0.1s, 0.0min    : Loading _fit_transform_one from cachedir/joblib/sklearn/pipeline/_fit_transform_one/94faa314b6e9f5da187cb66d0b1d6f33\n",
            "___________________________________fit_transform_one cache loaded - 0.0s, 0.0min\n",
            "[Memory]0.1s, 0.0min    : Loading _fit_transform_one from cachedir/joblib/sklearn/pipeline/_fit_transform_one/775d43c10189ba287dc85f881d052118\n",
            "___________________________________fit_transform_one cache loaded - 0.0s, 0.0min\n",
            "[Memory]0.0s, 0.0min    : Loading _fit_transform_one from cachedir/joblib/sklearn/pipeline/_fit_transform_one/e8dc13eb0efcf1c2a8bdaa0cebf3c9ff\n",
            "___________________________________fit_transform_one cache loaded - 0.1s, 0.0min\n",
            "[Memory]0.1s, 0.0min    : Loading _fit_transform_one from cachedir/joblib/sklearn/pipeline/_fit_transform_one/88fc7ec26c8a39c3195d2e241ab582d8\n",
            "___________________________________fit_transform_one cache loaded - 0.0s, 0.0min\n",
            "[Memory]0.1s, 0.0min    : Loading _fit_transform_one from cachedir/joblib/sklearn/pipeline/_fit_transform_one/e6d02e19a93e6cd6f1196ff18648c12b\n",
            "___________________________________fit_transform_one cache loaded - 0.0s, 0.0min\n",
            "[Memory]0.0s, 0.0min    : Loading _fit_transform_one from cachedir/joblib/sklearn/pipeline/_fit_transform_one/98dec079fcfa8cc20e0a0f6ad2e7e625\n",
            "___________________________________fit_transform_one cache loaded - 0.1s, 0.0min\n",
            "[Memory]0.1s, 0.0min    : Loading _fit_transform_one from cachedir/joblib/sklearn/pipeline/_fit_transform_one/fc9fc46c182a07822e91ba269ec9093c\n",
            "___________________________________fit_transform_one cache loaded - 0.0s, 0.0min\n",
            "[Memory]0.1s, 0.0min    : Loading _fit_transform_one from cachedir/joblib/sklearn/pipeline/_fit_transform_one/d2ffc7b2e898f4b8af4caaeb5806a9a7\n",
            "___________________________________fit_transform_one cache loaded - 0.0s, 0.0min\n",
            "[Memory]0.0s, 0.0min    : Loading _fit_transform_one from cachedir/joblib/sklearn/pipeline/_fit_transform_one/66f096df1795da5c84f23408103d22b2\n",
            "___________________________________fit_transform_one cache loaded - 0.1s, 0.0min\n",
            "[Memory]0.1s, 0.0min    : Loading _fit_transform_one from cachedir/joblib/sklearn/pipeline/_fit_transform_one/f49d59f3d080bc113431ab88078b1af2\n",
            "___________________________________fit_transform_one cache loaded - 0.0s, 0.0min\n",
            "[Memory]0.1s, 0.0min    : Loading _fit_transform_one from cachedir/joblib/sklearn/pipeline/_fit_transform_one/5a4cd09befb83b8b883727fe38475fe2\n",
            "___________________________________fit_transform_one cache loaded - 0.0s, 0.0min\n",
            "[Memory]0.0s, 0.0min    : Loading _fit_transform_one from cachedir/joblib/sklearn/pipeline/_fit_transform_one/b787281904d5d8d4253ddedc7ccc1bfd\n",
            "___________________________________fit_transform_one cache loaded - 0.1s, 0.0min\n",
            "[Memory]0.1s, 0.0min    : Loading _fit_transform_one from cachedir/joblib/sklearn/pipeline/_fit_transform_one/6c56d117e2b97c3985d4dbd757d0141d\n",
            "___________________________________fit_transform_one cache loaded - 0.0s, 0.0min\n",
            "[Memory]0.1s, 0.0min    : Loading _fit_transform_one from cachedir/joblib/sklearn/pipeline/_fit_transform_one/1afbeffc94523c0389d1123e01a630e2\n",
            "___________________________________fit_transform_one cache loaded - 0.0s, 0.0min\n",
            "[Memory]0.0s, 0.0min    : Loading _fit_transform_one from cachedir/joblib/sklearn/pipeline/_fit_transform_one/85ba9e6fc1acbb83c404f3e410efebe9\n",
            "___________________________________fit_transform_one cache loaded - 0.1s, 0.0min\n",
            "[Memory]0.1s, 0.0min    : Loading _fit_transform_one from cachedir/joblib/sklearn/pipeline/_fit_transform_one/256bcc8ea871397960db1e07d1f71d57\n",
            "___________________________________fit_transform_one cache loaded - 0.0s, 0.0min\n",
            "[Memory]0.1s, 0.0min    : Loading _fit_transform_one from cachedir/joblib/sklearn/pipeline/_fit_transform_one/5e740f9f7b1d20c3be431f73b2396f10\n",
            "___________________________________fit_transform_one cache loaded - 0.0s, 0.0min\n",
            "[Memory]0.0s, 0.0min    : Loading _fit_transform_one from cachedir/joblib/sklearn/pipeline/_fit_transform_one/e1b82fe716df21d74b2c38215e1a5eaa\n",
            "___________________________________fit_transform_one cache loaded - 0.1s, 0.0min\n",
            "[Memory]0.1s, 0.0min    : Loading _fit_transform_one from cachedir/joblib/sklearn/pipeline/_fit_transform_one/7c6407b59d3e089b9b110924ff137c62\n",
            "___________________________________fit_transform_one cache loaded - 0.0s, 0.0min\n",
            "[Memory]0.1s, 0.0min    : Loading _fit_transform_one from cachedir/joblib/sklearn/pipeline/_fit_transform_one/014147e35663e5eec916fb9aa11c65f9\n",
            "___________________________________fit_transform_one cache loaded - 0.0s, 0.0min\n",
            "[Memory]0.0s, 0.0min    : Loading _fit_transform_one from cachedir/joblib/sklearn/pipeline/_fit_transform_one/86d2f04be2a9d6e659f99d3e9a62574f\n",
            "___________________________________fit_transform_one cache loaded - 0.1s, 0.0min\n",
            "[Memory]0.1s, 0.0min    : Loading _fit_transform_one from cachedir/joblib/sklearn/pipeline/_fit_transform_one/3cbc1101fa820b5ef39c46f85167cf2e\n",
            "___________________________________fit_transform_one cache loaded - 0.0s, 0.0min\n",
            "[Memory]0.1s, 0.0min    : Loading _fit_transform_one from cachedir/joblib/sklearn/pipeline/_fit_transform_one/f0f2f843a795939f126a00973566f718\n",
            "___________________________________fit_transform_one cache loaded - 0.0s, 0.0min\n",
            "[Memory]0.0s, 0.0min    : Loading _fit_transform_one from cachedir/joblib/sklearn/pipeline/_fit_transform_one/fb9c4da1f35b2ed5493daee9385c47fa\n",
            "___________________________________fit_transform_one cache loaded - 0.1s, 0.0min\n",
            "[Memory]0.1s, 0.0min    : Loading _fit_transform_one from cachedir/joblib/sklearn/pipeline/_fit_transform_one/7a8272ea6c3f30c674947a15e247bbf7\n",
            "___________________________________fit_transform_one cache loaded - 0.0s, 0.0min\n",
            "[Memory]0.1s, 0.0min    : Loading _fit_transform_one from cachedir/joblib/sklearn/pipeline/_fit_transform_one/5c6ee7ad988ce3b29dfbcc2ea5166cd5\n",
            "___________________________________fit_transform_one cache loaded - 0.0s, 0.0min\n",
            "[Memory]0.0s, 0.0min    : Loading _fit_transform_one from cachedir/joblib/sklearn/pipeline/_fit_transform_one/e17e003cefe0e28f8272b0d74d85b835\n",
            "___________________________________fit_transform_one cache loaded - 0.1s, 0.0min\n",
            "[Memory]0.1s, 0.0min    : Loading _fit_transform_one from cachedir/joblib/sklearn/pipeline/_fit_transform_one/ed24d4f44ef18c864477d77ce8f73fbe\n",
            "___________________________________fit_transform_one cache loaded - 0.0s, 0.0min\n",
            "[Memory]0.1s, 0.0min    : Loading _fit_transform_one from cachedir/joblib/sklearn/pipeline/_fit_transform_one/0367a83eb32ec0851bfd1e20d3fc50e0\n",
            "___________________________________fit_transform_one cache loaded - 0.0s, 0.0min\n",
            "[Memory]0.0s, 0.0min    : Loading _fit_transform_one from cachedir/joblib/sklearn/pipeline/_fit_transform_one/5dc41e6435ac102ca6477e2691e1379a\n",
            "___________________________________fit_transform_one cache loaded - 0.1s, 0.0min\n",
            "[Memory]0.1s, 0.0min    : Loading _fit_transform_one from cachedir/joblib/sklearn/pipeline/_fit_transform_one/94faa314b6e9f5da187cb66d0b1d6f33\n",
            "___________________________________fit_transform_one cache loaded - 0.0s, 0.0min\n",
            "[Memory]0.1s, 0.0min    : Loading _fit_transform_one from cachedir/joblib/sklearn/pipeline/_fit_transform_one/422deeba347c092069059bc5737f0127\n",
            "___________________________________fit_transform_one cache loaded - 0.0s, 0.0min\n",
            "[Memory]0.0s, 0.0min    : Loading _fit_transform_one from cachedir/joblib/sklearn/pipeline/_fit_transform_one/e8dc13eb0efcf1c2a8bdaa0cebf3c9ff\n",
            "___________________________________fit_transform_one cache loaded - 0.1s, 0.0min\n",
            "[Memory]0.1s, 0.0min    : Loading _fit_transform_one from cachedir/joblib/sklearn/pipeline/_fit_transform_one/88fc7ec26c8a39c3195d2e241ab582d8\n",
            "___________________________________fit_transform_one cache loaded - 0.0s, 0.0min\n",
            "[Memory]0.1s, 0.0min    : Loading _fit_transform_one from cachedir/joblib/sklearn/pipeline/_fit_transform_one/8d346a7f63bf9aacce27ad14e4995280\n",
            "___________________________________fit_transform_one cache loaded - 0.0s, 0.0min\n",
            "[Memory]0.0s, 0.0min    : Loading _fit_transform_one from cachedir/joblib/sklearn/pipeline/_fit_transform_one/98dec079fcfa8cc20e0a0f6ad2e7e625\n",
            "___________________________________fit_transform_one cache loaded - 0.1s, 0.0min\n",
            "[Memory]0.1s, 0.0min    : Loading _fit_transform_one from cachedir/joblib/sklearn/pipeline/_fit_transform_one/fc9fc46c182a07822e91ba269ec9093c\n",
            "___________________________________fit_transform_one cache loaded - 0.0s, 0.0min\n",
            "[Memory]0.1s, 0.0min    : Loading _fit_transform_one from cachedir/joblib/sklearn/pipeline/_fit_transform_one/127923865031f9156aaf09d661b1cc29\n",
            "___________________________________fit_transform_one cache loaded - 0.0s, 0.0min\n",
            "[Memory]0.0s, 0.0min    : Loading _fit_transform_one from cachedir/joblib/sklearn/pipeline/_fit_transform_one/66f096df1795da5c84f23408103d22b2\n",
            "___________________________________fit_transform_one cache loaded - 0.1s, 0.0min\n",
            "[Memory]0.1s, 0.0min    : Loading _fit_transform_one from cachedir/joblib/sklearn/pipeline/_fit_transform_one/f49d59f3d080bc113431ab88078b1af2\n",
            "___________________________________fit_transform_one cache loaded - 0.0s, 0.0min\n",
            "[Memory]0.1s, 0.0min    : Loading _fit_transform_one from cachedir/joblib/sklearn/pipeline/_fit_transform_one/c0b1138166ba439e546d8f25133831ae\n",
            "___________________________________fit_transform_one cache loaded - 0.0s, 0.0min\n",
            "[Memory]0.0s, 0.0min    : Loading _fit_transform_one from cachedir/joblib/sklearn/pipeline/_fit_transform_one/b787281904d5d8d4253ddedc7ccc1bfd\n",
            "___________________________________fit_transform_one cache loaded - 0.1s, 0.0min\n",
            "[Memory]0.1s, 0.0min    : Loading _fit_transform_one from cachedir/joblib/sklearn/pipeline/_fit_transform_one/6c56d117e2b97c3985d4dbd757d0141d\n",
            "___________________________________fit_transform_one cache loaded - 0.0s, 0.0min\n",
            "[Memory]0.1s, 0.0min    : Loading _fit_transform_one from cachedir/joblib/sklearn/pipeline/_fit_transform_one/c47ebcd9fb0253300fdf90302156c653\n",
            "___________________________________fit_transform_one cache loaded - 0.0s, 0.0min\n",
            "[Memory]0.0s, 0.0min    : Loading _fit_transform_one from cachedir/joblib/sklearn/pipeline/_fit_transform_one/85ba9e6fc1acbb83c404f3e410efebe9\n",
            "___________________________________fit_transform_one cache loaded - 0.1s, 0.0min\n",
            "[Memory]0.1s, 0.0min    : Loading _fit_transform_one from cachedir/joblib/sklearn/pipeline/_fit_transform_one/256bcc8ea871397960db1e07d1f71d57\n",
            "___________________________________fit_transform_one cache loaded - 0.0s, 0.0min\n",
            "[Memory]0.1s, 0.0min    : Loading _fit_transform_one from cachedir/joblib/sklearn/pipeline/_fit_transform_one/84b6060a9b5e6685e6c6de7c735922b9\n",
            "___________________________________fit_transform_one cache loaded - 0.0s, 0.0min\n",
            "[Memory]0.0s, 0.0min    : Loading _fit_transform_one from cachedir/joblib/sklearn/pipeline/_fit_transform_one/e1b82fe716df21d74b2c38215e1a5eaa\n",
            "___________________________________fit_transform_one cache loaded - 0.1s, 0.0min\n",
            "[Memory]0.1s, 0.0min    : Loading _fit_transform_one from cachedir/joblib/sklearn/pipeline/_fit_transform_one/7c6407b59d3e089b9b110924ff137c62\n",
            "___________________________________fit_transform_one cache loaded - 0.0s, 0.0min\n",
            "[Memory]0.1s, 0.0min    : Loading _fit_transform_one from cachedir/joblib/sklearn/pipeline/_fit_transform_one/693b97372d0e358c33c1a04364b20a86\n",
            "___________________________________fit_transform_one cache loaded - 0.0s, 0.0min\n",
            "[Memory]0.0s, 0.0min    : Loading _fit_transform_one from cachedir/joblib/sklearn/pipeline/_fit_transform_one/86d2f04be2a9d6e659f99d3e9a62574f\n",
            "___________________________________fit_transform_one cache loaded - 0.1s, 0.0min\n",
            "[Memory]0.1s, 0.0min    : Loading _fit_transform_one from cachedir/joblib/sklearn/pipeline/_fit_transform_one/3cbc1101fa820b5ef39c46f85167cf2e\n",
            "___________________________________fit_transform_one cache loaded - 0.0s, 0.0min\n",
            "[Memory]0.1s, 0.0min    : Loading _fit_transform_one from cachedir/joblib/sklearn/pipeline/_fit_transform_one/a86f71ab63cd52741163ae4180f73134\n",
            "___________________________________fit_transform_one cache loaded - 0.0s, 0.0min\n",
            "[Memory]0.0s, 0.0min    : Loading _fit_transform_one from cachedir/joblib/sklearn/pipeline/_fit_transform_one/fb9c4da1f35b2ed5493daee9385c47fa\n",
            "___________________________________fit_transform_one cache loaded - 0.1s, 0.0min\n",
            "[Memory]0.1s, 0.0min    : Loading _fit_transform_one from cachedir/joblib/sklearn/pipeline/_fit_transform_one/7a8272ea6c3f30c674947a15e247bbf7\n",
            "___________________________________fit_transform_one cache loaded - 0.0s, 0.0min\n",
            "[Memory]0.1s, 0.0min    : Loading _fit_transform_one from cachedir/joblib/sklearn/pipeline/_fit_transform_one/43f28a8854861aef87b596964de6a007\n",
            "___________________________________fit_transform_one cache loaded - 0.0s, 0.0min\n",
            "[Memory]0.0s, 0.0min    : Loading _fit_transform_one from cachedir/joblib/sklearn/pipeline/_fit_transform_one/e17e003cefe0e28f8272b0d74d85b835\n",
            "___________________________________fit_transform_one cache loaded - 0.1s, 0.0min\n",
            "[Memory]0.1s, 0.0min    : Loading _fit_transform_one from cachedir/joblib/sklearn/pipeline/_fit_transform_one/ed24d4f44ef18c864477d77ce8f73fbe\n",
            "___________________________________fit_transform_one cache loaded - 0.0s, 0.0min\n",
            "[Memory]0.1s, 0.0min    : Loading _fit_transform_one from cachedir/joblib/sklearn/pipeline/_fit_transform_one/236dacf7476be633457081d31b167e69\n",
            "___________________________________fit_transform_one cache loaded - 0.0s, 0.0min\n",
            "[Memory]0.0s, 0.0min    : Loading _fit_transform_one from cachedir/joblib/sklearn/pipeline/_fit_transform_one/5dc41e6435ac102ca6477e2691e1379a\n",
            "___________________________________fit_transform_one cache loaded - 0.1s, 0.0min\n",
            "[Memory]0.1s, 0.0min    : Loading _fit_transform_one from cachedir/joblib/sklearn/pipeline/_fit_transform_one/94faa314b6e9f5da187cb66d0b1d6f33\n",
            "___________________________________fit_transform_one cache loaded - 0.0s, 0.0min\n",
            "[Memory]0.1s, 0.0min    : Loading _fit_transform_one from cachedir/joblib/sklearn/pipeline/_fit_transform_one/fc5f075e9c71a6be6138c6b2bdcec812\n",
            "___________________________________fit_transform_one cache loaded - 0.0s, 0.0min\n",
            "[Memory]0.0s, 0.0min    : Loading _fit_transform_one from cachedir/joblib/sklearn/pipeline/_fit_transform_one/e8dc13eb0efcf1c2a8bdaa0cebf3c9ff\n",
            "___________________________________fit_transform_one cache loaded - 0.1s, 0.0min\n",
            "[Memory]0.1s, 0.0min    : Loading _fit_transform_one from cachedir/joblib/sklearn/pipeline/_fit_transform_one/88fc7ec26c8a39c3195d2e241ab582d8\n",
            "___________________________________fit_transform_one cache loaded - 0.0s, 0.0min\n",
            "[Memory]0.1s, 0.0min    : Loading _fit_transform_one from cachedir/joblib/sklearn/pipeline/_fit_transform_one/3d3da00e96f3d22a07879bf1e11e586f\n",
            "___________________________________fit_transform_one cache loaded - 0.0s, 0.0min\n",
            "[Memory]0.0s, 0.0min    : Loading _fit_transform_one from cachedir/joblib/sklearn/pipeline/_fit_transform_one/98dec079fcfa8cc20e0a0f6ad2e7e625\n",
            "___________________________________fit_transform_one cache loaded - 0.1s, 0.0min\n",
            "[Memory]0.1s, 0.0min    : Loading _fit_transform_one from cachedir/joblib/sklearn/pipeline/_fit_transform_one/fc9fc46c182a07822e91ba269ec9093c\n",
            "___________________________________fit_transform_one cache loaded - 0.0s, 0.0min\n",
            "[Memory]0.1s, 0.0min    : Loading _fit_transform_one from cachedir/joblib/sklearn/pipeline/_fit_transform_one/a051ec46d641a131f6a2d03e929302c7\n",
            "___________________________________fit_transform_one cache loaded - 0.0s, 0.0min\n",
            "[Memory]0.0s, 0.0min    : Loading _fit_transform_one from cachedir/joblib/sklearn/pipeline/_fit_transform_one/66f096df1795da5c84f23408103d22b2\n",
            "___________________________________fit_transform_one cache loaded - 0.1s, 0.0min\n",
            "[Memory]0.1s, 0.0min    : Loading _fit_transform_one from cachedir/joblib/sklearn/pipeline/_fit_transform_one/f49d59f3d080bc113431ab88078b1af2\n",
            "___________________________________fit_transform_one cache loaded - 0.0s, 0.0min\n",
            "[Memory]0.1s, 0.0min    : Loading _fit_transform_one from cachedir/joblib/sklearn/pipeline/_fit_transform_one/fa23f47d95e635515f628a0b1f5d8883\n",
            "___________________________________fit_transform_one cache loaded - 0.0s, 0.0min\n",
            "[Memory]0.0s, 0.0min    : Loading _fit_transform_one from cachedir/joblib/sklearn/pipeline/_fit_transform_one/b787281904d5d8d4253ddedc7ccc1bfd\n",
            "___________________________________fit_transform_one cache loaded - 0.1s, 0.0min\n",
            "[Memory]0.1s, 0.0min    : Loading _fit_transform_one from cachedir/joblib/sklearn/pipeline/_fit_transform_one/6c56d117e2b97c3985d4dbd757d0141d\n",
            "___________________________________fit_transform_one cache loaded - 0.0s, 0.0min\n",
            "[Memory]0.1s, 0.0min    : Loading _fit_transform_one from cachedir/joblib/sklearn/pipeline/_fit_transform_one/f41a1c99b34a015eecb41d61021c6a37\n",
            "___________________________________fit_transform_one cache loaded - 0.0s, 0.0min\n",
            "[Memory]0.0s, 0.0min    : Loading _fit_transform_one from cachedir/joblib/sklearn/pipeline/_fit_transform_one/85ba9e6fc1acbb83c404f3e410efebe9\n",
            "___________________________________fit_transform_one cache loaded - 0.1s, 0.0min\n",
            "[Memory]0.1s, 0.0min    : Loading _fit_transform_one from cachedir/joblib/sklearn/pipeline/_fit_transform_one/256bcc8ea871397960db1e07d1f71d57\n",
            "___________________________________fit_transform_one cache loaded - 0.0s, 0.0min\n",
            "[Memory]0.1s, 0.0min    : Loading _fit_transform_one from cachedir/joblib/sklearn/pipeline/_fit_transform_one/99b96bc031c7addadd52c0fb923923d4\n",
            "___________________________________fit_transform_one cache loaded - 0.0s, 0.0min\n",
            "[Memory]0.0s, 0.0min    : Loading _fit_transform_one from cachedir/joblib/sklearn/pipeline/_fit_transform_one/e1b82fe716df21d74b2c38215e1a5eaa\n",
            "___________________________________fit_transform_one cache loaded - 0.1s, 0.0min\n",
            "[Memory]0.1s, 0.0min    : Loading _fit_transform_one from cachedir/joblib/sklearn/pipeline/_fit_transform_one/7c6407b59d3e089b9b110924ff137c62\n",
            "___________________________________fit_transform_one cache loaded - 0.0s, 0.0min\n",
            "[Memory]0.1s, 0.0min    : Loading _fit_transform_one from cachedir/joblib/sklearn/pipeline/_fit_transform_one/83de795cb8143e2a41d9ce17063b0097\n",
            "___________________________________fit_transform_one cache loaded - 0.0s, 0.0min\n",
            "[Memory]0.0s, 0.0min    : Loading _fit_transform_one from cachedir/joblib/sklearn/pipeline/_fit_transform_one/86d2f04be2a9d6e659f99d3e9a62574f\n",
            "___________________________________fit_transform_one cache loaded - 0.1s, 0.0min\n",
            "[Memory]0.1s, 0.0min    : Loading _fit_transform_one from cachedir/joblib/sklearn/pipeline/_fit_transform_one/3cbc1101fa820b5ef39c46f85167cf2e\n",
            "___________________________________fit_transform_one cache loaded - 0.0s, 0.0min\n",
            "[Memory]0.1s, 0.0min    : Loading _fit_transform_one from cachedir/joblib/sklearn/pipeline/_fit_transform_one/8c06156ae70d0fc15e54ddb0c83e4097\n",
            "___________________________________fit_transform_one cache loaded - 0.0s, 0.0min\n",
            "[Memory]0.0s, 0.0min    : Loading _fit_transform_one from cachedir/joblib/sklearn/pipeline/_fit_transform_one/fb9c4da1f35b2ed5493daee9385c47fa\n",
            "___________________________________fit_transform_one cache loaded - 0.1s, 0.0min\n",
            "[Memory]0.1s, 0.0min    : Loading _fit_transform_one from cachedir/joblib/sklearn/pipeline/_fit_transform_one/7a8272ea6c3f30c674947a15e247bbf7\n",
            "___________________________________fit_transform_one cache loaded - 0.0s, 0.0min\n",
            "[Memory]0.1s, 0.0min    : Loading _fit_transform_one from cachedir/joblib/sklearn/pipeline/_fit_transform_one/56ad3fd0cfd230ffcf054a18c7d71ee1\n",
            "___________________________________fit_transform_one cache loaded - 0.0s, 0.0min\n",
            "[Memory]0.0s, 0.0min    : Loading _fit_transform_one from cachedir/joblib/sklearn/pipeline/_fit_transform_one/e17e003cefe0e28f8272b0d74d85b835\n",
            "___________________________________fit_transform_one cache loaded - 0.1s, 0.0min\n",
            "[Memory]0.1s, 0.0min    : Loading _fit_transform_one from cachedir/joblib/sklearn/pipeline/_fit_transform_one/ed24d4f44ef18c864477d77ce8f73fbe\n",
            "___________________________________fit_transform_one cache loaded - 0.0s, 0.0min\n",
            "[Memory]0.1s, 0.0min    : Loading _fit_transform_one from cachedir/joblib/sklearn/pipeline/_fit_transform_one/23daa94dee07b210b5cb82eb736b0eb5\n",
            "___________________________________fit_transform_one cache loaded - 0.0s, 0.0min\n",
            "[Memory]0.0s, 0.0min    : Loading _fit_transform_one from cachedir/joblib/sklearn/pipeline/_fit_transform_one/5dc41e6435ac102ca6477e2691e1379a\n",
            "___________________________________fit_transform_one cache loaded - 0.1s, 0.0min\n",
            "[Memory]0.1s, 0.0min    : Loading _fit_transform_one from cachedir/joblib/sklearn/pipeline/_fit_transform_one/94faa314b6e9f5da187cb66d0b1d6f33\n",
            "___________________________________fit_transform_one cache loaded - 0.0s, 0.0min\n",
            "[Memory]0.1s, 0.0min    : Loading _fit_transform_one from cachedir/joblib/sklearn/pipeline/_fit_transform_one/14307f4f8bcf21d3662ffa4cea09d2c7\n",
            "___________________________________fit_transform_one cache loaded - 0.0s, 0.0min\n",
            "[Memory]0.0s, 0.0min    : Loading _fit_transform_one from cachedir/joblib/sklearn/pipeline/_fit_transform_one/e8dc13eb0efcf1c2a8bdaa0cebf3c9ff\n",
            "___________________________________fit_transform_one cache loaded - 0.1s, 0.0min\n",
            "[Memory]0.1s, 0.0min    : Loading _fit_transform_one from cachedir/joblib/sklearn/pipeline/_fit_transform_one/88fc7ec26c8a39c3195d2e241ab582d8\n",
            "___________________________________fit_transform_one cache loaded - 0.0s, 0.0min\n",
            "[Memory]0.1s, 0.0min    : Loading _fit_transform_one from cachedir/joblib/sklearn/pipeline/_fit_transform_one/25ef2fe6eba428afc2a1dcdf5b926e22\n",
            "___________________________________fit_transform_one cache loaded - 0.0s, 0.0min\n",
            "[Memory]0.0s, 0.0min    : Loading _fit_transform_one from cachedir/joblib/sklearn/pipeline/_fit_transform_one/98dec079fcfa8cc20e0a0f6ad2e7e625\n",
            "___________________________________fit_transform_one cache loaded - 0.1s, 0.0min\n",
            "[Memory]0.1s, 0.0min    : Loading _fit_transform_one from cachedir/joblib/sklearn/pipeline/_fit_transform_one/fc9fc46c182a07822e91ba269ec9093c\n",
            "___________________________________fit_transform_one cache loaded - 0.0s, 0.0min\n",
            "[Memory]0.1s, 0.0min    : Loading _fit_transform_one from cachedir/joblib/sklearn/pipeline/_fit_transform_one/9216169d4f36265be04043a4bf23686a\n",
            "___________________________________fit_transform_one cache loaded - 0.0s, 0.0min\n",
            "________________________________________________________________________________\n",
            "[Memory] Calling sklearn.pipeline._fit_transform_one...\n",
            "_fit_transform_one(CountVectorizer(min_df=5, stop_words='english'), 2310     as of sunday night a lopsided area of low pre...\n",
            "2189     the u n children s agency says some million c...\n",
            "2304     wicked winds and heavy rains battered the sta...\n",
            "2988     i live in a community with a homeowners assoc...\n",
            "221      the special olympics team took home the hard ...\n",
            "                              ...                        \n",
            "3092     some coachella valley homeowners and communit...\n",
            "1095     about photo gerard pique retired from soccer ...\n",
            "1130     how much of your donated clothing finds a new...\n",
            "1294     the tennessee state football team fell out of...\n",
            "860      wilmington starnews this feature is sponsored...\n",
            "Name: full_text, Length: 2520, dtype: object, \n",
            "array([0, ..., 1]), None, message_clsname='Pipeline', message=None)\n",
            "________________________________________________fit_transform_one - 0.8s, 0.0min\n",
            "________________________________________________________________________________\n",
            "[Memory] Calling sklearn.pipeline._fit_transform_one...\n",
            "_fit_transform_one(TfidfTransformer(), <2520x11933 sparse matrix of type '<class 'numpy.int64'>'\n",
            "\twith 404335 stored elements in Compressed Sparse Row format>, \n",
            "array([0, ..., 1]), None, message_clsname='Pipeline', message=None)\n",
            "________________________________________________fit_transform_one - 0.1s, 0.0min\n",
            "________________________________________________________________________________\n",
            "[Memory] Calling sklearn.pipeline._fit_transform_one...\n",
            "_fit_transform_one(NMF(init='random', n_components=30, random_state=42), <2520x11933 sparse matrix of type '<class 'numpy.float64'>'\n",
            "\twith 404335 stored elements in Compressed Sparse Row format>, \n",
            "array([0, ..., 1]), None, message_clsname='Pipeline', message=None)\n",
            "________________________________________________fit_transform_one - 3.2s, 0.1min\n"
          ]
        }
      ],
      "source": [
        "#Data with cleaning for k = 5, 30\n",
        "#train['full_text'] is the cleaned train set after lemmatization\n",
        "\n",
        "grid_clean = GridSearchCV(pipe, cv=5 , n_jobs = 1, param_grid = param_grid, scoring = 'accuracy')\n",
        "grid_clean.fit(train['full_text'],train_svm_label)\n",
        "result_clean = pd.DataFrame(grid_clean.cv_results_)"
      ]
    },
    {
      "cell_type": "code",
      "execution_count": null,
      "metadata": {
        "id": "Ud89YCQLBi7C",
        "colab": {
          "base_uri": "https://localhost:8080/",
          "height": 234
        },
        "outputId": "359c4f40-2da1-4502-9fad-3d3326a7df78"
      },
      "outputs": [
        {
          "output_type": "stream",
          "name": "stdout",
          "text": [
            "====================    Result for k=5, 30 with Lemmatization    ====================\n",
            "\n"
          ]
        },
        {
          "output_type": "execute_result",
          "data": {
            "text/plain": [
              "               param_classifier  \\\n",
              "7   SVC(C=100, random_state=42)   \n",
              "3   SVC(C=100, random_state=42)   \n",
              "6   SVC(C=100, random_state=42)   \n",
              "30                 GaussianNB()   \n",
              "2   SVC(C=100, random_state=42)   \n",
              "\n",
              "                                  param_dim_reduction param_vect__min_df  \\\n",
              "7   NMF(init='random', n_components=30, random_sta...                  5   \n",
              "3      TruncatedSVD(n_components=30, random_state=42)                  5   \n",
              "6   NMF(init='random', n_components=30, random_sta...                  3   \n",
              "30  NMF(init='random', n_components=30, random_sta...                  3   \n",
              "2      TruncatedSVD(n_components=30, random_state=42)                  3   \n",
              "\n",
              "    mean_test_score  \n",
              "7          0.954365  \n",
              "3          0.952381  \n",
              "6          0.952381  \n",
              "30         0.951587  \n",
              "2          0.950794  "
            ],
            "text/html": [
              "\n",
              "  <div id=\"df-fe108a16-4993-433e-bbec-bd20141d432d\">\n",
              "    <div class=\"colab-df-container\">\n",
              "      <div>\n",
              "<style scoped>\n",
              "    .dataframe tbody tr th:only-of-type {\n",
              "        vertical-align: middle;\n",
              "    }\n",
              "\n",
              "    .dataframe tbody tr th {\n",
              "        vertical-align: top;\n",
              "    }\n",
              "\n",
              "    .dataframe thead th {\n",
              "        text-align: right;\n",
              "    }\n",
              "</style>\n",
              "<table border=\"1\" class=\"dataframe\">\n",
              "  <thead>\n",
              "    <tr style=\"text-align: right;\">\n",
              "      <th></th>\n",
              "      <th>param_classifier</th>\n",
              "      <th>param_dim_reduction</th>\n",
              "      <th>param_vect__min_df</th>\n",
              "      <th>mean_test_score</th>\n",
              "    </tr>\n",
              "  </thead>\n",
              "  <tbody>\n",
              "    <tr>\n",
              "      <th>7</th>\n",
              "      <td>SVC(C=100, random_state=42)</td>\n",
              "      <td>NMF(init='random', n_components=30, random_sta...</td>\n",
              "      <td>5</td>\n",
              "      <td>0.954365</td>\n",
              "    </tr>\n",
              "    <tr>\n",
              "      <th>3</th>\n",
              "      <td>SVC(C=100, random_state=42)</td>\n",
              "      <td>TruncatedSVD(n_components=30, random_state=42)</td>\n",
              "      <td>5</td>\n",
              "      <td>0.952381</td>\n",
              "    </tr>\n",
              "    <tr>\n",
              "      <th>6</th>\n",
              "      <td>SVC(C=100, random_state=42)</td>\n",
              "      <td>NMF(init='random', n_components=30, random_sta...</td>\n",
              "      <td>3</td>\n",
              "      <td>0.952381</td>\n",
              "    </tr>\n",
              "    <tr>\n",
              "      <th>30</th>\n",
              "      <td>GaussianNB()</td>\n",
              "      <td>NMF(init='random', n_components=30, random_sta...</td>\n",
              "      <td>3</td>\n",
              "      <td>0.951587</td>\n",
              "    </tr>\n",
              "    <tr>\n",
              "      <th>2</th>\n",
              "      <td>SVC(C=100, random_state=42)</td>\n",
              "      <td>TruncatedSVD(n_components=30, random_state=42)</td>\n",
              "      <td>3</td>\n",
              "      <td>0.950794</td>\n",
              "    </tr>\n",
              "  </tbody>\n",
              "</table>\n",
              "</div>\n",
              "      <button class=\"colab-df-convert\" onclick=\"convertToInteractive('df-fe108a16-4993-433e-bbec-bd20141d432d')\"\n",
              "              title=\"Convert this dataframe to an interactive table.\"\n",
              "              style=\"display:none;\">\n",
              "        \n",
              "  <svg xmlns=\"http://www.w3.org/2000/svg\" height=\"24px\"viewBox=\"0 0 24 24\"\n",
              "       width=\"24px\">\n",
              "    <path d=\"M0 0h24v24H0V0z\" fill=\"none\"/>\n",
              "    <path d=\"M18.56 5.44l.94 2.06.94-2.06 2.06-.94-2.06-.94-.94-2.06-.94 2.06-2.06.94zm-11 1L8.5 8.5l.94-2.06 2.06-.94-2.06-.94L8.5 2.5l-.94 2.06-2.06.94zm10 10l.94 2.06.94-2.06 2.06-.94-2.06-.94-.94-2.06-.94 2.06-2.06.94z\"/><path d=\"M17.41 7.96l-1.37-1.37c-.4-.4-.92-.59-1.43-.59-.52 0-1.04.2-1.43.59L10.3 9.45l-7.72 7.72c-.78.78-.78 2.05 0 2.83L4 21.41c.39.39.9.59 1.41.59.51 0 1.02-.2 1.41-.59l7.78-7.78 2.81-2.81c.8-.78.8-2.07 0-2.86zM5.41 20L4 18.59l7.72-7.72 1.47 1.35L5.41 20z\"/>\n",
              "  </svg>\n",
              "      </button>\n",
              "      \n",
              "  <style>\n",
              "    .colab-df-container {\n",
              "      display:flex;\n",
              "      flex-wrap:wrap;\n",
              "      gap: 12px;\n",
              "    }\n",
              "\n",
              "    .colab-df-convert {\n",
              "      background-color: #E8F0FE;\n",
              "      border: none;\n",
              "      border-radius: 50%;\n",
              "      cursor: pointer;\n",
              "      display: none;\n",
              "      fill: #1967D2;\n",
              "      height: 32px;\n",
              "      padding: 0 0 0 0;\n",
              "      width: 32px;\n",
              "    }\n",
              "\n",
              "    .colab-df-convert:hover {\n",
              "      background-color: #E2EBFA;\n",
              "      box-shadow: 0px 1px 2px rgba(60, 64, 67, 0.3), 0px 1px 3px 1px rgba(60, 64, 67, 0.15);\n",
              "      fill: #174EA6;\n",
              "    }\n",
              "\n",
              "    [theme=dark] .colab-df-convert {\n",
              "      background-color: #3B4455;\n",
              "      fill: #D2E3FC;\n",
              "    }\n",
              "\n",
              "    [theme=dark] .colab-df-convert:hover {\n",
              "      background-color: #434B5C;\n",
              "      box-shadow: 0px 1px 3px 1px rgba(0, 0, 0, 0.15);\n",
              "      filter: drop-shadow(0px 1px 2px rgba(0, 0, 0, 0.3));\n",
              "      fill: #FFFFFF;\n",
              "    }\n",
              "  </style>\n",
              "\n",
              "      <script>\n",
              "        const buttonEl =\n",
              "          document.querySelector('#df-fe108a16-4993-433e-bbec-bd20141d432d button.colab-df-convert');\n",
              "        buttonEl.style.display =\n",
              "          google.colab.kernel.accessAllowed ? 'block' : 'none';\n",
              "\n",
              "        async function convertToInteractive(key) {\n",
              "          const element = document.querySelector('#df-fe108a16-4993-433e-bbec-bd20141d432d');\n",
              "          const dataTable =\n",
              "            await google.colab.kernel.invokeFunction('convertToInteractive',\n",
              "                                                     [key], {});\n",
              "          if (!dataTable) return;\n",
              "\n",
              "          const docLinkHtml = 'Like what you see? Visit the ' +\n",
              "            '<a target=\"_blank\" href=https://colab.research.google.com/notebooks/data_table.ipynb>data table notebook</a>'\n",
              "            + ' to learn more about interactive tables.';\n",
              "          element.innerHTML = '';\n",
              "          dataTable['output_type'] = 'display_data';\n",
              "          await google.colab.output.renderOutput(dataTable, element);\n",
              "          const docLink = document.createElement('div');\n",
              "          docLink.innerHTML = docLinkHtml;\n",
              "          element.appendChild(docLink);\n",
              "        }\n",
              "      </script>\n",
              "    </div>\n",
              "  </div>\n",
              "  "
            ]
          },
          "metadata": {},
          "execution_count": 42
        }
      ],
      "source": [
        "#Result for k=5, 30\n",
        "print('====================    Result for k=5, 30 with Lemmatization    ====================\\n')\n",
        "result_clean[[\"param_classifier\", \n",
        "                    \"param_dim_reduction\", \n",
        "                    \"param_vect__min_df\", \n",
        "                    \"mean_test_score\"]\n",
        "                   ].sort_values(by=['mean_test_score'], ascending=False).head()"
      ]
    },
    {
      "cell_type": "code",
      "execution_count": null,
      "metadata": {
        "id": "fCaxLWTdBqjh",
        "colab": {
          "base_uri": "https://localhost:8080/"
        },
        "outputId": "46c0583b-8e59-49d2-c934-b518d38400ff"
      },
      "outputs": [
        {
          "output_type": "stream",
          "name": "stdout",
          "text": [
            "[Memory]0.0s, 0.0min    : Loading _fit_transform_one from cachedir/joblib/sklearn/pipeline/_fit_transform_one/66f096df1795da5c84f23408103d22b2\n",
            "___________________________________fit_transform_one cache loaded - 0.1s, 0.0min\n",
            "[Memory]0.1s, 0.0min    : Loading _fit_transform_one from cachedir/joblib/sklearn/pipeline/_fit_transform_one/f49d59f3d080bc113431ab88078b1af2\n",
            "___________________________________fit_transform_one cache loaded - 0.0s, 0.0min\n",
            "________________________________________________________________________________\n",
            "[Memory] Calling sklearn.pipeline._fit_transform_one...\n",
            "_fit_transform_one(TruncatedSVD(n_components=80, random_state=42), <2016x15086 sparse matrix of type '<class 'numpy.float64'>'\n",
            "\twith 336110 stored elements in Compressed Sparse Row format>, \n",
            "array([1, ..., 1]), None, message_clsname='Pipeline', message=None)\n",
            "________________________________________________fit_transform_one - 0.6s, 0.0min\n",
            "[Memory]0.0s, 0.0min    : Loading _fit_transform_one from cachedir/joblib/sklearn/pipeline/_fit_transform_one/b787281904d5d8d4253ddedc7ccc1bfd\n",
            "___________________________________fit_transform_one cache loaded - 0.1s, 0.0min\n",
            "[Memory]0.1s, 0.0min    : Loading _fit_transform_one from cachedir/joblib/sklearn/pipeline/_fit_transform_one/6c56d117e2b97c3985d4dbd757d0141d\n",
            "___________________________________fit_transform_one cache loaded - 0.0s, 0.0min\n",
            "________________________________________________________________________________\n",
            "[Memory] Calling sklearn.pipeline._fit_transform_one...\n",
            "_fit_transform_one(TruncatedSVD(n_components=80, random_state=42), <2016x14834 sparse matrix of type '<class 'numpy.float64'>'\n",
            "\twith 332014 stored elements in Compressed Sparse Row format>, \n",
            "array([0, ..., 1]), None, message_clsname='Pipeline', message=None)\n",
            "________________________________________________fit_transform_one - 0.6s, 0.0min\n",
            "[Memory]0.0s, 0.0min    : Loading _fit_transform_one from cachedir/joblib/sklearn/pipeline/_fit_transform_one/85ba9e6fc1acbb83c404f3e410efebe9\n",
            "___________________________________fit_transform_one cache loaded - 0.1s, 0.0min\n",
            "[Memory]0.1s, 0.0min    : Loading _fit_transform_one from cachedir/joblib/sklearn/pipeline/_fit_transform_one/256bcc8ea871397960db1e07d1f71d57\n",
            "___________________________________fit_transform_one cache loaded - 0.0s, 0.0min\n",
            "________________________________________________________________________________\n",
            "[Memory] Calling sklearn.pipeline._fit_transform_one...\n",
            "_fit_transform_one(TruncatedSVD(n_components=80, random_state=42), <2016x14865 sparse matrix of type '<class 'numpy.float64'>'\n",
            "\twith 331430 stored elements in Compressed Sparse Row format>, \n",
            "array([0, ..., 1]), None, message_clsname='Pipeline', message=None)\n",
            "________________________________________________fit_transform_one - 0.6s, 0.0min\n",
            "[Memory]0.0s, 0.0min    : Loading _fit_transform_one from cachedir/joblib/sklearn/pipeline/_fit_transform_one/e1b82fe716df21d74b2c38215e1a5eaa\n",
            "___________________________________fit_transform_one cache loaded - 0.1s, 0.0min\n",
            "[Memory]0.1s, 0.0min    : Loading _fit_transform_one from cachedir/joblib/sklearn/pipeline/_fit_transform_one/7c6407b59d3e089b9b110924ff137c62\n",
            "___________________________________fit_transform_one cache loaded - 0.0s, 0.0min\n",
            "________________________________________________________________________________\n",
            "[Memory] Calling sklearn.pipeline._fit_transform_one...\n",
            "_fit_transform_one(TruncatedSVD(n_components=80, random_state=42), <2016x15292 sparse matrix of type '<class 'numpy.float64'>'\n",
            "\twith 338962 stored elements in Compressed Sparse Row format>, \n",
            "array([0, ..., 1]), None, message_clsname='Pipeline', message=None)\n",
            "________________________________________________fit_transform_one - 0.6s, 0.0min\n",
            "[Memory]0.0s, 0.0min    : Loading _fit_transform_one from cachedir/joblib/sklearn/pipeline/_fit_transform_one/86d2f04be2a9d6e659f99d3e9a62574f\n",
            "___________________________________fit_transform_one cache loaded - 0.1s, 0.0min\n",
            "[Memory]0.1s, 0.0min    : Loading _fit_transform_one from cachedir/joblib/sklearn/pipeline/_fit_transform_one/3cbc1101fa820b5ef39c46f85167cf2e\n",
            "___________________________________fit_transform_one cache loaded - 0.0s, 0.0min\n",
            "________________________________________________________________________________\n",
            "[Memory] Calling sklearn.pipeline._fit_transform_one...\n",
            "_fit_transform_one(TruncatedSVD(n_components=80, random_state=42), <2016x15153 sparse matrix of type '<class 'numpy.float64'>'\n",
            "\twith 330020 stored elements in Compressed Sparse Row format>, \n",
            "array([0, ..., 1]), None, message_clsname='Pipeline', message=None)\n",
            "________________________________________________fit_transform_one - 0.6s, 0.0min\n",
            "[Memory]0.0s, 0.0min    : Loading _fit_transform_one from cachedir/joblib/sklearn/pipeline/_fit_transform_one/fb9c4da1f35b2ed5493daee9385c47fa\n",
            "___________________________________fit_transform_one cache loaded - 0.1s, 0.0min\n",
            "[Memory]0.1s, 0.0min    : Loading _fit_transform_one from cachedir/joblib/sklearn/pipeline/_fit_transform_one/7a8272ea6c3f30c674947a15e247bbf7\n",
            "___________________________________fit_transform_one cache loaded - 0.0s, 0.0min\n",
            "________________________________________________________________________________\n",
            "[Memory] Calling sklearn.pipeline._fit_transform_one...\n",
            "_fit_transform_one(TruncatedSVD(n_components=80, random_state=42), <2016x10584 sparse matrix of type '<class 'numpy.float64'>'\n",
            "\twith 320928 stored elements in Compressed Sparse Row format>, \n",
            "array([1, ..., 1]), None, message_clsname='Pipeline', message=None)\n",
            "________________________________________________fit_transform_one - 0.5s, 0.0min\n",
            "[Memory]0.0s, 0.0min    : Loading _fit_transform_one from cachedir/joblib/sklearn/pipeline/_fit_transform_one/e17e003cefe0e28f8272b0d74d85b835\n",
            "___________________________________fit_transform_one cache loaded - 0.1s, 0.0min\n",
            "[Memory]0.1s, 0.0min    : Loading _fit_transform_one from cachedir/joblib/sklearn/pipeline/_fit_transform_one/ed24d4f44ef18c864477d77ce8f73fbe\n",
            "___________________________________fit_transform_one cache loaded - 0.0s, 0.0min\n",
            "________________________________________________________________________________\n",
            "[Memory] Calling sklearn.pipeline._fit_transform_one...\n",
            "_fit_transform_one(TruncatedSVD(n_components=80, random_state=42), <2016x10120 sparse matrix of type '<class 'numpy.float64'>'\n",
            "\twith 315833 stored elements in Compressed Sparse Row format>, \n",
            "array([0, ..., 1]), None, message_clsname='Pipeline', message=None)\n",
            "________________________________________________fit_transform_one - 0.5s, 0.0min\n",
            "[Memory]0.0s, 0.0min    : Loading _fit_transform_one from cachedir/joblib/sklearn/pipeline/_fit_transform_one/5dc41e6435ac102ca6477e2691e1379a\n",
            "___________________________________fit_transform_one cache loaded - 0.1s, 0.0min\n",
            "[Memory]0.1s, 0.0min    : Loading _fit_transform_one from cachedir/joblib/sklearn/pipeline/_fit_transform_one/94faa314b6e9f5da187cb66d0b1d6f33\n",
            "___________________________________fit_transform_one cache loaded - 0.0s, 0.0min\n",
            "________________________________________________________________________________\n",
            "[Memory] Calling sklearn.pipeline._fit_transform_one...\n",
            "_fit_transform_one(TruncatedSVD(n_components=80, random_state=42), <2016x10534 sparse matrix of type '<class 'numpy.float64'>'\n",
            "\twith 316755 stored elements in Compressed Sparse Row format>, \n",
            "array([0, ..., 1]), None, message_clsname='Pipeline', message=None)\n",
            "________________________________________________fit_transform_one - 0.5s, 0.0min\n",
            "[Memory]0.0s, 0.0min    : Loading _fit_transform_one from cachedir/joblib/sklearn/pipeline/_fit_transform_one/e8dc13eb0efcf1c2a8bdaa0cebf3c9ff\n",
            "___________________________________fit_transform_one cache loaded - 0.1s, 0.0min\n",
            "[Memory]0.1s, 0.0min    : Loading _fit_transform_one from cachedir/joblib/sklearn/pipeline/_fit_transform_one/88fc7ec26c8a39c3195d2e241ab582d8\n",
            "___________________________________fit_transform_one cache loaded - 0.0s, 0.0min\n",
            "________________________________________________________________________________\n",
            "[Memory] Calling sklearn.pipeline._fit_transform_one...\n",
            "_fit_transform_one(TruncatedSVD(n_components=80, random_state=42), <2016x10580 sparse matrix of type '<class 'numpy.float64'>'\n",
            "\twith 323013 stored elements in Compressed Sparse Row format>, \n",
            "array([0, ..., 1]), None, message_clsname='Pipeline', message=None)\n",
            "________________________________________________fit_transform_one - 0.6s, 0.0min\n",
            "[Memory]0.0s, 0.0min    : Loading _fit_transform_one from cachedir/joblib/sklearn/pipeline/_fit_transform_one/98dec079fcfa8cc20e0a0f6ad2e7e625\n",
            "___________________________________fit_transform_one cache loaded - 0.1s, 0.0min\n",
            "[Memory]0.1s, 0.0min    : Loading _fit_transform_one from cachedir/joblib/sklearn/pipeline/_fit_transform_one/fc9fc46c182a07822e91ba269ec9093c\n",
            "___________________________________fit_transform_one cache loaded - 0.0s, 0.0min\n",
            "________________________________________________________________________________\n",
            "[Memory] Calling sklearn.pipeline._fit_transform_one...\n",
            "_fit_transform_one(TruncatedSVD(n_components=80, random_state=42), <2016x10098 sparse matrix of type '<class 'numpy.float64'>'\n",
            "\twith 313043 stored elements in Compressed Sparse Row format>, \n",
            "array([0, ..., 1]), None, message_clsname='Pipeline', message=None)\n",
            "________________________________________________fit_transform_one - 0.5s, 0.0min\n",
            "[Memory]0.0s, 0.0min    : Loading _fit_transform_one from cachedir/joblib/sklearn/pipeline/_fit_transform_one/66f096df1795da5c84f23408103d22b2\n",
            "___________________________________fit_transform_one cache loaded - 0.1s, 0.0min\n",
            "[Memory]0.1s, 0.0min    : Loading _fit_transform_one from cachedir/joblib/sklearn/pipeline/_fit_transform_one/f49d59f3d080bc113431ab88078b1af2\n",
            "___________________________________fit_transform_one cache loaded - 0.0s, 0.0min\n",
            "________________________________________________________________________________\n",
            "[Memory] Calling sklearn.pipeline._fit_transform_one...\n",
            "_fit_transform_one(NMF(init='random', n_components=80, random_state=42), <2016x15086 sparse matrix of type '<class 'numpy.float64'>'\n",
            "\twith 336110 stored elements in Compressed Sparse Row format>, \n",
            "array([1, ..., 1]), None, message_clsname='Pipeline', message=None)\n",
            "_______________________________________________fit_transform_one - 17.0s, 0.3min\n",
            "[Memory]0.0s, 0.0min    : Loading _fit_transform_one from cachedir/joblib/sklearn/pipeline/_fit_transform_one/b787281904d5d8d4253ddedc7ccc1bfd\n",
            "___________________________________fit_transform_one cache loaded - 0.1s, 0.0min\n",
            "[Memory]0.1s, 0.0min    : Loading _fit_transform_one from cachedir/joblib/sklearn/pipeline/_fit_transform_one/6c56d117e2b97c3985d4dbd757d0141d\n",
            "___________________________________fit_transform_one cache loaded - 0.0s, 0.0min\n",
            "________________________________________________________________________________\n",
            "[Memory] Calling sklearn.pipeline._fit_transform_one...\n",
            "_fit_transform_one(NMF(init='random', n_components=80, random_state=42), <2016x14834 sparse matrix of type '<class 'numpy.float64'>'\n",
            "\twith 332014 stored elements in Compressed Sparse Row format>, \n",
            "array([0, ..., 1]), None, message_clsname='Pipeline', message=None)\n",
            "_______________________________________________fit_transform_one - 21.6s, 0.4min\n",
            "[Memory]0.0s, 0.0min    : Loading _fit_transform_one from cachedir/joblib/sklearn/pipeline/_fit_transform_one/85ba9e6fc1acbb83c404f3e410efebe9\n",
            "___________________________________fit_transform_one cache loaded - 0.1s, 0.0min\n",
            "[Memory]0.1s, 0.0min    : Loading _fit_transform_one from cachedir/joblib/sklearn/pipeline/_fit_transform_one/256bcc8ea871397960db1e07d1f71d57\n",
            "___________________________________fit_transform_one cache loaded - 0.0s, 0.0min\n",
            "________________________________________________________________________________\n",
            "[Memory] Calling sklearn.pipeline._fit_transform_one...\n",
            "_fit_transform_one(NMF(init='random', n_components=80, random_state=42), <2016x14865 sparse matrix of type '<class 'numpy.float64'>'\n",
            "\twith 331430 stored elements in Compressed Sparse Row format>, \n",
            "array([0, ..., 1]), None, message_clsname='Pipeline', message=None)\n"
          ]
        },
        {
          "output_type": "stream",
          "name": "stderr",
          "text": [
            "/usr/local/lib/python3.8/dist-packages/sklearn/decomposition/_nmf.py:1637: ConvergenceWarning: Maximum number of iterations 200 reached. Increase it to improve convergence.\n",
            "  warnings.warn(\n"
          ]
        },
        {
          "output_type": "stream",
          "name": "stdout",
          "text": [
            "_______________________________________________fit_transform_one - 22.6s, 0.4min\n",
            "[Memory]0.0s, 0.0min    : Loading _fit_transform_one from cachedir/joblib/sklearn/pipeline/_fit_transform_one/e1b82fe716df21d74b2c38215e1a5eaa\n",
            "___________________________________fit_transform_one cache loaded - 0.1s, 0.0min\n",
            "[Memory]0.1s, 0.0min    : Loading _fit_transform_one from cachedir/joblib/sklearn/pipeline/_fit_transform_one/7c6407b59d3e089b9b110924ff137c62\n",
            "___________________________________fit_transform_one cache loaded - 0.0s, 0.0min\n",
            "________________________________________________________________________________\n",
            "[Memory] Calling sklearn.pipeline._fit_transform_one...\n",
            "_fit_transform_one(NMF(init='random', n_components=80, random_state=42), <2016x15292 sparse matrix of type '<class 'numpy.float64'>'\n",
            "\twith 338962 stored elements in Compressed Sparse Row format>, \n",
            "array([0, ..., 1]), None, message_clsname='Pipeline', message=None)\n"
          ]
        },
        {
          "output_type": "stream",
          "name": "stderr",
          "text": [
            "/usr/local/lib/python3.8/dist-packages/sklearn/decomposition/_nmf.py:1637: ConvergenceWarning: Maximum number of iterations 200 reached. Increase it to improve convergence.\n",
            "  warnings.warn(\n"
          ]
        },
        {
          "output_type": "stream",
          "name": "stdout",
          "text": [
            "_______________________________________________fit_transform_one - 23.0s, 0.4min\n",
            "[Memory]0.0s, 0.0min    : Loading _fit_transform_one from cachedir/joblib/sklearn/pipeline/_fit_transform_one/86d2f04be2a9d6e659f99d3e9a62574f\n",
            "___________________________________fit_transform_one cache loaded - 0.1s, 0.0min\n",
            "[Memory]0.1s, 0.0min    : Loading _fit_transform_one from cachedir/joblib/sklearn/pipeline/_fit_transform_one/3cbc1101fa820b5ef39c46f85167cf2e\n",
            "___________________________________fit_transform_one cache loaded - 0.0s, 0.0min\n",
            "________________________________________________________________________________\n",
            "[Memory] Calling sklearn.pipeline._fit_transform_one...\n",
            "_fit_transform_one(NMF(init='random', n_components=80, random_state=42), <2016x15153 sparse matrix of type '<class 'numpy.float64'>'\n",
            "\twith 330020 stored elements in Compressed Sparse Row format>, \n",
            "array([0, ..., 1]), None, message_clsname='Pipeline', message=None)\n"
          ]
        },
        {
          "output_type": "stream",
          "name": "stderr",
          "text": [
            "/usr/local/lib/python3.8/dist-packages/sklearn/decomposition/_nmf.py:1637: ConvergenceWarning: Maximum number of iterations 200 reached. Increase it to improve convergence.\n",
            "  warnings.warn(\n"
          ]
        },
        {
          "output_type": "stream",
          "name": "stdout",
          "text": [
            "_______________________________________________fit_transform_one - 22.6s, 0.4min\n",
            "[Memory]0.0s, 0.0min    : Loading _fit_transform_one from cachedir/joblib/sklearn/pipeline/_fit_transform_one/fb9c4da1f35b2ed5493daee9385c47fa\n",
            "___________________________________fit_transform_one cache loaded - 0.1s, 0.0min\n",
            "[Memory]0.1s, 0.0min    : Loading _fit_transform_one from cachedir/joblib/sklearn/pipeline/_fit_transform_one/7a8272ea6c3f30c674947a15e247bbf7\n",
            "___________________________________fit_transform_one cache loaded - 0.0s, 0.0min\n",
            "________________________________________________________________________________\n",
            "[Memory] Calling sklearn.pipeline._fit_transform_one...\n",
            "_fit_transform_one(NMF(init='random', n_components=80, random_state=42), <2016x10584 sparse matrix of type '<class 'numpy.float64'>'\n",
            "\twith 320928 stored elements in Compressed Sparse Row format>, \n",
            "array([1, ..., 1]), None, message_clsname='Pipeline', message=None)\n"
          ]
        },
        {
          "output_type": "stream",
          "name": "stderr",
          "text": [
            "/usr/local/lib/python3.8/dist-packages/sklearn/decomposition/_nmf.py:1637: ConvergenceWarning: Maximum number of iterations 200 reached. Increase it to improve convergence.\n",
            "  warnings.warn(\n"
          ]
        },
        {
          "output_type": "stream",
          "name": "stdout",
          "text": [
            "_______________________________________________fit_transform_one - 17.6s, 0.3min\n",
            "[Memory]0.0s, 0.0min    : Loading _fit_transform_one from cachedir/joblib/sklearn/pipeline/_fit_transform_one/e17e003cefe0e28f8272b0d74d85b835\n",
            "___________________________________fit_transform_one cache loaded - 0.1s, 0.0min\n",
            "[Memory]0.1s, 0.0min    : Loading _fit_transform_one from cachedir/joblib/sklearn/pipeline/_fit_transform_one/ed24d4f44ef18c864477d77ce8f73fbe\n",
            "___________________________________fit_transform_one cache loaded - 0.0s, 0.0min\n",
            "________________________________________________________________________________\n",
            "[Memory] Calling sklearn.pipeline._fit_transform_one...\n",
            "_fit_transform_one(NMF(init='random', n_components=80, random_state=42), <2016x10120 sparse matrix of type '<class 'numpy.float64'>'\n",
            "\twith 315833 stored elements in Compressed Sparse Row format>, \n",
            "array([0, ..., 1]), None, message_clsname='Pipeline', message=None)\n",
            "_______________________________________________fit_transform_one - 12.7s, 0.2min\n",
            "[Memory]0.0s, 0.0min    : Loading _fit_transform_one from cachedir/joblib/sklearn/pipeline/_fit_transform_one/5dc41e6435ac102ca6477e2691e1379a\n",
            "___________________________________fit_transform_one cache loaded - 0.1s, 0.0min\n",
            "[Memory]0.1s, 0.0min    : Loading _fit_transform_one from cachedir/joblib/sklearn/pipeline/_fit_transform_one/94faa314b6e9f5da187cb66d0b1d6f33\n",
            "___________________________________fit_transform_one cache loaded - 0.0s, 0.0min\n",
            "________________________________________________________________________________\n",
            "[Memory] Calling sklearn.pipeline._fit_transform_one...\n",
            "_fit_transform_one(NMF(init='random', n_components=80, random_state=42), <2016x10534 sparse matrix of type '<class 'numpy.float64'>'\n",
            "\twith 316755 stored elements in Compressed Sparse Row format>, \n",
            "array([0, ..., 1]), None, message_clsname='Pipeline', message=None)\n"
          ]
        },
        {
          "output_type": "stream",
          "name": "stderr",
          "text": [
            "/usr/local/lib/python3.8/dist-packages/sklearn/decomposition/_nmf.py:1637: ConvergenceWarning: Maximum number of iterations 200 reached. Increase it to improve convergence.\n",
            "  warnings.warn(\n"
          ]
        },
        {
          "output_type": "stream",
          "name": "stdout",
          "text": [
            "_______________________________________________fit_transform_one - 17.5s, 0.3min\n",
            "[Memory]0.0s, 0.0min    : Loading _fit_transform_one from cachedir/joblib/sklearn/pipeline/_fit_transform_one/e8dc13eb0efcf1c2a8bdaa0cebf3c9ff\n",
            "___________________________________fit_transform_one cache loaded - 0.1s, 0.0min\n",
            "[Memory]0.1s, 0.0min    : Loading _fit_transform_one from cachedir/joblib/sklearn/pipeline/_fit_transform_one/88fc7ec26c8a39c3195d2e241ab582d8\n",
            "___________________________________fit_transform_one cache loaded - 0.0s, 0.0min\n",
            "________________________________________________________________________________\n",
            "[Memory] Calling sklearn.pipeline._fit_transform_one...\n",
            "_fit_transform_one(NMF(init='random', n_components=80, random_state=42), <2016x10580 sparse matrix of type '<class 'numpy.float64'>'\n",
            "\twith 323013 stored elements in Compressed Sparse Row format>, \n",
            "array([0, ..., 1]), None, message_clsname='Pipeline', message=None)\n",
            "_______________________________________________fit_transform_one - 16.9s, 0.3min\n",
            "[Memory]0.0s, 0.0min    : Loading _fit_transform_one from cachedir/joblib/sklearn/pipeline/_fit_transform_one/98dec079fcfa8cc20e0a0f6ad2e7e625\n",
            "___________________________________fit_transform_one cache loaded - 0.1s, 0.0min\n",
            "[Memory]0.1s, 0.0min    : Loading _fit_transform_one from cachedir/joblib/sklearn/pipeline/_fit_transform_one/fc9fc46c182a07822e91ba269ec9093c\n",
            "___________________________________fit_transform_one cache loaded - 0.0s, 0.0min\n",
            "________________________________________________________________________________\n",
            "[Memory] Calling sklearn.pipeline._fit_transform_one...\n",
            "_fit_transform_one(NMF(init='random', n_components=80, random_state=42), <2016x10098 sparse matrix of type '<class 'numpy.float64'>'\n",
            "\twith 313043 stored elements in Compressed Sparse Row format>, \n",
            "array([0, ..., 1]), None, message_clsname='Pipeline', message=None)\n"
          ]
        },
        {
          "output_type": "stream",
          "name": "stderr",
          "text": [
            "/usr/local/lib/python3.8/dist-packages/sklearn/decomposition/_nmf.py:1637: ConvergenceWarning: Maximum number of iterations 200 reached. Increase it to improve convergence.\n",
            "  warnings.warn(\n"
          ]
        },
        {
          "output_type": "stream",
          "name": "stdout",
          "text": [
            "_______________________________________________fit_transform_one - 17.0s, 0.3min\n",
            "[Memory]0.0s, 0.0min    : Loading _fit_transform_one from cachedir/joblib/sklearn/pipeline/_fit_transform_one/66f096df1795da5c84f23408103d22b2\n",
            "___________________________________fit_transform_one cache loaded - 0.1s, 0.0min\n",
            "[Memory]0.1s, 0.0min    : Loading _fit_transform_one from cachedir/joblib/sklearn/pipeline/_fit_transform_one/f49d59f3d080bc113431ab88078b1af2\n",
            "___________________________________fit_transform_one cache loaded - 0.0s, 0.0min\n",
            "[Memory]0.1s, 0.0min    : Loading _fit_transform_one from cachedir/joblib/sklearn/pipeline/_fit_transform_one/c1441829534eadfe915083ff25dc7e1c\n",
            "___________________________________fit_transform_one cache loaded - 0.0s, 0.0min\n"
          ]
        },
        {
          "output_type": "stream",
          "name": "stderr",
          "text": [
            "/usr/local/lib/python3.8/dist-packages/sklearn/linear_model/_logistic.py:814: ConvergenceWarning: lbfgs failed to converge (status=1):\n",
            "STOP: TOTAL NO. of ITERATIONS REACHED LIMIT.\n",
            "\n",
            "Increase the number of iterations (max_iter) or scale the data as shown in:\n",
            "    https://scikit-learn.org/stable/modules/preprocessing.html\n",
            "Please also refer to the documentation for alternative solver options:\n",
            "    https://scikit-learn.org/stable/modules/linear_model.html#logistic-regression\n",
            "  n_iter_i = _check_optimize_result(\n"
          ]
        },
        {
          "output_type": "stream",
          "name": "stdout",
          "text": [
            "[Memory]0.0s, 0.0min    : Loading _fit_transform_one from cachedir/joblib/sklearn/pipeline/_fit_transform_one/b787281904d5d8d4253ddedc7ccc1bfd\n",
            "___________________________________fit_transform_one cache loaded - 0.1s, 0.0min\n",
            "[Memory]0.2s, 0.0min    : Loading _fit_transform_one from cachedir/joblib/sklearn/pipeline/_fit_transform_one/6c56d117e2b97c3985d4dbd757d0141d\n",
            "___________________________________fit_transform_one cache loaded - 0.0s, 0.0min\n",
            "[Memory]0.2s, 0.0min    : Loading _fit_transform_one from cachedir/joblib/sklearn/pipeline/_fit_transform_one/130f0a36ecf736602bdd84a6638dc1fb\n",
            "___________________________________fit_transform_one cache loaded - 0.0s, 0.0min\n"
          ]
        },
        {
          "output_type": "stream",
          "name": "stderr",
          "text": [
            "/usr/local/lib/python3.8/dist-packages/sklearn/linear_model/_logistic.py:814: ConvergenceWarning: lbfgs failed to converge (status=1):\n",
            "STOP: TOTAL NO. of ITERATIONS REACHED LIMIT.\n",
            "\n",
            "Increase the number of iterations (max_iter) or scale the data as shown in:\n",
            "    https://scikit-learn.org/stable/modules/preprocessing.html\n",
            "Please also refer to the documentation for alternative solver options:\n",
            "    https://scikit-learn.org/stable/modules/linear_model.html#logistic-regression\n",
            "  n_iter_i = _check_optimize_result(\n"
          ]
        },
        {
          "output_type": "stream",
          "name": "stdout",
          "text": [
            "[Memory]0.0s, 0.0min    : Loading _fit_transform_one from cachedir/joblib/sklearn/pipeline/_fit_transform_one/85ba9e6fc1acbb83c404f3e410efebe9\n",
            "___________________________________fit_transform_one cache loaded - 0.1s, 0.0min\n",
            "[Memory]0.2s, 0.0min    : Loading _fit_transform_one from cachedir/joblib/sklearn/pipeline/_fit_transform_one/256bcc8ea871397960db1e07d1f71d57\n",
            "___________________________________fit_transform_one cache loaded - 0.0s, 0.0min\n",
            "[Memory]0.2s, 0.0min    : Loading _fit_transform_one from cachedir/joblib/sklearn/pipeline/_fit_transform_one/e9e09b6ad1bf6425d53e26f9986c7633\n",
            "___________________________________fit_transform_one cache loaded - 0.0s, 0.0min\n"
          ]
        },
        {
          "output_type": "stream",
          "name": "stderr",
          "text": [
            "/usr/local/lib/python3.8/dist-packages/sklearn/linear_model/_logistic.py:814: ConvergenceWarning: lbfgs failed to converge (status=1):\n",
            "STOP: TOTAL NO. of ITERATIONS REACHED LIMIT.\n",
            "\n",
            "Increase the number of iterations (max_iter) or scale the data as shown in:\n",
            "    https://scikit-learn.org/stable/modules/preprocessing.html\n",
            "Please also refer to the documentation for alternative solver options:\n",
            "    https://scikit-learn.org/stable/modules/linear_model.html#logistic-regression\n",
            "  n_iter_i = _check_optimize_result(\n"
          ]
        },
        {
          "output_type": "stream",
          "name": "stdout",
          "text": [
            "[Memory]0.0s, 0.0min    : Loading _fit_transform_one from cachedir/joblib/sklearn/pipeline/_fit_transform_one/e1b82fe716df21d74b2c38215e1a5eaa\n",
            "___________________________________fit_transform_one cache loaded - 0.1s, 0.0min\n",
            "[Memory]0.2s, 0.0min    : Loading _fit_transform_one from cachedir/joblib/sklearn/pipeline/_fit_transform_one/7c6407b59d3e089b9b110924ff137c62\n",
            "___________________________________fit_transform_one cache loaded - 0.0s, 0.0min\n",
            "[Memory]0.2s, 0.0min    : Loading _fit_transform_one from cachedir/joblib/sklearn/pipeline/_fit_transform_one/5539c92bcad4c32915ec6573ec1dcd03\n",
            "___________________________________fit_transform_one cache loaded - 0.0s, 0.0min\n"
          ]
        },
        {
          "output_type": "stream",
          "name": "stderr",
          "text": [
            "/usr/local/lib/python3.8/dist-packages/sklearn/linear_model/_logistic.py:814: ConvergenceWarning: lbfgs failed to converge (status=1):\n",
            "STOP: TOTAL NO. of ITERATIONS REACHED LIMIT.\n",
            "\n",
            "Increase the number of iterations (max_iter) or scale the data as shown in:\n",
            "    https://scikit-learn.org/stable/modules/preprocessing.html\n",
            "Please also refer to the documentation for alternative solver options:\n",
            "    https://scikit-learn.org/stable/modules/linear_model.html#logistic-regression\n",
            "  n_iter_i = _check_optimize_result(\n"
          ]
        },
        {
          "output_type": "stream",
          "name": "stdout",
          "text": [
            "[Memory]0.0s, 0.0min    : Loading _fit_transform_one from cachedir/joblib/sklearn/pipeline/_fit_transform_one/86d2f04be2a9d6e659f99d3e9a62574f\n",
            "___________________________________fit_transform_one cache loaded - 0.1s, 0.0min\n",
            "[Memory]0.2s, 0.0min    : Loading _fit_transform_one from cachedir/joblib/sklearn/pipeline/_fit_transform_one/3cbc1101fa820b5ef39c46f85167cf2e\n",
            "___________________________________fit_transform_one cache loaded - 0.0s, 0.0min\n",
            "[Memory]0.2s, 0.0min    : Loading _fit_transform_one from cachedir/joblib/sklearn/pipeline/_fit_transform_one/cf5749bdf941b411c60b4651626af1a4\n",
            "___________________________________fit_transform_one cache loaded - 0.0s, 0.0min\n"
          ]
        },
        {
          "output_type": "stream",
          "name": "stderr",
          "text": [
            "/usr/local/lib/python3.8/dist-packages/sklearn/linear_model/_logistic.py:814: ConvergenceWarning: lbfgs failed to converge (status=1):\n",
            "STOP: TOTAL NO. of ITERATIONS REACHED LIMIT.\n",
            "\n",
            "Increase the number of iterations (max_iter) or scale the data as shown in:\n",
            "    https://scikit-learn.org/stable/modules/preprocessing.html\n",
            "Please also refer to the documentation for alternative solver options:\n",
            "    https://scikit-learn.org/stable/modules/linear_model.html#logistic-regression\n",
            "  n_iter_i = _check_optimize_result(\n"
          ]
        },
        {
          "output_type": "stream",
          "name": "stdout",
          "text": [
            "[Memory]0.0s, 0.0min    : Loading _fit_transform_one from cachedir/joblib/sklearn/pipeline/_fit_transform_one/fb9c4da1f35b2ed5493daee9385c47fa\n",
            "___________________________________fit_transform_one cache loaded - 0.1s, 0.0min\n",
            "[Memory]0.1s, 0.0min    : Loading _fit_transform_one from cachedir/joblib/sklearn/pipeline/_fit_transform_one/7a8272ea6c3f30c674947a15e247bbf7\n",
            "___________________________________fit_transform_one cache loaded - 0.0s, 0.0min\n",
            "[Memory]0.2s, 0.0min    : Loading _fit_transform_one from cachedir/joblib/sklearn/pipeline/_fit_transform_one/0b3b087c1c7b8a14728c6d74cfe12fbc\n",
            "___________________________________fit_transform_one cache loaded - 0.0s, 0.0min\n"
          ]
        },
        {
          "output_type": "stream",
          "name": "stderr",
          "text": [
            "/usr/local/lib/python3.8/dist-packages/sklearn/linear_model/_logistic.py:814: ConvergenceWarning: lbfgs failed to converge (status=1):\n",
            "STOP: TOTAL NO. of ITERATIONS REACHED LIMIT.\n",
            "\n",
            "Increase the number of iterations (max_iter) or scale the data as shown in:\n",
            "    https://scikit-learn.org/stable/modules/preprocessing.html\n",
            "Please also refer to the documentation for alternative solver options:\n",
            "    https://scikit-learn.org/stable/modules/linear_model.html#logistic-regression\n",
            "  n_iter_i = _check_optimize_result(\n"
          ]
        },
        {
          "output_type": "stream",
          "name": "stdout",
          "text": [
            "[Memory]0.0s, 0.0min    : Loading _fit_transform_one from cachedir/joblib/sklearn/pipeline/_fit_transform_one/e17e003cefe0e28f8272b0d74d85b835\n",
            "___________________________________fit_transform_one cache loaded - 0.1s, 0.0min\n",
            "[Memory]0.1s, 0.0min    : Loading _fit_transform_one from cachedir/joblib/sklearn/pipeline/_fit_transform_one/ed24d4f44ef18c864477d77ce8f73fbe\n",
            "___________________________________fit_transform_one cache loaded - 0.0s, 0.0min\n",
            "[Memory]0.2s, 0.0min    : Loading _fit_transform_one from cachedir/joblib/sklearn/pipeline/_fit_transform_one/ade71249feb5710f52533400227bf740\n",
            "___________________________________fit_transform_one cache loaded - 0.0s, 0.0min\n"
          ]
        },
        {
          "output_type": "stream",
          "name": "stderr",
          "text": [
            "/usr/local/lib/python3.8/dist-packages/sklearn/linear_model/_logistic.py:814: ConvergenceWarning: lbfgs failed to converge (status=1):\n",
            "STOP: TOTAL NO. of ITERATIONS REACHED LIMIT.\n",
            "\n",
            "Increase the number of iterations (max_iter) or scale the data as shown in:\n",
            "    https://scikit-learn.org/stable/modules/preprocessing.html\n",
            "Please also refer to the documentation for alternative solver options:\n",
            "    https://scikit-learn.org/stable/modules/linear_model.html#logistic-regression\n",
            "  n_iter_i = _check_optimize_result(\n"
          ]
        },
        {
          "output_type": "stream",
          "name": "stdout",
          "text": [
            "[Memory]0.0s, 0.0min    : Loading _fit_transform_one from cachedir/joblib/sklearn/pipeline/_fit_transform_one/5dc41e6435ac102ca6477e2691e1379a\n",
            "___________________________________fit_transform_one cache loaded - 0.1s, 0.0min\n",
            "[Memory]0.2s, 0.0min    : Loading _fit_transform_one from cachedir/joblib/sklearn/pipeline/_fit_transform_one/94faa314b6e9f5da187cb66d0b1d6f33\n",
            "___________________________________fit_transform_one cache loaded - 0.0s, 0.0min\n",
            "[Memory]0.2s, 0.0min    : Loading _fit_transform_one from cachedir/joblib/sklearn/pipeline/_fit_transform_one/8e1e02b0553caf0e0813047f4a0d1fc1\n",
            "___________________________________fit_transform_one cache loaded - 0.0s, 0.0min\n"
          ]
        },
        {
          "output_type": "stream",
          "name": "stderr",
          "text": [
            "/usr/local/lib/python3.8/dist-packages/sklearn/linear_model/_logistic.py:814: ConvergenceWarning: lbfgs failed to converge (status=1):\n",
            "STOP: TOTAL NO. of ITERATIONS REACHED LIMIT.\n",
            "\n",
            "Increase the number of iterations (max_iter) or scale the data as shown in:\n",
            "    https://scikit-learn.org/stable/modules/preprocessing.html\n",
            "Please also refer to the documentation for alternative solver options:\n",
            "    https://scikit-learn.org/stable/modules/linear_model.html#logistic-regression\n",
            "  n_iter_i = _check_optimize_result(\n"
          ]
        },
        {
          "output_type": "stream",
          "name": "stdout",
          "text": [
            "[Memory]0.0s, 0.0min    : Loading _fit_transform_one from cachedir/joblib/sklearn/pipeline/_fit_transform_one/e8dc13eb0efcf1c2a8bdaa0cebf3c9ff\n",
            "___________________________________fit_transform_one cache loaded - 0.1s, 0.0min\n",
            "[Memory]0.2s, 0.0min    : Loading _fit_transform_one from cachedir/joblib/sklearn/pipeline/_fit_transform_one/88fc7ec26c8a39c3195d2e241ab582d8\n",
            "___________________________________fit_transform_one cache loaded - 0.0s, 0.0min\n",
            "[Memory]0.2s, 0.0min    : Loading _fit_transform_one from cachedir/joblib/sklearn/pipeline/_fit_transform_one/e2e94e08ce95060c4778a5319c85099b\n",
            "___________________________________fit_transform_one cache loaded - 0.0s, 0.0min\n"
          ]
        },
        {
          "output_type": "stream",
          "name": "stderr",
          "text": [
            "/usr/local/lib/python3.8/dist-packages/sklearn/linear_model/_logistic.py:814: ConvergenceWarning: lbfgs failed to converge (status=1):\n",
            "STOP: TOTAL NO. of ITERATIONS REACHED LIMIT.\n",
            "\n",
            "Increase the number of iterations (max_iter) or scale the data as shown in:\n",
            "    https://scikit-learn.org/stable/modules/preprocessing.html\n",
            "Please also refer to the documentation for alternative solver options:\n",
            "    https://scikit-learn.org/stable/modules/linear_model.html#logistic-regression\n",
            "  n_iter_i = _check_optimize_result(\n"
          ]
        },
        {
          "output_type": "stream",
          "name": "stdout",
          "text": [
            "[Memory]0.0s, 0.0min    : Loading _fit_transform_one from cachedir/joblib/sklearn/pipeline/_fit_transform_one/98dec079fcfa8cc20e0a0f6ad2e7e625\n",
            "___________________________________fit_transform_one cache loaded - 0.1s, 0.0min\n",
            "[Memory]0.1s, 0.0min    : Loading _fit_transform_one from cachedir/joblib/sklearn/pipeline/_fit_transform_one/fc9fc46c182a07822e91ba269ec9093c\n",
            "___________________________________fit_transform_one cache loaded - 0.0s, 0.0min\n",
            "[Memory]0.2s, 0.0min    : Loading _fit_transform_one from cachedir/joblib/sklearn/pipeline/_fit_transform_one/7a2bee343fda04b5a25472dc56a906b1\n",
            "___________________________________fit_transform_one cache loaded - 0.0s, 0.0min\n"
          ]
        },
        {
          "output_type": "stream",
          "name": "stderr",
          "text": [
            "/usr/local/lib/python3.8/dist-packages/sklearn/linear_model/_logistic.py:814: ConvergenceWarning: lbfgs failed to converge (status=1):\n",
            "STOP: TOTAL NO. of ITERATIONS REACHED LIMIT.\n",
            "\n",
            "Increase the number of iterations (max_iter) or scale the data as shown in:\n",
            "    https://scikit-learn.org/stable/modules/preprocessing.html\n",
            "Please also refer to the documentation for alternative solver options:\n",
            "    https://scikit-learn.org/stable/modules/linear_model.html#logistic-regression\n",
            "  n_iter_i = _check_optimize_result(\n"
          ]
        },
        {
          "output_type": "stream",
          "name": "stdout",
          "text": [
            "[Memory]0.0s, 0.0min    : Loading _fit_transform_one from cachedir/joblib/sklearn/pipeline/_fit_transform_one/66f096df1795da5c84f23408103d22b2\n",
            "___________________________________fit_transform_one cache loaded - 0.1s, 0.0min\n",
            "[Memory]0.1s, 0.0min    : Loading _fit_transform_one from cachedir/joblib/sklearn/pipeline/_fit_transform_one/f49d59f3d080bc113431ab88078b1af2\n",
            "___________________________________fit_transform_one cache loaded - 0.0s, 0.0min\n",
            "[Memory]0.2s, 0.0min    : Loading _fit_transform_one from cachedir/joblib/sklearn/pipeline/_fit_transform_one/586092d3eda1b6692dd7a665450cde04\n",
            "___________________________________fit_transform_one cache loaded - 0.0s, 0.0min\n",
            "[Memory]0.0s, 0.0min    : Loading _fit_transform_one from cachedir/joblib/sklearn/pipeline/_fit_transform_one/b787281904d5d8d4253ddedc7ccc1bfd\n",
            "___________________________________fit_transform_one cache loaded - 0.1s, 0.0min\n",
            "[Memory]0.2s, 0.0min    : Loading _fit_transform_one from cachedir/joblib/sklearn/pipeline/_fit_transform_one/6c56d117e2b97c3985d4dbd757d0141d\n",
            "___________________________________fit_transform_one cache loaded - 0.0s, 0.0min\n",
            "[Memory]0.2s, 0.0min    : Loading _fit_transform_one from cachedir/joblib/sklearn/pipeline/_fit_transform_one/3b2176a8bc3ebf13d5dfcc504d12a683\n",
            "___________________________________fit_transform_one cache loaded - 0.0s, 0.0min\n",
            "[Memory]0.0s, 0.0min    : Loading _fit_transform_one from cachedir/joblib/sklearn/pipeline/_fit_transform_one/85ba9e6fc1acbb83c404f3e410efebe9\n",
            "___________________________________fit_transform_one cache loaded - 0.1s, 0.0min\n",
            "[Memory]0.2s, 0.0min    : Loading _fit_transform_one from cachedir/joblib/sklearn/pipeline/_fit_transform_one/256bcc8ea871397960db1e07d1f71d57\n",
            "___________________________________fit_transform_one cache loaded - 0.0s, 0.0min\n",
            "[Memory]0.2s, 0.0min    : Loading _fit_transform_one from cachedir/joblib/sklearn/pipeline/_fit_transform_one/80d51117947e7b48f3b193523d4a650a\n",
            "___________________________________fit_transform_one cache loaded - 0.0s, 0.0min\n"
          ]
        },
        {
          "output_type": "stream",
          "name": "stderr",
          "text": [
            "/usr/local/lib/python3.8/dist-packages/sklearn/linear_model/_logistic.py:814: ConvergenceWarning: lbfgs failed to converge (status=1):\n",
            "STOP: TOTAL NO. of ITERATIONS REACHED LIMIT.\n",
            "\n",
            "Increase the number of iterations (max_iter) or scale the data as shown in:\n",
            "    https://scikit-learn.org/stable/modules/preprocessing.html\n",
            "Please also refer to the documentation for alternative solver options:\n",
            "    https://scikit-learn.org/stable/modules/linear_model.html#logistic-regression\n",
            "  n_iter_i = _check_optimize_result(\n"
          ]
        },
        {
          "output_type": "stream",
          "name": "stdout",
          "text": [
            "[Memory]0.0s, 0.0min    : Loading _fit_transform_one from cachedir/joblib/sklearn/pipeline/_fit_transform_one/e1b82fe716df21d74b2c38215e1a5eaa\n",
            "___________________________________fit_transform_one cache loaded - 0.1s, 0.0min\n",
            "[Memory]0.2s, 0.0min    : Loading _fit_transform_one from cachedir/joblib/sklearn/pipeline/_fit_transform_one/7c6407b59d3e089b9b110924ff137c62\n",
            "___________________________________fit_transform_one cache loaded - 0.0s, 0.0min\n",
            "[Memory]0.2s, 0.0min    : Loading _fit_transform_one from cachedir/joblib/sklearn/pipeline/_fit_transform_one/3b0210273b2a7033883ee30ed54e5143\n",
            "___________________________________fit_transform_one cache loaded - 0.0s, 0.0min\n"
          ]
        },
        {
          "output_type": "stream",
          "name": "stderr",
          "text": [
            "/usr/local/lib/python3.8/dist-packages/sklearn/linear_model/_logistic.py:814: ConvergenceWarning: lbfgs failed to converge (status=1):\n",
            "STOP: TOTAL NO. of ITERATIONS REACHED LIMIT.\n",
            "\n",
            "Increase the number of iterations (max_iter) or scale the data as shown in:\n",
            "    https://scikit-learn.org/stable/modules/preprocessing.html\n",
            "Please also refer to the documentation for alternative solver options:\n",
            "    https://scikit-learn.org/stable/modules/linear_model.html#logistic-regression\n",
            "  n_iter_i = _check_optimize_result(\n"
          ]
        },
        {
          "output_type": "stream",
          "name": "stdout",
          "text": [
            "[Memory]0.0s, 0.0min    : Loading _fit_transform_one from cachedir/joblib/sklearn/pipeline/_fit_transform_one/86d2f04be2a9d6e659f99d3e9a62574f\n",
            "___________________________________fit_transform_one cache loaded - 0.1s, 0.0min\n",
            "[Memory]0.1s, 0.0min    : Loading _fit_transform_one from cachedir/joblib/sklearn/pipeline/_fit_transform_one/3cbc1101fa820b5ef39c46f85167cf2e\n",
            "___________________________________fit_transform_one cache loaded - 0.0s, 0.0min\n",
            "[Memory]0.2s, 0.0min    : Loading _fit_transform_one from cachedir/joblib/sklearn/pipeline/_fit_transform_one/cf0cec7f7b8eb3e6aacd8d31a2cb4cc1\n",
            "___________________________________fit_transform_one cache loaded - 0.0s, 0.0min\n"
          ]
        },
        {
          "output_type": "stream",
          "name": "stderr",
          "text": [
            "/usr/local/lib/python3.8/dist-packages/sklearn/linear_model/_logistic.py:814: ConvergenceWarning: lbfgs failed to converge (status=1):\n",
            "STOP: TOTAL NO. of ITERATIONS REACHED LIMIT.\n",
            "\n",
            "Increase the number of iterations (max_iter) or scale the data as shown in:\n",
            "    https://scikit-learn.org/stable/modules/preprocessing.html\n",
            "Please also refer to the documentation for alternative solver options:\n",
            "    https://scikit-learn.org/stable/modules/linear_model.html#logistic-regression\n",
            "  n_iter_i = _check_optimize_result(\n"
          ]
        },
        {
          "output_type": "stream",
          "name": "stdout",
          "text": [
            "[Memory]0.0s, 0.0min    : Loading _fit_transform_one from cachedir/joblib/sklearn/pipeline/_fit_transform_one/fb9c4da1f35b2ed5493daee9385c47fa\n",
            "___________________________________fit_transform_one cache loaded - 0.1s, 0.0min\n",
            "[Memory]0.1s, 0.0min    : Loading _fit_transform_one from cachedir/joblib/sklearn/pipeline/_fit_transform_one/7a8272ea6c3f30c674947a15e247bbf7\n",
            "___________________________________fit_transform_one cache loaded - 0.0s, 0.0min\n",
            "[Memory]0.2s, 0.0min    : Loading _fit_transform_one from cachedir/joblib/sklearn/pipeline/_fit_transform_one/88c8ea8f85ac398c6e61667927df1c6d\n",
            "___________________________________fit_transform_one cache loaded - 0.0s, 0.0min\n"
          ]
        },
        {
          "output_type": "stream",
          "name": "stderr",
          "text": [
            "/usr/local/lib/python3.8/dist-packages/sklearn/linear_model/_logistic.py:814: ConvergenceWarning: lbfgs failed to converge (status=1):\n",
            "STOP: TOTAL NO. of ITERATIONS REACHED LIMIT.\n",
            "\n",
            "Increase the number of iterations (max_iter) or scale the data as shown in:\n",
            "    https://scikit-learn.org/stable/modules/preprocessing.html\n",
            "Please also refer to the documentation for alternative solver options:\n",
            "    https://scikit-learn.org/stable/modules/linear_model.html#logistic-regression\n",
            "  n_iter_i = _check_optimize_result(\n"
          ]
        },
        {
          "output_type": "stream",
          "name": "stdout",
          "text": [
            "[Memory]0.0s, 0.0min    : Loading _fit_transform_one from cachedir/joblib/sklearn/pipeline/_fit_transform_one/e17e003cefe0e28f8272b0d74d85b835\n",
            "___________________________________fit_transform_one cache loaded - 0.1s, 0.0min\n",
            "[Memory]0.1s, 0.0min    : Loading _fit_transform_one from cachedir/joblib/sklearn/pipeline/_fit_transform_one/ed24d4f44ef18c864477d77ce8f73fbe\n",
            "___________________________________fit_transform_one cache loaded - 0.0s, 0.0min\n",
            "[Memory]0.2s, 0.0min    : Loading _fit_transform_one from cachedir/joblib/sklearn/pipeline/_fit_transform_one/ad3ab09c0259cd1b0303fae781fd3183\n",
            "___________________________________fit_transform_one cache loaded - 0.0s, 0.0min\n",
            "[Memory]0.0s, 0.0min    : Loading _fit_transform_one from cachedir/joblib/sklearn/pipeline/_fit_transform_one/5dc41e6435ac102ca6477e2691e1379a\n",
            "___________________________________fit_transform_one cache loaded - 0.1s, 0.0min\n",
            "[Memory]0.1s, 0.0min    : Loading _fit_transform_one from cachedir/joblib/sklearn/pipeline/_fit_transform_one/94faa314b6e9f5da187cb66d0b1d6f33\n",
            "___________________________________fit_transform_one cache loaded - 0.0s, 0.0min\n",
            "[Memory]0.2s, 0.0min    : Loading _fit_transform_one from cachedir/joblib/sklearn/pipeline/_fit_transform_one/0006d5192589f7e825c1c6c618b48cd5\n",
            "___________________________________fit_transform_one cache loaded - 0.0s, 0.0min\n"
          ]
        },
        {
          "output_type": "stream",
          "name": "stderr",
          "text": [
            "/usr/local/lib/python3.8/dist-packages/sklearn/linear_model/_logistic.py:814: ConvergenceWarning: lbfgs failed to converge (status=1):\n",
            "STOP: TOTAL NO. of ITERATIONS REACHED LIMIT.\n",
            "\n",
            "Increase the number of iterations (max_iter) or scale the data as shown in:\n",
            "    https://scikit-learn.org/stable/modules/preprocessing.html\n",
            "Please also refer to the documentation for alternative solver options:\n",
            "    https://scikit-learn.org/stable/modules/linear_model.html#logistic-regression\n",
            "  n_iter_i = _check_optimize_result(\n"
          ]
        },
        {
          "output_type": "stream",
          "name": "stdout",
          "text": [
            "[Memory]0.0s, 0.0min    : Loading _fit_transform_one from cachedir/joblib/sklearn/pipeline/_fit_transform_one/e8dc13eb0efcf1c2a8bdaa0cebf3c9ff\n",
            "___________________________________fit_transform_one cache loaded - 0.1s, 0.0min\n",
            "[Memory]0.2s, 0.0min    : Loading _fit_transform_one from cachedir/joblib/sklearn/pipeline/_fit_transform_one/88fc7ec26c8a39c3195d2e241ab582d8\n",
            "___________________________________fit_transform_one cache loaded - 0.0s, 0.0min\n",
            "[Memory]0.2s, 0.0min    : Loading _fit_transform_one from cachedir/joblib/sklearn/pipeline/_fit_transform_one/64b85c618ccee4b8da6b32c7778b7c53\n",
            "___________________________________fit_transform_one cache loaded - 0.0s, 0.0min\n",
            "[Memory]0.0s, 0.0min    : Loading _fit_transform_one from cachedir/joblib/sklearn/pipeline/_fit_transform_one/98dec079fcfa8cc20e0a0f6ad2e7e625\n",
            "___________________________________fit_transform_one cache loaded - 0.1s, 0.0min\n",
            "[Memory]0.1s, 0.0min    : Loading _fit_transform_one from cachedir/joblib/sklearn/pipeline/_fit_transform_one/fc9fc46c182a07822e91ba269ec9093c\n",
            "___________________________________fit_transform_one cache loaded - 0.0s, 0.0min\n",
            "[Memory]0.2s, 0.0min    : Loading _fit_transform_one from cachedir/joblib/sklearn/pipeline/_fit_transform_one/e54ce79b9dab44ce0dd4d29a372403c9\n",
            "___________________________________fit_transform_one cache loaded - 0.0s, 0.0min\n",
            "[Memory]0.0s, 0.0min    : Loading _fit_transform_one from cachedir/joblib/sklearn/pipeline/_fit_transform_one/66f096df1795da5c84f23408103d22b2\n",
            "___________________________________fit_transform_one cache loaded - 0.1s, 0.0min\n",
            "[Memory]0.2s, 0.0min    : Loading _fit_transform_one from cachedir/joblib/sklearn/pipeline/_fit_transform_one/f49d59f3d080bc113431ab88078b1af2\n",
            "___________________________________fit_transform_one cache loaded - 0.0s, 0.0min\n",
            "[Memory]0.2s, 0.0min    : Loading _fit_transform_one from cachedir/joblib/sklearn/pipeline/_fit_transform_one/c1441829534eadfe915083ff25dc7e1c\n",
            "___________________________________fit_transform_one cache loaded - 0.0s, 0.0min\n",
            "[Memory]0.0s, 0.0min    : Loading _fit_transform_one from cachedir/joblib/sklearn/pipeline/_fit_transform_one/b787281904d5d8d4253ddedc7ccc1bfd\n",
            "___________________________________fit_transform_one cache loaded - 0.1s, 0.0min\n",
            "[Memory]0.2s, 0.0min    : Loading _fit_transform_one from cachedir/joblib/sklearn/pipeline/_fit_transform_one/6c56d117e2b97c3985d4dbd757d0141d\n",
            "___________________________________fit_transform_one cache loaded - 0.0s, 0.0min\n",
            "[Memory]0.2s, 0.0min    : Loading _fit_transform_one from cachedir/joblib/sklearn/pipeline/_fit_transform_one/130f0a36ecf736602bdd84a6638dc1fb\n",
            "___________________________________fit_transform_one cache loaded - 0.0s, 0.0min\n",
            "[Memory]0.0s, 0.0min    : Loading _fit_transform_one from cachedir/joblib/sklearn/pipeline/_fit_transform_one/85ba9e6fc1acbb83c404f3e410efebe9\n",
            "___________________________________fit_transform_one cache loaded - 0.1s, 0.0min\n",
            "[Memory]0.2s, 0.0min    : Loading _fit_transform_one from cachedir/joblib/sklearn/pipeline/_fit_transform_one/256bcc8ea871397960db1e07d1f71d57\n",
            "___________________________________fit_transform_one cache loaded - 0.0s, 0.0min\n",
            "[Memory]0.2s, 0.0min    : Loading _fit_transform_one from cachedir/joblib/sklearn/pipeline/_fit_transform_one/e9e09b6ad1bf6425d53e26f9986c7633\n",
            "___________________________________fit_transform_one cache loaded - 0.0s, 0.0min\n",
            "[Memory]0.0s, 0.0min    : Loading _fit_transform_one from cachedir/joblib/sklearn/pipeline/_fit_transform_one/e1b82fe716df21d74b2c38215e1a5eaa\n",
            "___________________________________fit_transform_one cache loaded - 0.1s, 0.0min\n",
            "[Memory]0.2s, 0.0min    : Loading _fit_transform_one from cachedir/joblib/sklearn/pipeline/_fit_transform_one/7c6407b59d3e089b9b110924ff137c62\n",
            "___________________________________fit_transform_one cache loaded - 0.0s, 0.0min\n",
            "[Memory]0.2s, 0.0min    : Loading _fit_transform_one from cachedir/joblib/sklearn/pipeline/_fit_transform_one/5539c92bcad4c32915ec6573ec1dcd03\n",
            "___________________________________fit_transform_one cache loaded - 0.0s, 0.0min\n",
            "[Memory]0.0s, 0.0min    : Loading _fit_transform_one from cachedir/joblib/sklearn/pipeline/_fit_transform_one/86d2f04be2a9d6e659f99d3e9a62574f\n",
            "___________________________________fit_transform_one cache loaded - 0.1s, 0.0min\n",
            "[Memory]0.1s, 0.0min    : Loading _fit_transform_one from cachedir/joblib/sklearn/pipeline/_fit_transform_one/3cbc1101fa820b5ef39c46f85167cf2e\n",
            "___________________________________fit_transform_one cache loaded - 0.0s, 0.0min\n",
            "[Memory]0.2s, 0.0min    : Loading _fit_transform_one from cachedir/joblib/sklearn/pipeline/_fit_transform_one/cf5749bdf941b411c60b4651626af1a4\n",
            "___________________________________fit_transform_one cache loaded - 0.0s, 0.0min\n",
            "[Memory]0.0s, 0.0min    : Loading _fit_transform_one from cachedir/joblib/sklearn/pipeline/_fit_transform_one/fb9c4da1f35b2ed5493daee9385c47fa\n",
            "___________________________________fit_transform_one cache loaded - 0.1s, 0.0min\n",
            "[Memory]0.2s, 0.0min    : Loading _fit_transform_one from cachedir/joblib/sklearn/pipeline/_fit_transform_one/7a8272ea6c3f30c674947a15e247bbf7\n",
            "___________________________________fit_transform_one cache loaded - 0.0s, 0.0min\n",
            "[Memory]0.2s, 0.0min    : Loading _fit_transform_one from cachedir/joblib/sklearn/pipeline/_fit_transform_one/0b3b087c1c7b8a14728c6d74cfe12fbc\n",
            "___________________________________fit_transform_one cache loaded - 0.0s, 0.0min\n",
            "[Memory]0.0s, 0.0min    : Loading _fit_transform_one from cachedir/joblib/sklearn/pipeline/_fit_transform_one/e17e003cefe0e28f8272b0d74d85b835\n",
            "___________________________________fit_transform_one cache loaded - 0.1s, 0.0min\n",
            "[Memory]0.1s, 0.0min    : Loading _fit_transform_one from cachedir/joblib/sklearn/pipeline/_fit_transform_one/ed24d4f44ef18c864477d77ce8f73fbe\n",
            "___________________________________fit_transform_one cache loaded - 0.0s, 0.0min\n",
            "[Memory]0.2s, 0.0min    : Loading _fit_transform_one from cachedir/joblib/sklearn/pipeline/_fit_transform_one/ade71249feb5710f52533400227bf740\n",
            "___________________________________fit_transform_one cache loaded - 0.0s, 0.0min\n",
            "[Memory]0.0s, 0.0min    : Loading _fit_transform_one from cachedir/joblib/sklearn/pipeline/_fit_transform_one/5dc41e6435ac102ca6477e2691e1379a\n",
            "___________________________________fit_transform_one cache loaded - 0.1s, 0.0min\n",
            "[Memory]0.1s, 0.0min    : Loading _fit_transform_one from cachedir/joblib/sklearn/pipeline/_fit_transform_one/94faa314b6e9f5da187cb66d0b1d6f33\n",
            "___________________________________fit_transform_one cache loaded - 0.0s, 0.0min\n",
            "[Memory]0.2s, 0.0min    : Loading _fit_transform_one from cachedir/joblib/sklearn/pipeline/_fit_transform_one/8e1e02b0553caf0e0813047f4a0d1fc1\n",
            "___________________________________fit_transform_one cache loaded - 0.0s, 0.0min\n",
            "[Memory]0.0s, 0.0min    : Loading _fit_transform_one from cachedir/joblib/sklearn/pipeline/_fit_transform_one/e8dc13eb0efcf1c2a8bdaa0cebf3c9ff\n",
            "___________________________________fit_transform_one cache loaded - 0.1s, 0.0min\n",
            "[Memory]0.2s, 0.0min    : Loading _fit_transform_one from cachedir/joblib/sklearn/pipeline/_fit_transform_one/88fc7ec26c8a39c3195d2e241ab582d8\n",
            "___________________________________fit_transform_one cache loaded - 0.0s, 0.0min\n",
            "[Memory]0.2s, 0.0min    : Loading _fit_transform_one from cachedir/joblib/sklearn/pipeline/_fit_transform_one/e2e94e08ce95060c4778a5319c85099b\n",
            "___________________________________fit_transform_one cache loaded - 0.0s, 0.0min\n",
            "[Memory]0.0s, 0.0min    : Loading _fit_transform_one from cachedir/joblib/sklearn/pipeline/_fit_transform_one/98dec079fcfa8cc20e0a0f6ad2e7e625\n",
            "___________________________________fit_transform_one cache loaded - 0.1s, 0.0min\n",
            "[Memory]0.1s, 0.0min    : Loading _fit_transform_one from cachedir/joblib/sklearn/pipeline/_fit_transform_one/fc9fc46c182a07822e91ba269ec9093c\n",
            "___________________________________fit_transform_one cache loaded - 0.0s, 0.0min\n",
            "[Memory]0.2s, 0.0min    : Loading _fit_transform_one from cachedir/joblib/sklearn/pipeline/_fit_transform_one/7a2bee343fda04b5a25472dc56a906b1\n",
            "___________________________________fit_transform_one cache loaded - 0.0s, 0.0min\n",
            "[Memory]0.0s, 0.0min    : Loading _fit_transform_one from cachedir/joblib/sklearn/pipeline/_fit_transform_one/66f096df1795da5c84f23408103d22b2\n",
            "___________________________________fit_transform_one cache loaded - 0.1s, 0.0min\n",
            "[Memory]0.2s, 0.0min    : Loading _fit_transform_one from cachedir/joblib/sklearn/pipeline/_fit_transform_one/f49d59f3d080bc113431ab88078b1af2\n",
            "___________________________________fit_transform_one cache loaded - 0.0s, 0.0min\n",
            "[Memory]0.2s, 0.0min    : Loading _fit_transform_one from cachedir/joblib/sklearn/pipeline/_fit_transform_one/586092d3eda1b6692dd7a665450cde04\n",
            "___________________________________fit_transform_one cache loaded - 0.0s, 0.0min\n",
            "[Memory]0.0s, 0.0min    : Loading _fit_transform_one from cachedir/joblib/sklearn/pipeline/_fit_transform_one/b787281904d5d8d4253ddedc7ccc1bfd\n",
            "___________________________________fit_transform_one cache loaded - 0.1s, 0.0min\n",
            "[Memory]0.2s, 0.0min    : Loading _fit_transform_one from cachedir/joblib/sklearn/pipeline/_fit_transform_one/6c56d117e2b97c3985d4dbd757d0141d\n",
            "___________________________________fit_transform_one cache loaded - 0.0s, 0.0min\n",
            "[Memory]0.2s, 0.0min    : Loading _fit_transform_one from cachedir/joblib/sklearn/pipeline/_fit_transform_one/3b2176a8bc3ebf13d5dfcc504d12a683\n",
            "___________________________________fit_transform_one cache loaded - 0.0s, 0.0min\n",
            "[Memory]0.0s, 0.0min    : Loading _fit_transform_one from cachedir/joblib/sklearn/pipeline/_fit_transform_one/85ba9e6fc1acbb83c404f3e410efebe9\n",
            "___________________________________fit_transform_one cache loaded - 0.1s, 0.0min\n",
            "[Memory]0.1s, 0.0min    : Loading _fit_transform_one from cachedir/joblib/sklearn/pipeline/_fit_transform_one/256bcc8ea871397960db1e07d1f71d57\n",
            "___________________________________fit_transform_one cache loaded - 0.0s, 0.0min\n",
            "[Memory]0.2s, 0.0min    : Loading _fit_transform_one from cachedir/joblib/sklearn/pipeline/_fit_transform_one/80d51117947e7b48f3b193523d4a650a\n",
            "___________________________________fit_transform_one cache loaded - 0.0s, 0.0min\n",
            "[Memory]0.0s, 0.0min    : Loading _fit_transform_one from cachedir/joblib/sklearn/pipeline/_fit_transform_one/e1b82fe716df21d74b2c38215e1a5eaa\n",
            "___________________________________fit_transform_one cache loaded - 0.1s, 0.0min\n",
            "[Memory]0.2s, 0.0min    : Loading _fit_transform_one from cachedir/joblib/sklearn/pipeline/_fit_transform_one/7c6407b59d3e089b9b110924ff137c62\n",
            "___________________________________fit_transform_one cache loaded - 0.0s, 0.0min\n",
            "[Memory]0.2s, 0.0min    : Loading _fit_transform_one from cachedir/joblib/sklearn/pipeline/_fit_transform_one/3b0210273b2a7033883ee30ed54e5143\n",
            "___________________________________fit_transform_one cache loaded - 0.0s, 0.0min\n",
            "[Memory]0.0s, 0.0min    : Loading _fit_transform_one from cachedir/joblib/sklearn/pipeline/_fit_transform_one/86d2f04be2a9d6e659f99d3e9a62574f\n",
            "___________________________________fit_transform_one cache loaded - 0.1s, 0.0min\n",
            "[Memory]0.2s, 0.0min    : Loading _fit_transform_one from cachedir/joblib/sklearn/pipeline/_fit_transform_one/3cbc1101fa820b5ef39c46f85167cf2e\n",
            "___________________________________fit_transform_one cache loaded - 0.0s, 0.0min\n",
            "[Memory]0.2s, 0.0min    : Loading _fit_transform_one from cachedir/joblib/sklearn/pipeline/_fit_transform_one/cf0cec7f7b8eb3e6aacd8d31a2cb4cc1\n",
            "___________________________________fit_transform_one cache loaded - 0.0s, 0.0min\n",
            "[Memory]0.0s, 0.0min    : Loading _fit_transform_one from cachedir/joblib/sklearn/pipeline/_fit_transform_one/fb9c4da1f35b2ed5493daee9385c47fa\n",
            "___________________________________fit_transform_one cache loaded - 0.1s, 0.0min\n",
            "[Memory]0.1s, 0.0min    : Loading _fit_transform_one from cachedir/joblib/sklearn/pipeline/_fit_transform_one/7a8272ea6c3f30c674947a15e247bbf7\n",
            "___________________________________fit_transform_one cache loaded - 0.0s, 0.0min\n",
            "[Memory]0.2s, 0.0min    : Loading _fit_transform_one from cachedir/joblib/sklearn/pipeline/_fit_transform_one/88c8ea8f85ac398c6e61667927df1c6d\n",
            "___________________________________fit_transform_one cache loaded - 0.0s, 0.0min\n",
            "[Memory]0.0s, 0.0min    : Loading _fit_transform_one from cachedir/joblib/sklearn/pipeline/_fit_transform_one/e17e003cefe0e28f8272b0d74d85b835\n",
            "___________________________________fit_transform_one cache loaded - 0.1s, 0.0min\n",
            "[Memory]0.1s, 0.0min    : Loading _fit_transform_one from cachedir/joblib/sklearn/pipeline/_fit_transform_one/ed24d4f44ef18c864477d77ce8f73fbe\n",
            "___________________________________fit_transform_one cache loaded - 0.0s, 0.0min\n",
            "[Memory]0.2s, 0.0min    : Loading _fit_transform_one from cachedir/joblib/sklearn/pipeline/_fit_transform_one/ad3ab09c0259cd1b0303fae781fd3183\n",
            "___________________________________fit_transform_one cache loaded - 0.0s, 0.0min\n",
            "[Memory]0.0s, 0.0min    : Loading _fit_transform_one from cachedir/joblib/sklearn/pipeline/_fit_transform_one/5dc41e6435ac102ca6477e2691e1379a\n",
            "___________________________________fit_transform_one cache loaded - 0.1s, 0.0min\n",
            "[Memory]0.2s, 0.0min    : Loading _fit_transform_one from cachedir/joblib/sklearn/pipeline/_fit_transform_one/94faa314b6e9f5da187cb66d0b1d6f33\n",
            "___________________________________fit_transform_one cache loaded - 0.0s, 0.0min\n",
            "[Memory]0.2s, 0.0min    : Loading _fit_transform_one from cachedir/joblib/sklearn/pipeline/_fit_transform_one/0006d5192589f7e825c1c6c618b48cd5\n",
            "___________________________________fit_transform_one cache loaded - 0.0s, 0.0min\n",
            "[Memory]0.0s, 0.0min    : Loading _fit_transform_one from cachedir/joblib/sklearn/pipeline/_fit_transform_one/e8dc13eb0efcf1c2a8bdaa0cebf3c9ff\n",
            "___________________________________fit_transform_one cache loaded - 0.1s, 0.0min\n",
            "[Memory]0.1s, 0.0min    : Loading _fit_transform_one from cachedir/joblib/sklearn/pipeline/_fit_transform_one/88fc7ec26c8a39c3195d2e241ab582d8\n",
            "___________________________________fit_transform_one cache loaded - 0.0s, 0.0min\n",
            "[Memory]0.2s, 0.0min    : Loading _fit_transform_one from cachedir/joblib/sklearn/pipeline/_fit_transform_one/64b85c618ccee4b8da6b32c7778b7c53\n",
            "___________________________________fit_transform_one cache loaded - 0.0s, 0.0min\n",
            "[Memory]0.0s, 0.0min    : Loading _fit_transform_one from cachedir/joblib/sklearn/pipeline/_fit_transform_one/98dec079fcfa8cc20e0a0f6ad2e7e625\n",
            "___________________________________fit_transform_one cache loaded - 0.1s, 0.0min\n",
            "[Memory]0.1s, 0.0min    : Loading _fit_transform_one from cachedir/joblib/sklearn/pipeline/_fit_transform_one/fc9fc46c182a07822e91ba269ec9093c\n",
            "___________________________________fit_transform_one cache loaded - 0.0s, 0.0min\n",
            "[Memory]0.2s, 0.0min    : Loading _fit_transform_one from cachedir/joblib/sklearn/pipeline/_fit_transform_one/e54ce79b9dab44ce0dd4d29a372403c9\n",
            "___________________________________fit_transform_one cache loaded - 0.0s, 0.0min\n",
            "[Memory]0.0s, 0.0min    : Loading _fit_transform_one from cachedir/joblib/sklearn/pipeline/_fit_transform_one/66f096df1795da5c84f23408103d22b2\n",
            "___________________________________fit_transform_one cache loaded - 0.1s, 0.0min\n",
            "[Memory]0.1s, 0.0min    : Loading _fit_transform_one from cachedir/joblib/sklearn/pipeline/_fit_transform_one/f49d59f3d080bc113431ab88078b1af2\n",
            "___________________________________fit_transform_one cache loaded - 0.0s, 0.0min\n",
            "[Memory]0.2s, 0.0min    : Loading _fit_transform_one from cachedir/joblib/sklearn/pipeline/_fit_transform_one/c1441829534eadfe915083ff25dc7e1c\n",
            "___________________________________fit_transform_one cache loaded - 0.0s, 0.0min\n",
            "[Memory]0.0s, 0.0min    : Loading _fit_transform_one from cachedir/joblib/sklearn/pipeline/_fit_transform_one/b787281904d5d8d4253ddedc7ccc1bfd\n",
            "___________________________________fit_transform_one cache loaded - 0.1s, 0.0min\n",
            "[Memory]0.1s, 0.0min    : Loading _fit_transform_one from cachedir/joblib/sklearn/pipeline/_fit_transform_one/6c56d117e2b97c3985d4dbd757d0141d\n",
            "___________________________________fit_transform_one cache loaded - 0.0s, 0.0min\n",
            "[Memory]0.1s, 0.0min    : Loading _fit_transform_one from cachedir/joblib/sklearn/pipeline/_fit_transform_one/130f0a36ecf736602bdd84a6638dc1fb\n",
            "___________________________________fit_transform_one cache loaded - 0.0s, 0.0min\n",
            "[Memory]0.0s, 0.0min    : Loading _fit_transform_one from cachedir/joblib/sklearn/pipeline/_fit_transform_one/85ba9e6fc1acbb83c404f3e410efebe9\n",
            "___________________________________fit_transform_one cache loaded - 0.1s, 0.0min\n",
            "[Memory]0.1s, 0.0min    : Loading _fit_transform_one from cachedir/joblib/sklearn/pipeline/_fit_transform_one/256bcc8ea871397960db1e07d1f71d57\n",
            "___________________________________fit_transform_one cache loaded - 0.0s, 0.0min\n",
            "[Memory]0.1s, 0.0min    : Loading _fit_transform_one from cachedir/joblib/sklearn/pipeline/_fit_transform_one/e9e09b6ad1bf6425d53e26f9986c7633\n",
            "___________________________________fit_transform_one cache loaded - 0.0s, 0.0min\n",
            "[Memory]0.0s, 0.0min    : Loading _fit_transform_one from cachedir/joblib/sklearn/pipeline/_fit_transform_one/e1b82fe716df21d74b2c38215e1a5eaa\n",
            "___________________________________fit_transform_one cache loaded - 0.1s, 0.0min\n",
            "[Memory]0.1s, 0.0min    : Loading _fit_transform_one from cachedir/joblib/sklearn/pipeline/_fit_transform_one/7c6407b59d3e089b9b110924ff137c62\n",
            "___________________________________fit_transform_one cache loaded - 0.0s, 0.0min\n",
            "[Memory]0.1s, 0.0min    : Loading _fit_transform_one from cachedir/joblib/sklearn/pipeline/_fit_transform_one/5539c92bcad4c32915ec6573ec1dcd03\n",
            "___________________________________fit_transform_one cache loaded - 0.0s, 0.0min\n",
            "[Memory]0.0s, 0.0min    : Loading _fit_transform_one from cachedir/joblib/sklearn/pipeline/_fit_transform_one/86d2f04be2a9d6e659f99d3e9a62574f\n",
            "___________________________________fit_transform_one cache loaded - 0.1s, 0.0min\n",
            "[Memory]0.1s, 0.0min    : Loading _fit_transform_one from cachedir/joblib/sklearn/pipeline/_fit_transform_one/3cbc1101fa820b5ef39c46f85167cf2e\n",
            "___________________________________fit_transform_one cache loaded - 0.0s, 0.0min\n",
            "[Memory]0.1s, 0.0min    : Loading _fit_transform_one from cachedir/joblib/sklearn/pipeline/_fit_transform_one/cf5749bdf941b411c60b4651626af1a4\n",
            "___________________________________fit_transform_one cache loaded - 0.0s, 0.0min\n",
            "[Memory]0.0s, 0.0min    : Loading _fit_transform_one from cachedir/joblib/sklearn/pipeline/_fit_transform_one/fb9c4da1f35b2ed5493daee9385c47fa\n",
            "___________________________________fit_transform_one cache loaded - 0.1s, 0.0min\n",
            "[Memory]0.1s, 0.0min    : Loading _fit_transform_one from cachedir/joblib/sklearn/pipeline/_fit_transform_one/7a8272ea6c3f30c674947a15e247bbf7\n",
            "___________________________________fit_transform_one cache loaded - 0.0s, 0.0min\n",
            "[Memory]0.1s, 0.0min    : Loading _fit_transform_one from cachedir/joblib/sklearn/pipeline/_fit_transform_one/0b3b087c1c7b8a14728c6d74cfe12fbc\n",
            "___________________________________fit_transform_one cache loaded - 0.0s, 0.0min\n",
            "[Memory]0.0s, 0.0min    : Loading _fit_transform_one from cachedir/joblib/sklearn/pipeline/_fit_transform_one/e17e003cefe0e28f8272b0d74d85b835\n",
            "___________________________________fit_transform_one cache loaded - 0.1s, 0.0min\n",
            "[Memory]0.1s, 0.0min    : Loading _fit_transform_one from cachedir/joblib/sklearn/pipeline/_fit_transform_one/ed24d4f44ef18c864477d77ce8f73fbe\n",
            "___________________________________fit_transform_one cache loaded - 0.0s, 0.0min\n",
            "[Memory]0.1s, 0.0min    : Loading _fit_transform_one from cachedir/joblib/sklearn/pipeline/_fit_transform_one/ade71249feb5710f52533400227bf740\n",
            "___________________________________fit_transform_one cache loaded - 0.0s, 0.0min\n",
            "[Memory]0.0s, 0.0min    : Loading _fit_transform_one from cachedir/joblib/sklearn/pipeline/_fit_transform_one/5dc41e6435ac102ca6477e2691e1379a\n",
            "___________________________________fit_transform_one cache loaded - 0.1s, 0.0min\n",
            "[Memory]0.1s, 0.0min    : Loading _fit_transform_one from cachedir/joblib/sklearn/pipeline/_fit_transform_one/94faa314b6e9f5da187cb66d0b1d6f33\n",
            "___________________________________fit_transform_one cache loaded - 0.0s, 0.0min\n",
            "[Memory]0.1s, 0.0min    : Loading _fit_transform_one from cachedir/joblib/sklearn/pipeline/_fit_transform_one/8e1e02b0553caf0e0813047f4a0d1fc1\n",
            "___________________________________fit_transform_one cache loaded - 0.0s, 0.0min\n",
            "[Memory]0.0s, 0.0min    : Loading _fit_transform_one from cachedir/joblib/sklearn/pipeline/_fit_transform_one/e8dc13eb0efcf1c2a8bdaa0cebf3c9ff\n",
            "___________________________________fit_transform_one cache loaded - 0.1s, 0.0min\n",
            "[Memory]0.1s, 0.0min    : Loading _fit_transform_one from cachedir/joblib/sklearn/pipeline/_fit_transform_one/88fc7ec26c8a39c3195d2e241ab582d8\n",
            "___________________________________fit_transform_one cache loaded - 0.0s, 0.0min\n",
            "[Memory]0.1s, 0.0min    : Loading _fit_transform_one from cachedir/joblib/sklearn/pipeline/_fit_transform_one/e2e94e08ce95060c4778a5319c85099b\n",
            "___________________________________fit_transform_one cache loaded - 0.0s, 0.0min\n",
            "[Memory]0.0s, 0.0min    : Loading _fit_transform_one from cachedir/joblib/sklearn/pipeline/_fit_transform_one/98dec079fcfa8cc20e0a0f6ad2e7e625\n",
            "___________________________________fit_transform_one cache loaded - 0.1s, 0.0min\n",
            "[Memory]0.1s, 0.0min    : Loading _fit_transform_one from cachedir/joblib/sklearn/pipeline/_fit_transform_one/fc9fc46c182a07822e91ba269ec9093c\n",
            "___________________________________fit_transform_one cache loaded - 0.0s, 0.0min\n",
            "[Memory]0.1s, 0.0min    : Loading _fit_transform_one from cachedir/joblib/sklearn/pipeline/_fit_transform_one/7a2bee343fda04b5a25472dc56a906b1\n",
            "___________________________________fit_transform_one cache loaded - 0.0s, 0.0min\n",
            "[Memory]0.0s, 0.0min    : Loading _fit_transform_one from cachedir/joblib/sklearn/pipeline/_fit_transform_one/66f096df1795da5c84f23408103d22b2\n",
            "___________________________________fit_transform_one cache loaded - 0.1s, 0.0min\n",
            "[Memory]0.1s, 0.0min    : Loading _fit_transform_one from cachedir/joblib/sklearn/pipeline/_fit_transform_one/f49d59f3d080bc113431ab88078b1af2\n",
            "___________________________________fit_transform_one cache loaded - 0.0s, 0.0min\n",
            "[Memory]0.1s, 0.0min    : Loading _fit_transform_one from cachedir/joblib/sklearn/pipeline/_fit_transform_one/586092d3eda1b6692dd7a665450cde04\n",
            "___________________________________fit_transform_one cache loaded - 0.0s, 0.0min\n",
            "[Memory]0.0s, 0.0min    : Loading _fit_transform_one from cachedir/joblib/sklearn/pipeline/_fit_transform_one/b787281904d5d8d4253ddedc7ccc1bfd\n",
            "___________________________________fit_transform_one cache loaded - 0.1s, 0.0min\n",
            "[Memory]0.1s, 0.0min    : Loading _fit_transform_one from cachedir/joblib/sklearn/pipeline/_fit_transform_one/6c56d117e2b97c3985d4dbd757d0141d\n",
            "___________________________________fit_transform_one cache loaded - 0.0s, 0.0min\n",
            "[Memory]0.1s, 0.0min    : Loading _fit_transform_one from cachedir/joblib/sklearn/pipeline/_fit_transform_one/3b2176a8bc3ebf13d5dfcc504d12a683\n",
            "___________________________________fit_transform_one cache loaded - 0.0s, 0.0min\n",
            "[Memory]0.0s, 0.0min    : Loading _fit_transform_one from cachedir/joblib/sklearn/pipeline/_fit_transform_one/85ba9e6fc1acbb83c404f3e410efebe9\n",
            "___________________________________fit_transform_one cache loaded - 0.1s, 0.0min\n",
            "[Memory]0.1s, 0.0min    : Loading _fit_transform_one from cachedir/joblib/sklearn/pipeline/_fit_transform_one/256bcc8ea871397960db1e07d1f71d57\n",
            "___________________________________fit_transform_one cache loaded - 0.0s, 0.0min\n",
            "[Memory]0.1s, 0.0min    : Loading _fit_transform_one from cachedir/joblib/sklearn/pipeline/_fit_transform_one/80d51117947e7b48f3b193523d4a650a\n",
            "___________________________________fit_transform_one cache loaded - 0.0s, 0.0min\n",
            "[Memory]0.0s, 0.0min    : Loading _fit_transform_one from cachedir/joblib/sklearn/pipeline/_fit_transform_one/e1b82fe716df21d74b2c38215e1a5eaa\n",
            "___________________________________fit_transform_one cache loaded - 0.1s, 0.0min\n",
            "[Memory]0.1s, 0.0min    : Loading _fit_transform_one from cachedir/joblib/sklearn/pipeline/_fit_transform_one/7c6407b59d3e089b9b110924ff137c62\n",
            "___________________________________fit_transform_one cache loaded - 0.0s, 0.0min\n",
            "[Memory]0.1s, 0.0min    : Loading _fit_transform_one from cachedir/joblib/sklearn/pipeline/_fit_transform_one/3b0210273b2a7033883ee30ed54e5143\n",
            "___________________________________fit_transform_one cache loaded - 0.0s, 0.0min\n",
            "[Memory]0.0s, 0.0min    : Loading _fit_transform_one from cachedir/joblib/sklearn/pipeline/_fit_transform_one/86d2f04be2a9d6e659f99d3e9a62574f\n",
            "___________________________________fit_transform_one cache loaded - 0.1s, 0.0min\n",
            "[Memory]0.1s, 0.0min    : Loading _fit_transform_one from cachedir/joblib/sklearn/pipeline/_fit_transform_one/3cbc1101fa820b5ef39c46f85167cf2e\n",
            "___________________________________fit_transform_one cache loaded - 0.0s, 0.0min\n",
            "[Memory]0.1s, 0.0min    : Loading _fit_transform_one from cachedir/joblib/sklearn/pipeline/_fit_transform_one/cf0cec7f7b8eb3e6aacd8d31a2cb4cc1\n",
            "___________________________________fit_transform_one cache loaded - 0.0s, 0.0min\n",
            "[Memory]0.0s, 0.0min    : Loading _fit_transform_one from cachedir/joblib/sklearn/pipeline/_fit_transform_one/fb9c4da1f35b2ed5493daee9385c47fa\n",
            "___________________________________fit_transform_one cache loaded - 0.1s, 0.0min\n",
            "[Memory]0.1s, 0.0min    : Loading _fit_transform_one from cachedir/joblib/sklearn/pipeline/_fit_transform_one/7a8272ea6c3f30c674947a15e247bbf7\n",
            "___________________________________fit_transform_one cache loaded - 0.0s, 0.0min\n",
            "[Memory]0.1s, 0.0min    : Loading _fit_transform_one from cachedir/joblib/sklearn/pipeline/_fit_transform_one/88c8ea8f85ac398c6e61667927df1c6d\n",
            "___________________________________fit_transform_one cache loaded - 0.0s, 0.0min\n",
            "[Memory]0.0s, 0.0min    : Loading _fit_transform_one from cachedir/joblib/sklearn/pipeline/_fit_transform_one/e17e003cefe0e28f8272b0d74d85b835\n",
            "___________________________________fit_transform_one cache loaded - 0.1s, 0.0min\n",
            "[Memory]0.1s, 0.0min    : Loading _fit_transform_one from cachedir/joblib/sklearn/pipeline/_fit_transform_one/ed24d4f44ef18c864477d77ce8f73fbe\n",
            "___________________________________fit_transform_one cache loaded - 0.0s, 0.0min\n",
            "[Memory]0.1s, 0.0min    : Loading _fit_transform_one from cachedir/joblib/sklearn/pipeline/_fit_transform_one/ad3ab09c0259cd1b0303fae781fd3183\n",
            "___________________________________fit_transform_one cache loaded - 0.0s, 0.0min\n",
            "[Memory]0.0s, 0.0min    : Loading _fit_transform_one from cachedir/joblib/sklearn/pipeline/_fit_transform_one/5dc41e6435ac102ca6477e2691e1379a\n",
            "___________________________________fit_transform_one cache loaded - 0.1s, 0.0min\n",
            "[Memory]0.1s, 0.0min    : Loading _fit_transform_one from cachedir/joblib/sklearn/pipeline/_fit_transform_one/94faa314b6e9f5da187cb66d0b1d6f33\n",
            "___________________________________fit_transform_one cache loaded - 0.0s, 0.0min\n",
            "[Memory]0.1s, 0.0min    : Loading _fit_transform_one from cachedir/joblib/sklearn/pipeline/_fit_transform_one/0006d5192589f7e825c1c6c618b48cd5\n",
            "___________________________________fit_transform_one cache loaded - 0.0s, 0.0min\n",
            "[Memory]0.0s, 0.0min    : Loading _fit_transform_one from cachedir/joblib/sklearn/pipeline/_fit_transform_one/e8dc13eb0efcf1c2a8bdaa0cebf3c9ff\n",
            "___________________________________fit_transform_one cache loaded - 0.1s, 0.0min\n",
            "[Memory]0.1s, 0.0min    : Loading _fit_transform_one from cachedir/joblib/sklearn/pipeline/_fit_transform_one/88fc7ec26c8a39c3195d2e241ab582d8\n",
            "___________________________________fit_transform_one cache loaded - 0.0s, 0.0min\n",
            "[Memory]0.1s, 0.0min    : Loading _fit_transform_one from cachedir/joblib/sklearn/pipeline/_fit_transform_one/64b85c618ccee4b8da6b32c7778b7c53\n",
            "___________________________________fit_transform_one cache loaded - 0.0s, 0.0min\n",
            "[Memory]0.0s, 0.0min    : Loading _fit_transform_one from cachedir/joblib/sklearn/pipeline/_fit_transform_one/98dec079fcfa8cc20e0a0f6ad2e7e625\n",
            "___________________________________fit_transform_one cache loaded - 0.1s, 0.0min\n",
            "[Memory]0.1s, 0.0min    : Loading _fit_transform_one from cachedir/joblib/sklearn/pipeline/_fit_transform_one/fc9fc46c182a07822e91ba269ec9093c\n",
            "___________________________________fit_transform_one cache loaded - 0.0s, 0.0min\n",
            "[Memory]0.1s, 0.0min    : Loading _fit_transform_one from cachedir/joblib/sklearn/pipeline/_fit_transform_one/e54ce79b9dab44ce0dd4d29a372403c9\n",
            "___________________________________fit_transform_one cache loaded - 0.0s, 0.0min\n",
            "[Memory]0.0s, 0.0min    : Loading _fit_transform_one from cachedir/joblib/sklearn/pipeline/_fit_transform_one/a2953aea49d68af6b58bb7d327b1a77d\n",
            "___________________________________fit_transform_one cache loaded - 0.1s, 0.0min\n",
            "[Memory]0.1s, 0.0min    : Loading _fit_transform_one from cachedir/joblib/sklearn/pipeline/_fit_transform_one/7503f2b54be5cbd37873eda2e58dc33e\n",
            "___________________________________fit_transform_one cache loaded - 0.0s, 0.0min\n",
            "________________________________________________________________________________\n",
            "[Memory] Calling sklearn.pipeline._fit_transform_one...\n",
            "_fit_transform_one(TruncatedSVD(n_components=80, random_state=42), <2520x11933 sparse matrix of type '<class 'numpy.float64'>'\n",
            "\twith 404335 stored elements in Compressed Sparse Row format>, \n",
            "array([0, ..., 1]), None, message_clsname='Pipeline', message=None)\n",
            "________________________________________________fit_transform_one - 0.6s, 0.0min\n"
          ]
        },
        {
          "output_type": "stream",
          "name": "stderr",
          "text": [
            "/usr/local/lib/python3.8/dist-packages/sklearn/linear_model/_logistic.py:814: ConvergenceWarning: lbfgs failed to converge (status=1):\n",
            "STOP: TOTAL NO. of ITERATIONS REACHED LIMIT.\n",
            "\n",
            "Increase the number of iterations (max_iter) or scale the data as shown in:\n",
            "    https://scikit-learn.org/stable/modules/preprocessing.html\n",
            "Please also refer to the documentation for alternative solver options:\n",
            "    https://scikit-learn.org/stable/modules/linear_model.html#logistic-regression\n",
            "  n_iter_i = _check_optimize_result(\n"
          ]
        }
      ],
      "source": [
        "#Run data with cleaning GridSearch for k=80\n",
        "\n",
        "grid_clean_80 = GridSearchCV(pipe, cv=5 , n_jobs = 1, param_grid = param_grid_80, scoring = 'accuracy')\n",
        "grid_clean_80.fit(train['full_text'],train_svm_label)\n",
        "result_clean_80 = pd.DataFrame(grid_clean_80.cv_results_)"
      ]
    },
    {
      "cell_type": "code",
      "execution_count": null,
      "metadata": {
        "id": "plD75nRhB5J1",
        "colab": {
          "base_uri": "https://localhost:8080/",
          "height": 234
        },
        "outputId": "d52ef655-2b85-42e2-8752-838bc77d565a"
      },
      "outputs": [
        {
          "output_type": "stream",
          "name": "stdout",
          "text": [
            "=======================    Result for k=80 with Lemmatization    =======================\n",
            "\n"
          ]
        },
        {
          "output_type": "execute_result",
          "data": {
            "text/plain": [
              "                                    param_classifier  \\\n",
              "5         LogisticRegression(C=100, random_state=42)   \n",
              "9  LogisticRegression(C=10, penalty='l1', random_...   \n",
              "4         LogisticRegression(C=100, random_state=42)   \n",
              "8  LogisticRegression(C=10, penalty='l1', random_...   \n",
              "3                        SVC(C=100, random_state=42)   \n",
              "\n",
              "                                 param_dim_reduction param_vect__min_df  \\\n",
              "5     TruncatedSVD(n_components=80, random_state=42)                  5   \n",
              "9     TruncatedSVD(n_components=80, random_state=42)                  5   \n",
              "4     TruncatedSVD(n_components=80, random_state=42)                  3   \n",
              "8     TruncatedSVD(n_components=80, random_state=42)                  3   \n",
              "3  NMF(init='random', n_components=80, random_sta...                  5   \n",
              "\n",
              "   mean_test_score  \n",
              "5         0.962302  \n",
              "9         0.959524  \n",
              "4         0.959127  \n",
              "8         0.957937  \n",
              "3         0.957143  "
            ],
            "text/html": [
              "\n",
              "  <div id=\"df-ca0517e6-7f8c-4584-99af-93c591de28b9\">\n",
              "    <div class=\"colab-df-container\">\n",
              "      <div>\n",
              "<style scoped>\n",
              "    .dataframe tbody tr th:only-of-type {\n",
              "        vertical-align: middle;\n",
              "    }\n",
              "\n",
              "    .dataframe tbody tr th {\n",
              "        vertical-align: top;\n",
              "    }\n",
              "\n",
              "    .dataframe thead th {\n",
              "        text-align: right;\n",
              "    }\n",
              "</style>\n",
              "<table border=\"1\" class=\"dataframe\">\n",
              "  <thead>\n",
              "    <tr style=\"text-align: right;\">\n",
              "      <th></th>\n",
              "      <th>param_classifier</th>\n",
              "      <th>param_dim_reduction</th>\n",
              "      <th>param_vect__min_df</th>\n",
              "      <th>mean_test_score</th>\n",
              "    </tr>\n",
              "  </thead>\n",
              "  <tbody>\n",
              "    <tr>\n",
              "      <th>5</th>\n",
              "      <td>LogisticRegression(C=100, random_state=42)</td>\n",
              "      <td>TruncatedSVD(n_components=80, random_state=42)</td>\n",
              "      <td>5</td>\n",
              "      <td>0.962302</td>\n",
              "    </tr>\n",
              "    <tr>\n",
              "      <th>9</th>\n",
              "      <td>LogisticRegression(C=10, penalty='l1', random_...</td>\n",
              "      <td>TruncatedSVD(n_components=80, random_state=42)</td>\n",
              "      <td>5</td>\n",
              "      <td>0.959524</td>\n",
              "    </tr>\n",
              "    <tr>\n",
              "      <th>4</th>\n",
              "      <td>LogisticRegression(C=100, random_state=42)</td>\n",
              "      <td>TruncatedSVD(n_components=80, random_state=42)</td>\n",
              "      <td>3</td>\n",
              "      <td>0.959127</td>\n",
              "    </tr>\n",
              "    <tr>\n",
              "      <th>8</th>\n",
              "      <td>LogisticRegression(C=10, penalty='l1', random_...</td>\n",
              "      <td>TruncatedSVD(n_components=80, random_state=42)</td>\n",
              "      <td>3</td>\n",
              "      <td>0.957937</td>\n",
              "    </tr>\n",
              "    <tr>\n",
              "      <th>3</th>\n",
              "      <td>SVC(C=100, random_state=42)</td>\n",
              "      <td>NMF(init='random', n_components=80, random_sta...</td>\n",
              "      <td>5</td>\n",
              "      <td>0.957143</td>\n",
              "    </tr>\n",
              "  </tbody>\n",
              "</table>\n",
              "</div>\n",
              "      <button class=\"colab-df-convert\" onclick=\"convertToInteractive('df-ca0517e6-7f8c-4584-99af-93c591de28b9')\"\n",
              "              title=\"Convert this dataframe to an interactive table.\"\n",
              "              style=\"display:none;\">\n",
              "        \n",
              "  <svg xmlns=\"http://www.w3.org/2000/svg\" height=\"24px\"viewBox=\"0 0 24 24\"\n",
              "       width=\"24px\">\n",
              "    <path d=\"M0 0h24v24H0V0z\" fill=\"none\"/>\n",
              "    <path d=\"M18.56 5.44l.94 2.06.94-2.06 2.06-.94-2.06-.94-.94-2.06-.94 2.06-2.06.94zm-11 1L8.5 8.5l.94-2.06 2.06-.94-2.06-.94L8.5 2.5l-.94 2.06-2.06.94zm10 10l.94 2.06.94-2.06 2.06-.94-2.06-.94-.94-2.06-.94 2.06-2.06.94z\"/><path d=\"M17.41 7.96l-1.37-1.37c-.4-.4-.92-.59-1.43-.59-.52 0-1.04.2-1.43.59L10.3 9.45l-7.72 7.72c-.78.78-.78 2.05 0 2.83L4 21.41c.39.39.9.59 1.41.59.51 0 1.02-.2 1.41-.59l7.78-7.78 2.81-2.81c.8-.78.8-2.07 0-2.86zM5.41 20L4 18.59l7.72-7.72 1.47 1.35L5.41 20z\"/>\n",
              "  </svg>\n",
              "      </button>\n",
              "      \n",
              "  <style>\n",
              "    .colab-df-container {\n",
              "      display:flex;\n",
              "      flex-wrap:wrap;\n",
              "      gap: 12px;\n",
              "    }\n",
              "\n",
              "    .colab-df-convert {\n",
              "      background-color: #E8F0FE;\n",
              "      border: none;\n",
              "      border-radius: 50%;\n",
              "      cursor: pointer;\n",
              "      display: none;\n",
              "      fill: #1967D2;\n",
              "      height: 32px;\n",
              "      padding: 0 0 0 0;\n",
              "      width: 32px;\n",
              "    }\n",
              "\n",
              "    .colab-df-convert:hover {\n",
              "      background-color: #E2EBFA;\n",
              "      box-shadow: 0px 1px 2px rgba(60, 64, 67, 0.3), 0px 1px 3px 1px rgba(60, 64, 67, 0.15);\n",
              "      fill: #174EA6;\n",
              "    }\n",
              "\n",
              "    [theme=dark] .colab-df-convert {\n",
              "      background-color: #3B4455;\n",
              "      fill: #D2E3FC;\n",
              "    }\n",
              "\n",
              "    [theme=dark] .colab-df-convert:hover {\n",
              "      background-color: #434B5C;\n",
              "      box-shadow: 0px 1px 3px 1px rgba(0, 0, 0, 0.15);\n",
              "      filter: drop-shadow(0px 1px 2px rgba(0, 0, 0, 0.3));\n",
              "      fill: #FFFFFF;\n",
              "    }\n",
              "  </style>\n",
              "\n",
              "      <script>\n",
              "        const buttonEl =\n",
              "          document.querySelector('#df-ca0517e6-7f8c-4584-99af-93c591de28b9 button.colab-df-convert');\n",
              "        buttonEl.style.display =\n",
              "          google.colab.kernel.accessAllowed ? 'block' : 'none';\n",
              "\n",
              "        async function convertToInteractive(key) {\n",
              "          const element = document.querySelector('#df-ca0517e6-7f8c-4584-99af-93c591de28b9');\n",
              "          const dataTable =\n",
              "            await google.colab.kernel.invokeFunction('convertToInteractive',\n",
              "                                                     [key], {});\n",
              "          if (!dataTable) return;\n",
              "\n",
              "          const docLinkHtml = 'Like what you see? Visit the ' +\n",
              "            '<a target=\"_blank\" href=https://colab.research.google.com/notebooks/data_table.ipynb>data table notebook</a>'\n",
              "            + ' to learn more about interactive tables.';\n",
              "          element.innerHTML = '';\n",
              "          dataTable['output_type'] = 'display_data';\n",
              "          await google.colab.output.renderOutput(dataTable, element);\n",
              "          const docLink = document.createElement('div');\n",
              "          docLink.innerHTML = docLinkHtml;\n",
              "          element.appendChild(docLink);\n",
              "        }\n",
              "      </script>\n",
              "    </div>\n",
              "  </div>\n",
              "  "
            ]
          },
          "metadata": {},
          "execution_count": 44
        }
      ],
      "source": [
        "#The result for data with cleaning for k=80\n",
        "print('=======================    Result for k=80 with Lemmatization    =======================\\n')\n",
        "result_clean_80[[\"param_classifier\", \n",
        "                    \"param_dim_reduction\", \n",
        "                    \"param_vect__min_df\", \n",
        "                    \"mean_test_score\"]\n",
        "                   ].sort_values(by=['mean_test_score'], ascending=False).head()"
      ]
    },
    {
      "cell_type": "code",
      "execution_count": null,
      "metadata": {
        "id": "FHeW7WoJCBf1",
        "colab": {
          "base_uri": "https://localhost:8080/",
          "height": 234
        },
        "outputId": "ca22d5d5-0c29-43de-92d4-68cec0599bd2"
      },
      "outputs": [
        {
          "output_type": "stream",
          "name": "stdout",
          "text": [
            "====================    Final 5 best combinations for k=80 with Lemmatization    ====================\n",
            "\n"
          ]
        },
        {
          "output_type": "execute_result",
          "data": {
            "text/plain": [
              "                                    param_classifier  \\\n",
              "5         LogisticRegression(C=100, random_state=42)   \n",
              "9  LogisticRegression(C=10, penalty='l1', random_...   \n",
              "4         LogisticRegression(C=100, random_state=42)   \n",
              "8  LogisticRegression(C=10, penalty='l1', random_...   \n",
              "3                        SVC(C=100, random_state=42)   \n",
              "\n",
              "                                 param_dim_reduction param_vect__min_df  \\\n",
              "5     TruncatedSVD(n_components=80, random_state=42)                  5   \n",
              "9     TruncatedSVD(n_components=80, random_state=42)                  5   \n",
              "4     TruncatedSVD(n_components=80, random_state=42)                  3   \n",
              "8     TruncatedSVD(n_components=80, random_state=42)                  3   \n",
              "3  NMF(init='random', n_components=80, random_sta...                  5   \n",
              "\n",
              "   mean_test_score  \n",
              "5         0.962302  \n",
              "9         0.959524  \n",
              "4         0.959127  \n",
              "8         0.957937  \n",
              "3         0.957143  "
            ],
            "text/html": [
              "\n",
              "  <div id=\"df-4f707bad-9faf-4522-bb37-c06ddb5b1b82\">\n",
              "    <div class=\"colab-df-container\">\n",
              "      <div>\n",
              "<style scoped>\n",
              "    .dataframe tbody tr th:only-of-type {\n",
              "        vertical-align: middle;\n",
              "    }\n",
              "\n",
              "    .dataframe tbody tr th {\n",
              "        vertical-align: top;\n",
              "    }\n",
              "\n",
              "    .dataframe thead th {\n",
              "        text-align: right;\n",
              "    }\n",
              "</style>\n",
              "<table border=\"1\" class=\"dataframe\">\n",
              "  <thead>\n",
              "    <tr style=\"text-align: right;\">\n",
              "      <th></th>\n",
              "      <th>param_classifier</th>\n",
              "      <th>param_dim_reduction</th>\n",
              "      <th>param_vect__min_df</th>\n",
              "      <th>mean_test_score</th>\n",
              "    </tr>\n",
              "  </thead>\n",
              "  <tbody>\n",
              "    <tr>\n",
              "      <th>5</th>\n",
              "      <td>LogisticRegression(C=100, random_state=42)</td>\n",
              "      <td>TruncatedSVD(n_components=80, random_state=42)</td>\n",
              "      <td>5</td>\n",
              "      <td>0.962302</td>\n",
              "    </tr>\n",
              "    <tr>\n",
              "      <th>9</th>\n",
              "      <td>LogisticRegression(C=10, penalty='l1', random_...</td>\n",
              "      <td>TruncatedSVD(n_components=80, random_state=42)</td>\n",
              "      <td>5</td>\n",
              "      <td>0.959524</td>\n",
              "    </tr>\n",
              "    <tr>\n",
              "      <th>4</th>\n",
              "      <td>LogisticRegression(C=100, random_state=42)</td>\n",
              "      <td>TruncatedSVD(n_components=80, random_state=42)</td>\n",
              "      <td>3</td>\n",
              "      <td>0.959127</td>\n",
              "    </tr>\n",
              "    <tr>\n",
              "      <th>8</th>\n",
              "      <td>LogisticRegression(C=10, penalty='l1', random_...</td>\n",
              "      <td>TruncatedSVD(n_components=80, random_state=42)</td>\n",
              "      <td>3</td>\n",
              "      <td>0.957937</td>\n",
              "    </tr>\n",
              "    <tr>\n",
              "      <th>3</th>\n",
              "      <td>SVC(C=100, random_state=42)</td>\n",
              "      <td>NMF(init='random', n_components=80, random_sta...</td>\n",
              "      <td>5</td>\n",
              "      <td>0.957143</td>\n",
              "    </tr>\n",
              "  </tbody>\n",
              "</table>\n",
              "</div>\n",
              "      <button class=\"colab-df-convert\" onclick=\"convertToInteractive('df-4f707bad-9faf-4522-bb37-c06ddb5b1b82')\"\n",
              "              title=\"Convert this dataframe to an interactive table.\"\n",
              "              style=\"display:none;\">\n",
              "        \n",
              "  <svg xmlns=\"http://www.w3.org/2000/svg\" height=\"24px\"viewBox=\"0 0 24 24\"\n",
              "       width=\"24px\">\n",
              "    <path d=\"M0 0h24v24H0V0z\" fill=\"none\"/>\n",
              "    <path d=\"M18.56 5.44l.94 2.06.94-2.06 2.06-.94-2.06-.94-.94-2.06-.94 2.06-2.06.94zm-11 1L8.5 8.5l.94-2.06 2.06-.94-2.06-.94L8.5 2.5l-.94 2.06-2.06.94zm10 10l.94 2.06.94-2.06 2.06-.94-2.06-.94-.94-2.06-.94 2.06-2.06.94z\"/><path d=\"M17.41 7.96l-1.37-1.37c-.4-.4-.92-.59-1.43-.59-.52 0-1.04.2-1.43.59L10.3 9.45l-7.72 7.72c-.78.78-.78 2.05 0 2.83L4 21.41c.39.39.9.59 1.41.59.51 0 1.02-.2 1.41-.59l7.78-7.78 2.81-2.81c.8-.78.8-2.07 0-2.86zM5.41 20L4 18.59l7.72-7.72 1.47 1.35L5.41 20z\"/>\n",
              "  </svg>\n",
              "      </button>\n",
              "      \n",
              "  <style>\n",
              "    .colab-df-container {\n",
              "      display:flex;\n",
              "      flex-wrap:wrap;\n",
              "      gap: 12px;\n",
              "    }\n",
              "\n",
              "    .colab-df-convert {\n",
              "      background-color: #E8F0FE;\n",
              "      border: none;\n",
              "      border-radius: 50%;\n",
              "      cursor: pointer;\n",
              "      display: none;\n",
              "      fill: #1967D2;\n",
              "      height: 32px;\n",
              "      padding: 0 0 0 0;\n",
              "      width: 32px;\n",
              "    }\n",
              "\n",
              "    .colab-df-convert:hover {\n",
              "      background-color: #E2EBFA;\n",
              "      box-shadow: 0px 1px 2px rgba(60, 64, 67, 0.3), 0px 1px 3px 1px rgba(60, 64, 67, 0.15);\n",
              "      fill: #174EA6;\n",
              "    }\n",
              "\n",
              "    [theme=dark] .colab-df-convert {\n",
              "      background-color: #3B4455;\n",
              "      fill: #D2E3FC;\n",
              "    }\n",
              "\n",
              "    [theme=dark] .colab-df-convert:hover {\n",
              "      background-color: #434B5C;\n",
              "      box-shadow: 0px 1px 3px 1px rgba(0, 0, 0, 0.15);\n",
              "      filter: drop-shadow(0px 1px 2px rgba(0, 0, 0, 0.3));\n",
              "      fill: #FFFFFF;\n",
              "    }\n",
              "  </style>\n",
              "\n",
              "      <script>\n",
              "        const buttonEl =\n",
              "          document.querySelector('#df-4f707bad-9faf-4522-bb37-c06ddb5b1b82 button.colab-df-convert');\n",
              "        buttonEl.style.display =\n",
              "          google.colab.kernel.accessAllowed ? 'block' : 'none';\n",
              "\n",
              "        async function convertToInteractive(key) {\n",
              "          const element = document.querySelector('#df-4f707bad-9faf-4522-bb37-c06ddb5b1b82');\n",
              "          const dataTable =\n",
              "            await google.colab.kernel.invokeFunction('convertToInteractive',\n",
              "                                                     [key], {});\n",
              "          if (!dataTable) return;\n",
              "\n",
              "          const docLinkHtml = 'Like what you see? Visit the ' +\n",
              "            '<a target=\"_blank\" href=https://colab.research.google.com/notebooks/data_table.ipynb>data table notebook</a>'\n",
              "            + ' to learn more about interactive tables.';\n",
              "          element.innerHTML = '';\n",
              "          dataTable['output_type'] = 'display_data';\n",
              "          await google.colab.output.renderOutput(dataTable, element);\n",
              "          const docLink = document.createElement('div');\n",
              "          docLink.innerHTML = docLinkHtml;\n",
              "          element.appendChild(docLink);\n",
              "        }\n",
              "      </script>\n",
              "    </div>\n",
              "  </div>\n",
              "  "
            ]
          },
          "metadata": {},
          "execution_count": 46
        }
      ],
      "source": [
        "#Concatenate : The final result with data with cleaning\n",
        "print('====================    Final 5 best combinations for k=80 with Lemmatization    ====================\\n')\n",
        "result_w_cleaning_best = pd.concat([result_clean,result_clean_80])\n",
        "\n",
        "result_w_cleaning_best[[\n",
        "                        \"param_classifier\", \n",
        "                        \"param_dim_reduction\", \n",
        "                        \"param_vect__min_df\", \n",
        "                        \"mean_test_score\"]\n",
        "                   ].sort_values(by=['mean_test_score'], ascending=False).head()"
      ]
    },
    {
      "cell_type": "markdown",
      "source": [],
      "metadata": {
        "id": "YIKPVEKo-CIp"
      }
    },
    {
      "cell_type": "markdown",
      "metadata": {
        "id": "rh6QPDBRCU7y"
      },
      "source": [
        "## Stemming with cleaning data"
      ]
    },
    {
      "cell_type": "code",
      "execution_count": null,
      "metadata": {
        "id": "xf1tAMcpaBSB"
      },
      "outputs": [],
      "source": [
        "def clean(text):\n",
        "  text = text.lower()\n",
        "  text = re.sub(r'\\d+', '', text)\n",
        "  text = re.sub(r'^https?:\\/\\/.*[\\r\\n]*', '', text, flags=re.MULTILINE)\n",
        "  texter = re.sub(r\"<br />\", \" \", text)\n",
        "  texter = re.sub(r\"&quot;\", \"\\\"\",texter)\n",
        "  texter = re.sub('&#39;', \"\\\"\", texter)\n",
        "  texter = re.sub('\\n', \" \", texter)\n",
        "  texter = re.sub(' u ',\" you \", texter)\n",
        "  texter = re.sub('`',\"\", texter)\n",
        "  texter = re.sub(' +', ' ', texter)\n",
        "  texter = re.sub(r\"(!)\\1+\", r\"!\", texter)\n",
        "  texter = re.sub(r\"(\\?)\\1+\", r\"?\", texter)\n",
        "  texter = re.sub('&amp;', 'and', texter)\n",
        "  texter = re.sub('\\r', ' ',texter)\n",
        "  clean = re.compile('<.*?>')\n",
        "  texter = texter.encode('ascii', 'ignore').decode('ascii')\n",
        "  texter = re.sub(clean, '', texter)\n",
        "  if texter == \"\":\n",
        "    texter = \"\"\n",
        "  return texter\n",
        "\n",
        "def stemming(text):\n",
        "  text_stemmed = []\n",
        "  for t in text:\n",
        "    tokens = word_tokenize(t)\n",
        "    words = [porter.stem(word) for word in tokens]\n",
        "    sentence = ' '.join(words)\n",
        "    text_stemmed.append(sentence)\n",
        "  return text_stemmed\n"
      ]
    },
    {
      "cell_type": "code",
      "execution_count": null,
      "metadata": {
        "id": "qyWaxOV8aLcE",
        "colab": {
          "base_uri": "https://localhost:8080/"
        },
        "outputId": "d1449db0-2ded-42a9-caeb-9e3c914b8198"
      },
      "outputs": [
        {
          "output_type": "stream",
          "name": "stderr",
          "text": [
            "[nltk_data] Downloading package averaged_perceptron_tagger to\n",
            "[nltk_data]     /root/nltk_data...\n",
            "[nltk_data]   Package averaged_perceptron_tagger is already up-to-\n",
            "[nltk_data]       date!\n",
            "[nltk_data] Downloading package wordnet to /root/nltk_data...\n",
            "[nltk_data]   Package wordnet is already up-to-date!\n",
            "[nltk_data] Downloading package omw-1.4 to /root/nltk_data...\n",
            "[nltk_data]   Package omw-1.4 is already up-to-date!\n",
            "[nltk_data] Downloading package punkt to /root/nltk_data...\n",
            "[nltk_data]   Package punkt is already up-to-date!\n"
          ]
        }
      ],
      "source": [
        "# With stemming with clean\n",
        "\n",
        "from sklearn.feature_extraction.text import CountVectorizer\n",
        "import nltk\n",
        "from nltk import pos_tag\n",
        "from pickle import dump\n",
        "from nltk.stem import PorterStemmer\n",
        "porter = PorterStemmer()\n",
        "\n",
        "nltk.download('averaged_perceptron_tagger')\n",
        "nltk.download('wordnet')\n",
        "nltk.download('omw-1.4')\n",
        "nltk.download('punkt')\n",
        "from nltk.tokenize import word_tokenize\n",
        "\n",
        "train_raw, test_raw = train_test_split(data[[\"full_text\", \"root_label\"]], test_size = 0.2)\n",
        "train_cleaned = train_raw.applymap(clean)\n",
        "test_cleaned = test_raw.applymap(clean)\n",
        "train_cleaned['full_text'] = stemming(train_raw['full_text'])\n",
        "test_cleaned['full_text'] = stemming(test_raw['full_text'])"
      ]
    },
    {
      "cell_type": "code",
      "execution_count": null,
      "metadata": {
        "id": "aatf8NQybcWw"
      },
      "outputs": [],
      "source": [
        "# Construct labels\n",
        "mapping = {'sports': 1, 'climate': 0}\n",
        "train_stem = train_raw\n",
        "train_stem = train_stem.replace({'root_label': mapping})\n",
        "train_stem_label = train_stem['root_label'].to_numpy()\n",
        "\n",
        "test_stem = test_raw\n",
        "test_stem= test_stem.replace({'root_label': mapping})\n",
        "test_stem_label = test_stem['root_label'].to_numpy()"
      ]
    },
    {
      "cell_type": "code",
      "execution_count": null,
      "metadata": {
        "id": "OZb6OZUXCBkw"
      },
      "outputs": [],
      "source": [
        "def gridsearch_result(train, train_label, param_grid):\n",
        "  grid_stem = GridSearchCV(pipe, \n",
        "                           cv=5, \n",
        "                           n_jobs = -1, \n",
        "                           param_grid = param_grid,\n",
        "                           scoring = 'accuracy')\n",
        "  grid_stem.fit(train['full_text'], train_label)\n",
        "  result_df = pd.DataFrame(grid_stem.cv_results_)\n",
        "  return grid_stem, result_df\n",
        "\n",
        "def display_gridsearch_df(df):\n",
        "  return df[[\"param_classifier\", \n",
        "      \"param_dim_reduction\", \n",
        "      \"param_vect__min_df\", \n",
        "      \"mean_test_score\"]\n",
        "      ].sort_values(by=['mean_test_score'], ascending=False).head()"
      ]
    },
    {
      "cell_type": "code",
      "execution_count": null,
      "metadata": {
        "id": "FggeBk8LCBqx"
      },
      "outputs": [],
      "source": [
        "#param grid reload\n",
        "#for k = 5, 30\n",
        "param_grid_stemming = {\n",
        "    \"vect__min_df\": [3, 5],\n",
        "    \"dim_reduction\": [TruncatedSVD(n_components=5,random_state=42), \n",
        "                      TruncatedSVD(n_components=30,random_state=42),\n",
        "                      #TruncatedSVD(n_components=500,random_state=42),\n",
        "                      NMF(n_components=5,init='random', random_state=42),\n",
        "                      NMF(n_components=50,init='random', random_state=42)],\n",
        "                      #NMF(n_components=500,init='random', random_state=42),\n",
        "    \"classifier\": [SVC(C=svm_cv_grid.best_params_['C'],random_state=42), \n",
        "                   LogisticRegression(penalty='l2',C=lr_L2_grid.best_params_['C'],random_state=42),\n",
        "                   LogisticRegression(penalty='l1',C=lr_L1_grid.best_params_['C'],random_state=42,solver = 'liblinear'), \n",
        "                   GaussianNB()]\n",
        "}\n",
        "\n",
        "#with k= 500\n",
        "param_grid_500_stemming = {\n",
        "    \"vect__min_df\": [3, 5],\n",
        "    \"dim_reduction\": [TruncatedSVD(n_components=80,random_state=42),\n",
        "                      NMF(n_components=80,init='random', random_state=42)],\n",
        "    \"classifier\": [SVC(C=svm_cv_grid.best_params_['C'],random_state=42), \n",
        "                   LogisticRegression(penalty='l2',C=lr_L2_grid.best_params_['C'],random_state=42),\n",
        "                   LogisticRegression(penalty='l1',C=lr_L1_grid.best_params_['C'],random_state=42,solver = 'liblinear'), \n",
        "                   GaussianNB()]\n",
        "}"
      ]
    },
    {
      "cell_type": "markdown",
      "metadata": {
        "id": "CEVNFOtYEKSt"
      },
      "source": [
        "## With Cleaning (k=5, 30)"
      ]
    },
    {
      "cell_type": "code",
      "execution_count": null,
      "metadata": {
        "id": "Jh8uFE1sCBt3",
        "colab": {
          "base_uri": "https://localhost:8080/",
          "height": 695
        },
        "outputId": "f3e7d737-b5e3-4409-f35e-c94ad3749b5f"
      },
      "outputs": [
        {
          "output_type": "stream",
          "name": "stdout",
          "text": [
            "________________________________________________________________________________\n",
            "[Memory] Calling sklearn.pipeline._fit_transform_one...\n",
            "_fit_transform_one(CountVectorizer(min_df=5, stop_words='english'), 45      'skip to comment . american still don ’ t enjo...\n",
            "2044    'cite strong wind and persist dri condit , the...\n",
            "2529    'new york , nov. 03 , 2022 ( globe newswir ) -...\n",
            "562     'bi pawan atri · 4 min read legendari pakistan...\n",
            "323     'the gopher men 's hockey team came up with an...\n",
            "                              ...                        \n",
            "1053    ' ‘ our softwar product gener scholarship reve...\n",
            "2021    'credit : unsplash/cc0 public domain as wildfi...\n",
            "2120    'murfreesboro , tenn. , nov. 18 , 2022 /prnews...\n",
            "374     'cricket doubl down on white-label phone artic...\n",
            "2658    'thi morn at around 2:30am a 6.4-magnitud eart...\n",
            "Name: full_text, Length: 2520, dtype: object, \n",
            "array([1, ..., 0]), None, message_clsname='Pipeline', message=None)\n",
            "________________________________________________fit_transform_one - 0.8s, 0.0min\n",
            "________________________________________________________________________________\n",
            "[Memory] Calling sklearn.pipeline._fit_transform_one...\n",
            "_fit_transform_one(TfidfTransformer(), <2520x9105 sparse matrix of type '<class 'numpy.int64'>'\n",
            "\twith 418066 stored elements in Compressed Sparse Row format>, \n",
            "array([1, ..., 0]), None, message_clsname='Pipeline', message=None)\n",
            "________________________________________________fit_transform_one - 0.1s, 0.0min\n",
            "________________________________________________________________________________\n",
            "[Memory] Calling sklearn.pipeline._fit_transform_one...\n",
            "_fit_transform_one(NMF(init='random', n_components=50, random_state=42), <2520x9105 sparse matrix of type '<class 'numpy.float64'>'\n",
            "\twith 418066 stored elements in Compressed Sparse Row format>, \n",
            "array([1, ..., 0]), None, message_clsname='Pipeline', message=None)\n",
            "________________________________________________fit_transform_one - 8.9s, 0.1min\n"
          ]
        },
        {
          "output_type": "stream",
          "name": "stderr",
          "text": [
            "/usr/local/lib/python3.8/dist-packages/sklearn/decomposition/_nmf.py:1637: ConvergenceWarning: Maximum number of iterations 200 reached. Increase it to improve convergence.\n",
            "  warnings.warn(\n"
          ]
        },
        {
          "output_type": "execute_result",
          "data": {
            "text/plain": [
              "                                     param_classifier  \\\n",
              "7                         SVC(C=100, random_state=42)   \n",
              "2                         SVC(C=100, random_state=42)   \n",
              "3                         SVC(C=100, random_state=42)   \n",
              "6                         SVC(C=100, random_state=42)   \n",
              "23  LogisticRegression(C=10, penalty='l1', random_...   \n",
              "\n",
              "                                  param_dim_reduction param_vect__min_df  \\\n",
              "7   NMF(init='random', n_components=50, random_sta...                  5   \n",
              "2      TruncatedSVD(n_components=30, random_state=42)                  3   \n",
              "3      TruncatedSVD(n_components=30, random_state=42)                  5   \n",
              "6   NMF(init='random', n_components=50, random_sta...                  3   \n",
              "23  NMF(init='random', n_components=50, random_sta...                  5   \n",
              "\n",
              "    mean_test_score  \n",
              "7          0.961905  \n",
              "2          0.955952  \n",
              "3          0.955952  \n",
              "6          0.955952  \n",
              "23         0.954762  "
            ],
            "text/html": [
              "\n",
              "  <div id=\"df-ed46b765-96cf-4f7a-8b62-9015e435e51d\">\n",
              "    <div class=\"colab-df-container\">\n",
              "      <div>\n",
              "<style scoped>\n",
              "    .dataframe tbody tr th:only-of-type {\n",
              "        vertical-align: middle;\n",
              "    }\n",
              "\n",
              "    .dataframe tbody tr th {\n",
              "        vertical-align: top;\n",
              "    }\n",
              "\n",
              "    .dataframe thead th {\n",
              "        text-align: right;\n",
              "    }\n",
              "</style>\n",
              "<table border=\"1\" class=\"dataframe\">\n",
              "  <thead>\n",
              "    <tr style=\"text-align: right;\">\n",
              "      <th></th>\n",
              "      <th>param_classifier</th>\n",
              "      <th>param_dim_reduction</th>\n",
              "      <th>param_vect__min_df</th>\n",
              "      <th>mean_test_score</th>\n",
              "    </tr>\n",
              "  </thead>\n",
              "  <tbody>\n",
              "    <tr>\n",
              "      <th>7</th>\n",
              "      <td>SVC(C=100, random_state=42)</td>\n",
              "      <td>NMF(init='random', n_components=50, random_sta...</td>\n",
              "      <td>5</td>\n",
              "      <td>0.961905</td>\n",
              "    </tr>\n",
              "    <tr>\n",
              "      <th>2</th>\n",
              "      <td>SVC(C=100, random_state=42)</td>\n",
              "      <td>TruncatedSVD(n_components=30, random_state=42)</td>\n",
              "      <td>3</td>\n",
              "      <td>0.955952</td>\n",
              "    </tr>\n",
              "    <tr>\n",
              "      <th>3</th>\n",
              "      <td>SVC(C=100, random_state=42)</td>\n",
              "      <td>TruncatedSVD(n_components=30, random_state=42)</td>\n",
              "      <td>5</td>\n",
              "      <td>0.955952</td>\n",
              "    </tr>\n",
              "    <tr>\n",
              "      <th>6</th>\n",
              "      <td>SVC(C=100, random_state=42)</td>\n",
              "      <td>NMF(init='random', n_components=50, random_sta...</td>\n",
              "      <td>3</td>\n",
              "      <td>0.955952</td>\n",
              "    </tr>\n",
              "    <tr>\n",
              "      <th>23</th>\n",
              "      <td>LogisticRegression(C=10, penalty='l1', random_...</td>\n",
              "      <td>NMF(init='random', n_components=50, random_sta...</td>\n",
              "      <td>5</td>\n",
              "      <td>0.954762</td>\n",
              "    </tr>\n",
              "  </tbody>\n",
              "</table>\n",
              "</div>\n",
              "      <button class=\"colab-df-convert\" onclick=\"convertToInteractive('df-ed46b765-96cf-4f7a-8b62-9015e435e51d')\"\n",
              "              title=\"Convert this dataframe to an interactive table.\"\n",
              "              style=\"display:none;\">\n",
              "        \n",
              "  <svg xmlns=\"http://www.w3.org/2000/svg\" height=\"24px\"viewBox=\"0 0 24 24\"\n",
              "       width=\"24px\">\n",
              "    <path d=\"M0 0h24v24H0V0z\" fill=\"none\"/>\n",
              "    <path d=\"M18.56 5.44l.94 2.06.94-2.06 2.06-.94-2.06-.94-.94-2.06-.94 2.06-2.06.94zm-11 1L8.5 8.5l.94-2.06 2.06-.94-2.06-.94L8.5 2.5l-.94 2.06-2.06.94zm10 10l.94 2.06.94-2.06 2.06-.94-2.06-.94-.94-2.06-.94 2.06-2.06.94z\"/><path d=\"M17.41 7.96l-1.37-1.37c-.4-.4-.92-.59-1.43-.59-.52 0-1.04.2-1.43.59L10.3 9.45l-7.72 7.72c-.78.78-.78 2.05 0 2.83L4 21.41c.39.39.9.59 1.41.59.51 0 1.02-.2 1.41-.59l7.78-7.78 2.81-2.81c.8-.78.8-2.07 0-2.86zM5.41 20L4 18.59l7.72-7.72 1.47 1.35L5.41 20z\"/>\n",
              "  </svg>\n",
              "      </button>\n",
              "      \n",
              "  <style>\n",
              "    .colab-df-container {\n",
              "      display:flex;\n",
              "      flex-wrap:wrap;\n",
              "      gap: 12px;\n",
              "    }\n",
              "\n",
              "    .colab-df-convert {\n",
              "      background-color: #E8F0FE;\n",
              "      border: none;\n",
              "      border-radius: 50%;\n",
              "      cursor: pointer;\n",
              "      display: none;\n",
              "      fill: #1967D2;\n",
              "      height: 32px;\n",
              "      padding: 0 0 0 0;\n",
              "      width: 32px;\n",
              "    }\n",
              "\n",
              "    .colab-df-convert:hover {\n",
              "      background-color: #E2EBFA;\n",
              "      box-shadow: 0px 1px 2px rgba(60, 64, 67, 0.3), 0px 1px 3px 1px rgba(60, 64, 67, 0.15);\n",
              "      fill: #174EA6;\n",
              "    }\n",
              "\n",
              "    [theme=dark] .colab-df-convert {\n",
              "      background-color: #3B4455;\n",
              "      fill: #D2E3FC;\n",
              "    }\n",
              "\n",
              "    [theme=dark] .colab-df-convert:hover {\n",
              "      background-color: #434B5C;\n",
              "      box-shadow: 0px 1px 3px 1px rgba(0, 0, 0, 0.15);\n",
              "      filter: drop-shadow(0px 1px 2px rgba(0, 0, 0, 0.3));\n",
              "      fill: #FFFFFF;\n",
              "    }\n",
              "  </style>\n",
              "\n",
              "      <script>\n",
              "        const buttonEl =\n",
              "          document.querySelector('#df-ed46b765-96cf-4f7a-8b62-9015e435e51d button.colab-df-convert');\n",
              "        buttonEl.style.display =\n",
              "          google.colab.kernel.accessAllowed ? 'block' : 'none';\n",
              "\n",
              "        async function convertToInteractive(key) {\n",
              "          const element = document.querySelector('#df-ed46b765-96cf-4f7a-8b62-9015e435e51d');\n",
              "          const dataTable =\n",
              "            await google.colab.kernel.invokeFunction('convertToInteractive',\n",
              "                                                     [key], {});\n",
              "          if (!dataTable) return;\n",
              "\n",
              "          const docLinkHtml = 'Like what you see? Visit the ' +\n",
              "            '<a target=\"_blank\" href=https://colab.research.google.com/notebooks/data_table.ipynb>data table notebook</a>'\n",
              "            + ' to learn more about interactive tables.';\n",
              "          element.innerHTML = '';\n",
              "          dataTable['output_type'] = 'display_data';\n",
              "          await google.colab.output.renderOutput(dataTable, element);\n",
              "          const docLink = document.createElement('div');\n",
              "          docLink.innerHTML = docLinkHtml;\n",
              "          element.appendChild(docLink);\n",
              "        }\n",
              "      </script>\n",
              "    </div>\n",
              "  </div>\n",
              "  "
            ]
          },
          "metadata": {},
          "execution_count": 53
        }
      ],
      "source": [
        "# Data with cleaning for k = 5, 30\n",
        "grid_clean_stem, result_clean_stem = gridsearch_result(train_cleaned, train_stem_label, param_grid_stemming)\n",
        "display_gridsearch_df(result_clean_stem)\n"
      ]
    },
    {
      "cell_type": "markdown",
      "metadata": {
        "id": "bjIU5bk6EkzP"
      },
      "source": [
        "## With Cleaning (k=80)"
      ]
    },
    {
      "cell_type": "code",
      "execution_count": null,
      "metadata": {
        "id": "ITUhoHibEpri",
        "colab": {
          "base_uri": "https://localhost:8080/",
          "height": 662
        },
        "outputId": "6b3868c4-eff6-4712-e017-e768eaa48718"
      },
      "outputs": [
        {
          "output_type": "stream",
          "name": "stdout",
          "text": [
            "________________________________________________________________________________\n",
            "[Memory] Calling sklearn.pipeline._fit_transform_one...\n",
            "_fit_transform_one(CountVectorizer(min_df=3, stop_words='english'), 45      'skip to comment . american still don ’ t enjo...\n",
            "2044    'cite strong wind and persist dri condit , the...\n",
            "2529    'new york , nov. 03 , 2022 ( globe newswir ) -...\n",
            "562     'bi pawan atri · 4 min read legendari pakistan...\n",
            "323     'the gopher men 's hockey team came up with an...\n",
            "                              ...                        \n",
            "1053    ' ‘ our softwar product gener scholarship reve...\n",
            "2021    'credit : unsplash/cc0 public domain as wildfi...\n",
            "2120    'murfreesboro , tenn. , nov. 18 , 2022 /prnews...\n",
            "374     'cricket doubl down on white-label phone artic...\n",
            "2658    'thi morn at around 2:30am a 6.4-magnitud eart...\n",
            "Name: full_text, Length: 2520, dtype: object, \n",
            "array([1, ..., 0]), None, message_clsname='Pipeline', message=None)\n",
            "________________________________________________fit_transform_one - 1.5s, 0.0min\n",
            "________________________________________________________________________________\n",
            "[Memory] Calling sklearn.pipeline._fit_transform_one...\n",
            "_fit_transform_one(TfidfTransformer(), <2520x12814 sparse matrix of type '<class 'numpy.int64'>'\n",
            "\twith 430618 stored elements in Compressed Sparse Row format>, \n",
            "array([1, ..., 0]), None, message_clsname='Pipeline', message=None)\n",
            "________________________________________________fit_transform_one - 0.1s, 0.0min\n",
            "________________________________________________________________________________\n",
            "[Memory] Calling sklearn.pipeline._fit_transform_one...\n",
            "_fit_transform_one(TruncatedSVD(n_components=80, random_state=42), <2520x12814 sparse matrix of type '<class 'numpy.float64'>'\n",
            "\twith 430618 stored elements in Compressed Sparse Row format>, \n",
            "array([1, ..., 0]), None, message_clsname='Pipeline', message=None)\n",
            "________________________________________________fit_transform_one - 0.6s, 0.0min\n"
          ]
        },
        {
          "output_type": "execute_result",
          "data": {
            "text/plain": [
              "                                    param_classifier  \\\n",
              "8  LogisticRegression(C=10, penalty='l1', random_...   \n",
              "1                        SVC(C=100, random_state=42)   \n",
              "0                        SVC(C=100, random_state=42)   \n",
              "5         LogisticRegression(C=100, random_state=42)   \n",
              "3                        SVC(C=100, random_state=42)   \n",
              "\n",
              "                                 param_dim_reduction param_vect__min_df  \\\n",
              "8     TruncatedSVD(n_components=80, random_state=42)                  3   \n",
              "1     TruncatedSVD(n_components=80, random_state=42)                  5   \n",
              "0     TruncatedSVD(n_components=80, random_state=42)                  3   \n",
              "5     TruncatedSVD(n_components=80, random_state=42)                  5   \n",
              "3  NMF(init='random', n_components=80, random_sta...                  5   \n",
              "\n",
              "   mean_test_score  \n",
              "8         0.960317  \n",
              "1         0.959524  \n",
              "0         0.959127  \n",
              "5         0.959127  \n",
              "3         0.958730  "
            ],
            "text/html": [
              "\n",
              "  <div id=\"df-fcaeceec-89b2-428a-ae63-5243362fa043\">\n",
              "    <div class=\"colab-df-container\">\n",
              "      <div>\n",
              "<style scoped>\n",
              "    .dataframe tbody tr th:only-of-type {\n",
              "        vertical-align: middle;\n",
              "    }\n",
              "\n",
              "    .dataframe tbody tr th {\n",
              "        vertical-align: top;\n",
              "    }\n",
              "\n",
              "    .dataframe thead th {\n",
              "        text-align: right;\n",
              "    }\n",
              "</style>\n",
              "<table border=\"1\" class=\"dataframe\">\n",
              "  <thead>\n",
              "    <tr style=\"text-align: right;\">\n",
              "      <th></th>\n",
              "      <th>param_classifier</th>\n",
              "      <th>param_dim_reduction</th>\n",
              "      <th>param_vect__min_df</th>\n",
              "      <th>mean_test_score</th>\n",
              "    </tr>\n",
              "  </thead>\n",
              "  <tbody>\n",
              "    <tr>\n",
              "      <th>8</th>\n",
              "      <td>LogisticRegression(C=10, penalty='l1', random_...</td>\n",
              "      <td>TruncatedSVD(n_components=80, random_state=42)</td>\n",
              "      <td>3</td>\n",
              "      <td>0.960317</td>\n",
              "    </tr>\n",
              "    <tr>\n",
              "      <th>1</th>\n",
              "      <td>SVC(C=100, random_state=42)</td>\n",
              "      <td>TruncatedSVD(n_components=80, random_state=42)</td>\n",
              "      <td>5</td>\n",
              "      <td>0.959524</td>\n",
              "    </tr>\n",
              "    <tr>\n",
              "      <th>0</th>\n",
              "      <td>SVC(C=100, random_state=42)</td>\n",
              "      <td>TruncatedSVD(n_components=80, random_state=42)</td>\n",
              "      <td>3</td>\n",
              "      <td>0.959127</td>\n",
              "    </tr>\n",
              "    <tr>\n",
              "      <th>5</th>\n",
              "      <td>LogisticRegression(C=100, random_state=42)</td>\n",
              "      <td>TruncatedSVD(n_components=80, random_state=42)</td>\n",
              "      <td>5</td>\n",
              "      <td>0.959127</td>\n",
              "    </tr>\n",
              "    <tr>\n",
              "      <th>3</th>\n",
              "      <td>SVC(C=100, random_state=42)</td>\n",
              "      <td>NMF(init='random', n_components=80, random_sta...</td>\n",
              "      <td>5</td>\n",
              "      <td>0.958730</td>\n",
              "    </tr>\n",
              "  </tbody>\n",
              "</table>\n",
              "</div>\n",
              "      <button class=\"colab-df-convert\" onclick=\"convertToInteractive('df-fcaeceec-89b2-428a-ae63-5243362fa043')\"\n",
              "              title=\"Convert this dataframe to an interactive table.\"\n",
              "              style=\"display:none;\">\n",
              "        \n",
              "  <svg xmlns=\"http://www.w3.org/2000/svg\" height=\"24px\"viewBox=\"0 0 24 24\"\n",
              "       width=\"24px\">\n",
              "    <path d=\"M0 0h24v24H0V0z\" fill=\"none\"/>\n",
              "    <path d=\"M18.56 5.44l.94 2.06.94-2.06 2.06-.94-2.06-.94-.94-2.06-.94 2.06-2.06.94zm-11 1L8.5 8.5l.94-2.06 2.06-.94-2.06-.94L8.5 2.5l-.94 2.06-2.06.94zm10 10l.94 2.06.94-2.06 2.06-.94-2.06-.94-.94-2.06-.94 2.06-2.06.94z\"/><path d=\"M17.41 7.96l-1.37-1.37c-.4-.4-.92-.59-1.43-.59-.52 0-1.04.2-1.43.59L10.3 9.45l-7.72 7.72c-.78.78-.78 2.05 0 2.83L4 21.41c.39.39.9.59 1.41.59.51 0 1.02-.2 1.41-.59l7.78-7.78 2.81-2.81c.8-.78.8-2.07 0-2.86zM5.41 20L4 18.59l7.72-7.72 1.47 1.35L5.41 20z\"/>\n",
              "  </svg>\n",
              "      </button>\n",
              "      \n",
              "  <style>\n",
              "    .colab-df-container {\n",
              "      display:flex;\n",
              "      flex-wrap:wrap;\n",
              "      gap: 12px;\n",
              "    }\n",
              "\n",
              "    .colab-df-convert {\n",
              "      background-color: #E8F0FE;\n",
              "      border: none;\n",
              "      border-radius: 50%;\n",
              "      cursor: pointer;\n",
              "      display: none;\n",
              "      fill: #1967D2;\n",
              "      height: 32px;\n",
              "      padding: 0 0 0 0;\n",
              "      width: 32px;\n",
              "    }\n",
              "\n",
              "    .colab-df-convert:hover {\n",
              "      background-color: #E2EBFA;\n",
              "      box-shadow: 0px 1px 2px rgba(60, 64, 67, 0.3), 0px 1px 3px 1px rgba(60, 64, 67, 0.15);\n",
              "      fill: #174EA6;\n",
              "    }\n",
              "\n",
              "    [theme=dark] .colab-df-convert {\n",
              "      background-color: #3B4455;\n",
              "      fill: #D2E3FC;\n",
              "    }\n",
              "\n",
              "    [theme=dark] .colab-df-convert:hover {\n",
              "      background-color: #434B5C;\n",
              "      box-shadow: 0px 1px 3px 1px rgba(0, 0, 0, 0.15);\n",
              "      filter: drop-shadow(0px 1px 2px rgba(0, 0, 0, 0.3));\n",
              "      fill: #FFFFFF;\n",
              "    }\n",
              "  </style>\n",
              "\n",
              "      <script>\n",
              "        const buttonEl =\n",
              "          document.querySelector('#df-fcaeceec-89b2-428a-ae63-5243362fa043 button.colab-df-convert');\n",
              "        buttonEl.style.display =\n",
              "          google.colab.kernel.accessAllowed ? 'block' : 'none';\n",
              "\n",
              "        async function convertToInteractive(key) {\n",
              "          const element = document.querySelector('#df-fcaeceec-89b2-428a-ae63-5243362fa043');\n",
              "          const dataTable =\n",
              "            await google.colab.kernel.invokeFunction('convertToInteractive',\n",
              "                                                     [key], {});\n",
              "          if (!dataTable) return;\n",
              "\n",
              "          const docLinkHtml = 'Like what you see? Visit the ' +\n",
              "            '<a target=\"_blank\" href=https://colab.research.google.com/notebooks/data_table.ipynb>data table notebook</a>'\n",
              "            + ' to learn more about interactive tables.';\n",
              "          element.innerHTML = '';\n",
              "          dataTable['output_type'] = 'display_data';\n",
              "          await google.colab.output.renderOutput(dataTable, element);\n",
              "          const docLink = document.createElement('div');\n",
              "          docLink.innerHTML = docLinkHtml;\n",
              "          element.appendChild(docLink);\n",
              "        }\n",
              "      </script>\n",
              "    </div>\n",
              "  </div>\n",
              "  "
            ]
          },
          "metadata": {},
          "execution_count": 54
        }
      ],
      "source": [
        "# Data with cleaning for k = 500\n",
        "grid_clean_nothing_500, result_clean_nothing_500 = gridsearch_result(train_cleaned, train_stem_label, param_grid_500_stemming)\n",
        "display_gridsearch_df(result_clean_nothing_500)"
      ]
    },
    {
      "cell_type": "markdown",
      "metadata": {
        "id": "LfjZIWp7FP7c"
      },
      "source": [
        "## Concatenate final result with cleaning with stemming"
      ]
    },
    {
      "cell_type": "code",
      "execution_count": null,
      "metadata": {
        "id": "w2QKDAC7FPjO",
        "colab": {
          "base_uri": "https://localhost:8080/",
          "height": 397
        },
        "outputId": "f73341e9-8d5e-401a-edf8-9229815ad5ef"
      },
      "outputs": [
        {
          "output_type": "stream",
          "name": "stdout",
          "text": [
            "========================    Final 5 best combination with Stemming    ========================\n",
            "\n"
          ]
        },
        {
          "output_type": "error",
          "ename": "ValueError",
          "evalue": "ignored",
          "traceback": [
            "\u001b[0;31m---------------------------------------------------------------------------\u001b[0m",
            "\u001b[0;31mValueError\u001b[0m                                Traceback (most recent call last)",
            "\u001b[0;32m<ipython-input-55-4c2e96d374f9>\u001b[0m in \u001b[0;36m<module>\u001b[0;34m\u001b[0m\n\u001b[1;32m      2\u001b[0m \u001b[0mresult_clean_stem_best\u001b[0m \u001b[0;34m=\u001b[0m \u001b[0mpd\u001b[0m\u001b[0;34m.\u001b[0m\u001b[0mconcat\u001b[0m\u001b[0;34m(\u001b[0m\u001b[0;34m[\u001b[0m\u001b[0mresult_clean_stem\u001b[0m\u001b[0;34m,\u001b[0m\u001b[0mresult_clean_nothing_500\u001b[0m\u001b[0;34m]\u001b[0m\u001b[0;34m)\u001b[0m\u001b[0;34m\u001b[0m\u001b[0;34m\u001b[0m\u001b[0m\n\u001b[1;32m      3\u001b[0m \u001b[0mprint\u001b[0m\u001b[0;34m(\u001b[0m\u001b[0;34m'========================    Final 5 best combination with Stemming    ========================\\n'\u001b[0m\u001b[0;34m)\u001b[0m\u001b[0;34m\u001b[0m\u001b[0;34m\u001b[0m\u001b[0m\n\u001b[0;32m----> 4\u001b[0;31m \u001b[0mresult_clean_stem_best\u001b[0m\u001b[0;34m[\u001b[0m\u001b[0;34m'compression_module'\u001b[0m\u001b[0;34m]\u001b[0m \u001b[0;34m=\u001b[0m \u001b[0;34m[\u001b[0m\u001b[0;34m'Stemming'\u001b[0m\u001b[0;34m]\u001b[0m \u001b[0;34m*\u001b[0m \u001b[0;36m5\u001b[0m\u001b[0;34m\u001b[0m\u001b[0;34m\u001b[0m\u001b[0m\n\u001b[0m\u001b[1;32m      5\u001b[0m result_clean_stem_best[[\"compression_module\",\n\u001b[1;32m      6\u001b[0m                         \u001b[0;34m\"param_classifier\"\u001b[0m\u001b[0;34m,\u001b[0m\u001b[0;34m\u001b[0m\u001b[0;34m\u001b[0m\u001b[0m\n",
            "\u001b[0;32m/usr/local/lib/python3.8/dist-packages/pandas/core/frame.py\u001b[0m in \u001b[0;36m__setitem__\u001b[0;34m(self, key, value)\u001b[0m\n\u001b[1;32m   3610\u001b[0m         \u001b[0;32melse\u001b[0m\u001b[0;34m:\u001b[0m\u001b[0;34m\u001b[0m\u001b[0;34m\u001b[0m\u001b[0m\n\u001b[1;32m   3611\u001b[0m             \u001b[0;31m# set column\u001b[0m\u001b[0;34m\u001b[0m\u001b[0;34m\u001b[0m\u001b[0;34m\u001b[0m\u001b[0m\n\u001b[0;32m-> 3612\u001b[0;31m             \u001b[0mself\u001b[0m\u001b[0;34m.\u001b[0m\u001b[0m_set_item\u001b[0m\u001b[0;34m(\u001b[0m\u001b[0mkey\u001b[0m\u001b[0;34m,\u001b[0m \u001b[0mvalue\u001b[0m\u001b[0;34m)\u001b[0m\u001b[0;34m\u001b[0m\u001b[0;34m\u001b[0m\u001b[0m\n\u001b[0m\u001b[1;32m   3613\u001b[0m \u001b[0;34m\u001b[0m\u001b[0m\n\u001b[1;32m   3614\u001b[0m     \u001b[0;32mdef\u001b[0m \u001b[0m_setitem_slice\u001b[0m\u001b[0;34m(\u001b[0m\u001b[0mself\u001b[0m\u001b[0;34m,\u001b[0m \u001b[0mkey\u001b[0m\u001b[0;34m:\u001b[0m \u001b[0mslice\u001b[0m\u001b[0;34m,\u001b[0m \u001b[0mvalue\u001b[0m\u001b[0;34m)\u001b[0m\u001b[0;34m:\u001b[0m\u001b[0;34m\u001b[0m\u001b[0;34m\u001b[0m\u001b[0m\n",
            "\u001b[0;32m/usr/local/lib/python3.8/dist-packages/pandas/core/frame.py\u001b[0m in \u001b[0;36m_set_item\u001b[0;34m(self, key, value)\u001b[0m\n\u001b[1;32m   3782\u001b[0m         \u001b[0mensure\u001b[0m \u001b[0mhomogeneity\u001b[0m\u001b[0;34m.\u001b[0m\u001b[0;34m\u001b[0m\u001b[0;34m\u001b[0m\u001b[0m\n\u001b[1;32m   3783\u001b[0m         \"\"\"\n\u001b[0;32m-> 3784\u001b[0;31m         \u001b[0mvalue\u001b[0m \u001b[0;34m=\u001b[0m \u001b[0mself\u001b[0m\u001b[0;34m.\u001b[0m\u001b[0m_sanitize_column\u001b[0m\u001b[0;34m(\u001b[0m\u001b[0mvalue\u001b[0m\u001b[0;34m)\u001b[0m\u001b[0;34m\u001b[0m\u001b[0;34m\u001b[0m\u001b[0m\n\u001b[0m\u001b[1;32m   3785\u001b[0m \u001b[0;34m\u001b[0m\u001b[0m\n\u001b[1;32m   3786\u001b[0m         if (\n",
            "\u001b[0;32m/usr/local/lib/python3.8/dist-packages/pandas/core/frame.py\u001b[0m in \u001b[0;36m_sanitize_column\u001b[0;34m(self, value)\u001b[0m\n\u001b[1;32m   4507\u001b[0m \u001b[0;34m\u001b[0m\u001b[0m\n\u001b[1;32m   4508\u001b[0m         \u001b[0;32mif\u001b[0m \u001b[0mis_list_like\u001b[0m\u001b[0;34m(\u001b[0m\u001b[0mvalue\u001b[0m\u001b[0;34m)\u001b[0m\u001b[0;34m:\u001b[0m\u001b[0;34m\u001b[0m\u001b[0;34m\u001b[0m\u001b[0m\n\u001b[0;32m-> 4509\u001b[0;31m             \u001b[0mcom\u001b[0m\u001b[0;34m.\u001b[0m\u001b[0mrequire_length_match\u001b[0m\u001b[0;34m(\u001b[0m\u001b[0mvalue\u001b[0m\u001b[0;34m,\u001b[0m \u001b[0mself\u001b[0m\u001b[0;34m.\u001b[0m\u001b[0mindex\u001b[0m\u001b[0;34m)\u001b[0m\u001b[0;34m\u001b[0m\u001b[0;34m\u001b[0m\u001b[0m\n\u001b[0m\u001b[1;32m   4510\u001b[0m         \u001b[0;32mreturn\u001b[0m \u001b[0msanitize_array\u001b[0m\u001b[0;34m(\u001b[0m\u001b[0mvalue\u001b[0m\u001b[0;34m,\u001b[0m \u001b[0mself\u001b[0m\u001b[0;34m.\u001b[0m\u001b[0mindex\u001b[0m\u001b[0;34m,\u001b[0m \u001b[0mcopy\u001b[0m\u001b[0;34m=\u001b[0m\u001b[0;32mTrue\u001b[0m\u001b[0;34m,\u001b[0m \u001b[0mallow_2d\u001b[0m\u001b[0;34m=\u001b[0m\u001b[0;32mTrue\u001b[0m\u001b[0;34m)\u001b[0m\u001b[0;34m\u001b[0m\u001b[0;34m\u001b[0m\u001b[0m\n\u001b[1;32m   4511\u001b[0m \u001b[0;34m\u001b[0m\u001b[0m\n",
            "\u001b[0;32m/usr/local/lib/python3.8/dist-packages/pandas/core/common.py\u001b[0m in \u001b[0;36mrequire_length_match\u001b[0;34m(data, index)\u001b[0m\n\u001b[1;32m    529\u001b[0m     \"\"\"\n\u001b[1;32m    530\u001b[0m     \u001b[0;32mif\u001b[0m \u001b[0mlen\u001b[0m\u001b[0;34m(\u001b[0m\u001b[0mdata\u001b[0m\u001b[0;34m)\u001b[0m \u001b[0;34m!=\u001b[0m \u001b[0mlen\u001b[0m\u001b[0;34m(\u001b[0m\u001b[0mindex\u001b[0m\u001b[0;34m)\u001b[0m\u001b[0;34m:\u001b[0m\u001b[0;34m\u001b[0m\u001b[0;34m\u001b[0m\u001b[0m\n\u001b[0;32m--> 531\u001b[0;31m         raise ValueError(\n\u001b[0m\u001b[1;32m    532\u001b[0m             \u001b[0;34m\"Length of values \"\u001b[0m\u001b[0;34m\u001b[0m\u001b[0;34m\u001b[0m\u001b[0m\n\u001b[1;32m    533\u001b[0m             \u001b[0;34mf\"({len(data)}) \"\u001b[0m\u001b[0;34m\u001b[0m\u001b[0;34m\u001b[0m\u001b[0m\n",
            "\u001b[0;31mValueError\u001b[0m: Length of values (5) does not match length of index (48)"
          ]
        }
      ],
      "source": [
        "#Concatenate : The final result with data with cleaning\n",
        "result_clean_stem_best = pd.concat([result_clean_stem,result_clean_nothing_500])\n",
        "print('========================    Final 5 best combination with Stemming    ========================\\n')\n",
        "result_clean_stem_best[[\n",
        "                       \"param_classifier\", \n",
        "                        \"param_dim_reduction\", \n",
        "                        \"param_vect__min_df\", \n",
        "                        \"mean_test_score\"]\n",
        "                   ].sort_values(by=['mean_test_score'], ascending=False).head()"
      ]
    },
    {
      "cell_type": "markdown",
      "metadata": {
        "id": "Lu-SkT6eUYzp"
      },
      "source": [
        "#Question 9 - Multiclass Classification"
      ]
    },
    {
      "cell_type": "code",
      "execution_count": null,
      "metadata": {
        "id": "bB_3df-JUvfG"
      },
      "outputs": [],
      "source": [
        "import os\n",
        "import gensim\n",
        "from gensim.scripts.glove2word2vec import glove2word2vec \n",
        "from gensim.models import KeyedVectors\n",
        "from scipy import spatial\n",
        "\n",
        "# SVM for multi-class classification using one-vs-one\n",
        "from sklearn.multiclass import OneVsOneClassifier\n",
        "from sklearn.datasets import make_classification\n",
        "from sklearn.svm import SVC\n",
        "\n",
        "# logistic regression for multi-class classification using a one-vs-rest\n",
        "from sklearn.multiclass import OneVsRestClassifier\n",
        "from sklearn.datasets import make_classification\n",
        "from sklearn.linear_model import LogisticRegression"
      ]
    },
    {
      "cell_type": "code",
      "execution_count": null,
      "metadata": {
        "id": "2pLSG5_LUwTx"
      },
      "outputs": [],
      "source": [
        "#map_row_to_class = {0:\"chess\", 1:\"cricket\", 2:\"hockey\", 3:\"soccer\",4:\"football\", \n",
        "#5:\"%22forest%20fire%22\", 6:\"flood\", 7:\"earthquake\",8:\"drought\"}\n",
        "\n",
        "from sklearn.model_selection import train_test_split\n",
        "train, test = train_test_split(data[[\"full_text\",\"root_label\",\"leaf_label\"]], test_size=0.2)\n",
        "\n",
        "multi_label = {\"chess\":0, \"cricket\":1, \"hockey\":2, \"soccer\":3,\"football\":4, \"%22forest%20fire%22\":5, \"flood\":6, \"earthquake\":7,\"drought\":8}\n",
        "train['multi_label'] = train.leaf_label.map(multi_label)\n",
        "train_y = train['multi_label']\n",
        "test['multi_label'] = test.leaf_label.map(multi_label)\n",
        "test_y = test['multi_label']\n",
        "\n",
        "print(\"Original train_dataset:\\n\" + str(train[\"leaf_label\"][0:20]))\n",
        "print(\"\\nBinarized train_dataset:\\n\" + str(train_y[0:20]))\n",
        "print(\"\\nTest Set\\n\")\n",
        "print(\"Original test_dataset:\\n\" + str(test[\"leaf_label\"][0:20]))\n",
        "print(\"\\nBinarized test_dataset:\\n\" + str(test_y[0:20]))"
      ]
    },
    {
      "cell_type": "code",
      "execution_count": null,
      "metadata": {
        "id": "boV7i5OgBJ02"
      },
      "outputs": [],
      "source": [
        "vectorizer = CountVectorizer(min_df=3,stop_words='english')\n",
        "\n",
        "X_train_counts=vectorizer.fit_transform(train['full_text']) \n",
        "print('Shape of train lemmatized matrix: ', X_train_counts.shape) \n",
        "X_test_counts=vectorizer.transform(test[\"full_text\"]) \n",
        "print('Shape of test lemmatized matrix:  ', X_test_counts.shape) \n",
        "\n",
        "from sklearn.feature_extraction.text import TfidfTransformer\n",
        "tfidf_transformer = TfidfTransformer()\n",
        "X_train_tfidf = tfidf_transformer.fit_transform(X_train_counts)\n",
        "print('Shape of train TF-IDF matrix: ',X_train_tfidf.shape)\n",
        "X_test_tfidf = tfidf_transformer.transform(X_test_counts)\n",
        "print('Shape of test TF-IDF matrix:  ',X_test_tfidf.shape)\n",
        "\n",
        "\n",
        "from sklearn.decomposition import TruncatedSVD\n",
        "\n",
        "LSI = TruncatedSVD(n_components=50, random_state=42)\n",
        "X_train_LSI = LSI.fit_transform(X_train_tfidf)\n",
        "X_test_LSI = LSI.transform(X_test_tfidf)\n",
        "print('LSI train:')\n",
        "print(X_train_LSI.shape)\n",
        "print('LSI test:')\n",
        "print(X_test_LSI.shape)\n",
        "\n",
        "from sklearn.decomposition import NMF\n",
        "NMF = NMF(n_components=50, random_state=42)\n",
        "X_train_NMF = NMF.fit_transform(X_train_tfidf)\n",
        "X_test_NMF = NMF.transform(X_test_tfidf)\n",
        "print('NMF train:')\n",
        "print(X_train_NMF.shape)\n",
        "print('NMF test:')\n",
        "print(X_test_NMF.shape)"
      ]
    },
    {
      "cell_type": "code",
      "execution_count": null,
      "metadata": {
        "id": "iRQOhKjPBbn-"
      },
      "outputs": [],
      "source": [
        "from sklearn.metrics import confusion_matrix, ConfusionMatrixDisplay\n",
        "\n",
        "def classifier_metrics(y_test,y_pred ,name=\"\" ,average='binary'):\n",
        "    print(\"Accuracy score for %s: %f\" %(name,accuracy_score(y_test,y_pred)))\n",
        "    print(\"Recall score for %s: %f\" % (name,recall_score(y_test,y_pred,average='macro')))\n",
        "    print(\"Precision score for %s: %f\" % (name,precision_score(y_test,y_pred,average='macro')))\n",
        "    print(\"F-1 score for %s: %f\" % (name,f1_score(y_test,y_pred,average='macro')))\n",
        "    \n",
        "    cm = confusion_matrix(y_test, y_pred)\n",
        "    cm_display = ConfusionMatrixDisplay(confusion_matrix = cm)\n",
        "    cm_display.plot()\n",
        "    plt.title(\"Confusion Matrix for {}\".format(name))\n",
        "    plt.show()"
      ]
    },
    {
      "cell_type": "code",
      "execution_count": null,
      "metadata": {
        "id": "7osdV9sCBf7R"
      },
      "outputs": [],
      "source": [
        "from sklearn.naive_bayes import GaussianNB\n",
        "from sklearn.metrics import confusion_matrix\n",
        "from sklearn.metrics import accuracy_score\n",
        "from sklearn.metrics import recall_score \n",
        "from sklearn.metrics import precision_score \n",
        "from sklearn.metrics import roc_curve\n",
        "from sklearn.metrics import f1_score \n",
        "import itertools\n",
        "\n",
        "GNB = GaussianNB()\n",
        "GNB_pred = GNB.fit(X_train_LSI, train_y).predict(X_test_LSI) \n",
        "\n",
        "classifier_metrics(test_y, GNB_pred, name=\"GaussianNB\")"
      ]
    },
    {
      "cell_type": "code",
      "execution_count": null,
      "metadata": {
        "id": "rbcoLj7oBjaA"
      },
      "outputs": [],
      "source": [
        "# Multiclass SVM classification\n",
        "from sklearn.multiclass import OneVsOneClassifier, OneVsRestClassifier\n",
        "multiclass_svm_OvO = OneVsOneClassifier(SVC(random_state=42,kernel = 'linear'))\n",
        "multiclass_svm_OvR = OneVsRestClassifier(SVC(random_state=42, class_weight = 'balanced',kernel = 'linear'))\n",
        "\n",
        "multiclass_svm_OvO = OneVsOneClassifier(SVC(kernel = 'linear', random_state=42))\n",
        "multiclass_svm_OvO_pred = multiclass_svm_OvO.fit(X_train_LSI, train_y).predict(X_test_LSI) \n",
        "classifier_metrics(test_y, multiclass_svm_OvO_pred, name=\"SVM 1v1\")"
      ]
    },
    {
      "cell_type": "code",
      "source": [
        "# train model\n",
        "multiclass_svm_OvR.fit(X_train_LSI, train_y).predict(X_test_LSI) \n",
        "# get test results\n",
        "multiclass_svm_OvR_pred = multiclass_svm_OvR.predict(X_test_LSI)\n",
        "classifier_metrics(test_y, multiclass_svm_OvR_pred, name=\"SVM 1vR\")"
      ],
      "metadata": {
        "id": "VQI0rENPCC-i"
      },
      "execution_count": null,
      "outputs": []
    },
    {
      "cell_type": "code",
      "source": [
        "multi_label_merged = {'chess':0, 'cricket':1, 'hockey':2, 'football':3, 'soccer':3, '%22forest%20fire%22':4, 'flood':5, 'earthquake':6, 'drought':7}\n",
        "train['multi_label_merged'] = train.leaf_label.map(multi_label_merged)\n",
        "train_y_merged = train['multi_label_merged']\n",
        "test['multi_label_merged'] = test.leaf_label.map(multi_label_merged)\n",
        "test_y_merged = test['multi_label_merged']\n"
      ],
      "metadata": {
        "id": "q3mK8Fx6gkjw"
      },
      "execution_count": null,
      "outputs": []
    },
    {
      "cell_type": "code",
      "source": [
        "multiclass_svm_OvO = OneVsOneClassifier(SVC(kernel = 'linear', random_state=42))\n",
        "multiclass_svm_OvO_pred = multiclass_svm_OvO.fit(X_train_LSI, train_y_merged).predict(X_test_LSI) \n",
        "classifier_metrics(test_y_merged, multiclass_svm_OvO_pred, name=\"SVM 1v1\")"
      ],
      "metadata": {
        "id": "cs3u3T-Ah1vX"
      },
      "execution_count": null,
      "outputs": []
    },
    {
      "cell_type": "code",
      "source": [
        "# train model\n",
        "multiclass_svm_OvR.fit(X_train_LSI, train_y_merged).predict(X_test_LSI) \n",
        "# get test results\n",
        "multiclass_svm_OvR_pred = multiclass_svm_OvR.predict(X_test_LSI)\n",
        "classifier_metrics(test_y_merged, multiclass_svm_OvR_pred, name=\"SVM 1vR\")"
      ],
      "metadata": {
        "id": "hindQF6winrw"
      },
      "execution_count": null,
      "outputs": []
    },
    {
      "cell_type": "markdown",
      "metadata": {
        "id": "FuVmkpJWpgu3"
      },
      "source": [
        "# Word Embedding (GLoVE)"
      ]
    },
    {
      "cell_type": "markdown",
      "metadata": {
        "id": "Ot8kHZR-c0n6"
      },
      "source": [
        "# Question11 - Design feature construction procedure"
      ]
    },
    {
      "cell_type": "code",
      "execution_count": null,
      "metadata": {
        "id": "ufkYC0Isdgg5"
      },
      "outputs": [],
      "source": [
        "from google.colab import drive\n",
        "drive.mount('/content/drive')\n",
        "import sys\n",
        "%cd /content/drive/MyDrive/ECE 219 Projects/Projecct1"
      ]
    },
    {
      "cell_type": "code",
      "execution_count": null,
      "metadata": {
        "id": "J4QZvNsU2MQm"
      },
      "outputs": [],
      "source": [
        "# Read in the dataset\n",
        "data_globe = pd.read_csv('/content/drive/MyDrive/ECE 219 Projects/Projecct1/Project1-Classification.csv')\n",
        "data.head()"
      ]
    },
    {
      "cell_type": "code",
      "execution_count": null,
      "metadata": {
        "id": "MTqDxo05czEX"
      },
      "outputs": [],
      "source": [
        "embeddings_dict = {}\n",
        "dimension_of_glove = 300\n",
        "\n",
        "with open(\"/content/drive/MyDrive/ECE 219 Projects/Projecct1/glove/glove.6B.300d.txt\", 'r') as f:\n",
        "  for line in f:\n",
        "    values = line.split()\n",
        "    word = values[0]\n",
        "    vector = np.asarray(values[1:], \"float32\")\n",
        "    embeddings_dict[word] = vector"
      ]
    },
    {
      "cell_type": "markdown",
      "metadata": {
        "id": "SXUpkpHuuRzk"
      },
      "source": [
        "## Pre-processing the data (feature construction)"
      ]
    },
    {
      "cell_type": "code",
      "execution_count": null,
      "metadata": {
        "id": "1WPGKSADvICD"
      },
      "outputs": [],
      "source": [
        "#Basic Data clean\n",
        "#convert keyword to keyword list\n",
        "glove_list=[]\n",
        "\n",
        "for word in data[\"keywords\"]:\n",
        "  glove_list.append(' '.join(word[1:-1].replace(\"'\",\"\").replace(\" \",\"\").split(\",\")))\n",
        "\n",
        "glove_list = pd.DataFrame(glove_list)\n",
        "\n",
        "from nltk import word_tokenize\n",
        "nltk.download('punkt')\n",
        "\n",
        "def word_token(text_df): #text_df = glove_list\n",
        "  for i in range(0, text_df.size):\n",
        "    text_df[0][i] = word_tokenize(str(text_df[0][i]))\n",
        "  return text_df\n",
        "\n",
        "glove_list_tokened = word_token(glove_list)\n",
        "glove_list_tokened"
      ]
    },
    {
      "cell_type": "code",
      "execution_count": null,
      "metadata": {
        "id": "FofVCb0s79FO"
      },
      "outputs": [],
      "source": [
        "def feature_construct_doc(doc):\n",
        "  sum = 0\n",
        "  count_word = 0\n",
        "  for word in doc:\n",
        "    if embeddings_dict.__contains__(word):\n",
        "      sum += embeddings_dict[word]\n",
        "      count_word += 1\n",
        "    else:\n",
        "      continue\n",
        "\n",
        "  doc_mean = sum / count_word\n",
        "  return doc_mean\n",
        "\n",
        "def feature_construction_df(text_df): #text_df = glove_list_tokened\n",
        "  for i in range(0, text_df.size):\n",
        "    text_df[0][i] = feature_construct_doc(text_df[0][i])\n",
        "  return text_df"
      ]
    },
    {
      "cell_type": "code",
      "execution_count": null,
      "metadata": {
        "id": "jHxqBZH9b6CW"
      },
      "outputs": [],
      "source": [
        "glove_word_vector = feature_construction_df(glove_list_tokened)"
      ]
    },
    {
      "cell_type": "code",
      "execution_count": null,
      "metadata": {
        "id": "Q2RrFxpziCYh"
      },
      "outputs": [],
      "source": [
        "data['keywords'] = glove_word_vector"
      ]
    },
    {
      "cell_type": "code",
      "execution_count": null,
      "metadata": {
        "id": "u5HHeq-4i9Be"
      },
      "outputs": [],
      "source": [
        "#Construct labels\n",
        "mapping = {'sports': 1, 'climate': 0}\n",
        "label = data.replace({'root_label': mapping})\n",
        "glove_label = label['root_label'].to_numpy()"
      ]
    },
    {
      "cell_type": "code",
      "execution_count": null,
      "metadata": {
        "id": "iNPYCe5qjjQu"
      },
      "outputs": [],
      "source": [
        "data['root_label']=glove_label"
      ]
    },
    {
      "cell_type": "code",
      "execution_count": null,
      "metadata": {
        "id": "z5ItcOpajsaF"
      },
      "outputs": [],
      "source": [
        "#Splitting the entire dataset into training and testing data\n",
        "train_glove, test_glove = train_test_split(data[[\"keywords\",\"root_label\"]], test_size=0.2)"
      ]
    },
    {
      "cell_type": "code",
      "execution_count": null,
      "metadata": {
        "id": "bTtlxu3TqqQ7"
      },
      "outputs": [],
      "source": [
        "from sklearn.model_selection import GridSearchCV\n",
        "clf_cv_Glove = SVC(random_state=42)\n",
        "param_grid = {'C': [0.001,0.01,0.1,1,10,100,200,400,600,800,1000],  \n",
        "              'kernel': ['linear']}\n",
        "Glove_model = GridSearchCV(clf_cv_Glove, param_grid, cv=5, scoring='accuracy', n_jobs=1, verbose=3).fit(np.array(train_glove['keywords'].values.tolist()), np.array(train_glove['root_label'].values.tolist()))\n",
        "pred_glove = Glove_model.best_estimator_.predict(np.array(test_glove['keywords'].values.tolist()))"
      ]
    },
    {
      "cell_type": "code",
      "execution_count": null,
      "metadata": {
        "id": "iBhJoTbG3pFR"
      },
      "outputs": [],
      "source": [
        "print(\"Accuracy (Best GLoVE classifier):\", accuracy_score(np.array(test_glove['root_label'].values.tolist()),pred_glove))\n",
        "print(\"Recall (Best GLoVE classifier):\", recall_score(np.array(test_glove['root_label'].values.tolist()),pred_glove))\n",
        "print(\"Precision (Best GLoVE classifier):\", precision_score(np.array(test_glove['root_label'].values.tolist()),pred_glove))\n",
        "print(\"F1-Score (Best GLoVE classifier):\", f1_score(np.array(test_glove['root_label'].values.tolist()),pred_glove))"
      ]
    },
    {
      "cell_type": "markdown",
      "source": [
        "# Question 12\n",
        "#### Plot the relationship between the dimension of the pre-trained GLoVE embedding and the resulting accuracy of the model in the classification task. Describe the observed trend. Is this trend expected? Why or why not? In this part use the different sets of GLoVE vectors from the link."
      ],
      "metadata": {
        "id": "rpBElCKQE7Dl"
      }
    },
    {
      "cell_type": "code",
      "source": [
        "!pip install datashader\n",
        "!pip install umap-learn"
      ],
      "metadata": {
        "id": "ZNtTMHjeaW8r"
      },
      "execution_count": null,
      "outputs": []
    },
    {
      "cell_type": "code",
      "source": [
        "import os\n",
        "import gensim\n",
        "import pandas as pd\n",
        "import numpy as np\n",
        "import matplotlib\n",
        "import matplotlib.pyplot as plt\n",
        "import datashader as ds\n",
        "import datashader.transfer_functions as tf\n",
        "import datashader.bundling as bd\n",
        "import colorcet\n",
        "import matplotlib.colors\n",
        "import matplotlib.cm\n",
        "import bokeh.plotting as bpl\n",
        "import bokeh.transform as btr\n",
        "import holoviews as hv\n",
        "import holoviews.operation.datashader as hd\n",
        "import umap.umap_ as umap\n",
        "import umap.plot\n",
        "from gensim.scripts.glove2word2vec import glove2word2vec \n",
        "from gensim.models import KeyedVectors\n",
        "from sklearn import *\n",
        "from sklearn.svm import SVC, LinearSVC\n",
        "\n",
        "class Word2VecVectorizer:\n",
        "    def __init__(self, model):\n",
        "        print(\"Loading in word vectors...\")\n",
        "        self.word_vectors = model\n",
        "        print(\"Finished loading in word vectors\")\n",
        "    \n",
        "    def fit(self, data):\n",
        "        pass\n",
        "    \n",
        "    def transform(self, data):\n",
        "        v = self.word_vectors.get_vector('king')\n",
        "        self.D = v.shape[0]\n",
        "\n",
        "        X = np.zeros((len(data), self.D))\n",
        "        n = 0\n",
        "        emptycount = 0\n",
        "        for sentence in data:\n",
        "            tokens = sentence.split()\n",
        "            vecs = []\n",
        "            m = 0\n",
        "            for word in tokens:\n",
        "                try:\n",
        "                    vec = self.word_vectors.get_vector(word)\n",
        "                    vecs.append(vec)\n",
        "                    m += 1\n",
        "                except KeyError:\n",
        "                    pass\n",
        "            if len(vecs) > 0:\n",
        "                vecs = np.array(vecs)\n",
        "                X[n] = vecs.mean(axis=0)\n",
        "            else:\n",
        "                emptycount += 1\n",
        "            n += 1\n",
        "        print(\"Number of samples with no words found: %s / %s\" % (emptycount, len(data)))\n",
        "        return X\n",
        "\n",
        "    def fit_transform(self, data):\n",
        "        self.fit(data)\n",
        "        return self.transform(data)\n",
        "        "
      ],
      "metadata": {
        "id": "SMVnMOFTE5EI"
      },
      "execution_count": null,
      "outputs": []
    },
    {
      "cell_type": "code",
      "source": [
        "from sklearn.model_selection import train_test_split\n",
        "train, test = train_test_split(data[[\"full_text\",\"root_label\"]], test_size=0.2)\n",
        "\n",
        "y_train_encoded = train[\"root_label\"].copy()\n",
        "y_test_encoded = test[\"root_label\"].copy()\n",
        "\n",
        "y_train_encoded[y_train_encoded== 'climate'] = 1\n",
        "y_test_encoded[y_test_encoded == 'climate'] = 1\n",
        "y_train_encoded[y_train_encoded == 'sports'] = 0\n",
        "y_test_encoded[y_test_encoded == 'sports'] = 0\n",
        "\n"
      ],
      "metadata": {
        "id": "UFONwYL0ZFqr"
      },
      "execution_count": null,
      "outputs": []
    },
    {
      "cell_type": "code",
      "source": [
        "root_folder='.'\n",
        "glove_folder_name='glove'\n",
        "glove_filename='glove.6B.300d.txt'\n",
        "glove_path = os.path.abspath(os.path.join(root_folder, glove_folder_name, glove_filename))\n",
        "word2vec_output_file = glove_filename+'.word2vec'\n",
        "glove2word2vec(glove_path, word2vec_output_file)\n",
        "model = KeyedVectors.load_word2vec_format(word2vec_output_file, binary=False)\n",
        "vectorizer = Word2VecVectorizer(model)"
      ],
      "metadata": {
        "id": "jElYhBKONSQ3"
      },
      "execution_count": null,
      "outputs": []
    },
    {
      "cell_type": "code",
      "source": [
        "X_train = train['full_text'].apply(clean)\n",
        "X_test = test['full_text'].apply(clean)"
      ],
      "metadata": {
        "id": "Kg8MiWTDPeif"
      },
      "execution_count": null,
      "outputs": []
    },
    {
      "cell_type": "code",
      "source": [
        "filenames_glove = ['glove.6B.50d.txt','glove.6B.100d.txt','glove.6B.200d.txt','glove.6B.300d.txt']\n",
        "accuracy_list_glove = []\n",
        "for filename in filenames_glove:\n",
        "    print('Training for: ', filename)\n",
        "    glove_filename=filename\n",
        "    glove_path = os.path.abspath(os.path.join(root_folder, glove_folder_name, glove_filename))\n",
        "    word2vec_output_file = glove_filename+'.word2vec'\n",
        "    glove2word2vec(glove_path, word2vec_output_file)\n",
        "    model = KeyedVectors.load_word2vec_format(word2vec_output_file, binary=False)\n",
        "    vectorizer = Word2VecVectorizer(model)\n",
        "    X_train_fit = vectorizer.fit_transform(X_train)\n",
        "    y_train = y_train_encoded.astype(str).astype(int)\n",
        "    X_test_fit = vectorizer.transform(X_test)\n",
        "    y_test = y_test_encoded.astype(str).astype(int)\n",
        "    clf_cur = svm.SVC(kernel='linear',C=1,random_state=42)\n",
        "    pred_cur = clf_cur.fit(X_train_fit, y_train).predict(X_test_fit)\n",
        "    accuracy_list_glove.append(accuracy_score(y_test,pred_cur)) "
      ],
      "metadata": {
        "id": "GPxRL1n8OExo"
      },
      "execution_count": null,
      "outputs": []
    },
    {
      "cell_type": "code",
      "source": [
        "dim_list = [50,100,200,300]\n",
        "plt.plot(dim_list,accuracy_list_glove)\n",
        "plt.title('Accuracy vs. Dimension of GLoVE for Linear SVM (Gamma = 1)')\n",
        "plt.xlabel('Dimension of pre-trained GLoVE embedding')\n",
        "plt.ylabel('Test accuracy')\n",
        "plt.show()"
      ],
      "metadata": {
        "id": "bvsr5k5DRQz-"
      },
      "execution_count": null,
      "outputs": []
    },
    {
      "cell_type": "code",
      "source": [
        "accuracy_list_glove"
      ],
      "metadata": {
        "id": "N-x98rryVOnU"
      },
      "execution_count": null,
      "outputs": []
    },
    {
      "cell_type": "code",
      "source": [
        "reduced_dim_embedding = umap.UMAP(n_components=2, metric='euclidean').fit(X_train_fit)\n",
        "reduced_dim_embedding.embedding_.shape\n",
        "reduced_dim_test = umap.UMAP(n_components=2, metric='euclidean').fit(X_test_fit)\n",
        "reduced_dim_test.embedding_.shape"
      ],
      "metadata": {
        "id": "d6on_KUwRS8m"
      },
      "execution_count": null,
      "outputs": []
    },
    {
      "cell_type": "code",
      "source": [
        "X_train_fit = vectorizer.fit_transform(X_train)\n",
        "y_train = y_train_encoded.astype(str).astype(int)\n",
        "X_test_fit = vectorizer.transform(X_test)\n",
        "y_test = y_test_encoded.astype(str).astype(int)\n",
        "print(X_train_fit.shape,X_test_fit.shape)"
      ],
      "metadata": {
        "id": "rGgHGmFNgzas"
      },
      "execution_count": null,
      "outputs": []
    },
    {
      "cell_type": "code",
      "source": [
        "Label = []\n",
        "for label in y_train:\n",
        "    if(label==0):\n",
        "        Label.append('Sports')\n",
        "    else:\n",
        "        Label.append('Climate')\n",
        "\n",
        "\n",
        "normal = np.random.normal(0, 1, [4732,300])\n",
        "normal = normal / np.linalg.norm(normal)\n",
        "reduced_dim_normal = umap.UMAP(n_components=2, metric='cosine').fit(normal)\n",
        "\n",
        "f = umap.plot.points(reduced_dim_embedding,labels=np.array(Label))\n",
        "plt.title('2D plot for GLoVE features (n = 300) for 2 classes of the training set')\n",
        "\n",
        "Label = []\n",
        "for label in y_test:\n",
        "    if(label==0):\n",
        "        Label.append('Sports')\n",
        "    else:\n",
        "        Label.append('Climate')\n",
        "\n",
        "h = umap.plot.points(reduced_dim_test,labels=np.array(Label))\n",
        "plt.title('2D plot for GLoVE features (n = 300) for 2 classes of the test set')\n",
        "\n",
        "g = umap.plot.points(reduced_dim_normal)\n",
        "plt.title('2D plot normalized random vectors')\n",
        "plt.show()"
      ],
      "metadata": {
        "id": "4559-c0JVVj0"
      },
      "execution_count": null,
      "outputs": []
    },
    {
      "cell_type": "markdown",
      "metadata": {
        "id": "_OdSRJNgvjRA"
      },
      "source": [
        "# Question 13 - Clustering (UMAP)"
      ]
    }
  ],
  "metadata": {
    "colab": {
      "provenance": [],
      "include_colab_link": true
    },
    "kernelspec": {
      "display_name": "Python 3",
      "name": "python3"
    },
    "language_info": {
      "name": "python"
    }
  },
  "nbformat": 4,
  "nbformat_minor": 0
}